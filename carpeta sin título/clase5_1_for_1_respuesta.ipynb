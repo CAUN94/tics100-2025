{
  "cells": [
    {
      "cell_type": "markdown",
      "source": [
        "## Introducción al ciclo `for` en Python\n",
        "\n",
        "El ciclo `for` es una herramienta fundamental en Python que nos permite **repetir una acción múltiples veces**, recorriendo elementos de una secuencia (como una lista, una cadena de texto o un rango de números).\n",
        "\n",
        "Este tipo de estructura se conoce como un **bucle** (o \"loop\") y es muy útil cuando queremos realizar la misma operación sobre varios elementos.\n",
        "\n",
        "---\n",
        "\n",
        "#### ¿Por qué usar un ciclo `for`?\n",
        "\n",
        "Cuando trabajamos con estructuras como listas o rangos, muchas veces necesitamos **procesar cada uno de sus elementos** de manera individual. En lugar de repetir el mismo código varias veces, usamos un `for` para recorrer esa secuencia.\n",
        "\n",
        "Por ejemplo: si queremos saludar a cada persona de una lista, en lugar de escribir `print()` una y otra vez, podemos recorrer la lista con `for`.\n",
        "\n",
        "---\n",
        "\n",
        "#### Sintaxis básica\n",
        "\n",
        "```python\n",
        "for variable in secuencia:\n",
        "    # Bloque indentado de código que se repite por cada elemento\n",
        "```\n",
        "\n",
        "* variable: toma el valor de cada elemento de la secuencia, uno por uno.\n",
        "\n",
        "* secuencia: puede ser una lista, una cadena, un range(), etc.\n",
        "\n",
        "* El bloque de código dentro del for se ejecuta una vez por cada elemento."
      ],
      "metadata": {
        "id": "vRP98CT9TUfv"
      },
      "id": "vRP98CT9TUfv"
    },
    {
      "cell_type": "code",
      "source": [
        "# Listas\n",
        "\n",
        "djsa9djs9ajdsoapjdopsajdpa = [\"rojo\", \"verde\", \"azul\"]\n",
        "\n",
        "for djisapdjsiapdjosapdjsoapjdsopa in djsa9djs9ajdsoapjdopsajdpa:\n",
        "    print(\"Color actual:\", djisapdjsiapdjosapdjsoapjdsopa)\n"
      ],
      "metadata": {
        "id": "QzA2GipuTXtb",
        "colab": {
          "base_uri": "https://localhost:8080/"
        },
        "outputId": "ea4a4ea0-7b0c-4b2f-8849-bf13824229d9"
      },
      "id": "QzA2GipuTXtb",
      "execution_count": 2,
      "outputs": [
        {
          "output_type": "stream",
          "name": "stdout",
          "text": [
            "Color actual: rojo\n",
            "Color actual: verde\n",
            "Color actual: azul\n"
          ]
        }
      ]
    },
    {
      "cell_type": "code",
      "source": [
        "# Rango\n",
        "\n",
        "for i in range(1,9,3):\n",
        "    print(\"Iteración número:\", i)\n"
      ],
      "metadata": {
        "id": "Z8kwQyjoTvYe",
        "colab": {
          "base_uri": "https://localhost:8080/"
        },
        "outputId": "8848181e-7075-406c-b981-c68e4cfe11ca"
      },
      "id": "Z8kwQyjoTvYe",
      "execution_count": 4,
      "outputs": [
        {
          "output_type": "stream",
          "name": "stdout",
          "text": [
            "Iteración número: 1\n",
            "Iteración número: 4\n",
            "Iteración número: 7\n"
          ]
        }
      ]
    },
    {
      "cell_type": "code",
      "source": [
        "# Palabra\n",
        "\n",
        "palabra = \"P-y-t-h-on\"\n",
        "\n",
        "for letra in palabra:\n",
        "  if letra != \"-\":\n",
        "    print(letra,end=\"\")"
      ],
      "metadata": {
        "id": "usGN0esaT6G6",
        "colab": {
          "base_uri": "https://localhost:8080/"
        },
        "outputId": "7833df13-9c3c-4b72-cc30-df05eb8fa0f1"
      },
      "id": "usGN0esaT6G6",
      "execution_count": 8,
      "outputs": [
        {
          "output_type": "stream",
          "name": "stdout",
          "text": [
            "Python"
          ]
        }
      ]
    },
    {
      "cell_type": "markdown",
      "source": [
        "### Nota importante: la variable en el `for`\n",
        "\n",
        "La variable que usamos después de la palabra `for` es exactamente como una **variable común y corriente**. Puedes ponerle cualquier nombre válido en Python.\n"
      ],
      "metadata": {
        "id": "yvMzHgpQUcWU"
      },
      "id": "yvMzHgpQUcWU"
    },
    {
      "cell_type": "code",
      "source": [
        "for cualquier_palabra in range(10):\n",
        "    print(cualquier_palabra)"
      ],
      "metadata": {
        "id": "zvqaHO4qUfQr"
      },
      "id": "zvqaHO4qUfQr",
      "execution_count": null,
      "outputs": []
    },
    {
      "cell_type": "markdown",
      "source": [
        "### ¿Qué pasa con la variable en un ciclo `for`?\n",
        "\n",
        "Cuando usamos un ciclo `for`, estamos repitiendo un bloque de código **varias veces**, y en cada repetición queremos trabajar con **un valor diferente** de una secuencia (por ejemplo, una lista o un `range`).\n",
        "\n",
        "Para lograr eso, usamos una **variable de control** (como `i`, `nombre`, `elemento`, etc.) justo después de la palabra `for`. Esta variable:\n",
        "\n",
        "- **Se crea automáticamente** al comenzar el ciclo.\n",
        "- **Toma el valor del primer elemento** de la secuencia.\n",
        "- En la siguiente vuelta, **cambia al segundo valor**.\n",
        "- Luego al tercero, al cuarto… hasta terminar la secuencia."
      ],
      "metadata": {
        "id": "1XZFe8inUj-k"
      },
      "id": "1XZFe8inUj-k"
    },
    {
      "cell_type": "markdown",
      "source": [
        "### Ejercicio: Crear una lista entre dos números\n",
        "\n",
        "Crea un programa que:\n",
        "\n",
        "1. Solicite al usuario dos números: uno menor y otro mayor.\n",
        "2. Genere una lista que contenga todos los números desde el primero hasta el segundo (inclusive).\n",
        "3. Muestre por pantalla los números.\n",
        "\n"
      ],
      "metadata": {
        "id": "MzCasbtLU73i"
      },
      "id": "MzCasbtLU73i"
    },
    {
      "cell_type": "code",
      "source": [
        "n1 = int(input('n1: '))\n",
        "n2 = int(input('n2: '))\n",
        "\n",
        "if n2 > n1:\n",
        "  for i in range(n1,n2+1):\n",
        "    print(i,end=\" \")\n",
        "elif n2 <= n1:\n",
        "  for i in range(n2,n1+1):\n",
        "    print(i,end=\" \")"
      ],
      "metadata": {
        "id": "T4VfZRUtVjiM",
        "colab": {
          "base_uri": "https://localhost:8080/"
        },
        "outputId": "08a1587f-a388-4cc0-9539-0351e1663b2e"
      },
      "id": "T4VfZRUtVjiM",
      "execution_count": 16,
      "outputs": [
        {
          "output_type": "stream",
          "name": "stdout",
          "text": [
            "n1: 10\n",
            "n2: 0\n",
            "0 1 2 3 4 5 6 7 8 9 10 "
          ]
        }
      ]
    },
    {
      "cell_type": "markdown",
      "source": [
        "### Ejercicio: Crear una Lista con Cantidad Variable de Elementos\n",
        "\n",
        "Crea un programa que:\n",
        "\n",
        "1. Pida al usuario cuántos números desea ingresar.\n",
        "2. Luego, solicite esa cantidad de números uno por uno.\n",
        "3. Guarde cada número ingresado en una lista.\n",
        "4. Finalmente, muestre la lista completa utilizando `print(list(...))`.\n",
        "\n",
        "\n",
        "#### Ejemplo de comportamiento esperado`\n",
        "\n",
        "\n",
        "```\n",
        "¿Cuántos números deseas ingresar? 3\n",
        "Ingrese el número 1: 5\n",
        "Ingrese el número 2: 8\n",
        "Ingrese el número 3: 2\n",
        "La lista de números ingresados es:\n",
        "[5, 8, 2]\n",
        "```\n",
        "\n"
      ],
      "metadata": {
        "id": "407LOchVV6NC"
      },
      "id": "407LOchVV6NC"
    },
    {
      "cell_type": "code",
      "source": [
        "lista = []\n",
        "cant = int(input('Cantidad: '))\n",
        "\n",
        "for i in range(cant):\n",
        "  a = int(input('Nr: '))\n",
        "  lista.append(a)\n",
        "\n",
        "\n",
        "print(list(lista))"
      ],
      "metadata": {
        "id": "SXXD10L5XPfo",
        "colab": {
          "base_uri": "https://localhost:8080/"
        },
        "outputId": "42f9bc67-916f-4415-8adb-b1b53b728ca5"
      },
      "id": "SXXD10L5XPfo",
      "execution_count": 22,
      "outputs": [
        {
          "output_type": "stream",
          "name": "stdout",
          "text": [
            "Cantidad: 1\n",
            "Nr: 2\n",
            "[2]\n"
          ]
        }
      ]
    },
    {
      "cell_type": "markdown",
      "source": [
        "### Ejercicio: Calcular Promedios de Alumnos con Listas\n",
        "\n",
        "Tienes la siguiente información almacenada en listas:\n",
        "\n",
        "- `nombre`: contiene los nombres de los estudiantes.\n",
        "- `nota1`, `nota2`, `nota3`: contienen las tres notas correspondientes a cada estudiante.\n",
        "\n",
        "Cada índice está relacionado. Por ejemplo, `nombre[0]` corresponde al estudiante cuya primera nota es `nota1[0]`, segunda nota `nota2[0]` y tercera nota `nota3[0]`.\n",
        "\n",
        "Crea un programa que:\n",
        "\n",
        "1. Recorra las listas usando un ciclo `for`.\n",
        "2. Calcule el **promedio** de las tres notas de cada estudiante.\n",
        "3. Muestre por pantalla el **nombre del estudiante** y su **promedio**.\n",
        "\n"
      ],
      "metadata": {
        "id": "HJ87b1bXXztF"
      },
      "id": "HJ87b1bXXztF"
    },
    {
      "cell_type": "code",
      "source": [
        "nombres = [\"Pedro\", \"Ana\", \"Luis\"]\n",
        "nota1 = [5.0, 6.5, 4.5]\n",
        "nota2 = [5.5, 6.0, 4.8]\n",
        "nota3 = [5.7, 6.4, 5.3]\n",
        "\n",
        "largo = len(nombres)\n",
        "\n",
        "for i in range(largo):\n",
        "  # nombres[i]\n",
        "  promedio = (nota1[i] + nota2[i] + nota3[i])/3\n",
        "  aprox = round(promedio,1)\n",
        "  print(nombres[i],aprox)"
      ],
      "metadata": {
        "id": "SoSLCtu9YG55",
        "colab": {
          "base_uri": "https://localhost:8080/"
        },
        "outputId": "f1b0d0a2-2136-491b-996b-0b7f20711240"
      },
      "id": "SoSLCtu9YG55",
      "execution_count": 30,
      "outputs": [
        {
          "output_type": "stream",
          "name": "stdout",
          "text": [
            "Pedro 5.4\n",
            "Ana 6.3\n",
            "Luis 4.9\n"
          ]
        }
      ]
    }
  ],
  "metadata": {
    "colab": {
      "provenance": []
    },
    "language_info": {
      "name": "python"
    },
    "kernelspec": {
      "name": "python3",
      "display_name": "Python 3"
    }
  },
  "nbformat": 4,
  "nbformat_minor": 5
}