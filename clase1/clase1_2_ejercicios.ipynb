{
 "cells": [
  {
   "cell_type": "markdown",
   "metadata": {},
   "source": [
    "# Ejercicios de Introducción a Python\n",
    "\n",
    "## Ejercicio 1: Imprimir Texto Formateado\n",
    "\n",
    "Escribe un programa que imprima el siguiente texto exactamente como se muestra:\n",
    "\n",
    "Hola\n",
    "\n",
    "como estas?, Yo estoy bien\n",
    "\n",
    "mi nombre es\n",
    "'Tu Nombre'\n"
   ]
  },
  {
   "cell_type": "code",
   "execution_count": null,
   "metadata": {
    "vscode": {
     "languageId": "plaintext"
    }
   },
   "outputs": [],
   "source": [
    "#Escribe aquí tu código"
   ]
  },
  {
   "cell_type": "markdown",
   "metadata": {},
   "source": [
    "Sin escribir este código directamente en el programa. Indicame que apareceria en la pantalla.\n",
    "\n",
    "```python\n",
    "print(\"22\"*7)\n",
    "print(5*21)\n",
    "print(\"3*47\")\n"
   ]
  },
  {
   "cell_type": "markdown",
   "metadata": {},
   "source": [
    "Modifica el siguieten código para que en vez de escribir\n",
    "\n",
    "\n",
    "Vista de la salida\n",
    "\n",
    "Hola\n",
    "\n",
    "Mundo\n",
    "\n",
    "Nueva Respuesta\n",
    "\n",
    "Hola_Mundo\n",
    "\n",
    "NO BORRAR NADA DEL CODIGO ORIGINAL SOLAMENTE AGREGAR\n"
   ]
  },
  {
   "cell_type": "code",
   "execution_count": null,
   "metadata": {
    "vscode": {
     "languageId": "plaintext"
    }
   },
   "outputs": [],
   "source": [
    "Crea un código que imprima \"Hola\", luego \"Esperando\", espera que el usuario presione Enter y finalmente imprime \"Hiciste click\"."
   ]
  },
  {
   "cell_type": "code",
   "execution_count": null,
   "metadata": {
    "vscode": {
     "languageId": "plaintext"
    }
   },
   "outputs": [],
   "source": [
    "# Escribe tu código aquí"
   ]
  },
  {
   "cell_type": "markdown",
   "metadata": {},
   "source": [
    "Escribe un programa que solicite al usuario escribir algo por consola cinco veces."
   ]
  },
  {
   "cell_type": "code",
   "execution_count": null,
   "metadata": {
    "vscode": {
     "languageId": "plaintext"
    }
   },
   "outputs": [],
   "source": [
    "# Escribe tu código aquí"
   ]
  }
 ],
 "metadata": {
  "language_info": {
   "name": "python"
  }
 },
 "nbformat": 4,
 "nbformat_minor": 2
}
