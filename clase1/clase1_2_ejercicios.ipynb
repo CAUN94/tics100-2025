{
 "cells": [
  {
   "cell_type": "markdown",
   "metadata": {},
   "source": [
    "# Ejercicios de Introducción a Python\n",
    "\n",
    "## Ejercicio 1: Imprimir Texto Formateado\n",
    "\n",
    "Escribe un programa que imprima el siguiente texto exactamente como se muestra:\n",
    "\n",
    "Hola\n",
    "como estas?, Yo estoy bien\n",
    "\n",
    "mi nombre es\n",
    "'Tu Nombre'\n"
   ]
  },
  {
   "cell_type": "code",
   "execution_count": null,
   "metadata": {
    "vscode": {
     "languageId": "plaintext"
    }
   },
   "outputs": [],
   "source": [
    "#Escribe aquí tu código"
   ]
  },
  {
   "cell_type": "markdown",
   "metadata": {},
   "source": [
    "Escribe un programa que imprima el siguiente texto exactamente como se muestra:\n",
    "\n",
    "```python\n",
    "print(\"22\"*7)\n",
    "print(5*21)\n",
    "print(\"3*47\")\n"
   ]
  },
  {
   "cell_type": "code",
   "execution_count": null,
   "metadata": {
    "vscode": {
     "languageId": "plaintext"
    }
   },
   "outputs": [],
   "source": []
  },
  {
   "cell_type": "markdown",
   "metadata": {},
   "source": []
  },
  {
   "cell_type": "code",
   "execution_count": null,
   "metadata": {
    "vscode": {
     "languageId": "plaintext"
    }
   },
   "outputs": [],
   "source": []
  }
 ],
 "metadata": {
  "language_info": {
   "name": "python"
  }
 },
 "nbformat": 4,
 "nbformat_minor": 2
}
