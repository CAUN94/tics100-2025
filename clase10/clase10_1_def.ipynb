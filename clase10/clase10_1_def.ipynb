{
  "cells": [
    {
      "cell_type": "markdown",
      "id": "6bc047eb",
      "metadata": {
        "id": "6bc047eb"
      },
      "source": [
        "# Funciones en Python\n",
        "\n",
        "## ¿Qué es una función?\n",
        "\n",
        "Una **función** es un bloque de código reutilizable que encapsula una lógica específica. En lugar de repetir código una y otra vez, puedes definir una función **una vez** y luego **llamarla** tantas veces como quieras.\n",
        "\n",
        "## ¿Qué significa `def`?\n",
        "\n",
        "La palabra clave `def` proviene de *define* (definir). Es la forma en que **se declara** una función en Python.\n",
        "\n",
        "## ¿Por qué usar funciones?\n",
        "\n",
        "- **Organización** del código.\n",
        "- **Evitar duplicación**.\n",
        "- **Legibilidad**: nombres claros ayudan a entender mejor el propósito del programa.\n",
        "- **Reutilización**: se puede llamar una función en diferentes contextos.\n"
      ]
    },
    {
      "cell_type": "markdown",
      "id": "ffe41b7f",
      "metadata": {
        "id": "ffe41b7f"
      },
      "source": [
        "## Tipos de Funciones"
      ]
    },
    {
      "cell_type": "code",
      "execution_count": null,
      "id": "98f79f95",
      "metadata": {
        "id": "98f79f95"
      },
      "outputs": [],
      "source": [
        "# 1. Función sin parámetros y sin retorno\n",
        "def saludar():\n",
        "    print(\"Hola, bienvenido al programa.\")\n",
        "\n",
        "saludar()"
      ]
    },
    {
      "cell_type": "code",
      "execution_count": null,
      "id": "98a71d69",
      "metadata": {
        "id": "98a71d69"
      },
      "outputs": [],
      "source": [
        "# 2. Función con parámetros y sin retorno\n",
        "def saludar_persona(nombre):\n",
        "    print(f\"Hola, {nombre}\")\n",
        "\n",
        "saludar_persona(\"Carlos\")"
      ]
    },
    {
      "cell_type": "code",
      "execution_count": null,
      "id": "78775326",
      "metadata": {
        "id": "78775326"
      },
      "outputs": [],
      "source": [
        "# 3. Función sin parámetros y con retorno\n",
        "def obtener_numero():\n",
        "    return 42\n",
        "\n",
        "valor = obtener_numero()\n",
        "print(\"El número es:\", valor)"
      ]
    },
    {
      "cell_type": "code",
      "execution_count": null,
      "id": "9727c2ed",
      "metadata": {
        "id": "9727c2ed"
      },
      "outputs": [],
      "source": [
        "# 4. Función con parámetros y con retorno\n",
        "def sumar(a, b):\n",
        "    return a + b\n",
        "\n",
        "print(\"Suma:\", sumar(3, 4))"
      ]
    },
    {
      "cell_type": "code",
      "execution_count": null,
      "id": "4f6ef838",
      "metadata": {
        "id": "4f6ef838"
      },
      "outputs": [],
      "source": [
        "# 5. Función con estructuras de control\n",
        "def verificar_par(num):\n",
        "    if num % 2 == 0:\n",
        "        return \"Par\"\n",
        "    else:\n",
        "        return \"Impar\"\n",
        "\n",
        "print(verificar_par(7))"
      ]
    },
    {
      "cell_type": "markdown",
      "id": "2e804d17",
      "metadata": {
        "id": "2e804d17"
      },
      "source": [
        "## Ejemplo: Convertir código a función"
      ]
    },
    {
      "cell_type": "code",
      "execution_count": null,
      "id": "198adf6e",
      "metadata": {
        "id": "198adf6e"
      },
      "outputs": [],
      "source": [
        "# Código original\n",
        "for i in range(5):\n",
        "    for j in range(i + 1):\n",
        "        print(\"*\", end=\"\")\n",
        "    print()"
      ]
    },
    {
      "cell_type": "code",
      "execution_count": null,
      "id": "f59bf2fc",
      "metadata": {
        "id": "f59bf2fc"
      },
      "outputs": [],
      "source": [
        "# Versión con función\n",
        "def imprimir_piramide(n):\n",
        "    for i in range(n):\n",
        "        for j in range(i + 1):\n",
        "            print(\"*\", end=\"\")\n",
        "        print()\n",
        "\n",
        "imprimir_piramide(5)"
      ]
    },
    {
      "cell_type": "markdown",
      "id": "de4fd6f8",
      "metadata": {
        "id": "de4fd6f8"
      },
      "source": [
        "## Ejercicios resueltos"
      ]
    },
    {
      "cell_type": "code",
      "execution_count": null,
      "id": "8836bc76",
      "metadata": {
        "id": "8836bc76"
      },
      "outputs": [],
      "source": [
        "# 1. Función que imprime \"Hola mundo\"\n",
        "def hola_mundo():\n",
        "    print(\"Hola mundo\")\n",
        "\n",
        "hola_mundo()"
      ]
    },
    {
      "cell_type": "code",
      "execution_count": null,
      "id": "b4f34844",
      "metadata": {
        "id": "b4f34844"
      },
      "outputs": [],
      "source": [
        "# 2. Función que recibe nombre y apellido\n",
        "def unir_nombre_apellido(nombre, apellido):\n",
        "    return f\"{nombre} {apellido}\"\n",
        "\n",
        "print(unir_nombre_apellido(\"Ana\", \"Pérez\"))"
      ]
    },
    {
      "cell_type": "code",
      "execution_count": null,
      "id": "b64a9cf1",
      "metadata": {
        "id": "b64a9cf1"
      },
      "outputs": [],
      "source": [
        "# 3. Función que devuelve el cuadrado de un número\n",
        "def cuadrado(num):\n",
        "    return num ** 2\n",
        "\n",
        "print(cuadrado(5))"
      ]
    },
    {
      "cell_type": "code",
      "execution_count": null,
      "id": "a03d82ed",
      "metadata": {
        "id": "a03d82ed"
      },
      "outputs": [],
      "source": [
        "# 4. Función para verificar si un número es primo\n",
        "def es_primo(n):\n",
        "    if n < 2:\n",
        "        return False\n",
        "    for i in range(2, int(n**0.5)+1):\n",
        "        if n % i == 0:\n",
        "            return False\n",
        "    return True\n",
        "\n",
        "print(es_primo(11))"
      ]
    },
    {
      "cell_type": "code",
      "execution_count": null,
      "id": "704ce42b",
      "metadata": {
        "id": "704ce42b"
      },
      "outputs": [],
      "source": [
        "# 5. Función que devuelve elementos comunes entre dos listas\n",
        "def elementos_comunes(lista1, lista2):\n",
        "    return [elem for elem in lista1 if elem in lista2]\n",
        "\n",
        "print(elementos_comunes([1,2,3], [3,4,5]))"
      ]
    },
    {
      "cell_type": "code",
      "execution_count": null,
      "id": "7817a640",
      "metadata": {
        "id": "7817a640"
      },
      "outputs": [],
      "source": [
        "# 6. Función que genera una lista de n números aleatorios\n",
        "import random\n",
        "\n",
        "def generar_aleatorios(n):\n",
        "    return [random.randint(1, 10) for _ in range(n)]\n",
        "\n",
        "print(generar_aleatorios(5))"
      ]
    },
    {
      "cell_type": "code",
      "execution_count": null,
      "id": "b7ce4d65",
      "metadata": {
        "id": "b7ce4d65"
      },
      "outputs": [],
      "source": [
        "# 7. Función que suma todos los elementos de una matriz\n",
        "def suma_matriz(matriz):\n",
        "    total = 0\n",
        "    for fila in matriz:\n",
        "        total += sum(fila)\n",
        "    return total\n",
        "\n",
        "print(suma_matriz([[1,2,3], [4,5,6]]))"
      ]
    },
    {
      "cell_type": "code",
      "execution_count": null,
      "id": "1dfdbdc1",
      "metadata": {
        "id": "1dfdbdc1"
      },
      "outputs": [],
      "source": [
        "# 8. Función que verifica ganador en tablero (solo líneas horizontales)\n",
        "def hay_ganador(tablero):\n",
        "    for fila in tablero:\n",
        "        if fila.count('X') == 3:\n",
        "            return \"Ganador: X\"\n",
        "        if fila.count('O') == 3:\n",
        "            return \"Ganador: O\"\n",
        "    return \"Sin ganador\"\n",
        "\n",
        "print(hay_ganador([['X','X','X'], ['O','','O'], ['','','']]))"
      ]
    },
    {
      "cell_type": "code",
      "execution_count": null,
      "id": "9fb49554",
      "metadata": {
        "id": "9fb49554"
      },
      "outputs": [],
      "source": [
        "# 9. Función que calcula promedio y condición de aprobación\n",
        "def promedio_condicion(notas):\n",
        "    promedio = sum(notas) / len(notas)\n",
        "    estado = \"Aprobado\" if promedio >= 4.0 else \"Reprobado\"\n",
        "    return promedio, estado\n",
        "\n",
        "print(promedio_condicion([5.0, 4.5, 3.5]))"
      ]
    }
  ],
  "metadata": {
    "colab": {
      "provenance": []
    }
  },
  "nbformat": 4,
  "nbformat_minor": 5
}