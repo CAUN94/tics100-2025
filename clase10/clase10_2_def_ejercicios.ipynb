{
  "cells": [
    {
      "cell_type": "markdown",
      "id": "1f4f9b0d",
      "metadata": {
        "id": "1f4f9b0d"
      },
      "source": [
        "# Guía de Ejercicios con Funciones en Python"
      ]
    },
    {
      "cell_type": "markdown",
      "id": "d84c01d7",
      "metadata": {
        "id": "d84c01d7"
      },
      "source": [
        "## Ejercicio 1: hola5()\n",
        "**Enunciado**: Crea una función llamada `hola5()` que imprima \"Hola Mundo\" cinco veces."
      ]
    },
    {
      "cell_type": "markdown",
      "id": "f003f5b4",
      "metadata": {
        "id": "f003f5b4"
      },
      "source": [
        "## Ejercicio 2: formulario(n)\n",
        "**Enunciado**: Crea una función llamada `formulario(n)` que pida un nombre y apellido, y lo haga `n` veces. La cantidad de repeticiones se recibe como argumento."
      ]
    },
    {
      "cell_type": "markdown",
      "id": "5c8de507",
      "metadata": {
        "id": "5c8de507"
      },
      "source": [
        "## Ejercicio 3: pitagora(a, b)\n",
        "**Enunciado**: Crea una función `pitagora(a, b)` que calcule y retorne la hipotenusa de un triángulo rectángulo con lados `a` y `b`."
      ]
    },
    {
      "cell_type": "markdown",
      "id": "3d6acb6e",
      "metadata": {
        "id": "3d6acb6e"
      },
      "source": [
        "## Ejercicio 4: discriminante\n",
        "**Enunciado**: Crea un código que pida `a`, `b` y `c` de una ecuación cuadrática. Calcula su discriminante y determina si tiene 0, 1 o 2 soluciones reales. (Luego convierte esto en una función)"
      ]
    },
    {
      "cell_type": "markdown",
      "id": "56a1ff70",
      "metadata": {
        "id": "56a1ff70"
      },
      "source": [
        "## Ejercicio 5: es_par(numero)\n",
        "**Enunciado**: Crea una función `es_par(numero)` que retorne `True` si el número es par y `False` si es impar. Luego muestra el resultado al usuario."
      ]
    },
    {
      "cell_type": "markdown",
      "id": "9cb369af",
      "metadata": {
        "id": "9cb369af"
      },
      "source": [
        "## Ejercicio 6: sumar_lista(lista)\n",
        "**Enunciado**: Crea una función `sumar_lista(lista)` que reciba una lista de números y retorne su suma."
      ]
    },
    {
      "cell_type": "markdown",
      "id": "e973e03b",
      "metadata": {
        "id": "e973e03b"
      },
      "source": [
        "## Ejercicio 7: temperatura_media(dia1, dia2, dia3)\n",
        "**Enunciado**: Crea una función `temperatura_media(dia1, dia2, dia3)` que calcule la temperatura media de tres días y diga si hace frío, templado o calor."
      ]
    },
    {
      "cell_type": "markdown",
      "id": "6827b77a",
      "metadata": {
        "id": "6827b77a"
      },
      "source": [
        "## Ejercicio 8: invertir_texto(texto)\n",
        "**Enunciado**: Crea una función `invertir_texto(texto)` que reciba un string y retorne ese string invertido."
      ]
    }
  ],
  "metadata": {
    "colab": {
      "provenance": []
    }
  },
  "nbformat": 4,
  "nbformat_minor": 5
}