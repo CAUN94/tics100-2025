{
  "cells": [
    {
      "cell_type": "markdown",
      "id": "1bedb3fc",
      "metadata": {
        "id": "1bedb3fc"
      },
      "source": [
        "\n",
        "# Repaso de NumPy: Manipulación de Tableros\n",
        "\n",
        "## 1. ¿Qué es NumPy?\n",
        "\n",
        "NumPy (Numerical Python) es una de las bibliotecas fundamentales en Python para el cálculo numérico. Su principal ventaja es la eficiencia en el manejo de arreglos y operaciones vectorizadas, siendo mucho más veloz que listas anidadas tradicionales de Python.\n",
        "\n",
        "La estructura base de NumPy es el `ndarray`, un arreglo n-dimensional que puede usarse para representar vectores, matrices y estructuras más complejas. Esto lo convierte en una herramienta ideal para trabajar con estructuras como tableros, mapas y juegos.\n",
        "\n",
        "### Diferencias con las listas tradicionales:\n",
        "\n",
        "- Las listas de Python permiten contener distintos tipos de datos, mientras que los `ndarray` de NumPy son homogéneos.\n",
        "- Las operaciones en listas se hacen con ciclos; en NumPy se vectorizan (son más rápidas y concisas).\n",
        "- NumPy tiene acceso a funciones avanzadas como estadísticas, transformaciones y manipulación de dimensiones.\n",
        "\n",
        "## 2. Importación y creación de arrays\n",
        "\n"
      ]
    },
    {
      "cell_type": "code",
      "execution_count": null,
      "id": "e1abf283",
      "metadata": {
        "id": "e1abf283"
      },
      "outputs": [],
      "source": [
        "import numpy as np\n"
      ]
    },
    {
      "cell_type": "markdown",
      "id": "28131972",
      "metadata": {
        "id": "28131972"
      },
      "source": [
        "\n",
        "### Arrays de 1 dimensión\n",
        "\n"
      ]
    },
    {
      "cell_type": "code",
      "execution_count": null,
      "id": "9830ff59",
      "metadata": {
        "id": "9830ff59",
        "colab": {
          "base_uri": "https://localhost:8080/"
        },
        "outputId": "1d938b9c-2c58-471d-a4be-b5d17ae67e8a"
      },
      "outputs": [
        {
          "output_type": "stream",
          "name": "stdout",
          "text": [
            "[1 2 3 4]\n"
          ]
        }
      ],
      "source": [
        "arr = np.array([1, 2, 3, 4])\n",
        "print(arr)\n"
      ]
    },
    {
      "cell_type": "markdown",
      "id": "852ba932",
      "metadata": {
        "id": "852ba932"
      },
      "source": [
        "\n",
        "### Arrays de 2 dimensiones (matriz)\n",
        "\n"
      ]
    },
    {
      "cell_type": "code",
      "execution_count": null,
      "id": "16743904",
      "metadata": {
        "id": "16743904"
      },
      "outputs": [],
      "source": [
        "matriz = np.array([[1, 2], [3, 4]])\n",
        "print(matriz)\n"
      ]
    },
    {
      "cell_type": "markdown",
      "id": "60cc02f5",
      "metadata": {
        "id": "60cc02f5"
      },
      "source": [
        "\n",
        "### Visualización con shape\n",
        "\n"
      ]
    },
    {
      "cell_type": "code",
      "execution_count": null,
      "id": "bad33c02",
      "metadata": {
        "id": "bad33c02"
      },
      "outputs": [],
      "source": [
        "print(\"Dimensiones:\", matriz.shape)\n"
      ]
    },
    {
      "cell_type": "markdown",
      "id": "592cc088",
      "metadata": {
        "id": "592cc088"
      },
      "source": [
        "\n",
        "## 3. Acceso por índices y recorrido\n",
        "\n",
        "Acceder a un elemento y recorrer la matriz:\n",
        "\n"
      ]
    },
    {
      "cell_type": "code",
      "execution_count": null,
      "id": "a7bedb74",
      "metadata": {
        "id": "a7bedb74"
      },
      "outputs": [],
      "source": [
        "print(matriz)\n",
        "\n",
        "print()\n",
        "\n",
        "print(matriz[0][1])  # Resultado: 2\n",
        "\n",
        "print()\n",
        "\n",
        "for fila in matriz:\n",
        "    for elemento in fila:\n",
        "        print(elemento)\n"
      ]
    },
    {
      "cell_type": "markdown",
      "id": "b268ccf7",
      "metadata": {
        "id": "b268ccf7"
      },
      "source": [
        "\n",
        "## 4. Casillas vecinas (modelo tablero)\n",
        "\n",
        "Este ejercicio muestra cómo revisar las casillas vecinas (arriba, abajo, izquierda, derecha y diagonales) de una celda específica sin salir de los límites de la matriz.\n",
        "\n"
      ]
    },
    {
      "cell_type": "code",
      "execution_count": null,
      "id": "d80e9a04",
      "metadata": {
        "id": "d80e9a04",
        "colab": {
          "base_uri": "https://localhost:8080/"
        },
        "outputId": "ca5545e3-b285-4b7a-d8b4-e6a9ed93076f"
      },
      "outputs": [
        {
          "output_type": "stream",
          "name": "stdout",
          "text": [
            "[[2 3 0 4 0]\n",
            " [0 1 1 1 1]\n",
            " [1 2 4 2 0]\n",
            " [4 3 2 3 2]\n",
            " [1 1 1 3 3]]\n",
            "\n",
            "1\n",
            "\n",
            "2 3 0 \n",
            "0 x 1 \n",
            "1 2 4 \n"
          ]
        }
      ],
      "source": [
        "matriz = np.array([\n",
        "    [2, 3, 0, 4, 0],\n",
        "    [0, 1, 1, 1, 1],\n",
        "    [1, 2, 4, 2, 0],\n",
        "    [4, 3, 2, 3, 2],\n",
        "    [1, 1, 1, 3, 3]\n",
        "])\n",
        "\n",
        "print(matriz)\n",
        "\n",
        "print()\n",
        "\n",
        "i = 1\n",
        "j = 1\n",
        "print(matriz[i,j])\n",
        "\n",
        "print()\n",
        "\n",
        "for dx in [-1, 0, 1]:\n",
        "    for dy in [-1, 0, 1]:\n",
        "        if dx == 0 and dy == 0:\n",
        "            print(\"x\",end=\" \")\n",
        "            continue\n",
        "        ni = i + dx\n",
        "        nj = j + dy\n",
        "        if 0 <= ni and ni < matriz.shape[0] and 0 <= nj and nj < matriz.shape[1]:\n",
        "            print(matriz[ni,nj],end=\" \")\n",
        "    print()\n"
      ]
    },
    {
      "cell_type": "markdown",
      "id": "c21df169",
      "metadata": {
        "id": "c21df169"
      },
      "source": [
        "\n",
        "## 5. Ejercicio: Encontrar el número más grande\n",
        "\n",
        "Usando dos ciclos `for`, buscamos el número máximo en una matriz sin usar funciones de NumPy.\n",
        "\n"
      ]
    },
    {
      "cell_type": "code",
      "execution_count": null,
      "id": "8a9ef8ee",
      "metadata": {
        "id": "8a9ef8ee"
      },
      "outputs": [],
      "source": [
        "matriz = np.array([\n",
        "    [2, 8, 5],\n",
        "    [4, 1, 9],\n",
        "    [3, 7, 6]\n",
        "])\n",
        "\n",
        "maximo = matriz[0][0]\n",
        "\n",
        "for fila in matriz:\n",
        "    for valor in fila:\n",
        "        if valor > maximo:\n",
        "            maximo = valor\n",
        "\n",
        "print(\"El valor máximo es:\", maximo)\n"
      ]
    },
    {
      "cell_type": "markdown",
      "id": "7010f471",
      "metadata": {
        "id": "7010f471"
      },
      "source": [
        "\n",
        "## 6. Crear tablero con 1s y 0s aleatorios\n",
        "\n",
        "Creamos una lista de valores y la convertimos en una matriz de 5x5 donde hay exactamente 5 unos y 20 ceros.\n",
        "\n"
      ]
    },
    {
      "cell_type": "code",
      "execution_count": null,
      "id": "74e1b34e",
      "metadata": {
        "id": "74e1b34e"
      },
      "outputs": [],
      "source": [
        "import random\n",
        "n1 = 5\n",
        "n2 = 20\n",
        "valores = []\n",
        "\n",
        "for i in range(5):\n",
        "  valores.append(1)\n",
        "\n",
        "for i in range(20):\n",
        "  valores.append(0)\n",
        "\n",
        "print(valores)\n",
        "\n",
        "print()\n",
        "\n",
        "random.shuffle(valores)\n",
        "\n",
        "print(valores)\n",
        "\n",
        "print()\n",
        "\n",
        "matriz = np.array(valores)\n",
        "\n",
        "print(matriz)\n",
        "\n",
        "print()\n",
        "\n",
        "matriz = matriz.reshape((5, 5))\n",
        "\n",
        "print(matriz)\n"
      ]
    },
    {
      "cell_type": "markdown",
      "id": "c68fb4e6",
      "metadata": {
        "id": "c68fb4e6"
      },
      "source": [
        "\n",
        "## 7. Casos de borde: sumar celdas vecinas\n",
        "\n",
        "Contamos la cantidad de `1`s que rodean cada celda, verificando bordes para no salir de la matriz.\n",
        "\n"
      ]
    },
    {
      "cell_type": "code",
      "execution_count": null,
      "id": "3892a0ee",
      "metadata": {
        "id": "3892a0ee"
      },
      "outputs": [],
      "source": [
        "matriz = np.random.randint(0, 2, (5, 5))\n",
        "\n",
        "print(matriz)\n",
        "\n",
        "for i in range(5):\n",
        "    for j in range(5):\n",
        "        suma = 0\n",
        "        for dx in [-1, 0, 1]:\n",
        "            for dy in [-1, 0, 1]:\n",
        "                ni, nj = i + dx, j + dy\n",
        "                if 0 <= ni < 5 and 0 <= nj < 5 and not (dx == 0 and dy == 0):\n",
        "                    suma += matriz[ni][nj]\n",
        "        print(f\"Suma alrededor de ({i},{j}) = {suma}\")\n"
      ]
    }
  ],
  "metadata": {
    "colab": {
      "provenance": []
    },
    "language_info": {
      "name": "python"
    },
    "kernelspec": {
      "name": "python3",
      "display_name": "Python 3"
    }
  },
  "nbformat": 4,
  "nbformat_minor": 5
}