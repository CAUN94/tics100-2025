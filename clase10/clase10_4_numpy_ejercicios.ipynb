{
  "cells": [
    {
      "cell_type": "markdown",
      "id": "5411532e",
      "metadata": {
        "id": "5411532e"
      },
      "source": [
        "# Guía de Ejercicios Básicos de NumPy"
      ]
    },
    {
      "cell_type": "markdown",
      "id": "8d0039b2",
      "metadata": {
        "id": "8d0039b2"
      },
      "source": [
        "## Ejercicio 1\n",
        "**Enunciado**: Cree una matriz de 5x5 con puros ceros"
      ]
    },
    {
      "cell_type": "markdown",
      "id": "05c2cda6",
      "metadata": {
        "id": "05c2cda6"
      },
      "source": [
        "## Ejercicio 2\n",
        "**Enunciado**: Cree una matriz de 6x6 con puros unos"
      ]
    },
    {
      "cell_type": "markdown",
      "id": "6169cccf",
      "metadata": {
        "id": "6169cccf"
      },
      "source": [
        "## Ejercicio 3\n",
        "**Enunciado**: Cree una matriz de 7x7 llena con números N, que es un valor dado por el usuario"
      ]
    },
    {
      "cell_type": "markdown",
      "id": "20c0fcd9",
      "metadata": {
        "id": "20c0fcd9"
      },
      "source": [
        "## Ejercicio 4\n",
        "**Enunciado**: Cree una matriz de MxM con M dado por el usuario con números entre a y b, también dados por el usuario"
      ]
    },
    {
      "cell_type": "markdown",
      "id": "5cb6c192",
      "metadata": {
        "id": "5cb6c192"
      },
      "source": [
        "## Ejercicio 5\n",
        "**Enunciado**: Cree una matriz de 10x10 siendo la mitad 1 y la otra mitad 2"
      ]
    },
    {
      "cell_type": "markdown",
      "id": "1ad41b58",
      "metadata": {
        "id": "1ad41b58"
      },
      "source": [
        "## Ejercicio 6\n",
        "**Enunciado**: Crea un mapa de 10x10 donde los 0 son tierra, los 1 son plantas y los 2 son animales (60, 30, 10 elementos respectivamente)"
      ]
    },
    {
      "cell_type": "markdown",
      "id": "0ac0d947",
      "metadata": {
        "id": "0ac0d947"
      },
      "source": [
        "## Ejercicio 7\n",
        "**Enunciado**: Cree una matriz de 10x10 con ceros. El usuario entrega coordenadas i,j y aumenta en uno la posición. Repite mostrando la matriz."
      ]
    },
    {
      "cell_type": "markdown",
      "id": "01a2cd17",
      "metadata": {
        "id": "01a2cd17"
      },
      "source": [
        "## Ejercicio 8\n",
        "**Enunciado**: Cree una matriz de 10x10 con ceros. El usuario entrega una fila que se incrementa en 1 cada vez que se selecciona."
      ]
    },
    {
      "cell_type": "markdown",
      "id": "680c23cd",
      "metadata": {
        "id": "680c23cd"
      },
      "source": [
        "## Ejercicio 9\n",
        "**Enunciado**: Cree una matriz NxN donde cada fila tenga números aleatorios entre 1 y 7. El usuario da el valor de N (no usar NumPy directamente)."
      ]
    },
    {
      "cell_type": "markdown",
      "id": "cfb19419",
      "metadata": {
        "id": "cfb19419"
      },
      "source": [
        "## Ejercicio 10\n",
        "**Enunciado**: Cree una matriz de 10x10. Luego pida nuevas dimensiones x,y. Hacer reshape si x*y=100. Si x=0, y=0 termina."
      ]
    },
    {
      "cell_type": "markdown",
      "id": "7c1c2742",
      "metadata": {
        "id": "7c1c2742"
      },
      "source": [
        "## Ejercicio 11\n",
        "**Enunciado**: Cree una letra (A, E, I, F, G, X) en una matriz NxN. El usuario entrega el tamaño. Mostrar cómo se ven por pantalla."
      ]
    },
    {
      "cell_type": "markdown",
      "source": [
        "\n",
        "\n",
        "```\n",
        "*****\n",
        "*   *\n",
        "*****\n",
        "*   *\n",
        "*   *\n",
        "\n",
        "```\n",
        "\n",
        "\n",
        "\n",
        "```\n",
        "*****\n",
        "*    \n",
        "*****\n",
        "*    \n",
        "*****\n",
        "\n",
        "```\n",
        "\n",
        "\n",
        "\n",
        "```\n",
        "*****\n",
        "  *  \n",
        "  *  \n",
        "  *  \n",
        "*****\n",
        "\n",
        "```\n",
        "\n",
        "```\n",
        "*****\n",
        "*    \n",
        "*****\n",
        "*    \n",
        "*    \n",
        "\n",
        "```\n",
        "\n",
        "```\n",
        " ****\n",
        "*    \n",
        "* ***\n",
        "*   *\n",
        " ****\n",
        "\n",
        "```\n",
        "\n",
        "```\n",
        "*   *\n",
        " * *\n",
        "  *  \n",
        " * *\n",
        "*   *\n",
        "```"
      ],
      "metadata": {
        "id": "AvWon8JWOZH0"
      },
      "id": "AvWon8JWOZH0"
    },
    {
      "cell_type": "markdown",
      "id": "cddb6bad",
      "metadata": {
        "id": "cddb6bad"
      },
      "source": [
        "## Ejercicio 12\n",
        "**Enunciado**: Crea un programa que genere una matriz de tamaño N x N, donde N es entregado por el usuario. Luego, el programa solicitará una serie de números que el usuario quiere que se repitan cierta cantidad de veces dentro de esa matriz.\n",
        "\n",
        "El objetivo es llenar completamente la matriz con los números proporcionados. El programa debe validar que no se agregue más de lo que cabe, y permitir terminar anticipadamente escribiendo 0. Al final, se mostrará la matriz en forma ordenada (según el orden de ingreso) y en forma aleatoria.\n",
        "Objetivo:\n",
        "\n",
        "    Reforzar el uso de listas, input(), estructuras while, reshape() y aleatorización.\n",
        "\n",
        "    Trabajar el control de flujo con validación de entradas.\n",
        "\n",
        "\n",
        "\n",
        "\n",
        "```\n",
        "Ingrese N para la matriz NxN: 3\n",
        "Quedan 9 espacios disponibles.\n",
        "Número a ingresar (0 para terminar): 5\n",
        "¿Cuántas veces quieres que aparezca el número 5?: 4\n",
        "Quedan 5 espacios disponibles.\n",
        "Número a ingresar (0 para terminar): 1\n",
        "¿Cuántas veces quieres que aparezca el número 1?: 2\n",
        "Quedan 3 espacios disponibles.\n",
        "Número a ingresar (0 para terminar): 9\n",
        "¿Cuántas veces quieres que aparezca el número 9?: 3\n",
        "\n",
        "Matriz ordenada según el ingreso de datos:\n",
        "[[5 5 5]\n",
        " [5 1 1]\n",
        " [9 9 9]]\n",
        "\n",
        "Matriz aleatoria:\n",
        "[[1 5 9]\n",
        " [5 5 1]\n",
        " [9 9 5]]\n",
        "\n",
        "```\n",
        "\n"
      ]
    }
  ],
  "metadata": {
    "colab": {
      "provenance": []
    }
  },
  "nbformat": 4,
  "nbformat_minor": 5
}