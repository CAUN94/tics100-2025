{
  "cells": [
    {
      "cell_type": "markdown",
      "id": "b8553954",
      "metadata": {
        "id": "b8553954"
      },
      "source": [
        "# Guía de Ejercicios con NumPy\n",
        "Ejercicios prácticos para trabajar con matrices en Python usando NumPy."
      ]
    },
    {
      "cell_type": "markdown",
      "id": "1bdfff04",
      "metadata": {
        "id": "1bdfff04"
      },
      "source": [
        "## Verificar diagonales que suman un número par\n",
        "**Objetivo**: Analizar sumas diagonales y aplicar filtros.\n",
        "\n",
        "**Enunciado**:\n",
        "Crea una matriz 5x5 con valores aleatorios del 1 al 9. Para cada celda, calcula la suma de sus diagonales inmediatas (↖️, ↗️, ↙️, ↘️). Si la suma es un número par, imprímela junto a su posición."
      ]
    },
    {
      "cell_type": "code",
      "execution_count": null,
      "id": "c57800cd",
      "metadata": {
        "colab": {
          "base_uri": "https://localhost:8080/"
        },
        "id": "c57800cd",
        "outputId": "0764fd46-f0bb-46a0-be1b-4106b41ae5fb"
      },
      "outputs": [
        {
          "output_type": "stream",
          "name": "stdout",
          "text": [
            "Matriz generada:\n",
            " [[8 4 5 5 7]\n",
            " [4 4 3 2 6]\n",
            " [5 8 4 8 5]\n",
            " [2 3 4 1 5]\n",
            " [1 8 9 8 6]]\n"
          ]
        }
      ],
      "source": [
        "import numpy as np\n",
        "\n",
        "matriz = np.random.randint(1, 10, (5, 5))\n",
        "print(\"Matriz generada:\\n\", matriz)\n",
        "\n",
        "\n"
      ]
    },
    {
      "cell_type": "markdown",
      "id": "64e71947",
      "metadata": {
        "id": "64e71947"
      },
      "source": [
        "## Validar celdas antes de reemplazo\n",
        "**Objetivo**: Verificar bordes y ocupación de celdas.\n",
        "\n",
        "**Enunciado**:\n",
        "Crea una matriz 6x6 con ceros. Permite al usuario ingresar 5 coordenadas (fila, columna, valor). Si la coordenada está fuera de rango o la celda ya está ocupada, muestra un mensaje de error."
      ]
    },
    {
      "cell_type": "code",
      "execution_count": null,
      "id": "b7ce203c",
      "metadata": {
        "id": "b7ce203c"
      },
      "outputs": [],
      "source": [
        "matriz = np.zeros((6, 6), dtype=int)\n",
        "\n",
        "print(matriz)\n"
      ]
    },
    {
      "cell_type": "markdown",
      "id": "f4c85c4b",
      "metadata": {
        "id": "f4c85c4b"
      },
      "source": [
        "## Simulación del buscaminas\n",
        "**Objetivo**: Simular una matriz con minas y contar minas vecinas.\n",
        "\n",
        "**Enunciado**:\n",
        "Crea una matriz 8x8 con 10 minas (valor 1) distribuidas aleatoriamente. Luego, reemplaza las demás celdas con el número de minas vecinas."
      ]
    },
    {
      "cell_type": "code",
      "execution_count": null,
      "id": "62c1b15b",
      "metadata": {
        "colab": {
          "base_uri": "https://localhost:8080/"
        },
        "id": "62c1b15b",
        "outputId": "bd65287c-6c2e-4739-ad5d-bc111aee8196"
      },
      "outputs": [
        {
          "output_type": "stream",
          "name": "stdout",
          "text": [
            "[[0 0 0 0 0 0 0 0]\n",
            " [0 0 0 0 0 0 0 0]\n",
            " [0 0 0 0 0 0 0 0]\n",
            " [0 0 0 0 0 0 0 0]\n",
            " [0 0 0 0 0 0 0 0]\n",
            " [0 0 0 0 0 0 0 0]\n",
            " [0 0 0 0 0 0 0 0]\n",
            " [0 0 0 0 0 0 0 0]]\n"
          ]
        }
      ],
      "source": [
        "import random\n",
        "\n",
        "valores = [1]*10 + [0]*54\n",
        "random.shuffle(valores)\n",
        "tablero = np.array(valores).reshape((8, 8))\n",
        "resultado = np.zeros((8, 8), dtype=int)\n",
        "\n",
        "print(resultado)\n"
      ]
    },
    {
      "cell_type": "markdown",
      "id": "21500c23",
      "metadata": {
        "id": "21500c23"
      },
      "source": [
        "## Simular caída de fichas\n",
        "**Objetivo**: Simular caída vertical como en 4 en línea.\n",
        "\n",
        "**Enunciado**:\n",
        "Crea una matriz 6x6 con ceros. Pide al usuario elegir una columna y coloca un 1 en la fila más baja disponible."
      ]
    },
    {
      "cell_type": "code",
      "execution_count": null,
      "id": "fca52866",
      "metadata": {
        "id": "fca52866"
      },
      "outputs": [],
      "source": [
        "matriz = np.zeros((6, 6), dtype=int)\n",
        "print(matriz)\n",
        "\n"
      ]
    },
    {
      "cell_type": "markdown",
      "id": "71bf3971",
      "metadata": {
        "id": "71bf3971"
      },
      "source": [
        "## Contar elementos mayores que un valor\n",
        "**Objetivo**: Filtrar elementos según condición.\n",
        "\n",
        "**Enunciado**:\n",
        "Crea una matriz 4x4 con valores del 1 al 20. Imprime los elementos mayores a 15."
      ]
    },
    {
      "cell_type": "code",
      "execution_count": null,
      "id": "30c102bb",
      "metadata": {
        "id": "30c102bb"
      },
      "outputs": [],
      "source": [
        "matriz = np.random.randint(1, 21, (4, 4))\n",
        "print(\"Matriz generada:\\n\", matriz)\n",
        "\n",
        "\n"
      ]
    },
    {
      "cell_type": "markdown",
      "id": "94c9dea3",
      "metadata": {
        "id": "94c9dea3"
      },
      "source": [
        "## Rellenar columna con validaciones\n",
        "**Objetivo**: Rellenar celdas evitando repeticiones y errores de rango.\n",
        "\n",
        "**Enunciado**:\n",
        "Crea una matriz 5x5 con ceros. Pide al usuario ingresar fila y columna. Si la celda está fuera del rango o ya fue usada, muestra un error."
      ]
    },
    {
      "cell_type": "code",
      "execution_count": null,
      "id": "696a9815",
      "metadata": {
        "id": "696a9815"
      },
      "outputs": [],
      "source": [
        "matriz = np.zeros((5, 5), dtype=int)\n",
        "print(matriz)\n"
      ]
    },
    {
      "cell_type": "markdown",
      "id": "2751902f",
      "metadata": {
        "id": "2751902f"
      },
      "source": [
        "## Recorrer matriz y contar múltiplos de 7\n",
        "**Objetivo**: Aplicar condición sobre todos los elementos de una matriz.\n",
        "\n",
        "**Enunciado**:\n",
        "Crea una matriz 6x6 con valores entre 1 y 50. Imprime solo los que son múltiplos de 7."
      ]
    },
    {
      "cell_type": "code",
      "execution_count": null,
      "id": "68029e3a",
      "metadata": {
        "id": "68029e3a"
      },
      "outputs": [],
      "source": [
        "matriz = np.random.randint(1, 51, (6, 6))\n",
        "print(\"Matriz generada:\\n\", matriz)\n"
      ]
    },
    {
      "cell_type": "markdown",
      "id": "d93ebe2f",
      "metadata": {
        "id": "d93ebe2f"
      },
      "source": [
        "## Verificar diagonales vecinas que sumen más de 10\n",
        "**Objetivo**: Verificar las diagonales inmediatas y aplicar un umbral.\n",
        "\n",
        "**Enunciado**:\n",
        "Crea una matriz 7x7 con valores entre 1 y 9. Para cada celda, revisa las diagonales y muestra cuántas de ellas tienen suma mayor a 10."
      ]
    },
    {
      "cell_type": "code",
      "execution_count": null,
      "id": "d7af2d97",
      "metadata": {
        "id": "d7af2d97"
      },
      "outputs": [],
      "source": [
        "matriz = np.random.randint(1, 10, (7, 7))\n",
        "print(\"Matriz generada:\\n\", matriz)\n"
      ]
    }
  ],
  "metadata": {
    "colab": {
      "provenance": []
    },
    "language_info": {
      "name": "python"
    },
    "kernelspec": {
      "name": "python3",
      "display_name": "Python 3"
    }
  },
  "nbformat": 4,
  "nbformat_minor": 5
}