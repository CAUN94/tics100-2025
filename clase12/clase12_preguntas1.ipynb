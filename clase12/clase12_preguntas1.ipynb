{
  "cells": [
    {
      "cell_type": "markdown",
      "id": "2ecb5feb",
      "metadata": {
        "id": "2ecb5feb"
      },
      "source": [
        "# Guía de Ejercicios Tipo 1 - NumPy"
      ]
    },
    {
      "cell_type": "markdown",
      "id": "15c38e73",
      "metadata": {
        "id": "15c38e73"
      },
      "source": [
        "### Ejercicio 1: Análisis de Temperaturas Semanales\n",
        "Durante una semana, se han registrado las temperaturas cada hora, generando así una matriz de tamaño 7x24 (7 días, 24 horas por día). Tu tarea es analizar esta matriz para extraer información relevante sobre los patrones térmicos. Usando esta matriz de temperaturas, debes calcular:\n",
        "- Qué día fue el más caluroso (día con mayor suma de temperaturas).\n",
        "- Qué día fue el más frío.\n",
        "- El promedio de temperatura por día.\n",
        "- El promedio de temperatura por hora.\n",
        "\n",
        "Este ejercicio debe resolverse usando exclusivamente operaciones vectorizadas de NumPy (sin ciclos explícitos). El objetivo es familiarizarse con el uso de funciones como `.sum()` y `.mean()` aplicadas a matrices multidimensionales."
      ]
    },
    {
      "cell_type": "code",
      "execution_count": null,
      "id": "9b798a15",
      "metadata": {
        "id": "9b798a15"
      },
      "outputs": [],
      "source": [
        "import numpy as np\n",
        "\n",
        "def generar_temperaturas():\n",
        "    return np.random.randint(15, 36, size=(7, 24))"
      ]
    },
    {
      "cell_type": "markdown",
      "id": "57d04f9e",
      "metadata": {
        "id": "57d04f9e"
      },
      "source": [
        "### Ejercicio 2: Máximos y Mínimos por Fila y Columna\n",
        "Se te proporciona una matriz cuadrada de 6x6 con valores enteros aleatorios entre 0 y 99. En este ejercicio, debes practicar la manipulación de matrices y el acceso a valores máximos y mínimos, tanto a nivel fila como columna. Debes realizar las siguientes tareas:\n",
        "- Obtener el valor máximo de cada fila.\n",
        "- Obtener el valor máximo de cada columna.\n",
        "- Usar `np.argmin()` para encontrar el índice lineal del valor mínimo en toda la matriz.\n",
        "- Transformar este índice lineal a coordenadas de fila y columna usando la función `divmod`.\n",
        "\n",
        "Este ejercicio sirve para entender cómo funcionan los índices lineales en NumPy y cómo mapearlos a coordenadas bidimensionales."
      ]
    },
    {
      "cell_type": "code",
      "source": [
        "import numpy as np\n",
        "\n",
        "matriz = np.array([1,2,-3,4,15,6,7,8,9])\n",
        "\n",
        "indice_min = np.argmin(matriz)     # índice lineal\n",
        "indice_max = np.argmax(matriz)\n",
        "\n",
        "print(indice_min)\n",
        "print(indice_max)\n",
        "\n",
        "matriz = np.array([[1,2,-3],[4,15,6],[7,8,9]])\n",
        "\n",
        "indice_min = np.argmin(matriz)     # índice lineal\n",
        "indice_max = np.argmax(matriz)\n",
        "\n",
        "fila_min, col_min = divmod(indice_min, matriz.shape[1])\n",
        "fila_max, col_max = divmod(indice_max, matriz.shape[1])\n",
        "\n",
        "print(fila_min, col_min)\n",
        "print(fila_max, col_max)"
      ],
      "metadata": {
        "id": "ciIsv8IcXyoi"
      },
      "id": "ciIsv8IcXyoi",
      "execution_count": null,
      "outputs": []
    },
    {
      "cell_type": "code",
      "execution_count": 12,
      "id": "2b8c9920",
      "metadata": {
        "id": "2b8c9920"
      },
      "outputs": [],
      "source": [
        "def generar_matriz():\n",
        "    return np.random.randint(0, 100, size=(6, 6))\n",
        "\n"
      ]
    },
    {
      "cell_type": "markdown",
      "id": "ba8a48b5",
      "metadata": {
        "id": "ba8a48b5"
      },
      "source": [
        "### Ejercicio 3: Comparación de Suma por Fila – Matriz 5x6\n",
        "Tendrás una matriz de tamaño 5x6 donde las primeras cinco columnas tienen valores fijos (por ejemplo, 10), y la sexta columna tiene valores aleatorios entre 15 y 25. Para cada fila, debes comparar si la suma de las primeras cinco columnas supera el valor de la sexta columna. El resultado será un arreglo booleano de 5 posiciones, donde cada valor indica si la condición se cumple en esa fila.\n",
        "\n",
        "Este ejercicio permite comprender mejor el uso de slicing y la comparación entre columnas de matrices. La visualización del resultado será importante para verificar el correcto funcionamiento del código."
      ]
    },
    {
      "cell_type": "code",
      "execution_count": null,
      "id": "9b61b90b",
      "metadata": {
        "id": "9b61b90b"
      },
      "outputs": [],
      "source": [
        "def crear_matriz_5x6():\n",
        "    matriz = np.full((5, 6), 10)\n",
        "    matriz[:, 5] = np.random.randint(15, 26, size=5)\n",
        "    return matriz"
      ]
    },
    {
      "cell_type": "markdown",
      "id": "a2fbddc2",
      "metadata": {
        "id": "a2fbddc2"
      },
      "source": [
        "### Ejercicio 4: Comparación de Suma por Columna – Matriz 6x5\n",
        "Ahora trabajarás con una matriz de tamaño 6x5. Las primeras cinco filas contienen valores fijos (por ejemplo, 10), y la sexta fila tendrá valores aleatorios entre 15 y 25. Tu tarea será comparar, por cada columna, si la suma de las primeras cinco filas supera el valor de la sexta fila en esa columna. El resultado será un arreglo booleano de 5 elementos, cada uno representando el cumplimiento de la condición por columna.\n",
        "\n",
        "Este ejercicio refuerza el uso del acceso a filas y columnas, y el concepto de operaciones columnares sobre matrices en NumPy."
      ]
    },
    {
      "cell_type": "code",
      "execution_count": null,
      "id": "d422815a",
      "metadata": {
        "id": "d422815a"
      },
      "outputs": [],
      "source": [
        "def crear_matriz_6x5():\n",
        "    matriz = np.full((6, 5), 10)\n",
        "    matriz[5, :] = np.random.randint(15, 26, size=5)\n",
        "    return matriz"
      ]
    }
  ],
  "metadata": {
    "colab": {
      "provenance": []
    },
    "language_info": {
      "name": "python"
    },
    "kernelspec": {
      "name": "python3",
      "display_name": "Python 3"
    }
  },
  "nbformat": 4,
  "nbformat_minor": 5
}