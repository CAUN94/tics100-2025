{
  "cells": [
    {
      "cell_type": "markdown",
      "id": "b7184eab",
      "metadata": {
        "id": "b7184eab"
      },
      "source": [
        "### Ejercicio 1: Matriz con Diagonal Principal de Puros Unos\n",
        "\n",
        "Implemente un programa en Python que genere matrices aleatorias de tamaño 5x5 (debe funcionar para cualquier tamaño de matriz) utilizando solamente valores 0 y 1. El objetivo es repetir la generación hasta que la diagonal principal esté compuesta completamente por unos (1).\n",
        "\n",
        "Para esto, se recomienda utilizar la función `np.random.randint` para generar la matriz y un ciclo `while` que repita la generación hasta que se cumpla la condición de tener cinco unos en las posiciones.\n",
        "\n",
        "El programa debe mostrar la cantidad de intentos realizados y la matriz final válida.\n"
      ]
    },
    {
      "cell_type": "code",
      "execution_count": null,
      "id": "c9b26005",
      "metadata": {
        "id": "c9b26005"
      },
      "outputs": [],
      "source": [
        "import numpy as np"
      ]
    },
    {
      "cell_type": "markdown",
      "id": "c855b43c",
      "metadata": {
        "id": "c855b43c"
      },
      "source": [
        "### Ejercicio 2: Generación Aleatoria de la Letra N\n",
        "\n",
        "Cree un programa que genere matrices de tamaño 5x5 (debe ser para cualquier matriz de NxN) con números 0 y 1 de manera aleatoria, utilizando un ciclo `while`, hasta que se forme correctamente la letra **N**.\n",
        "\n",
        "La letra **N** debe estar representada por:\n",
        "\n",
        "- La primera columna con solo 1s.\n",
        "- La última columna con solo 1s.\n",
        "- La diagonal principal con solo 1s.\n",
        "\n",
        "No importa si otras posiciones de la matriz contienen unos o ceros. Solo se deben verificar esas tres condiciones estructurales.\n"
      ]
    },
    {
      "cell_type": "code",
      "execution_count": null,
      "id": "6df832af",
      "metadata": {
        "id": "6df832af"
      },
      "outputs": [],
      "source": [
        "import numpy as np"
      ]
    },
    {
      "cell_type": "markdown",
      "id": "f8ff93e5",
      "metadata": {
        "id": "f8ff93e5"
      },
      "source": [
        "### Ejercicio 3: Construcción de la Letra M\n",
        "\n",
        "Implemente un programa que construya una matriz de tamaño 5x5 (debe ser para cualquier matriz de NxN) que represente la letra **M** utilizando valores 1 y 0.\n",
        "\n",
        "La letra **M** debe tener:\n",
        "\n",
        "- Primera y última columnas con puros 1s.\n",
        "- Dos diagonales que convergen en la posición central (2,2) o (n/2,n/2), que también debe contener un 1.\n",
        "\n",
        "Puede hacerlo directamente sin aleatoriedad o usar `np.zeros()` e insertar manualmente los 1 en las posiciones necesarias.\n"
      ]
    },
    {
      "cell_type": "code",
      "execution_count": 3,
      "id": "25f42788",
      "metadata": {
        "colab": {
          "base_uri": "https://localhost:8080/"
        },
        "id": "25f42788",
        "outputId": "201305f9-82d3-4c22-a808-30836d128c6d"
      },
      "outputs": [
        {
          "output_type": "stream",
          "name": "stdout",
          "text": [
            "[[1 1 0 1 1]\n",
            " [1 0 1 0 1]\n",
            " [1 1 0 1 1]\n",
            " [1 0 0 0 1]\n",
            " [1 0 0 0 1]]\n"
          ]
        }
      ],
      "source": [
        "import numpy as np"
      ]
    },
    {
      "cell_type": "markdown",
      "id": "b3b4f8ca",
      "metadata": {
        "id": "b3b4f8ca"
      },
      "source": [
        "### Ejercicio 4: Construcción de la Letra E\n",
        "\n",
        "Cree un programa que genere una matriz 5x5 (debe ser para cualquier matriz de NxN) que represente la letra **E** utilizando valores 0 y 1. Para que la letra esté bien formada, la matriz debe cumplir con las siguientes condiciones:\n",
        "\n",
        "- La primera columna debe tener únicamente 1.\n",
        "- Las filas 0, 2 y 4 deben estar completamente llenas de 1.\n",
        "\n"
      ]
    },
    {
      "cell_type": "code",
      "execution_count": 4,
      "id": "c38b274f",
      "metadata": {
        "colab": {
          "base_uri": "https://localhost:8080/"
        },
        "id": "c38b274f",
        "outputId": "51b7e8ea-2ba7-4ad9-fc67-542e47fbbf26"
      },
      "outputs": [
        {
          "output_type": "stream",
          "name": "stdout",
          "text": [
            "[[1 1 1 1 1]\n",
            " [1 0 0 0 0]\n",
            " [1 1 1 1 1]\n",
            " [1 0 0 0 0]\n",
            " [1 1 1 1 1]]\n"
          ]
        }
      ],
      "source": [
        "import numpy as np"
      ]
    }
  ],
  "metadata": {
    "colab": {
      "provenance": []
    },
    "language_info": {
      "name": "python"
    },
    "kernelspec": {
      "name": "python3",
      "display_name": "Python 3"
    }
  },
  "nbformat": 4,
  "nbformat_minor": 5
}