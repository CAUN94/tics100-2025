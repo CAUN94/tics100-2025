{
  "cells": [
    {
      "cell_type": "markdown",
      "id": "9e5df895",
      "metadata": {
        "id": "9e5df895"
      },
      "source": [
        "### Ejercicio 1: Tic Tac Toe (3 en línea)\n",
        "\n",
        "El clásico juego de 3 en línea se juega en un tablero de 3x3, donde dos jugadores (X y O) se turnan para colocar sus símbolos. El objetivo es formar una línea horizontal, vertical o diagonal con tres símbolos iguales.\n",
        "\n",
        "En este ejercicio se entrega la función `marcar_jugada(tablero, fila, columna, jugador)` que permite ingresar una jugada válida en el tablero, y `mostrar_tablero(tablero)` que imprime el tablero de forma clara.\n",
        "\n",
        "El objetivo del estudiante es implementar la función `verificar_victoria(tablero)` que, dado un tablero de juego, indique si algún jugador ha ganado.\n",
        "\n",
        "Ejemplo de juego funcionando:\n",
        "\n",
        "Jugador X elige (0, 0)  \n",
        "Jugador O elige (1, 1)  \n",
        "Jugador X elige (0, 1)  \n",
        "Jugador O elige (2, 2)  \n",
        "Jugador X elige (0, 2)  \n",
        "\n",
        "Tablero final:\n",
        "\n",
        "```\n",
        "X | X | X  \n",
        "- | O | -  \n",
        "- | - | O\n",
        "```\n",
        "\n",
        "Ganador: X\n"
      ]
    },
    {
      "cell_type": "code",
      "execution_count": null,
      "id": "d586cc90",
      "metadata": {
        "id": "d586cc90"
      },
      "outputs": [],
      "source": [
        "import numpy as np\n",
        "\n",
        "def crear_tablero():\n",
        "    return np.full((3, 3), '-')\n",
        "\n",
        "def mostrar_tablero(tablero):\n",
        "    for fila in tablero:\n",
        "        print(' | '.join(fila))\n",
        "    print()\n",
        "\n",
        "def marcar_jugada(tablero, fila, columna, jugador):\n",
        "    if tablero[fila, columna] == '-':\n",
        "        tablero[fila, columna] = jugador\n",
        "    else:\n",
        "        print(\"Espacio ocupado. Elija otra posición.\")\n",
        "\n",
        "# Función a completar\n",
        "def verificar_victoria(tablero):\n",
        "    # Escribir Código\n",
        "    pass\n",
        "\n",
        "tablero = crear_tablero()\n",
        "\n",
        "mostrar_tablero(tablero)"
      ]
    },
    {
      "cell_type": "markdown",
      "id": "0a03be11",
      "metadata": {
        "id": "0a03be11"
      },
      "source": [
        "### Ejercicio 2: Batalla Naval Clásico\n",
        "\n",
        "Se debe implementar una versión simplificada del juego Batalla Naval. El tablero es una matriz 5x5. Se entrega una función `crear_tablero()` que crea el tablero con barcos ocultos y `imprimir_tablero(tablero, revelar=False)` que imprime el tablero actual (sin mostrar los barcos si `revelar=False`).\n",
        "\n",
        "El estudiante debe implementar:\n",
        "\n",
        "- `atacar(tablero, fila, columna)`: devuelve si fue un \"Hit\" o \"Miss\" y actualiza el tablero.\n",
        "- `juego_terminado(tablero)`: verifica si todos los barcos fueron hundidos.\n",
        "\n",
        "Ejemplo de interacción esperada:\n",
        "\n",
        "```\n",
        "Ataque en (2, 3): Miss  \n",
        "Ataque en (4, 0): Hit  \n",
        "Ataque en (1, 1): Hit  \n",
        "\n",
        "Tablero actual:\n",
        "~ ~ ~ ~ ~  \n",
        "~ X ~ ~ ~  \n",
        "~ ~ ~ O ~  \n",
        "~ ~ ~ ~ ~  \n",
        "X ~ ~ ~ ~\n",
        "\n",
        "Barcos restantes: 0  \n",
        "¡Juego terminado!\n",
        "```\n",
        "\n",
        "(X representa un barco impactado, O representa agua fallida)\n"
      ]
    },
    {
      "cell_type": "code",
      "execution_count": 2,
      "id": "f7d6c401",
      "metadata": {
        "colab": {
          "base_uri": "https://localhost:8080/"
        },
        "id": "f7d6c401",
        "outputId": "524d5c49-3202-47f0-edea-053ad20a0771"
      },
      "outputs": [
        {
          "output_type": "stream",
          "name": "stdout",
          "text": [
            "~ | ~ | ~ | ~ | ~\n",
            "~ | B | ~ | ~ | ~\n",
            "~ | ~ | ~ | ~ | ~\n",
            "~ | ~ | ~ | ~ | ~\n",
            "B | ~ | ~ | ~ | ~\n",
            "\n"
          ]
        }
      ],
      "source": [
        "import numpy as np\n",
        "\n",
        "def crear_tablero():\n",
        "    tablero = np.full((5, 5), '~')\n",
        "    # Barcos marcados con 'B' (no visibles por defecto)\n",
        "    posiciones_barcos = [(1, 1), (4, 0)]\n",
        "    for f, c in posiciones_barcos:\n",
        "        tablero[f, c] = 'B'\n",
        "    return tablero\n",
        "\n",
        "def imprimir_tablero(tablero, revelar=False):\n",
        "    for fila in tablero:\n",
        "        if revelar:\n",
        "            print(' '.join(fila))\n",
        "        else:\n",
        "            print(' '.join(['~' if x == 'B' else x for x in fila]))\n",
        "    print()\n",
        "\n",
        "# Funciones a completar\n",
        "def atacar(tablero, fila, columna):\n",
        "    # Escribir Código\n",
        "    pass\n",
        "\n",
        "def juego_terminado(tablero):\n",
        "    # Escribir Código\n",
        "    pass\n",
        "\n",
        "tablero = crear_tablero()\n",
        "\n",
        "mostrar_tablero(tablero)"
      ]
    },
    {
      "cell_type": "markdown",
      "id": "d3d81514",
      "metadata": {
        "id": "d3d81514"
      },
      "source": [
        "### Ejercicio 3: Sudoku 4x4\n",
        "\n",
        "El Sudoku 4x4 es una versión reducida del juego de lógica en el que cada fila, columna y subcuadro de 2x2 debe contener los números del 1 al 4 sin repetirse.\n",
        "\n",
        "Se entrega:\n",
        "\n",
        "- `imprimir_tablero(tablero)`: imprime el tablero actual.\n",
        "- `verificar_fila(tablero, fila)`: indica si una fila tiene números duplicados o fuera de rango.\n",
        "\n",
        "El estudiante debe implementar:\n",
        "\n",
        "- `verificar_cuadrante(tablero, fila_base, col_base)`: verifica si el subcuadro 2x2 desde esa posición es válido.\n",
        "- `verificar_sudoku(tablero)`: verifica si todo el tablero es válido (filas, columnas y cuadrantes).\n",
        "\n",
        "Ejemplo de tablero válido:\n",
        "\n",
        "```\n",
        "[1 2 3 4]  \n",
        "[3 4 1 2]  \n",
        "[2 1 4 3]  \n",
        "[4 3 2 1]\n",
        "\n",
        "Resultado: Sudoku válido.\n",
        "```\n"
      ]
    },
    {
      "cell_type": "code",
      "execution_count": null,
      "id": "ee4c7704",
      "metadata": {
        "id": "ee4c7704"
      },
      "outputs": [],
      "source": [
        "import numpy as np\n",
        "\n",
        "def imprimir_tablero(tablero):\n",
        "    for fila in tablero:\n",
        "        print(fila)\n",
        "\n",
        "def verificar_fila(tablero, fila):\n",
        "    valores = tablero[fila]\n",
        "    return set(valores) == set([1, 2, 3, 4])\n",
        "\n",
        "# Funciones a completar\n",
        "def verificar_cuadrante(tablero, fila_base, col_base):\n",
        "    # Escribir Código\n",
        "    pass\n",
        "\n",
        "def verificar_sudoku(tablero):\n",
        "    # Escribir Código\n",
        "    pass\n",
        "\n",
        "tablero = [[1,2,3,4],[3,4,1,2],[2,1,4,3],[4,3,2,1]]\n",
        "\n",
        "imprimir_tablero(tablero)\n",
        "\n",
        "print(verificar_fila(tablero,0))\n"
      ]
    }
  ],
  "metadata": {
    "colab": {
      "provenance": []
    },
    "language_info": {
      "name": "python"
    },
    "kernelspec": {
      "name": "python3",
      "display_name": "Python 3"
    }
  },
  "nbformat": 4,
  "nbformat_minor": 5
}