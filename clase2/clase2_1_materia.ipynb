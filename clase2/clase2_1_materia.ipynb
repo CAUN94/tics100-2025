{
 "cells": [
  {
   "cell_type": "markdown",
   "metadata": {},
   "source": [
    "# Clase 2: Profundización en el Comando `input` y Uso de Variables\n",
    "\n",
    "## Introducción\n",
    "\n",
    "En la clase anterior, introdujimos conceptos básicos de programación y exploramos el comando `input` para recibir datos del usuario sin almacenarlos. Hoy, vamos a expandir nuestro uso de `input` incorporando variables para almacenar y manipular los datos ingresados.\n",
    "\n",
    "## Asignación de Entradas a Variables\n",
    "\n",
    "Cuando usamos el comando `input`, a menudo queremos guardar la entrada para su uso posterior. Esto se hace asignando la entrada a una variable.\n",
    "\n",
    "### Sintaxis Básica\n",
    "\n",
    "```python\n",
    "nombre = input('Introduce tu nombre: ')\n"
   ]
  },
  {
   "cell_type": "code",
   "execution_count": null,
   "metadata": {},
   "outputs": [],
   "source": [
    "nombre = input('Introduce tu nombre: ')\n",
    "print(nombre)\n",
    "print(nombre)\n",
    "print(nombre)\n",
    "print(nombre)"
   ]
  },
  {
   "cell_type": "code",
   "execution_count": null,
   "metadata": {},
   "outputs": [],
   "source": []
  },
  {
   "cell_type": "code",
   "execution_count": null,
   "metadata": {},
   "outputs": [],
   "source": []
  },
  {
   "cell_type": "markdown",
   "metadata": {},
   "source": [
    "En este ejemplo, `nombre` es una variable que almacena la entrada del usuario. Las variables son esenciales en la programación ya que actúan como contenedores para almacenar datos que pueden ser utilizados y modificados a lo largo de tu programa.\n",
    "\n",
    "## Reglas para Nombres de Variables\n",
    "\n",
    "Al definir nombres de variables en Python, es crucial adherirse a ciertas reglas y convenciones para asegurar que el código sea válido y fácil de entender. Aquí detallamos estas reglas:\n",
    "\n",
    "- **No Espacios Permitidos**: Los nombres de las variables no deben contener espacios. Un espacio implicaría que son dos ítems separados, lo cual causaría un error en el código.\n",
    "\n",
    "- **Comienzo de la Variable**: Los nombres de las variables deben comenzar con una letra (a-z, A-Z) o un guion bajo (_). Empezar con un número hace que Python interprete que se trata de un literal numérico y no un nombre de variable, lo que resultará en un error sintáctico.\n",
    "\n",
    "- **Palabras Reservadas**: Python tiene un conjunto de palabras reservadas que tienen significados especiales. Estas palabras están dedicadas a funciones específicas del lenguaje y no pueden ser usadas como nombres de variables. Ejemplos incluyen `if`, `for`, `print`, entre otros. Usar estas palabras reservadas como nombres de variables resultará en errores sintácticos.\n",
    "\n",
    "### Ejemplos Correctos e Incorrectos\n",
    "\n",
    "A continuación, se muestran ejemplos de cómo seguir correctamente estas reglas y qué errores evitar."
   ]
  },
  {
   "cell_type": "code",
   "execution_count": null,
   "metadata": {},
   "outputs": [],
   "source": [
    "# Este es un nombre de variable válido porque sigue todas las reglas mencionadas.\n",
    "palabra = input('Introduce una palabra: ')"
   ]
  },
  {
   "cell_type": "code",
   "execution_count": null,
   "metadata": {},
   "outputs": [],
   "source": [
    "# Este es un ejemplo de nombre de variable no válido porque empieza con un número.\n",
    "1palabra = input('Introduce una palabra: ')"
   ]
  },
  {
   "cell_type": "code",
   "execution_count": null,
   "metadata": {},
   "outputs": [],
   "source": [
    "# Este es otro ejemplo de nombre de variable no válido porque contiene un carácter especial.\n",
    "pal@bra = input('Introduce una palabra: ')"
   ]
  },
  {
   "cell_type": "code",
   "execution_count": null,
   "metadata": {},
   "outputs": [],
   "source": [
    "# Finalmente, este es un ejemplo de nombre de variable no válido porque contiene un espacio.\n",
    "palabra clave = input('Introduce una palabra: ')"
   ]
  },
  {
   "cell_type": "markdown",
   "metadata": {},
   "source": [
    "## Buenas Prácticas en el Nombramiento de Variables\n",
    "\n",
    "El nombramiento adecuado de las variables es crucial para mantener el código legible, mantenible y fácil de entender, especialmente en proyectos grandes o cuando se trabaja en equipo. Aquí algunas buenas prácticas a seguir:\n",
    "\n",
    "### Reglas Básicas\n",
    "- **Descriptividad**: Elige nombres que describan el contenido de la variable y su uso dentro del programa. Esto mejora la legibilidad y facilita la comprensión del código a otros programadores o a ti mismo en el futuro.\n",
    "\n",
    "### Convenciones de Nomenclatura\n",
    "- **Camel Case (`camelCase`)**: Comienza la variable con letra minúscula y utiliza mayúsculas para iniciar cada palabra subsiguiente sin espacios. Ejemplo: `numeroUsuarios`.\n",
    "- **Snake Case (`snake_case`)**: Utiliza letras minúsculas y separa las palabras con guiones bajos. Esta convención es muy popular en Python. Ejemplo: `numero_usuarios`.\n",
    "\n",
    "### Ejemplos de Nombres de Variables\n",
    "#### Menos Descriptivos\n",
    "Estos nombres no son ideales ya que son demasiado genéricos y no proporcionan suficiente contexto sobre el propósito de la variable:\n",
    "\n",
    "```python\n",
    "a = input('Introduce tu edad: ')\n"
   ]
  },
  {
   "cell_type": "code",
   "execution_count": null,
   "metadata": {},
   "outputs": [],
   "source": [
    "edadUsuario = input('Introduce tu edad: ')  # Camel Case\n",
    "edad_usuario = input('Introduce tu edad: ')  # Snake Case\n"
   ]
  },
  {
   "cell_type": "markdown",
   "metadata": {},
   "source": [
    "Aunque es recomendable que el nombre de la variable esté directamente relacionado con su propósito, no es una obligación. A veces, por razones de codificación o preferencias personales, puedes optar por nombres menos obvios. Sin embargo, siempre debes mantener un equilibrio para asegurar que el código sea accesible:"
   ]
  },
  {
   "cell_type": "code",
   "execution_count": null,
   "metadata": {},
   "outputs": [],
   "source": [
    "x = input('Introduce tu edad: ')  # Válido, pero no recomendado\n"
   ]
  },
  {
   "cell_type": "markdown",
   "metadata": {},
   "source": [
    "## Ejemplo de Uso de Variables para Almacenar Entradas\n",
    "\n",
    "En este ejemplo, vamos a solicitar al usuario su nombre y apellido, almacenaremos estos datos en variables y luego utilizaremos estas variables para imprimir el nombre completo varias veces. Esto demuestra la utilidad de las variables para reutilizar datos sin necesidad de pedir nuevamente al usuario que los introduzca.\n",
    "\n",
    "### Captura y Uso de Datos de Usuario\n",
    "\n",
    "Primero, capturamos los datos del usuario y los almacenamos en variables:"
   ]
  },
  {
   "cell_type": "code",
   "execution_count": null,
   "metadata": {},
   "outputs": [],
   "source": [
    "nombre = input('Introduce tu nombre: ')\n",
    "apellido = input('Introduce tu apellido: ')"
   ]
  },
  {
   "cell_type": "markdown",
   "metadata": {},
   "source": [
    "Ahora, usamos las variables para imprimir el nombre y apellido varias veces:"
   ]
  },
  {
   "cell_type": "code",
   "execution_count": null,
   "metadata": {},
   "outputs": [],
   "source": [
    "print('Mi nombre es:')\n",
    "print(nombre)\n",
    "print(apellido)\n",
    "print()  # Imprime una línea en blanco para separar los bloques de texto\n",
    "\n",
    "print('Mi nombre es:')\n",
    "print(nombre)\n",
    "print(apellido)\n",
    "print()  # Imprime una línea en blanco para separar los bloques de texto\n",
    "\n",
    "print('Mi nombre es:')\n",
    "print(nombre)\n",
    "print(apellido)\n",
    "print()  # Imprime una línea en blanco para separar los bloques de texto\n",
    "\n",
    "print('Mi nombre es:')\n",
    "print(nombre)\n",
    "print(apellido)\n",
    "print()  # Imprime una línea en blanco para separar los bloques de texto\n"
   ]
  },
  {
   "cell_type": "markdown",
   "metadata": {},
   "source": [
    "## Reutilización de Variables\n",
    "\n",
    "Notarás que por estar guardadas en variables, el nombre y apellido pueden ser reutilizados tantas veces como sea necesario sin tener que pedir nuevamente la información al usuario. Esto es una gran ventaja cuando necesitas acceder a la información de usuario a lo largo de tu programa.\n",
    "\n",
    "## Impresión de Variables y Manejo de Errores\n",
    "\n",
    "Cuando imprimes una variable con `print`, se muestra el contenido almacenado en ella. Si intentas imprimir una variable que no ha sido definida, Python devolverá un error.\n",
    "\n",
    "### Ejemplo de Error por Variable no Definida\n",
    "\n",
    "Para ilustrar qué ocurre si intentamos imprimir una variable que no existe, puedes ejecutar el siguiente código:"
   ]
  },
  {
   "cell_type": "code",
   "execution_count": null,
   "metadata": {},
   "outputs": [],
   "source": [
    "# Este es un ejemplo de una variable que no ha sido definida, lo que provocará un error.\n",
    "print(variable_no_definida)"
   ]
  },
  {
   "cell_type": "markdown",
   "metadata": {},
   "source": [
    "## Uso Básico de Variables con Números\n",
    "\n",
    "Ahora que hemos visto el uso básico de variables con texto, vamos a probar con números. En este primer ejemplo, solicitaremos dos números y los sumaremos. Sin embargo, veremos un comportamiento que quizás no esperamos.\n",
    "\n",
    "### Ejemplo de Suma Directa de Entradas"
   ]
  },
  {
   "cell_type": "code",
   "execution_count": null,
   "metadata": {},
   "outputs": [],
   "source": [
    "numero1 = input('Número 1: ')\n",
    "numero2 = input('Número 2: ')\n",
    "\n",
    "print(numero1 + numero2)"
   ]
  },
  {
   "cell_type": "markdown",
   "metadata": {},
   "source": [
    "Cuando utilizamos el comando `input()` para capturar entradas de los usuarios, aunque estos introduzcan números, Python trata estas entradas como si fueran cadenas de texto. Esto significa que si intentas realizar operaciones matemáticas con valores capturados mediante `input()`, no obtendrás resultados numéricos, sino la concatenación de cadenas de texto.\n",
    "\n",
    "## Conversión de Tipos de Datos para Operaciones Numéricas\n",
    "\n",
    "Para sumar los números de manera matemática, primero necesitamos convertir las cadenas de texto a números. Python proporciona varias funciones para la conversión de tipos de datos, que permiten cambiar una cadena de texto a un tipo numérico y viceversa.\n",
    "\n",
    "### Funciones de Conversión de Tipos en Python\n",
    "\n",
    "- **`int(variable)`**: Convierte la cadena de texto almacenada en `variable` a un número entero (integer). Es útil cuando sabes que el texto representa un número entero.\n",
    "\n",
    "- **`float(variable)`**: Convierte la cadena de texto en `variable` a un número flotante (float). Esto es ideal para números que incluyen decimales.\n",
    "\n",
    "- **`str(variable)`**: Convierte una variable numérica (o de cualquier otro tipo) a una cadena de texto (string). Esto es útil para la concatenación de texto o para mostrar números en mensajes.\n",
    "\n",
    "Estas funciones son esenciales para manejar datos numéricos y textuales adecuadamente en tus programas. Por ejemplo, si deseas realizar operaciones aritméticas con entradas de usuarios, deberás convertir esas entradas a tipos numéricos utilizando `int()` o `float()` antes de efectuar cálculos. Por otro lado, `str()` te permite convertir números y otros tipos de datos a texto, lo cual es especialmente útil para crear mensajes de salida personalizados que integren números y texto.\n"
   ]
  },
  {
   "cell_type": "code",
   "execution_count": null,
   "metadata": {},
   "outputs": [],
   "source": [
    "numero1 = input('Número 1: ')\n",
    "numero2 = input('Número 2: ')\n",
    "numero3 = int(numero1)\n",
    "numero4 = int(numero2)\n",
    "\n",
    "# Ahora realizamos la suma de enteros.\n",
    "print(numero3 + numero4)\n"
   ]
  },
  {
   "cell_type": "markdown",
   "metadata": {},
   "source": [
    "Si bien el método anterior funciona bien, podemos agilizar el proceso convirtiendo la entrada directamente cuando la recibimos:"
   ]
  },
  {
   "cell_type": "code",
   "execution_count": null,
   "metadata": {},
   "outputs": [],
   "source": [
    "numero1 = int(input('Número 1: '))\n",
    "numero2 = int(input('Número 2: '))\n",
    "\n",
    "print(numero1 + numero2)\n"
   ]
  },
  {
   "cell_type": "markdown",
   "metadata": {},
   "source": [
    "Este enfoque es más eficiente y reduce el código, ya que realiza la conversión en el momento de la captura de datos. El problema con este método es que si el usuario introduce un valor no numérico, Python devolverá un error."
   ]
  },
  {
   "cell_type": "code",
   "execution_count": null,
   "metadata": {},
   "outputs": [],
   "source": [
    "# Su usas este comando, pero no introduces un número, se generará un error.\n",
    "\n",
    "numero1 = int(input('Número 1: '))"
   ]
  },
  {
   "cell_type": "code",
   "execution_count": null,
   "metadata": {},
   "outputs": [],
   "source": []
  }
 ],
 "metadata": {
  "kernelspec": {
   "display_name": "Python 3",
   "language": "python",
   "name": "python3"
  },
  "language_info": {
   "codemirror_mode": {
    "name": "ipython",
    "version": 3
   },
   "file_extension": ".py",
   "mimetype": "text/x-python",
   "name": "python",
   "nbconvert_exporter": "python",
   "pygments_lexer": "ipython3",
   "version": "3.9.6"
  }
 },
 "nbformat": 4,
 "nbformat_minor": 2
}
