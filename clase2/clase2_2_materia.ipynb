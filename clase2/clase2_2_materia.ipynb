{
  "cells": [
    {
      "cell_type": "markdown",
      "metadata": {
        "id": "cYPNHB9l2yNS"
      },
      "source": [
        "# Clase 2: Profundización en el Comando `input` y Uso de Variables\n",
        "\n",
        "## Introducción\n",
        "\n",
        "En la clase anterior, introdujimos conceptos básicos de programación y exploramos el comando `input` para recibir datos del usuario sin almacenarlos. Hoy, vamos a expandir nuestro conocimiento y uso de `input` incorporando variables para almacenar y manipular los datos ingresados."
      ]
    },
    {
      "cell_type": "markdown",
      "metadata": {
        "id": "b5mg5aR52323"
      },
      "source": [
        "## Entradas (inputs)\n",
        "\n",
        "input() es una función incorporada en Python que se utiliza para recibir datos del usuario a través de la consola. Es una de las formas más comunes de interacción en programas de línea de comandos, permitiendo que el usuario ingrese información durante la ejecución del código.\n",
        "\n",
        "Cuando input() es ejecutado, el programa se detiene y espera a que el usuario escriba algo y presione \"Enter\". El valor ingresado se devuelve como un texto (tipo str), sin importar si el usuario escribió letras, números o símbolos."
      ]
    },
    {
      "cell_type": "code",
      "execution_count": null,
      "metadata": {
        "id": "Bxncgrxm3hRU"
      },
      "outputs": [],
      "source": [
        "input() #Sin texto\n",
        "input('Con texto')"
      ]
    },
    {
      "cell_type": "markdown",
      "metadata": {
        "id": "gVs4Cp0h3i_b"
      },
      "source": [
        "Explicación:\n",
        "\n",
        "\n",
        "\n",
        "*   Al ejecutar este comando, Python detendrá la ejecución hasta que el usuario ingrese un valor y presione \"Enter\".\n",
        "*   El valor ingresado no se almacena en ninguna parte si no se asigna a una variable (esto se verá más adelante).\n",
        "\n",
        "## ¿Para qué se usa `input()`?\n",
        "\n",
        "`input()` se usa en muchos contextos dentro de la programación. Algunas de sus principales utilidades son:\n",
        "\n",
        "### **1. Solicitar información del usuario**\n",
        "Se usa para pedir datos como nombres, edades, contraseñas, preferencias, etc.\n",
        "\n",
        "**Ejemplo:**\n",
        "```python\n",
        "input(\"Ingresa tu nombre: \")\n",
        "\n"
      ]
    },
    {
      "cell_type": "code",
      "execution_count": null,
      "metadata": {
        "id": "Ru6ZNasg4MI8"
      },
      "outputs": [],
      "source": [
        "print(\"Bienvenido a la aventura.\")\n",
        "input(\"Escribe tu nombre para empezar: \")\n"
      ]
    },
    {
      "cell_type": "markdown",
      "metadata": {
        "id": "gToDNdHc4qke"
      },
      "source": []
    },
    {
      "cell_type": "markdown",
      "metadata": {
        "id": "sLrzGryI4Oiy"
      },
      "source": [
        "## Tomar decisiones basadas en entradas\n",
        "\n",
        "Se puede usar para crear menús interactivos donde el usuario elige qué acción realizar.\n",
        "\n",
        "### **Ejemplo:**\n",
        "```python\n",
        "input(\"Elige una opción (1, 2 o 3): \")\n"
      ]
    },
    {
      "cell_type": "code",
      "execution_count": null,
      "metadata": {
        "id": "-OHv7kLU4irD"
      },
      "outputs": [],
      "source": [
        "input(\"Elige una opción (1, 2 o 3): \")"
      ]
    },
    {
      "cell_type": "markdown",
      "metadata": {
        "id": "kRsfNg-15LBM"
      },
      "source": [
        "## Errores Comunes en `input()`\n",
        "\n",
        "Al igual que `print()`, es importante escribir correctamente `input()` para evitar errores de sintaxis y facilitar la interacción con el usuario. Un error en la forma en que escribimos el texto dentro de `input()` puede hacer que el programa no funcione correctamente.\n",
        "\n",
        "### **Errores típicos:**\n",
        "```python\n",
        "input('Pregunta  # Error: Falta la comilla de cierre.\n",
        "input(\"Pregunta')  # Error: No coinciden las comillas de apertura y cierre.\n",
        "input('Pregunta   # Error: Falta la comilla de cierre.\n"
      ]
    },
    {
      "cell_type": "code",
      "execution_count": null,
      "metadata": {
        "id": "tWqtUb8f5QKJ"
      },
      "outputs": [],
      "source": [
        "input('Pregunta  # Error: Falta la comilla de cierre."
      ]
    },
    {
      "cell_type": "code",
      "execution_count": null,
      "metadata": {
        "id": "e0XpbVM75RMY"
      },
      "outputs": [],
      "source": [
        "input(\"Pregunta')  # Error: No coinciden las comillas de apertura y cierre."
      ]
    },
    {
      "cell_type": "code",
      "execution_count": null,
      "metadata": {
        "id": "JhZ69Jkb5Tbx"
      },
      "outputs": [],
      "source": [
        "input('Pregunta   # Error: Falta la comilla de cierre."
      ]
    },
    {
      "cell_type": "markdown",
      "metadata": {
        "id": "l3_gFYO45qTH"
      },
      "source": [
        "## Ejemplo: Formulario Simple con `print()` e `input()`\n",
        "\n",
        "En este ejemplo, combinaremos `print()` con `input()` para crear un formulario interactivo en la terminal. Pediremos al usuario que ingrese su **nombre, apellido y correo electrónico**, y luego mostraremos la información recopilada en pantalla.\n",
        "\n",
        "**Características del ejemplo**:\n",
        "- Usamos `print()` para mostrar mensajes iniciales.\n",
        "- Usamos `input()` sin pregunta para hacer una pausa antes de comenzar.\n",
        "- Usamos `input(\"mensaje\")` para solicitar cada dato al usuario.\n",
        "- Finalmente, mostramos la información ingresada con `print()`.\n"
      ]
    },
    {
      "cell_type": "code",
      "execution_count": 1,
      "metadata": {
        "colab": {
          "base_uri": "https://localhost:8080/"
        },
        "id": "gkjrFZtX5U8_",
        "outputId": "ce3aca0e-2f04-489f-eca3-7465d313517d"
      },
      "outputs": [
        {
          "name": "stdout",
          "output_type": "stream",
          "text": [
            "Bienvenido al formulario de registro\n",
            "Por favor, ingrese la siguiente información:\n",
            "\n",
            "Nombre: ca\n",
            "Apellido: 121\n",
            "Correo electrónico: 321321\n",
            "\n",
            " Registro completado con éxito. Aquí están los datos ingresados:\n"
          ]
        }
      ],
      "source": [
        "# Mensaje de bienvenida\n",
        "print(\"Bienvenido al formulario de registro\")\n",
        "print(\"Por favor, ingrese la siguiente información:\")\n",
        "\n",
        "# Pausa antes de empezar (input sin pregunta)\n",
        "input()\n",
        "\n",
        "# Pedimos los datos al usuario\n",
        "input(\"Nombre: \")\n",
        "input(\"Apellido: \")\n",
        "input(\"Correo electrónico: \")\n",
        "\n",
        "# Mostramos la información recopilada\n",
        "print(\"\\n Registro completado con éxito.\")\n",
        "\n"
      ]
    },
    {
      "cell_type": "markdown",
      "metadata": {
        "id": "ruDbZjhC6ax7"
      },
      "source": [
        "## Introducción a las Variables en Python\n",
        "\n",
        "En programación, una **variable** es un espacio de almacenamiento que permite guardar información para su uso posterior. Podemos imaginar una variable como una **caja** donde guardamos un valor y le damos un nombre para poder acceder a él más adelante.\n",
        "\n",
        "En Python, las variables pueden contener distintos tipos de datos, como números, texto o listas, y su contenido puede cambiar en cualquier momento. Esto las hace muy útiles para escribir programas dinámicos y reutilizables.\n",
        "\n",
        "Por ejemplo, si guardamos el nombre de un usuario en una variable, podemos usarlo más adelante sin necesidad de volver a pedirlo. Además, podemos modificar el valor de una variable si lo necesitamos.\n",
        "\n",
        "A continuación, veremos cómo se declaran, se asignan y se utilizan las variables en Python.\n"
      ]
    },
    {
      "cell_type": "code",
      "execution_count": null,
      "metadata": {
        "id": "0D-5Peau6itv"
      },
      "outputs": [],
      "source": [
        "# Mis primeras variables\n",
        "variable1 = 'texto'\n",
        "variable2 = 10"
      ]
    },
    {
      "cell_type": "markdown",
      "metadata": {
        "id": "2bz9jPo26qHl"
      },
      "source": [
        "## Asignación de Variables en Python\n",
        "\n",
        "En Python, una variable se define usando el operador `=`. Es importante entender que en este contexto, `=` no significa \"igual\" en el sentido matemático, sino que es un **operador de asignación**. Esto significa que **asigna un valor a una variable**.\n",
        "\n",
        "### Estructura de Asignación\n",
        "\n",
        "La forma correcta de asignar un valor a una variable en Python es:\n",
        "\n",
        "\n",
        "```\n",
        "variable = valor\n",
        "```\n",
        "\n",
        "Donde:\n",
        "\n",
        "- `variable` es el identificador que usamos para referirnos a la variable.\n",
        "- `valor` es el dato que queremos almacenar en la variable.\n",
        "\n",
        "### Ejemplo de Asignación de Variables\n",
        "\n",
        "```python\n",
        "var1 = 'Cristobal'  # Variable con un nombre genérico\n",
        "nombre = 'Cristobal'  # Variable con un nombre más descriptivo\n",
        "\n",
        "```\n",
        "\n",
        "Donde:\n",
        "\n",
        "- `nombre_de_variable` es el identificador que usamos para referirnos a la variable.\n",
        "- `valor` es el dato que queremos almacenar en la variable.\n",
        "\n",
        "### Ejemplo de Asignación de Variables\n",
        "\n",
        "En el ejemplo anterior, ambas variables almacenan el mismo valor ('Cristobal'), pero nombre es un identificador más claro y fácil de entender.\n",
        "Importancia de Usar Nombres Significativos\n",
        "\n",
        "Si bien una variable puede tener cualquier nombre (siempre que siga las reglas de Python), es recomendable usar nombres que tengan sentido en el contexto del programa. Un buen nombre de variable mejora la legibilidad del código y facilita su mantenimiento.\n",
        "\n",
        "Por ejemplo, esta asignación es válida pero poco clara:\n",
        "\n",
        "\n",
        "\n",
        "```\n",
        "x = 25\n",
        "```\n",
        "\n",
        "Mientras que esta es más comprensible:\n",
        "\n",
        "```\n",
        "edad = 25  # Indica claramente que representa la edad de una persona\n",
        "```"
      ]
    },
    {
      "cell_type": "code",
      "execution_count": null,
      "metadata": {
        "id": "6JWiwFdM7xvj"
      },
      "outputs": [],
      "source": [
        "x = 25\n",
        "edad = 25"
      ]
    },
    {
      "cell_type": "markdown",
      "metadata": {
        "id": "-eLlIOVC7zvi"
      },
      "source": [
        "## Uso de Variables con `print()`\n",
        "\n",
        "Ahora que comprendemos cómo asignar valores a las variables, vamos a ponerlo en práctica utilizando la función `print()`.\n",
        "\n",
        "Cuando colocamos una variable dentro de `print()`, es **como si estuviéramos escribiendo directamente el valor que contiene la variable**. Esto nos permite escribir código más flexible y fácil de modificar.\n",
        "\n",
        "\n",
        "\n",
        "### Imprimir el Valor de una Variable\n",
        "\n",
        "A continuación, veamos cómo podemos usar variables dentro de `print()` para mostrar su contenido:\n",
        "\n"
      ]
    },
    {
      "cell_type": "code",
      "execution_count": null,
      "metadata": {
        "id": "wEdV0Bfx8_wD"
      },
      "outputs": [],
      "source": [
        "nombre = 'Cristobal'\n",
        "print(nombre)\n",
        "print(nombre)\n",
        "print(nombre)"
      ]
    },
    {
      "cell_type": "markdown",
      "metadata": {
        "id": "9tk3xEPL9HKO"
      },
      "source": [
        "Aquí vemos que podemos imprimir la variable nombre varias veces sin tener que escribir su valor directamente.\n",
        "\n",
        "Esto es más eficiente que escribir múltiples print() con el mismo texto:"
      ]
    },
    {
      "cell_type": "code",
      "execution_count": null,
      "metadata": {
        "id": "y4NiTCnf9K-v"
      },
      "outputs": [],
      "source": [
        "print('Cristobal')\n",
        "print('Cristobal')\n",
        "print('Cristobal')"
      ]
    },
    {
      "cell_type": "markdown",
      "metadata": {
        "id": "An3nqGF09MhU"
      },
      "source": [
        "Si en algún momento queremos cambiar el nombre, en la primera opción solo debemos modificar una línea, mientras que en la segunda opción tendríamos que cambiarlo en cada línea donde aparece.\n",
        "\n",
        "Concatenación de Variables con print()\n",
        "\n",
        "Podemos combinar (o concatenar) variables en print(), lo que nos permite construir frases dinámicamente:"
      ]
    },
    {
      "cell_type": "code",
      "execution_count": null,
      "metadata": {
        "id": "J1_gp3jn9Oc4"
      },
      "outputs": [],
      "source": [
        "nombre = 'Cristobal'\n",
        "apellido = 'Ugarte'\n",
        "\n",
        "print(nombre + \" \" + apellido)  # Concatenación de strings\n",
        "\n",
        "# Salida esperada: Cristobal Ugarte"
      ]
    },
    {
      "cell_type": "markdown",
      "metadata": {
        "id": "LWuCSx0R9Ytk"
      },
      "source": [
        "En este caso, el operador + une los valores de nombre y apellido. Para evitar que las palabras queden pegadas, agregamos un espacio \" \" entre ellos.\n",
        "\n",
        "### Operaciones Aritméticas con Variables\n",
        "\n",
        "Las variables no solo pueden almacenar texto, sino también números, lo que nos permite realizar cálculos dentro de print():"
      ]
    },
    {
      "cell_type": "code",
      "execution_count": null,
      "metadata": {
        "id": "TU5FElqG9fiQ"
      },
      "outputs": [],
      "source": [
        "num1 = 2\n",
        "num2 = 3\n",
        "\n",
        "print(num1 + num2)  # Suma\n",
        "print(num1 - num2)  # Resta\n",
        "print(num1 * num2)  # Multiplicación\n",
        "print(num1 / num2)  # División"
      ]
    },
    {
      "cell_type": "markdown",
      "metadata": {
        "id": "ODd0zUXu9o3j"
      },
      "source": [
        "Aquí vemos que Python puede manejar distintos tipos de operaciones matemáticas sin problemas y nuevamente podemos modificar los valores de forma eficiente."
      ]
    },
    {
      "cell_type": "markdown",
      "metadata": {
        "id": "hjA338_q9TnO"
      },
      "source": [
        "## Modificación de Variables en Python\n",
        "\n",
        "Las variables en Python pueden **cambiar su valor a lo largo del código**. Esto es una característica fundamental de los lenguajes de programación, ya que permite hacer cálculos dinámicos y almacenar información que puede cambiar con el tiempo.\n",
        "\n",
        "Las variables en Python **se leen de arriba hacia abajo**, lo que significa que si una variable cambia su valor en una línea, **las siguientes líneas usarán el nuevo valor**, pero las anteriores no se ven afectadas.\n",
        "\n",
        "---\n",
        "\n",
        "### Ejemplo: Modificación de Variables\n",
        "\n"
      ]
    },
    {
      "cell_type": "code",
      "execution_count": 4,
      "metadata": {
        "colab": {
          "base_uri": "https://localhost:8080/"
        },
        "id": "F4aypUjK-9SM",
        "outputId": "bd0e8753-0b26-4282-a64e-16cfb6ac6d94"
      },
      "outputs": [
        {
          "name": "stdout",
          "output_type": "stream",
          "text": [
            "valor de y b\n",
            "1\n",
            "2\n",
            "valor de y b\n",
            "3\n",
            "4\n",
            "valor de y b\n",
            "7\n",
            "5\n",
            "valor de y b\n",
            "4\n",
            "11\n"
          ]
        }
      ],
      "source": [
        "a = 1\n",
        "b = 2\n",
        "print('valor de a y b')\n",
        "print(a)  # Imprime 1\n",
        "print(b)  # Imprime 2\n",
        "\n",
        "a = 3  # Ahora a vale 3\n",
        "b = 4  # Ahora b vale 4\n",
        "\n",
        "print('valor de a y b')\n",
        "print(a)  # Imprime 3\n",
        "print(b)  # Imprime 4\n",
        "\n",
        "a = a + b  # a ahora es 3 + 4 = 7\n",
        "b = 5  # b cambia su valor a 5\n",
        "\n",
        "print('valor de a y b')\n",
        "print(a)  # Imprime 7\n",
        "print(b)  # Imprime 5\n",
        "\n",
        "a = 4  # a ahora vale 4\n",
        "b = b + a + 2  # b ahora es 5 + 4 + 2 = 11\n",
        "\n",
        "print('valor de a y b')\n",
        "print(a)  # Imprime 4\n",
        "print(b)  # Imprime 11\n"
      ]
    },
    {
      "cell_type": "markdown",
      "metadata": {
        "id": "XUniUk5X_L8M"
      },
      "source": [
        "### Uso de Variables con Texto\n",
        "\n",
        "Las variables no solo almacenan números, también pueden contener texto. En el siguiente ejemplo, usaremos cadenas de texto (strings) y veremos cómo se pueden modificar en el tiempo."
      ]
    },
    {
      "cell_type": "code",
      "execution_count": 6,
      "metadata": {
        "colab": {
          "base_uri": "https://localhost:8080/"
        },
        "id": "fk_L2Sgd_PHB",
        "outputId": "489cd7f4-cc96-4093-b97c-2d51cf088901"
      },
      "outputs": [
        {
          "name": "stdout",
          "output_type": "stream",
          "text": [
            "valor de a y b\n",
            "hola\n",
            "chao\n",
            "valor de a y b\n",
            "holachao\n",
            "17\n"
          ]
        }
      ],
      "source": [
        "a = 'hola'\n",
        "b = 'chao'\n",
        "\n",
        "print('valor de a y b')\n",
        "print(a)  # Imprime 'hola'\n",
        "print(b)  # Imprime 'chao'\n",
        "\n",
        "a = a + b  # Se concatenan 'hola' y 'chao' → 'holachao'\n",
        "b = 17  # b ahora tiene un número\n",
        "\n",
        "print('valor de a y b')\n",
        "print(a)  # Imprime 'holachao'\n",
        "print(b)  # Imprime 17\n"
      ]
    },
    {
      "cell_type": "markdown",
      "metadata": {
        "id": "hEXxcPLE_bhT"
      },
      "source": [
        "Error por Mezcla de Tipos de Datos\n",
        "\n",
        "Si intentamos combinar una variable de texto con una de número, obtendremos un error:"
      ]
    },
    {
      "cell_type": "code",
      "execution_count": null,
      "metadata": {
        "id": "V3vuaAhJ_U0M"
      },
      "outputs": [],
      "source": [
        "a = a + b"
      ]
    },
    {
      "cell_type": "markdown",
      "metadata": {
        "id": "UfbEqfhT_m4e"
      },
      "source": [
        "Python no permite sumar strings y números directamente. Para solucionar este problema, debemos convertir los valores al tipo correcto antes de operar con ellos. Más adelante aprenderemos cómo hacer esto."
      ]
    },
    {
      "cell_type": "markdown",
      "metadata": {
        "id": "QkvIR8g2_pNc"
      },
      "source": [
        "### Intercambio de Variables (Swap) con una Variable Auxiliar\n",
        "\n",
        "En ocasiones, necesitamos intercambiar el contenido de dos variables. Si intentamos hacerlo directamente, podríamos perder un valor en el proceso."
      ]
    },
    {
      "cell_type": "code",
      "execution_count": 8,
      "metadata": {
        "colab": {
          "base_uri": "https://localhost:8080/"
        },
        "id": "eBiYxUPI_s_M",
        "outputId": "86a4f878-b582-430a-da27-7cdc0951ea95"
      },
      "outputs": [
        {
          "name": "stdout",
          "output_type": "stream",
          "text": [
            "rojo\n",
            "rojo\n"
          ]
        }
      ],
      "source": [
        "a = 'azul'\n",
        "b = 'rojo'\n",
        "\n",
        "a = b\n",
        "b = a\n",
        "\n",
        "print(a)  # Imprime 'rojo'\n",
        "print(b)  # Imprime 'rojo' (¡Esto es un error!)\n"
      ]
    },
    {
      "cell_type": "markdown",
      "metadata": {
        "id": "eEDnlaDD_waY"
      },
      "source": [
        "El problema aquí es que b pierde su valor original porque a = b sobrescribe el valor de a antes de que podamos usarlo.\n",
        "\n",
        "La solución es usar una variable auxiliar para almacenar temporalmente un valor mientras realizamos el intercambio:"
      ]
    },
    {
      "cell_type": "code",
      "execution_count": null,
      "metadata": {
        "id": "igPq56I0_zYc"
      },
      "outputs": [],
      "source": [
        "a = 'azul'\n",
        "b = 'rojo'\n",
        "\n",
        "aux = a  # Guardamos el valor original de 'a'\n",
        "a = b  # Asignamos el valor de 'b' a 'a'\n",
        "b = aux  # Restauramos el valor original de 'a' en 'b'\n",
        "\n",
        "print(a)  # Imprime 'rojo'\n",
        "print(b)  # Imprime 'azul'\n"
      ]
    },
    {
      "cell_type": "markdown",
      "metadata": {
        "id": "pXR7XMub2B5I"
      },
      "source": [
        "## Asignación de Entradas a Variables\n",
        "\n",
        "Cuando usamos el comando `input`, a menudo queremos guardar la entrada para su uso posterior. Esto se hace asignando la entrada a una variable.\n",
        "\n",
        "### Sintaxis Básica\n",
        "\n",
        "```python\n",
        "nombre = input('Introduce tu nombre: ')\n"
      ]
    },
    {
      "cell_type": "code",
      "execution_count": null,
      "metadata": {
        "id": "kO1_24KO2B5K"
      },
      "outputs": [],
      "source": [
        "nombre = input('Introduce tu nombre: ')\n",
        "print(nombre)\n",
        "print(nombre)\n",
        "print(nombre)\n",
        "print(nombre)"
      ]
    },
    {
      "cell_type": "markdown",
      "metadata": {
        "id": "X9BFs9t82B5M"
      },
      "source": [
        "En este ejemplo, `nombre` es una variable que almacena la entrada del usuario. Las variables son esenciales en la programación ya que actúan como contenedores para almacenar datos que pueden ser utilizados y modificados a lo largo de tu programa.\n",
        "\n",
        "## Reglas para Nombres de Variables\n",
        "\n",
        "Al definir nombres de variables en Python, es crucial adherirse a ciertas reglas y convenciones para asegurar que el código sea válido y fácil de entender. Aquí detallamos estas reglas:\n",
        "\n",
        "- **No Espacios Permitidos**: Los nombres de las variables no deben contener espacios. Un espacio implicaría que son dos ítems separados, lo cual causaría un error en el código.\n",
        "\n",
        "- **Comienzo de la Variable**: Los nombres de las variables deben comenzar con una letra (a-z, A-Z) o un guion bajo (_). Empezar con un número hace que Python interprete que se trata de un literal numérico y no un nombre de variable, lo que resultará en un error sintáctico.\n",
        "\n",
        "- **Palabras Reservadas**: Python tiene un conjunto de palabras reservadas que tienen significados especiales. Estas palabras están dedicadas a funciones específicas del lenguaje y no pueden ser usadas como nombres de variables. Ejemplos incluyen `if`, `for`, `print`, entre otros. Usar estas palabras reservadas como nombres de variables resultará en errores sintácticos.\n",
        "\n",
        "### Ejemplos Correctos e Incorrectos\n",
        "\n",
        "A continuación, se muestran ejemplos de cómo seguir correctamente estas reglas y qué errores evitar."
      ]
    },
    {
      "cell_type": "code",
      "execution_count": null,
      "metadata": {
        "id": "5yzeAkoJ2B5N"
      },
      "outputs": [],
      "source": [
        "# Este es un nombre de variable válido porque sigue todas las reglas mencionadas.\n",
        "palabra = input('Introduce una palabra: ')"
      ]
    },
    {
      "cell_type": "code",
      "execution_count": null,
      "metadata": {
        "id": "RkhuBHYy2B5P"
      },
      "outputs": [],
      "source": [
        "# Este es un ejemplo de nombre de variable no válido porque empieza con un número.\n",
        "1palabra = input('Introduce una palabra: ')"
      ]
    },
    {
      "cell_type": "code",
      "execution_count": null,
      "metadata": {
        "id": "YD1VBlMs2B5Q"
      },
      "outputs": [],
      "source": [
        "# Este es otro ejemplo de nombre de variable no válido porque contiene un carácter especial.\n",
        "pal@bra = input('Introduce una palabra: ')"
      ]
    },
    {
      "cell_type": "code",
      "execution_count": null,
      "metadata": {
        "id": "S63dLcf42B5Q"
      },
      "outputs": [],
      "source": [
        "# Finalmente, este es un ejemplo de nombre de variable no válido porque contiene un espacio.\n",
        "palabra clave = input('Introduce una palabra: ')"
      ]
    },
    {
      "cell_type": "markdown",
      "metadata": {
        "id": "DDx0wUj32B5R"
      },
      "source": [
        "## Buenas Prácticas en el Nombramiento de Variables\n",
        "\n",
        "El nombramiento adecuado de las variables es crucial para mantener el código legible, mantenible y fácil de entender, especialmente en proyectos grandes o cuando se trabaja en equipo. Aquí algunas buenas prácticas a seguir:\n",
        "\n",
        "### Reglas Básicas\n",
        "- **Descriptividad**: Elige nombres que describan el contenido de la variable y su uso dentro del programa. Esto mejora la legibilidad y facilita la comprensión del código a otros programadores o a ti mismo en el futuro.\n",
        "\n",
        "### Convenciones de Nomenclatura\n",
        "- **Camel Case (`camelCase`)**: Comienza la variable con letra minúscula y utiliza mayúsculas para iniciar cada palabra subsiguiente sin espacios. Ejemplo: `numeroUsuarios`.\n",
        "- **Snake Case (`snake_case`)**: Utiliza letras minúsculas y separa las palabras con guiones bajos. Esta convención es muy popular en Python. Ejemplo: `numero_usuarios`.\n",
        "\n",
        "### Ejemplos de Nombres de Variables\n",
        "#### Menos Descriptivos\n",
        "Estos nombres no son ideales ya que son demasiado genéricos y no proporcionan suficiente contexto sobre el propósito de la variable:\n",
        "\n",
        "```python\n",
        "a = input('Introduce tu edad: ')\n"
      ]
    },
    {
      "cell_type": "code",
      "execution_count": null,
      "metadata": {
        "id": "wBbxMfu_2B5S"
      },
      "outputs": [],
      "source": [
        "edadUsuario = input('Introduce tu edad: ')  # Camel Case\n",
        "edad_usuario = input('Introduce tu edad: ')  # Snake Case\n"
      ]
    },
    {
      "cell_type": "markdown",
      "metadata": {
        "id": "THIVyLxC2B5S"
      },
      "source": [
        "Aunque es recomendable que el nombre de la variable esté directamente relacionado con su propósito, no es una obligación. A veces, por razones de codificación o preferencias personales, puedes optar por nombres menos obvios. Sin embargo, siempre debes mantener un equilibrio para asegurar que el código sea accesible:"
      ]
    },
    {
      "cell_type": "code",
      "execution_count": null,
      "metadata": {
        "id": "HOlqmYvY2B5T"
      },
      "outputs": [],
      "source": [
        "x = input('Introduce tu edad: ')  # Válido, pero no recomendado\n"
      ]
    },
    {
      "cell_type": "markdown",
      "metadata": {
        "id": "eln0nejS2B5T"
      },
      "source": [
        "## Ejemplo de Uso de Variables para Almacenar Entradas\n",
        "\n",
        "En este ejemplo, vamos a solicitar al usuario su nombre y apellido, almacenaremos estos datos en variables y luego utilizaremos estas variables para imprimir el nombre completo varias veces. Esto demuestra la utilidad de las variables para reutilizar datos sin necesidad de pedir nuevamente al usuario que los introduzca.\n",
        "\n",
        "### Captura y Uso de Datos de Usuario\n",
        "\n",
        "Primero, capturamos los datos del usuario y los almacenamos en variables:"
      ]
    },
    {
      "cell_type": "code",
      "execution_count": null,
      "metadata": {
        "id": "PWtync0R2B5T"
      },
      "outputs": [],
      "source": [
        "nombre = input('Introduce tu nombre: ')\n",
        "apellido = input('Introduce tu apellido: ')"
      ]
    },
    {
      "cell_type": "markdown",
      "metadata": {
        "id": "ixSmSXxB2B5T"
      },
      "source": [
        "Ahora, usamos las variables para imprimir el nombre y apellido varias veces:"
      ]
    },
    {
      "cell_type": "code",
      "execution_count": null,
      "metadata": {
        "id": "z1lp3JwK2B5U"
      },
      "outputs": [],
      "source": [
        "print('Mi nombre es:')\n",
        "print(nombre)\n",
        "print(apellido)\n",
        "print()  # Imprime una línea en blanco para separar los bloques de texto\n",
        "\n",
        "print('Mi nombre es:')\n",
        "print(nombre)\n",
        "print(apellido)\n",
        "print()  # Imprime una línea en blanco para separar los bloques de texto\n",
        "\n",
        "print('Mi nombre es:')\n",
        "print(nombre)\n",
        "print(apellido)\n",
        "print()  # Imprime una línea en blanco para separar los bloques de texto\n",
        "\n",
        "print('Mi nombre es:')\n",
        "print(nombre)\n",
        "print(apellido)\n",
        "print()  # Imprime una línea en blanco para separar los bloques de texto\n"
      ]
    },
    {
      "cell_type": "markdown",
      "metadata": {
        "id": "PJ5GsDAj2B5U"
      },
      "source": [
        "## Reutilización de Variables\n",
        "\n",
        "Notarás que por estar guardadas en variables, el nombre y apellido pueden ser reutilizados tantas veces como sea necesario sin tener que pedir nuevamente la información al usuario. Esto es una gran ventaja cuando necesitas acceder a la información de usuario a lo largo de tu programa.\n",
        "\n",
        "## Impresión de Variables y Manejo de Errores\n",
        "\n",
        "Cuando imprimes una variable con `print`, se muestra el contenido almacenado en ella. Si intentas imprimir una variable que no ha sido definida, Python devolverá un error.\n",
        "\n",
        "### Ejemplo de Error por Variable no Definida\n",
        "\n",
        "Para ilustrar qué ocurre si intentamos imprimir una variable que no existe, puedes ejecutar el siguiente código:"
      ]
    },
    {
      "cell_type": "code",
      "execution_count": null,
      "metadata": {
        "id": "6SjWYzc22B5U"
      },
      "outputs": [],
      "source": [
        "# Este es un ejemplo de una variable que no ha sido definida, lo que provocará un error.\n",
        "print(variable_no_definida)"
      ]
    },
    {
      "cell_type": "markdown",
      "metadata": {
        "id": "ENGU6BUX2B5V"
      },
      "source": [
        "## Uso Básico de Variables con Números\n",
        "\n",
        "Ahora que hemos visto el uso básico de variables con texto, vamos a probar con números. En este primer ejemplo, solicitaremos dos números y los sumaremos. Sin embargo, veremos un comportamiento que quizás no esperamos.\n",
        "\n",
        "### Ejemplo de Suma Directa de Entradas"
      ]
    },
    {
      "cell_type": "code",
      "execution_count": 9,
      "metadata": {
        "colab": {
          "base_uri": "https://localhost:8080/"
        },
        "id": "5It5I3ux2B5V",
        "outputId": "9efaf3e2-6414-4891-ccd8-965d00eceb30"
      },
      "outputs": [
        {
          "name": "stdout",
          "output_type": "stream",
          "text": [
            "Número 1: 12\n",
            "Número 2: 21\n",
            "1221\n"
          ]
        }
      ],
      "source": [
        "numero1 = input('Número 1: ')\n",
        "numero2 = input('Número 2: ')\n",
        "\n",
        "print(numero1 + numero2)"
      ]
    },
    {
      "cell_type": "markdown",
      "metadata": {
        "id": "SIb25FSC2B5V"
      },
      "source": [
        "Cuando utilizamos el comando `input()` para capturar entradas de los usuarios, aunque estos introduzcan números, Python trata estas entradas como si fueran cadenas de texto. Esto significa que si intentas realizar operaciones matemáticas con valores capturados mediante `input()`, no obtendrás resultados numéricos, sino la concatenación de cadenas de texto.\n",
        "\n",
        "## Conversión de Tipos de Datos para Operaciones Numéricas\n",
        "\n",
        "Para sumar los números de manera matemática, primero necesitamos convertir las cadenas de texto a números. Python proporciona varias funciones para la conversión de tipos de datos, que permiten cambiar una cadena de texto a un tipo numérico y viceversa.\n",
        "\n",
        "### Funciones de Conversión de Tipos en Python\n",
        "\n",
        "- **`int(variable)`**: Convierte la cadena de texto almacenada en `variable` a un número entero (integer). Es útil cuando sabes que el texto representa un número entero.\n",
        "\n",
        "- **`float(variable)`**: Convierte la cadena de texto en `variable` a un número flotante (float). Esto es ideal para números que incluyen decimales.\n",
        "\n",
        "- **`str(variable)`**: Convierte una variable numérica (o de cualquier otro tipo) a una cadena de texto (string). Esto es útil para la concatenación de texto o para mostrar números en mensajes.\n",
        "\n",
        "Estas funciones son esenciales para manejar datos numéricos y textuales adecuadamente en tus programas. Por ejemplo, si deseas realizar operaciones aritméticas con entradas de usuarios, deberás convertir esas entradas a tipos numéricos utilizando `int()` o `float()` antes de efectuar cálculos. Por otro lado, `str()` te permite convertir números y otros tipos de datos a texto, lo cual es especialmente útil para crear mensajes de salida personalizados que integren números y texto.\n"
      ]
    },
    {
      "cell_type": "code",
      "execution_count": 10,
      "metadata": {
        "colab": {
          "base_uri": "https://localhost:8080/"
        },
        "id": "1qZGDFn52B5V",
        "outputId": "bda2f45f-94dd-4499-fe56-011972bd5791"
      },
      "outputs": [
        {
          "name": "stdout",
          "output_type": "stream",
          "text": [
            "Número 1: 10\n",
            "Número 2: 10\n",
            "20\n"
          ]
        }
      ],
      "source": [
        "numero1 = input('Número 1: ')\n",
        "numero2 = input('Número 2: ')\n",
        "numero3 = int(numero1)\n",
        "numero4 = int(numero2)\n",
        "\n",
        "# Ahora realizamos la suma de enteros.\n",
        "print(numero3 + numero4)\n"
      ]
    },
    {
      "cell_type": "markdown",
      "metadata": {
        "id": "WeYTqJZR2B5W"
      },
      "source": [
        "Si bien el método anterior funciona bien, podemos agilizar el proceso convirtiendo la entrada directamente cuando la recibimos:"
      ]
    },
    {
      "cell_type": "code",
      "execution_count": null,
      "metadata": {
        "id": "lSbbDAyO2B5W"
      },
      "outputs": [],
      "source": [
        "numero1 = int(input('Número 1: '))\n",
        "numero2 = int(input('Número 2: '))\n",
        "\n",
        "print(numero1 + numero2)\n"
      ]
    },
    {
      "cell_type": "markdown",
      "metadata": {
        "id": "qW69ECKh2B5X"
      },
      "source": [
        "Este enfoque es más eficiente y reduce el código, ya que realiza la conversión en el momento de la captura de datos. El problema con este método es que si el usuario introduce un valor no numérico, Python devolverá un error."
      ]
    },
    {
      "cell_type": "code",
      "execution_count": null,
      "metadata": {
        "id": "2vlnoARe2B5X"
      },
      "outputs": [],
      "source": [
        "# Su usas este comando, pero no introduces un número, se generará un error.\n",
        "\n",
        "numero1 = int(input('Número 1: ')) # Escriban cualquier texto"
      ]
    },
    {
      "cell_type": "markdown",
      "metadata": {
        "id": "1vXyTpViBOk8"
      },
      "source": [
        "## Concatenación en Python\n",
        "\n",
        "La concatenación en Python se refiere a la unión de elementos, generalmente cadenas de texto (str), dentro de un mismo print() o en una variable. Existen diferentes formas de concatenar dependiendo del tipo de datos con los que estamos trabajando.\n",
        "\n",
        "### Concatenación usando el operador \"+\"\n",
        "\n",
        "El operador + nos permite unir varias cadenas de texto en una sola. Sin embargo, este método solo funciona con cadenas de texto (str), por lo que cualquier otro tipo de dato debe convertirse manualmente antes de concatenarlo."
      ]
    },
    {
      "cell_type": "code",
      "execution_count": null,
      "metadata": {
        "id": "8JUcs04j2B5X"
      },
      "outputs": [],
      "source": [
        "nombre = input(\"Introduce tu nombre: \")\n",
        "apellido = input(\"Introduce tu apellido: \")\n",
        "\n",
        "# Concatenamos con \"+\"\n",
        "print(\"Tu nombre completo es: \" + nombre + \" \" + apellido)\n"
      ]
    },
    {
      "cell_type": "markdown",
      "metadata": {
        "id": "DsJPHS3VCaK8"
      },
      "source": [
        "Problema con + y números\n",
        "\n",
        "Si intentamos concatenar un número sin convertirlo a texto, Python generará un error:"
      ]
    },
    {
      "cell_type": "code",
      "execution_count": null,
      "metadata": {
        "id": "BH6py2dyCcKK"
      },
      "outputs": [],
      "source": [
        "edad = int(input(\"Introduce tu edad: \"))  # input devuelve siempre un string que convertimos en int\n",
        "edad = edad + 1 # Feliz Cumpleaños\n",
        "\n",
        "# Esto generará un error porque intentamos sumar un número con una cadena de texto\n",
        "print(\"Tienes \" + edad + \" años.\")\n"
      ]
    },
    {
      "cell_type": "markdown",
      "metadata": {
        "id": "p2bkj6eCCdTp"
      },
      "source": [
        "Para corregir esto, usamos str() para convertir el número en texto antes de concatenarlo:"
      ]
    },
    {
      "cell_type": "code",
      "execution_count": 14,
      "metadata": {
        "colab": {
          "base_uri": "https://localhost:8080/"
        },
        "id": "Wd_kbuXvCf8n",
        "outputId": "c34f7f03-377d-4d36-e107-72c5f48f2385"
      },
      "outputs": [
        {
          "name": "stdout",
          "output_type": "stream",
          "text": [
            "Introduce tu edad: 21\n",
            "Tienes 22 años.\n"
          ]
        }
      ],
      "source": [
        "edad = int(input(\"Introduce tu edad: \"))  # input devuelve siempre un string que convertimos en int\n",
        "edad = edad + 1 # Feliz Cumpleaños\n",
        "\n",
        "print(\"Tienes \" + str(edad) + \" años.\")  # Funciona correctamente\n"
      ]
    },
    {
      "cell_type": "markdown",
      "metadata": {
        "id": "0oQwr7ASC6C4"
      },
      "source": [
        "### Concatenación usando comas \",\"\n",
        "\n",
        "Otra forma de concatenar en print() es usando comas \" ,, \" que automáticamente agrega un espacio entre los elementos y permite mezclar tipos de datos sin necesidad de usar str()."
      ]
    },
    {
      "cell_type": "code",
      "execution_count": null,
      "metadata": {
        "id": "0TJIKK6ODl3N"
      },
      "outputs": [],
      "source": [
        "nombre = input(\"Introduce tu nombre: \")\n",
        "edad = input(\"Introduce tu edad: \")\n",
        "\n",
        "print(\"Tu nombre es\", nombre, \"y tienes\", edad, \"años.\")\n"
      ]
    },
    {
      "cell_type": "markdown",
      "metadata": {
        "id": "sxAIHvxJDo_7"
      },
      "source": [
        "Ventajas de , en print():\n",
        "\n",
        "*   No es necesario convertir los números en texto con str().\n",
        "*   Python agrega automáticamente espacios entre los elementos.\n",
        "*   Se puede usar con cualquier tipo de dato sin errores."
      ]
    },
    {
      "cell_type": "markdown",
      "metadata": {
        "id": "BhQQMMPND0v3"
      },
      "source": [
        "### Uso de paréntesis () en concatenación con + y comas ,\n",
        "\n",
        "Cuando combinamos operaciones matemáticas y +, es importante usar paréntesis para definir correctamente el orden de las operaciones."
      ]
    },
    {
      "cell_type": "code",
      "execution_count": null,
      "metadata": {
        "id": "MyMy0s-uD5JW"
      },
      "outputs": [],
      "source": [
        "edad = int(input(\"Introduce tu edad: \"))  # Convertimos directamente la entrada a entero\n",
        "años_sumados = int(input(\"¿Cuántos años quieres sumar?: \"))\n",
        "\n",
        "# Sin paréntesis, esto generaría un error\n",
        "print(\"En\", años_sumados, \"años tendrás\", edad + años_sumados, \"años.\")\n"
      ]
    },
    {
      "cell_type": "markdown",
      "metadata": {
        "id": "Chsmq_oKEBV4"
      },
      "source": [
        "### Concatenación usando f-strings\n",
        "\n",
        "A partir de Python 3.6, se introdujeron los f-strings, una forma moderna y recomendada de formatear cadenas de texto. Permiten incluir variables dentro de una cadena sin necesidad de usar"
      ]
    },
    {
      "cell_type": "code",
      "execution_count": 15,
      "metadata": {
        "colab": {
          "base_uri": "https://localhost:8080/"
        },
        "id": "KvV74C8LEG05",
        "outputId": "6b1e8e53-b91e-4547-c6b5-b74f8d84bd88"
      },
      "outputs": [
        {
          "name": "stdout",
          "output_type": "stream",
          "text": [
            "Introduce tu nombre: dassad\n",
            "Introduce tu edad: 22\n",
            "Hola, mi nombre es dassad y tengo 22 años.\n"
          ]
        }
      ],
      "source": [
        "nombre = input(\"Introduce tu nombre: \")\n",
        "edad = int(input(\"Introduce tu edad: \"))\n",
        "\n",
        "print(f\"Hola, mi nombre es {nombre} y tengo {edad} años.\")\n"
      ]
    },
    {
      "cell_type": "markdown",
      "metadata": {
        "id": "HiLiE3cMEJpA"
      },
      "source": [
        "Ventajas de los f-strings:\n",
        "\n",
        "*   Más legibles y fáciles de escribir.\n",
        "*   No es necesario convertir los números con str(), lo hace automáticamente.\n",
        "*   Permite incluir cálculos matemáticos directamente:"
      ]
    },
    {
      "cell_type": "code",
      "execution_count": null,
      "metadata": {
        "id": "8rENcCSCEP6h"
      },
      "outputs": [],
      "source": [
        "años_futuros = int(input(\"¿Cuántos años en el futuro quieres calcular?: \"))\n",
        "\n",
        "print(f\"En {años_futuros} años tendrás {edad + años_futuros} años.\")\n"
      ]
    },
    {
      "cell_type": "markdown",
      "metadata": {
        "id": "CcxrLpATEbFt"
      },
      "source": [
        "| Método  | ¿Convierte números automáticamente? | Espacios automáticos | Mejor opción       |\n",
        "|---------|----------------------------------|-----------------|------------------|\n",
        "| `+`     | No, se debe usar `str()`        | No              | No recomendado   |\n",
        "| `,`     | Sí                              | Sí              | Bueno para `print()` |\n",
        "| `f\"\"`   | Sí                              | Sí              | Recomendado      |\n"
      ]
    },
    {
      "cell_type": "code",
      "execution_count": null,
      "metadata": {
        "id": "f2NlNqGBEel_"
      },
      "outputs": [],
      "source": []
    }
  ],
  "metadata": {
    "colab": {
      "provenance": [],
      "toc_visible": true
    },
    "kernelspec": {
      "display_name": "Python 3",
      "language": "python",
      "name": "python3"
    },
    "language_info": {
      "codemirror_mode": {
        "name": "ipython",
        "version": 3
      },
      "file_extension": ".py",
      "mimetype": "text/x-python",
      "name": "python",
      "nbconvert_exporter": "python",
      "pygments_lexer": "ipython3",
      "version": "3.9.6"
    }
  },
  "nbformat": 4,
  "nbformat_minor": 0
}
