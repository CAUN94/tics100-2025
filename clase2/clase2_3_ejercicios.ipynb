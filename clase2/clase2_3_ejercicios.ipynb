{
 "cells": [
  {
   "cell_type": "markdown",
   "metadata": {},
   "source": [
    "# Clase 2.2 - Ejercicios de Programación\n",
    "\n",
    "Esta guía contiene ejercicios prácticos sobre el uso de variables, entrada de datos y cálculos básicos en Python. Cada ejercicio incluye una descripción y un espacio en blanco para que el estudiante lo resuelva.\n"
   ]
  },
  {
   "cell_type": "markdown",
   "metadata": {},
   "source": [
    "## Ejercicio 1: Carta de Presentación\n",
    "Solicita al usuario su nombre, apellido, edad y correo electrónico, y genera un mensaje de presentación con estos datos.\n",
    "Ejemplo de salida esperada:\n",
    "Hola, mi nombre es {nombre}, mi apellido es {apellido}, cualquier cosa me puedes enviar un mail a {mail}.\n"
   ]
  },
  {
   "cell_type": "code",
   "execution_count": null,
   "metadata": {},
   "outputs": [],
   "source": []
  },
  {
   "cell_type": "markdown",
   "metadata": {},
   "source": [
    "## Ejercicio 2: Repetición de Palabra\n",
    "Solicita al usuario una palabra y un número. Luego, imprime la palabra repetida la cantidad de veces indicada por el número.\n",
    "Ejemplo de entrada:\n",
    "Palabra: UAI\n",
    "Número: 5\n",
    "Salida esperada:\n",
    "UAIUAIUAIUAIUAI\n"
   ]
  },
  {
   "cell_type": "code",
   "execution_count": null,
   "metadata": {},
   "outputs": [],
   "source": []
  },
  {
   "cell_type": "markdown",
   "metadata": {},
   "source": [
    "## Ejercicio 3: Cálculo de Edad (sin considerar el mes de nacimiento)\n",
    "Solicita al usuario su nombre, apellido y año de nacimiento. Luego, calcula y muestra su edad en el año 2025. No se debe considerar el mes de nacimiento.\n"
   ]
  },
  {
   "cell_type": "code",
   "execution_count": null,
   "metadata": {},
   "outputs": [],
   "source": []
  },
  {
   "cell_type": "markdown",
   "metadata": {},
   "source": [
    "## Ejercicio 4: Identificación del Output Final\n",
    "Analiza el siguiente código y predice cuál será la salida antes de ejecutarlo.\n",
    "Luego, ejecuta el código y compara tu predicción con el resultado obtenido.\n"
   ]
  },
  {
   "cell_type": "code",
   "execution_count": null,
   "metadata": {},
   "outputs": [],
   "source": [
    "a = 17\n",
    "b = 15\n",
    "a = a + b\n",
    "b = 10\n",
    "b = b + b + a\n",
    "c = input('Numero: ')\n",
    "b = b - 2 * int(c)\n",
    "\n",
    "print(a)\n",
    "print(b)\n",
    "print(c)"
   ]
  },
  {
   "cell_type": "markdown",
   "metadata": {},
   "source": [
    "## Ejercicio 5: Cálculo de la Hipotenusa\n",
    "Solicita al usuario los dos catetos de un triángulo rectángulo y calcula la hipotenusa usando el teorema de Pitágoras.\n"
   ]
  },
  {
   "cell_type": "code",
   "execution_count": null,
   "metadata": {},
   "outputs": [],
   "source": []
  },
  {
   "cell_type": "markdown",
   "metadata": {},
   "source": [
    "## Ejercicio 6: Distancia entre Dos Puntos en un Plano Cartesiano\n",
    "Solicita al usuario dos puntos en un plano cartesiano (x1, y1, x2, y2) y calcula la distancia entre ellos.\n"
   ]
  },
  {
   "cell_type": "code",
   "execution_count": null,
   "metadata": {},
   "outputs": [],
   "source": []
  }
 ],
 "metadata": {
  "kernelspec": {
   "display_name": "Python 3",
   "language": "python",
   "name": "python3"
  },
  "language_info": {
   "name": "python",
   "version": "3.9.6"
  }
 },
 "nbformat": 4,
 "nbformat_minor": 2
}
