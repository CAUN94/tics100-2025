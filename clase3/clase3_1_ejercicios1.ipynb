{
  "cells": [
    {
      "cell_type": "markdown",
      "id": "9461168e",
      "metadata": {
        "id": "9461168e"
      },
      "source": [
        "## Ejercicio 1: Calculadora Narrativa de Números Enteros\n",
        "\n",
        "Pide al usuario ingresar dos números enteros. Luego, muestra un mensaje que incluya:\n",
        "\n",
        "- La suma de ambos números.\n",
        "- La diferencia entre el primero y el segundo.\n",
        "- El producto (multiplicación).\n",
        "- El resultado de dividir el primero por el segundo.\n",
        "\n",
        "Tu objetivo es crear una pequeña narrativa explicando qué operaciones se realizaron y cuáles fueron sus resultados.\n",
        "\n",
        "**Ejemplo esperado:**\n",
        "\n",
        "\"Has ingresado los números 8 y 4. La suma es 12, la diferencia es 4, el producto es 32 y la división da 2.0.\"\n"
      ]
    },
    {
      "cell_type": "code",
      "execution_count": null,
      "id": "f5116f95",
      "metadata": {
        "id": "f5116f95"
      },
      "outputs": [],
      "source": [
        "# Escribe tu código aquí"
      ]
    },
    {
      "cell_type": "markdown",
      "id": "57e28687",
      "metadata": {
        "id": "57e28687"
      },
      "source": [
        "## Ejercicio 2: Ficha de Presentación Completa\n",
        "\n",
        "Solicita al usuario su **nombre**, **edad**, **país** y una **frase favorita**.\n",
        "\n",
        "Luego, imprime una ficha con los datos, siguiendo este formato:\n",
        "\n",
        "```\n",
        "--- FICHA DE USUARIO ---\n",
        "Nombre: Juan Pérez\n",
        "Edad: 21 años\n",
        "País: Chile\n",
        "Frase favorita: \"El conocimiento es poder\"\n",
        "------------------------\n",
        "```\n"
      ]
    },
    {
      "cell_type": "code",
      "execution_count": null,
      "id": "9bc8532d",
      "metadata": {
        "id": "9bc8532d"
      },
      "outputs": [],
      "source": [
        "# Escribe tu código aquí"
      ]
    },
    {
      "cell_type": "markdown",
      "id": "8a0a3ff5",
      "metadata": {
        "id": "8a0a3ff5"
      },
      "source": [
        "## Ejercicio 3: Diferencia y Promedio de Edades\n",
        "\n",
        "Pide la edad de dos personas.\n",
        "\n",
        "Luego muestra:\n",
        "- La diferencia de edad entre ambas personas.\n",
        "- El promedio de sus edades con dos decimales.\n",
        "- Un mensaje completo como el siguiente:\n",
        "\n",
        "\"Entre 30 y 22 años, la diferencia es 8 y el promedio es 26.00\"\n"
      ]
    },
    {
      "cell_type": "code",
      "execution_count": null,
      "id": "2ee6d40c",
      "metadata": {
        "id": "2ee6d40c"
      },
      "outputs": [],
      "source": [
        "# Escribe tu código aquí"
      ]
    },
    {
      "cell_type": "markdown",
      "id": "75261f8d",
      "metadata": {
        "id": "75261f8d"
      },
      "source": [
        "## Ejercicio 4: Divisor Automatizado\n",
        "\n",
        "Pide al usuario que ingrese una **palabra** y un **símbolo separador** (por ejemplo, `/`, `-`, `*`, etc.).\n",
        "\n",
        "El programa debe mostrar esa palabra repetida 4 veces, separada por el símbolo ingresado, y el símbolo debe también aparecer al final.\n",
        "\n",
        "**Ejemplo:**\n",
        "\n",
        "Entrada:\n",
        "- Palabra: Hola\n",
        "- Separador: /\n",
        "\n",
        "Salida esperada:\n",
        "```\n",
        "Hola/Hola/Hola/Hola/\n",
        "```\n"
      ]
    },
    {
      "cell_type": "code",
      "execution_count": null,
      "id": "eb5905d7",
      "metadata": {
        "id": "eb5905d7"
      },
      "outputs": [],
      "source": [
        "# Escribe tu código aquí"
      ]
    },
    {
      "cell_type": "markdown",
      "id": "79a92929",
      "metadata": {
        "id": "79a92929"
      },
      "source": [
        "## Ejercicio 5: Parte Decimal de Divisiones\n",
        "\n",
        "Pide al usuario que ingrese dos números. Luego:\n",
        "\n",
        "- Calcula cuánto vale la división del primero por el segundo.\n",
        "- Calcula cuánto vale la división del segundo por el primero.\n",
        "- En ambos casos, muestra **solo la parte decimal** del resultado (la parte después del punto).\n",
        "\n",
        "**No uses funciones como `round()`, `floor()` o similares. Solo usa operadores básicos.**\n"
      ]
    },
    {
      "cell_type": "code",
      "execution_count": null,
      "id": "23293110",
      "metadata": {
        "id": "23293110"
      },
      "outputs": [],
      "source": [
        "# Escribe tu código aquí"
      ]
    },
    {
      "cell_type": "markdown",
      "id": "dc084e2e",
      "metadata": {
        "id": "dc084e2e"
      },
      "source": [
        "## Ejercicio 6: Conversión entre Tipos con Verificación\n",
        "\n",
        "Solicita al usuario un número (puede ser decimal).\n",
        "\n",
        "Después, muestra ese número convertido a:\n",
        "\n",
        "- Entero (`int`)\n",
        "- Texto (`str`)\n",
        "- Decimal (`float`)\n",
        "\n",
        "Este ejercicio te ayudará a comprender mejor cómo funciona la conversión entre tipos de datos en Python.\n"
      ]
    },
    {
      "cell_type": "code",
      "execution_count": null,
      "id": "45d157f0",
      "metadata": {
        "id": "45d157f0"
      },
      "outputs": [],
      "source": [
        "# Escribe tu código aquí"
      ]
    }
  ],
  "metadata": {
    "colab": {
      "provenance": []
    }
  },
  "nbformat": 4,
  "nbformat_minor": 5
}