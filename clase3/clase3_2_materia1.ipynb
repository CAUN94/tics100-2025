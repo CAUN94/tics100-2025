{
  "nbformat": 4,
  "nbformat_minor": 0,
  "metadata": {
    "colab": {
      "provenance": []
    },
    "kernelspec": {
      "name": "python3",
      "display_name": "Python 3"
    },
    "language_info": {
      "name": "python"
    }
  },
  "cells": [
    {
      "cell_type": "markdown",
      "source": [
        "# Clase 3: Librerías, Operadores Lógicos, Condicionales, Listas y `range()`\n",
        "\n",
        "En esta clase vamos a aprender conceptos clave para el ramo que, en conjunto, nos permitirán crear algoritmos de mayor complejidad.\n",
        "\n",
        "En este caso veremos:\n",
        "\n",
        "- **Librerías**: Herramientas para utilizar funciones creadas por otros desarrolladores que facilitan tareas comunes como cálculos matemáticos, manejo del tiempo o generación de datos aleatorios.\n",
        "- **Operadores Lógicos**: Funciones que nos permiten evaluar el valor lógico (verdadero o falso) de una condición.\n",
        "- **Condicionales** (`if`, `elif`, `else`): Estructuras que permiten la toma de decisiones dentro de un programa en base a condiciones lógicas.\n",
        "- **Listas y `range()`**: Herramientas para estructurar y manipular datos de manera más ordenada, permitiendo almacenar múltiples valores y generar secuencias numéricas fácilmente.\n"
      ],
      "metadata": {
        "id": "Typ5uIH_6HnO"
      }
    },
    {
      "cell_type": "markdown",
      "source": [
        "## Librerías\n",
        "\n",
        "Las **librerías** son colecciones de funciones y herramientas creadas por otros programadores y puestas a disposición para que no tengamos que reinventar la rueda. Python incluye muchas librerías útiles que nos permiten realizar tareas complejas de forma sencilla. En esta clase exploraremos tres muy comunes:\n",
        "\n",
        "- `time`: para manejar el tiempo y crear pausas en la ejecución.\n",
        "- `math`: para realizar operaciones matemáticas más avanzadas.\n",
        "- `random`: para trabajar con números aleatorios.\n",
        "\n",
        "Aprenderemos cómo se importan, cómo se usan y en qué contextos pueden ser útiles."
      ],
      "metadata": {
        "id": "yN7snxeW6u35"
      }
    },
    {
      "cell_type": "markdown",
      "source": [
        "## Uso de Librerías en Python\n",
        "\n",
        "En Python, una **librería** (también llamada \"módulo\") es un conjunto de funciones ya escritas que nos permiten realizar tareas específicas sin tener que programarlas desde cero. Estas librerías pueden estar integradas en Python o pueden ser externas (es decir, descargadas por el usuario desde internet).\n",
        "\n",
        "### ¿Cómo se utiliza una librería?\n",
        "\n",
        "Para poder utilizar una librería, primero debemos **importarla**. Esto se hace con la palabra clave `import`.\n",
        "\n",
        "### Sintaxis Básica\n",
        "\n",
        "```python\n",
        "import nombre_de_libreria\n"
      ],
      "metadata": {
        "id": "NaJ3oKRf7lNx"
      }
    },
    {
      "cell_type": "code",
      "source": [
        "print(math.sqrt(16)) # Esto devuelve error"
      ],
      "metadata": {
        "colab": {
          "base_uri": "https://localhost:8080/"
        },
        "id": "qBWbfeFV7rFM",
        "outputId": "683ebb48-c676-441c-9078-c3c5c9f90d89"
      },
      "execution_count": 3,
      "outputs": [
        {
          "output_type": "stream",
          "name": "stdout",
          "text": [
            "4.0\n"
          ]
        }
      ]
    },
    {
      "cell_type": "code",
      "execution_count": 2,
      "metadata": {
        "colab": {
          "base_uri": "https://localhost:8080/"
        },
        "id": "r_BXV0GH31q2",
        "outputId": "c0929593-9aed-4a94-b69e-307f4d064d78"
      },
      "outputs": [
        {
          "output_type": "stream",
          "name": "stdout",
          "text": [
            "4.0\n"
          ]
        }
      ],
      "source": [
        "import math\n",
        "\n",
        "print(math.sqrt(16))  # Resultado: 4.0"
      ]
    },
    {
      "cell_type": "markdown",
      "source": [
        "### ¿Dónde se debe importar una librería?\n",
        "\n",
        "Las librerías se deben **importar siempre al inicio del script**.  \n",
        "Esto es una buena práctica porque:\n",
        "\n",
        "- Mantiene el código ordenado y fácil de leer.\n",
        "- Permite identificar rápidamente qué librerías se están utilizando.\n",
        "- Evita errores si se intenta usar una función antes de haber importado su librería correspondiente.\n",
        "\n",
        "Colocar las importaciones al comienzo del archivo es una convención muy común en la mayoría de los lenguajes de programación, no solo en Python.\n"
      ],
      "metadata": {
        "id": "pS7caury8Hk3"
      }
    },
    {
      "cell_type": "markdown",
      "source": [],
      "metadata": {
        "id": "RM_hwmXU_KQk"
      }
    },
    {
      "cell_type": "markdown",
      "source": [
        "\n",
        "## Librería `time`: Medición y Control del Tiempo en Python\n",
        "\n",
        "La librería `time` en Python permite interactuar con el tiempo del sistema. Nos sirve para:\n",
        "\n",
        "- Obtener la hora actual.\n",
        "- Medir cuánto tiempo demora una operación.\n",
        "- Realizar pausas temporales en la ejecución del programa.\n",
        "- Convertir y formatear fechas y horas.\n",
        "\n",
        "---\n",
        "\n",
        "### ¿Cómo Funciona Internamente?\n",
        "\n",
        "La mayoría de las funciones de `time` trabajan con un concepto llamado **timestamp**, que representa el número de segundos que han transcurrido desde una fecha base: el **1 de enero de 1970 a las 00:00:00 UTC**, también conocido como *Epoch Time*.\n",
        "\n",
        "Por ejemplo:\n",
        "\n",
        "```python\n",
        "import time\n",
        "print(time.time())\n",
        "```\n",
        "\n",
        "Esto puede entregar algo como:\n",
        "\n",
        "```\n",
        "1710275223.68154\n",
        "```\n",
        "\n",
        "Lo que significa que han pasado más de 1.710 millones de segundos desde 1970. A partir de esta base, Python puede calcular fechas, horarios, duraciones y hacer conversiones."
      ],
      "metadata": {
        "id": "Hw5w8ndd8hOu"
      }
    },
    {
      "cell_type": "code",
      "source": [
        "import time\n",
        "print(time.time())\n",
        "\n",
        "# Siempre da un valor diferente"
      ],
      "metadata": {
        "colab": {
          "base_uri": "https://localhost:8080/"
        },
        "id": "l1QdySmr8INm",
        "outputId": "22a85acb-9c52-4a8f-8417-2e20d1c458ae"
      },
      "execution_count": 6,
      "outputs": [
        {
          "output_type": "stream",
          "name": "stdout",
          "text": [
            "1742817098.3486614\n"
          ]
        }
      ]
    },
    {
      "cell_type": "markdown",
      "source": [
        "## Funciones más utilizadas de `time`\n",
        "\n",
        "### 1. `time.time()`\n",
        "\n",
        "Retorna el tiempo actual en formato *timestamp* (segundos desde 1970).\n",
        "\n",
        "Útil para calcular cuánto se demora un algoritmo o proceso."
      ],
      "metadata": {
        "id": "eyZSi8OK_OBK"
      }
    },
    {
      "cell_type": "code",
      "source": [
        "import time\n",
        "\n",
        "inicio = time.time()\n",
        "# Aquí va algún proceso\n",
        "fin = time.time()\n",
        "print(\"Tiempo transcurrido:\", fin - inicio, \"segundos\")"
      ],
      "metadata": {
        "id": "u1slQgH4_wAv"
      },
      "execution_count": null,
      "outputs": []
    },
    {
      "cell_type": "code",
      "source": [
        "import time\n",
        "\n",
        "inicio = time.time()\n",
        "\n",
        "input(\"Presiona Enter para detener el cronómetro \")\n",
        "\n",
        "fin = time.time()\n",
        "print(\"Tiempo transcurrido:\", fin - inicio, \"segundos\")"
      ],
      "metadata": {
        "id": "UpKQUlns_2q_"
      },
      "execution_count": null,
      "outputs": []
    },
    {
      "cell_type": "markdown",
      "source": [
        "### 2. `time.sleep(segundos)`\n",
        "\n",
        "Pausa la ejecución del programa por la cantidad de segundos especificada.\n",
        "\n",
        "Sirve para crear pausas controladas (útil en simulaciones o cuando se desea dar tiempo al usuario)."
      ],
      "metadata": {
        "id": "hPykOylBAHhh"
      }
    },
    {
      "cell_type": "code",
      "source": [
        "import time\n",
        "\n",
        "print(\"Inicio de la espera\")\n",
        "time.sleep(3)\n",
        "print(\"Fin de la espera después de 3 segundos\")"
      ],
      "metadata": {
        "id": "vOXzDhr_ALMr"
      },
      "execution_count": null,
      "outputs": []
    },
    {
      "cell_type": "markdown",
      "source": [
        "### 3. `time.localtime()`\n",
        "\n",
        "Devuelve la hora actual del sistema en una estructura llamada `struct_time`. Esta estructura incluye datos como:\n",
        "\n",
        "- Año\n",
        "- Mes\n",
        "- Día\n",
        "- Hora\n",
        "- Minutos\n",
        "- Segundos"
      ],
      "metadata": {
        "id": "QvKPfR3dAPQ0"
      }
    },
    {
      "cell_type": "code",
      "source": [
        "import time\n",
        "\n",
        "hora_actual = time.localtime()\n",
        "\n",
        "print('Con toda la información')\n",
        "print(hora_actual)\n",
        "\n",
        "print('Detalle de cada dato')\n",
        "print(hora_actual.tm_year)\n",
        "print(hora_actual.tm_mon)\n",
        "print(hora_actual.tm_mday)\n",
        "print(hora_actual.tm_hour)\n",
        "print(hora_actual.tm_min)\n",
        "print(hora_actual.tm_sec)\n"
      ],
      "metadata": {
        "id": "4XlJvRHzAMEw"
      },
      "execution_count": null,
      "outputs": []
    },
    {
      "cell_type": "markdown",
      "source": [
        "### 4. `time.strftime(formato, tiempo)`\n",
        "\n",
        "Permite transformar un objeto de tiempo (`struct_time`) en una cadena de texto legible, usando formatos personalizados.\n",
        "\n",
        "#### Formatos más comunes:\n",
        "\n",
        "- `%d` → Día (con 2 dígitos)\n",
        "- `%m` → Mes (con 2 dígitos)\n",
        "- `%Y` → Año completo (4 dígitos)\n",
        "- `%H` → Hora en formato 24h\n",
        "- `%M` → Minutos\n",
        "- `%S` → Segundos"
      ],
      "metadata": {
        "id": "j90dS4ydA0YW"
      }
    },
    {
      "cell_type": "code",
      "source": [
        "# Importamos la librería 'time', que permite trabajar con tiempo y fechas\n",
        "import time\n",
        "\n",
        "# Obtenemos la hora y fecha actual del sistema usando time.localtime()\n",
        "# Esto devuelve un objeto tipo struct_time con información como año, mes, día, hora, etc.\n",
        "ahora = time.localtime()\n",
        "\n",
        "# Usamos time.strftime() para transformar la hora actual en una cadena de texto legible\n",
        "# \"%d-%m-%Y %H:%M:%S\" es un formato de fecha/hora: Día-Mes-Año Hora:Minutos:Segundos\n",
        "formato = time.strftime(\"%d-%m-%Y %H:%M:%S\", ahora)\n",
        "\n",
        "# Mostramos en pantalla la hora formateada\n",
        "print(\"Hora formateada:\", formato)\n"
      ],
      "metadata": {
        "id": "gXqNhbRiA-6B"
      },
      "execution_count": null,
      "outputs": []
    },
    {
      "cell_type": "markdown",
      "source": [
        "## Librería `math`: Funciones Matemáticas Avanzadas en Python\n",
        "\n",
        "La librería `math` proporciona acceso a funciones matemáticas definidas por el estándar C. Es muy útil cuando necesitamos realizar cálculos más complejos que los que ofrece Python por defecto.\n",
        "\n",
        "---\n",
        "\n",
        "### ¿Cómo se importa?\n",
        "\n",
        "Como todas las librerías, `math` debe importarse al inicio del programa para poder acceder a sus funciones:\n",
        "\n",
        "```python\n",
        "import math\n",
        "```\n",
        "\n",
        "---\n",
        "\n",
        "### ¿Para qué sirve?\n",
        "\n",
        "La librería `math` sirve para:\n",
        "\n",
        "- Calcular raíces cuadradas y potencias.\n",
        "- Trabajar con funciones trigonométricas.\n",
        "- Obtener valores constantes como π (pi) y e.\n",
        "- Realizar redondeos, truncamientos y logaritmos.\n",
        "\n",
        "---\n",
        "\n",
        "### Funciones más comunes de `math`\n",
        "\n",
        "#### 1. `math.sqrt(x)`\n",
        "\n",
        "Devuelve la raíz cuadrada de `x`.\n",
        "\n",
        "```python\n",
        "import math\n",
        "print(math.sqrt(16))  # Resultado: 4.0\n",
        "```\n",
        "\n",
        "#### 2. `math.pow(x, y)`\n",
        "\n",
        "Devuelve `x` elevado a la potencia `y`.\n",
        "\n",
        "```python\n",
        "print(math.pow(2, 3))  # Resultado: 8.0\n",
        "```\n",
        "\n",
        "#### 3. `math.pi` y `math.e`\n",
        "\n",
        "Constantes matemáticas útiles:\n",
        "\n",
        "```python\n",
        "print(math.pi)  # Valor aproximado de π: 3.14159...\n",
        "print(math.e)   # Valor aproximado de e: 2.71828...\n",
        "```\n",
        "\n",
        "#### 4. `math.ceil(x)` y `math.floor(x)`\n",
        "\n",
        "- `ceil(x)`: redondea hacia arriba al entero más cercano.\n",
        "- `floor(x)`: redondea hacia abajo al entero más cercano.\n",
        "\n",
        "```python\n",
        "print(math.ceil(4.2))   # Resultado: 5\n",
        "print(math.floor(4.8))  # Resultado: 4\n",
        "```\n",
        "\n",
        "#### 5. `math.trunc(x)`\n",
        "\n",
        "Elimina la parte decimal, dejando solo la parte entera del número.\n",
        "\n",
        "```python\n",
        "print(math.trunc(7.9))  # Resultado: 7\n",
        "```\n",
        "\n",
        "#### 6. `math.fabs(x)`\n",
        "\n",
        "Devuelve el valor absoluto de un número (como `abs()`, pero siempre retorna tipo float).\n",
        "\n",
        "```python\n",
        "print(math.fabs(-5))  # Resultado: 5.0\n",
        "```\n",
        "\n",
        "#### 7. `math.log(x)` o `math.log(x, base)`\n",
        "\n",
        "Calcula el logaritmo natural de `x`, o el logaritmo en una base específica:\n",
        "\n",
        "```python\n",
        "print(math.log(10))        # Logaritmo natural (base e)\n",
        "print(math.log(100, 10))   # Logaritmo base 10: Resultado: 2.0\n",
        "```\n",
        "\n",
        "---\n",
        "\n",
        "### ¿Cuándo usar la librería `math`?\n",
        "\n",
        "- Cuando necesites precisión matemática más allá de las operaciones básicas.\n",
        "- Para cálculos científicos, financieros o estadísticos.\n",
        "- En simulaciones que requieren trigonometría, logaritmos u operaciones complejas.\n"
      ],
      "metadata": {
        "id": "K-s0XkMMDTex"
      }
    },
    {
      "cell_type": "code",
      "source": [
        "# Importamos la librería math\n",
        "import math\n",
        "\n",
        "# Raíz cuadrada\n",
        "print(\"Raíz cuadrada de 16:\", math.sqrt(16))  # Resultado: 4.0\n",
        "\n",
        "# Potencia (equivalente a 2**3)\n",
        "print(\"2 elevado a 3:\", math.pow(2, 3))  # Resultado: 8.0\n",
        "\n",
        "# Constante pi\n",
        "print(\"Valor de PI:\", math.pi)  # Resultado: 3.141592653589793\n",
        "\n",
        "# Redondeo hacia arriba (ceil)\n",
        "print(\"Redondear 4.2 hacia arriba:\", math.ceil(4.2))  # Resultado: 5\n",
        "\n",
        "# Redondeo hacia abajo (floor)\n",
        "print(\"Redondear 4.9 hacia abajo:\", math.floor(4.9))  # Resultado: 4\n",
        "\n",
        "# Valor absoluto (número positivo)\n",
        "print(\"Valor absoluto de -7.5:\", math.fabs(-7.5))  # Resultado: 7.5\n",
        "\n",
        "# Logaritmo en base e\n",
        "print(\"Logaritmo natural de 10:\", math.log(10))  # Resultado: 2.302585...\n",
        "\n",
        "# Logaritmo en base 10\n",
        "print(\"Logaritmo base 10 de 1000:\", math.log10(1000))  # Resultado: 3.0\n",
        "\n",
        "# Logaritmo con base personalizada (base 2)\n",
        "print(\"Logaritmo base 2 de 8:\", math.log(8, 2))  # Resultado: 3.0\n",
        "\n",
        "# Coseno de un ángulo en radianes\n",
        "print(\"Coseno de 0 radianes:\", math.cos(0))  # Resultado: 1.0\n",
        "\n",
        "# Seno de un ángulo en radianes\n",
        "print(\"Seno de π/2 radianes:\", math.sin(math.pi/2))  # Resultado: 1.0\n",
        "\n",
        "# Tangente de un ángulo en radianes\n",
        "print(\"Tangente de π/4 radianes:\", math.tan(math.pi/4))  # Resultado: ~1.0\n",
        "\n",
        "# Conversión de grados a radianes\n",
        "print(\"45 grados a radianes:\", math.radians(45))  # Resultado: 0.785398...\n",
        "\n",
        "# Conversión de radianes a grados\n",
        "print(\"π radianes a grados:\", math.degrees(math.pi))  # Resultado: 180.0\n"
      ],
      "metadata": {
        "id": "s6GF6f9vDUcs"
      },
      "execution_count": null,
      "outputs": []
    },
    {
      "cell_type": "markdown",
      "source": [
        "\n",
        "# Librería `random`: Generación de números aleatorios en Python\n",
        "\n",
        "La librería `random` permite trabajar con generación de números aleatorios, selección aleatoria de elementos, y simulaciones probabilísticas. Es muy útil para tareas como juegos, simulaciones, generación de datos de prueba y más.\n",
        "\n",
        "---\n",
        "\n",
        "## ¿Cómo se importa?\n",
        "\n",
        "Como cualquier librería estándar, se importa con:\n",
        "\n",
        "```python\n",
        "import random\n",
        "```\n",
        "\n",
        "---\n",
        "\n",
        "## Funciones más comunes de `random`\n",
        "\n",
        "### 1. `random.random()`\n",
        "\n",
        "Genera un número decimal aleatorio entre 0.0 y 1.0 (sin incluir el 1)."
      ],
      "metadata": {
        "id": "f5X5IhcJECpZ"
      }
    },
    {
      "cell_type": "code",
      "source": [
        "import random\n",
        "\n",
        "print(random.random())"
      ],
      "metadata": {
        "id": "Atd8E0ekH3dp"
      },
      "execution_count": null,
      "outputs": []
    },
    {
      "cell_type": "markdown",
      "source": [
        "### 2. `random.randint(a, b)`\n",
        "\n",
        "Genera un número entero aleatorio entre `a` y `b` (ambos inclusive)."
      ],
      "metadata": {
        "id": "KR6mXfZlH6un"
      }
    },
    {
      "cell_type": "code",
      "source": [
        "print(random.randint(1, 10))  # Puede ser cualquier número entre 1 y 10\n",
        "print(random.randint(3, 20))  # Puede ser cualquier número entre 1 y 10\n",
        "print(random.randint(12, 134))  # Puede ser cualquier número entre 1 y 10\n",
        "print(random.randint(27, 29))  # Puede ser cualquier número entre 1 y 10"
      ],
      "metadata": {
        "id": "_Z5pK2J1ICQH"
      },
      "execution_count": null,
      "outputs": []
    },
    {
      "cell_type": "markdown",
      "source": [
        "En el futuro veremos más funciones cuando conozcamos más materias."
      ],
      "metadata": {
        "id": "rz9Zl_NMIX9W"
      }
    }
  ]
}