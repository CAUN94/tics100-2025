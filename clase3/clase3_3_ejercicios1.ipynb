{
  "cells": [
    {
      "cell_type": "markdown",
      "id": "6ca9a0b5",
      "metadata": {
        "id": "6ca9a0b5"
      },
      "source": [
        "# Guía de Ejercicios: Librerías, Variables y Operaciones Básicas"
      ]
    },
    {
      "cell_type": "markdown",
      "id": "518983e1",
      "metadata": {
        "id": "518983e1"
      },
      "source": [
        "## Ejercicio 1: Calculadora de Área de un Círculo\n",
        "\n",
        "Solicita al usuario que ingrese el radio de un círculo. Calcula el área utilizando la fórmula correspondiente y muestra el resultado en pantalla."
      ]
    },
    {
      "cell_type": "code",
      "execution_count": null,
      "id": "4bae8c0d",
      "metadata": {
        "id": "4bae8c0d"
      },
      "outputs": [],
      "source": [
        "# Escribe aquí tu código"
      ]
    },
    {
      "cell_type": "markdown",
      "id": "9958197c",
      "metadata": {
        "id": "9958197c"
      },
      "source": [
        "## Ejercicio 2: Número Aleatorio con Rango Personalizado\n",
        "\n",
        "Pide al usuario un número mínimo y un número máximo. Genera un número aleatorio dentro de ese rango y muéstralo por pantalla."
      ]
    },
    {
      "cell_type": "code",
      "execution_count": null,
      "id": "17531506",
      "metadata": {
        "id": "17531506"
      },
      "outputs": [],
      "source": [
        "# Escribe aquí tu código"
      ]
    },
    {
      "cell_type": "markdown",
      "id": "8032960e",
      "metadata": {
        "id": "8032960e"
      },
      "source": [
        "## Ejercicio 3: Simulador de Carga de Página\n",
        "\n",
        "Simula que una página está cargando. Muestra un mensaje de carga, espera unos segundos y luego imprime un mensaje de finalización."
      ]
    },
    {
      "cell_type": "code",
      "execution_count": null,
      "id": "2d08fca2",
      "metadata": {
        "id": "2d08fca2"
      },
      "outputs": [],
      "source": [
        "# Escribe aquí tu código"
      ]
    },
    {
      "cell_type": "markdown",
      "id": "002d25ff",
      "metadata": {
        "id": "002d25ff"
      },
      "source": [
        "## Ejercicio 4: Tiempo de Respuesta en Operaciones Matemáticas\n",
        "\n",
        "Muestra por pantalla tres ejercicios matemáticos simples:\n",
        "\n",
        "- 2 + 2  \n",
        "- 5 * 3  \n",
        "- 8 / 4  \n",
        "\n",
        "Pide al usuario que responda cada uno escribiendo el resultado. Luego, mide y muestra cuánto tiempo total se demoró el usuario en responder los tres ejercicios."
      ]
    },
    {
      "cell_type": "code",
      "execution_count": null,
      "id": "c2461be1",
      "metadata": {
        "id": "c2461be1"
      },
      "outputs": [],
      "source": [
        "# Escribe aquí tu código"
      ]
    },
    {
      "cell_type": "markdown",
      "id": "87ee9ead",
      "metadata": {
        "id": "87ee9ead"
      },
      "source": [
        "## Ejercicio 5: Edad en Días\n",
        "\n",
        "Solicita la edad del usuario en años. Calcula aproximadamente cuántos días ha vivido. No es necesario considerar años bisiestos."
      ]
    },
    {
      "cell_type": "code",
      "execution_count": null,
      "id": "d625d65e",
      "metadata": {
        "id": "d625d65e"
      },
      "outputs": [],
      "source": [
        "# Escribe aquí tu código"
      ]
    },
    {
      "cell_type": "markdown",
      "id": "6df00faf",
      "metadata": {
        "id": "6df00faf"
      },
      "source": [
        "## Ejercicio 6: Número Aleatorio y Raíz Cuadrada\n",
        "\n",
        "Genera un número aleatorio dentro de un rango. Luego, muestra su raíz cuadrada redondeada a dos decimales."
      ]
    },
    {
      "cell_type": "code",
      "execution_count": null,
      "id": "7bb6948c",
      "metadata": {
        "id": "7bb6948c"
      },
      "outputs": [],
      "source": [
        "# Escribe aquí tu código"
      ]
    },
    {
      "cell_type": "markdown",
      "id": "4a09a6af",
      "metadata": {
        "id": "4a09a6af"
      },
      "source": [
        "## Ejercicio 7: Hora Actual Formateada\n",
        "\n",
        "Muestra en pantalla la hora actual del sistema en formato legible: día-mes-año y hora:minutos:segundos."
      ]
    },
    {
      "cell_type": "code",
      "execution_count": null,
      "id": "47ddc1fa",
      "metadata": {
        "id": "47ddc1fa"
      },
      "outputs": [],
      "source": [
        "# Escribe aquí tu código"
      ]
    }
  ],
  "metadata": {
    "colab": {
      "provenance": []
    }
  },
  "nbformat": 4,
  "nbformat_minor": 5
}