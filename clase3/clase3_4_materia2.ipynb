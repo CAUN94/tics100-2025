{
  "cells": [
    {
      "cell_type": "markdown",
      "id": "8299b3af",
      "metadata": {
        "id": "8299b3af"
      },
      "source": [
        "# Clase: Operadores Lógicos y Condicionales en Python"
      ]
    },
    {
      "cell_type": "markdown",
      "id": "436a1704",
      "metadata": {
        "id": "436a1704"
      },
      "source": [
        "\n",
        "En esta clase aprenderemos sobre los **operadores lógicos**, que nos permiten comparar valores y evaluar condiciones, y sobre las **estructuras condicionales**, que nos permiten tomar decisiones dentro de un programa.\n"
      ]
    },
    {
      "cell_type": "markdown",
      "id": "3dda2507",
      "metadata": {
        "id": "3dda2507"
      },
      "source": [
        "\n",
        "## 1. ¿Qué es un operador lógico?\n",
        "\n",
        "Un operador lógico es una herramienta que nos permite comparar datos o verificar condiciones dentro de un programa.  \n",
        "El resultado de una operación lógica siempre es un valor **booleano**, es decir, `True` o `False`.\n",
        "\n",
        "Estos valores son fundamentales para que el computador pueda tomar decisiones más adelante, por ejemplo, usando estructuras como `if`.\n"
      ]
    },
    {
      "cell_type": "markdown",
      "id": "c60156fb",
      "metadata": {
        "id": "c60156fb"
      },
      "source": [
        "\n",
        "## 2. Operadores de comparación\n",
        "\n",
        "Son usados para comparar dos valores. Python los evalúa devolviendo `True` o `False`.\n",
        "\n",
        "### Lista de operadores de comparación:\n",
        "\n",
        "- `==` : Igual a  \n",
        "- `!=` : Distinto de  \n",
        "- `>`  : Mayor que  \n",
        "- `<`  : Menor que  \n",
        "- `>=` : Mayor o igual que  \n",
        "- `<=` : Menor o igual que\n"
      ]
    },
    {
      "cell_type": "code",
      "execution_count": null,
      "id": "ba2e9f33",
      "metadata": {
        "id": "ba2e9f33"
      },
      "outputs": [],
      "source": [
        "# Igual a ==\n",
        "print(5 == 5)  # True\n",
        "print(3 == 7)  # False\n",
        "\n",
        "# Distinto de !=\n",
        "print(4 != 4)  # False\n",
        "print(2 != 5)  # True\n",
        "\n",
        "# Mayor que >\n",
        "print(10 > 5)  # True\n",
        "print(3 > 8)   # False\n",
        "\n",
        "# Menor que <\n",
        "print(2 < 9)   # True\n",
        "print(7 < 1)   # False\n",
        "\n",
        "# Mayor o igual que >=\n",
        "print(7 >= 7)  # True\n",
        "print(9 >= 3)  # True\n",
        "print(5 >= 8)  # False\n",
        "\n",
        "# Menor o igual que <=\n",
        "print(4 <= 4)  # True\n",
        "print(3 <= 7)  # True\n",
        "print(6 <= 2)  # False\n"
      ]
    },
    {
      "cell_type": "markdown",
      "id": "8e832843",
      "metadata": {
        "id": "8e832843"
      },
      "source": [
        "\n",
        "## 3. Operadores lógicos combinados\n",
        "\n",
        "A veces queremos evaluar más de una condición al mismo tiempo. Para eso usamos los operadores lógicos `and`, `or` y `not`.\n",
        "\n",
        "- `and`: ambas condiciones deben ser verdaderas.\n",
        "- `or`: basta con que una condición sea verdadera.\n",
        "- `not`: invierte el valor lógico.\n"
      ]
    },
    {
      "cell_type": "code",
      "execution_count": null,
      "id": "3e06a1f1",
      "metadata": {
        "id": "3e06a1f1"
      },
      "outputs": [],
      "source": [
        "print(5 > 3 and 8 > 4)   # True\n",
        "print(5 > 3 and 2 > 7)   # False\n",
        "print(1 > 3 and 2 > 0)   # False\n",
        "\n",
        "print(5 > 3 or 2 > 7)    # True\n",
        "print(1 > 3 or 4 < 2)    # False\n",
        "print(7 > 2 or 3 == 3)   # True\n",
        "\n",
        "print(not True)         # False\n",
        "print(not False)        # True\n",
        "print(not (5 > 3))      # False\n",
        "print(not (2 > 7))      # True\n"
      ]
    },
    {
      "cell_type": "markdown",
      "id": "c814ac3f",
      "metadata": {
        "id": "c814ac3f"
      },
      "source": [
        "\n",
        "## 4. Evaluando resultados con `print()`\n",
        "\n",
        "Podemos usar `print()` para visualizar cómo se comportan estas operaciones directamente al ejecutar el código.\n"
      ]
    },
    {
      "cell_type": "code",
      "execution_count": null,
      "id": "0413f82f",
      "metadata": {
        "id": "0413f82f"
      },
      "outputs": [],
      "source": [
        "a = 4\n",
        "b = 7\n",
        "\n",
        "print(a > b)                  # False\n",
        "print(a != b)                 # True\n",
        "print(a == b or a < b)        # True\n",
        "print(not (a >= b))           # True\n",
        "print((a + b) > 10 and a < 5) # True\n"
      ]
    },
    {
      "cell_type": "markdown",
      "id": "3d601117",
      "metadata": {
        "id": "3d601117"
      },
      "source": [
        "\n",
        "## 5. Tablas de operadores\n",
        "\n",
        "## 4. Tablas de operadores lógicos\n",
        "\n",
        "### Tabla de comparación:\n",
        "\n",
        "| Operación     | Resultado |\n",
        "|---------------|-----------|\n",
        "| 5 == 5        | True      |\n",
        "| 3 != 4        | True      |\n",
        "| 6 > 2         | True      |\n",
        "| 7 < 3         | False     |\n",
        "| 4 >= 4        | True      |\n",
        "| 5 <= 1        | False     |\n",
        "\n",
        "### Tabla lógica:\n",
        "\n",
        "| Operación        | Resultado |\n",
        "|------------------|-----------|\n",
        "| True and True    | True      |\n",
        "| True and False   | False     |\n",
        "| False or True    | True      |\n",
        "| False or False   | False     |\n",
        "| not True         | False     |\n",
        "| not False        | True      |S"
      ]
    },
    {
      "cell_type": "markdown",
      "metadata": {
        "id": "b2e8a9c2"
      },
      "source": [
        "## CONDICIONALES EN PYTHON\n",
        "\n",
        "> Agregar bloque entrecomillado\n",
        "\n",
        "\n",
        "### Cómo tomar decisiones en tus programas\n",
        "\n",
        "En programación, es muy común que un programa necesite tomar decisiones en base a los datos que recibe. Por ejemplo:\n",
        "- Si un usuario tiene más de 18 años, puede entrar a una página con contenido para adultos.\n",
        "- Si la contraseña que ingresó un usuario no es correcta, se le debe mostrar un mensaje de error.\n",
        "- Si hace mucho frío, se podría mostrar una advertencia o un ícono de abrigo.\n",
        "\n",
        "Para implementar esta lógica, Python nos entrega las estructuras condicionales, que nos permiten ejecutar un bloque de código solo si se cumple una condición específica. Estas estructuras se basan en valores booleanos: `True` o `False`."
      ],
      "id": "b2e8a9c2"
    },
    {
      "cell_type": "markdown",
      "metadata": {
        "id": "2013e9e7"
      },
      "source": [
        "## 1. La estructura `if`: La más simple\n",
        "\n",
        "`if` es una palabra clave de Python que indica que queremos evaluar una condición lógica. Si esa condición se cumple (`True`), se ejecutará el bloque de código que está indentado justo debajo del `if`.\n",
        "\n",
        "### Sintaxis básica:\n",
        "```python\n",
        "if condicion_logica:\n",
        "    # Bloque de código que se ejecuta si la condición es verdadera\n",
        "```\n",
        "\n",
        "### Ejemplo básico:"
      ],
      "id": "2013e9e7"
    },
    {
      "cell_type": "code",
      "execution_count": null,
      "metadata": {
        "id": "70590be5"
      },
      "outputs": [],
      "source": [
        "edad = 20\n",
        "\n",
        "if edad >= 18:\n",
        "    print(\"Eres mayor de edad\")"
      ],
      "id": "70590be5"
    },
    {
      "cell_type": "markdown",
      "metadata": {
        "id": "240cf0d4"
      },
      "source": [
        "### Explicación:\n",
        "- Creamos una variable llamada `edad` con el valor 20.\n",
        "- Luego evaluamos si `edad` es mayor o igual que 18.\n",
        "- Como la condición es verdadera (`True`), se ejecuta el bloque dentro del `if`, en este caso el `print()`."
      ],
      "id": "240cf0d4"
    },
    {
      "cell_type": "markdown",
      "metadata": {
        "id": "09e19686"
      },
      "source": [
        "### Importancia de la indentación en Python\n",
        "\n",
        "Python no utiliza llaves `{}` para delimitar bloques de código como en otros lenguajes, sino que se basa en la **indentación** (espacios o tabulaciones).\n",
        "\n",
        "Todo el código que pertenece al bloque del `if` debe estar indentado. Si no lo está, no se considera parte del `if`.\n",
        "\n",
        "### Ejemplo con indentación:"
      ],
      "id": "09e19686"
    },
    {
      "cell_type": "code",
      "execution_count": null,
      "metadata": {
        "id": "09f6d8c3"
      },
      "outputs": [],
      "source": [
        "edad = 25\n",
        "\n",
        "if edad >= 18:\n",
        "    print(\"Eres mayor de edad\")\n",
        "    print(\"Ya puedes votar\")\n",
        "\n",
        "print(\"Fin del programa\")"
      ],
      "id": "09f6d8c3"
    },
    {
      "cell_type": "markdown",
      "metadata": {
        "id": "28f4aa4a"
      },
      "source": [
        "## 2. Estructura `if - else`: Dos caminos posibles\n",
        "`else` permite definir un camino alternativo para el caso en que la condición del `if` no se cumple.\n",
        "\n",
        "### Sintaxis:\n",
        "```python\n",
        "if condicion:\n",
        "    # Bloque si la condición es True\n",
        "else:\n",
        "    # Bloque si la condición es False\n",
        "```\n",
        "\n",
        "### Ejemplo:"
      ],
      "id": "28f4aa4a"
    },
    {
      "cell_type": "code",
      "execution_count": null,
      "metadata": {
        "id": "cd006693"
      },
      "outputs": [],
      "source": [
        "edad = 15\n",
        "\n",
        "if edad >= 18:\n",
        "    print(\"Puedes entrar al club\")\n",
        "else:\n",
        "    print(\"Lo siento, eres menor de edad\")"
      ],
      "id": "cd006693"
    },
    {
      "cell_type": "markdown",
      "metadata": {
        "id": "7bb05436"
      },
      "source": [
        "## 3. Estructura `if - elif - else`: Múltiples condiciones\n",
        "`elif` significa \"else if\" y permite evaluar múltiples condiciones de forma ordenada.\n",
        "Python las evalúa de arriba hacia abajo y ejecuta la primera que se cumpla.\n",
        "\n",
        "### Sintaxis:\n",
        "```python\n",
        "if condicion_1:\n",
        "    # Bloque si condición_1 es True\n",
        "elif condicion_2:\n",
        "    # Bloque si condición_1 es False y condición_2 es True\n",
        "else:\n",
        "    # Bloque si ninguna condición es True\n",
        "```\n",
        "\n",
        "### Ejemplo práctico:"
      ],
      "id": "7bb05436"
    },
    {
      "cell_type": "code",
      "execution_count": null,
      "metadata": {
        "id": "6924e66c"
      },
      "outputs": [],
      "source": [
        "nota = 85\n",
        "\n",
        "if nota >= 90:\n",
        "    print(\"Excelente\")\n",
        "elif nota >= 60:\n",
        "    print(\"Aprobado\")\n",
        "else:\n",
        "    print(\"Reprobado\")"
      ],
      "id": "6924e66c"
    },
    {
      "cell_type": "markdown",
      "metadata": {
        "id": "58bfaad4"
      },
      "source": [
        "## 4. Múltiples `elif` seguidos\n",
        "Podemos usar tantos `elif` como necesitemos para cubrir todas las situaciones posibles.\n",
        "\n",
        "### Ejemplo:"
      ],
      "id": "58bfaad4"
    },
    {
      "cell_type": "code",
      "execution_count": null,
      "metadata": {
        "id": "977716c5"
      },
      "outputs": [],
      "source": [
        "temperatura = 28\n",
        "\n",
        "if temperatura < 0:\n",
        "    print(\"Congelado\")\n",
        "elif temperatura < 15:\n",
        "    print(\"Frío\")\n",
        "elif temperatura < 25:\n",
        "    print(\"Templado\")\n",
        "else:\n",
        "    print(\"Calor\")"
      ],
      "id": "977716c5"
    },
    {
      "cell_type": "markdown",
      "metadata": {
        "id": "72e3f0b0"
      },
      "source": [
        "## Preguntas frecuentes y buenas prácticas\n",
        "\n",
        "### ¿Puedo usar más de una condición en un `if`?\n",
        "Sí. Puedes combinar condiciones con los operadores lógicos `and`, `or` y `not`.\n",
        "\n",
        "### Ejemplo:"
      ],
      "id": "72e3f0b0"
    },
    {
      "cell_type": "code",
      "execution_count": null,
      "metadata": {
        "id": "af2c9e03"
      },
      "outputs": [],
      "source": [
        "edad = 25\n",
        "tiene_entrada = True\n",
        "\n",
        "if edad >= 18 and tiene_entrada:\n",
        "    print(\"Puedes entrar\")"
      ],
      "id": "af2c9e03"
    },
    {
      "cell_type": "markdown",
      "metadata": {
        "id": "5e927443"
      },
      "source": [
        "### ¿Puedo anidar `if` dentro de otro `if`?\n",
        "Sí, se llama **anidamiento de condicionales**. Se usa cuando necesitas evaluar condiciones dentro de otras condiciones.\n",
        "En este nivel, no lo veremos en profundidad, pero es útil para lógica compleja."
      ],
      "id": "5e927443"
    },
    {
      "cell_type": "markdown",
      "metadata": {
        "id": "f924d2d5"
      },
      "source": [
        "## Resumen visual de las estructuras condicionales\n",
        "### Estructura básica:\n",
        "```python\n",
        "if condicion:\n",
        "    # Código que se ejecuta si la condición es True\n",
        "```\n",
        "\n",
        "### Con un camino alternativo (else):\n",
        "```python\n",
        "if condicion:\n",
        "    # Código si True\n",
        "else:\n",
        "    # Código si False\n",
        "```\n",
        "\n",
        "### Con múltiples condiciones (elif):\n",
        "```python\n",
        "if condicion_1:\n",
        "    # Código si condicion_1 es True\n",
        "elif condicion_2:\n",
        "    # Código si condicion_2 es True\n",
        "elif condicion_3:\n",
        "    # Código si condicion_3 es True\n",
        "else:\n",
        "    # Código si ninguna condición fue True\n",
        "```"
      ],
      "id": "f924d2d5"
    }
  ],
  "metadata": {
    "colab": {
      "provenance": []
    }
  },
  "nbformat": 4,
  "nbformat_minor": 5
}