{
 "cells": [
  {
   "cell_type": "markdown",
   "id": "2b03c85e",
   "metadata": {},
   "source": [
    "# Guía de Ejercicios: Operadores Lógicos y Condicionales en Python\n",
    "\n",
    "En esta guía, practicarás estructuras condicionales y operadores lógicos en Python. Cada ejercicio representa una situación que puedes resolver con `if`, `elif`, `else`, `and`, `or` y `not`. ¡Buena suerte!\n"
   ]
  },
  {
   "cell_type": "markdown",
   "id": "b8222476",
   "metadata": {},
   "source": [
    "## Ejercicio 1: Clasificador de Edad\n",
    "\n",
    "Pide la edad de una persona y clasifícala según este criterio:\n",
    "\n",
    "- Menor de 12 años: \"Niñez\"\n",
    "- Entre 12 y 17: \"Adolescencia\"\n",
    "- Entre 18 y 59: \"Adultez\"\n",
    "- 60 o más: \"Tercera edad\"\n"
   ]
  },
  {
   "cell_type": "code",
   "execution_count": null,
   "id": "0e02c333",
   "metadata": {},
   "outputs": [],
   "source": [
    "# Escribe tu código aquí"
   ]
  },
  {
   "cell_type": "markdown",
   "id": "f0e42101",
   "metadata": {},
   "source": [
    "## Ejercicio 2: Verificador de Acceso\n",
    "\n",
    "Solicita al usuario su edad y si tiene pase VIP (True/False). Solo podrá acceder si:\n",
    "\n",
    "- Tiene 18 años o más **y**\n",
    "- Tiene pase VIP **o** pagó una entrada (preguntar al usuario si pagó, True/False)\n",
    "\n",
    "Indica si puede entrar o no.\n"
   ]
  },
  {
   "cell_type": "code",
   "execution_count": null,
   "id": "178d43f3",
   "metadata": {},
   "outputs": [],
   "source": [
    "# Escribe tu código aquí"
   ]
  },
  {
   "cell_type": "markdown",
   "id": "92addc26",
   "metadata": {},
   "source": [
    "## Ejercicio 3: Comparador de Números\n",
    "\n",
    "Pide dos números. Luego:\n",
    "\n",
    "- Indica si los números son iguales.\n",
    "- Si no lo son, indica cuál es el mayor.\n"
   ]
  },
  {
   "cell_type": "code",
   "execution_count": null,
   "id": "7585ec4a",
   "metadata": {},
   "outputs": [],
   "source": [
    "# Escribe tu código aquí"
   ]
  },
  {
   "cell_type": "markdown",
   "id": "036cac9a",
   "metadata": {},
   "source": [
    "## Ejercicio 4: Evaluador de Puntajes\n",
    "\n",
    "Solicita un número entre 0 y 100. Muestra:\n",
    "\n",
    "- \"Excelente\" si está entre 90 y 100\n",
    "- \"Bueno\" si está entre 60 y 89\n",
    "- \"Regular\" si está entre 30 y 59\n",
    "- \"Insuficiente\" si está entre 0 y 29\n",
    "- \"Número inválido\" si está fuera de ese rango\n"
   ]
  },
  {
   "cell_type": "code",
   "execution_count": null,
   "id": "34fe606a",
   "metadata": {},
   "outputs": [],
   "source": [
    "# Escribe tu código aquí"
   ]
  },
  {
   "cell_type": "markdown",
   "id": "240167c2",
   "metadata": {},
   "source": [
    "## Ejercicio 5: Triángulo Válido\n",
    "\n",
    "Pide tres longitudes (lados de un triángulo). Verifica si se puede formar un triángulo válido. La regla es:\n",
    "\n",
    "> La suma de dos lados debe ser mayor que el tercero (para los tres casos posibles)\n",
    "\n",
    "Indica si el triángulo es válido o no.\n"
   ]
  },
  {
   "cell_type": "code",
   "execution_count": null,
   "id": "71addff6",
   "metadata": {},
   "outputs": [],
   "source": [
    "# Escribe tu código aquí"
   ]
  },
  {
   "cell_type": "markdown",
   "id": "06cc4e91",
   "metadata": {},
   "source": [
    "## Ejercicio 6: Descuento por Edad o Membresía\n",
    "\n",
    "Pide la edad del usuario y si tiene membresía (True/False). Indica si tiene derecho a un descuento según:\n",
    "\n",
    "- Si tiene membresía → Sí tiene descuento\n",
    "- Si no tiene membresía → Solo si tiene menos de 18 o más de 65 años\n"
   ]
  },
  {
   "cell_type": "code",
   "execution_count": null,
   "id": "c2f13024",
   "metadata": {},
   "outputs": [],
   "source": [
    "# Escribe tu código aquí"
   ]
  },
  {
   "cell_type": "markdown",
   "id": "7c911eb9",
   "metadata": {},
   "source": [
    "## Ejercicio 7: Evaluador de Suma\n",
    "\n",
    "Pide dos números y calcula su suma. Muestra:\n",
    "\n",
    "- “¡Esa suma es alta!” si es mayor a 100\n",
    "- “Suma muy baja” si es menor a 10\n",
    "- “Suma moderada” en otro caso\n"
   ]
  },
  {
   "cell_type": "code",
   "execution_count": null,
   "id": "58e18341",
   "metadata": {},
   "outputs": [],
   "source": [
    "# Escribe tu código aquí"
   ]
  },
  {
   "cell_type": "markdown",
   "id": "f3ac799e",
   "metadata": {},
   "source": [
    "## Ejercicio 8: Verificador de Usuario\n",
    "\n",
    "Pide usuario y contraseña. Compara con los datos:\n",
    "\n",
    "```python\n",
    "usuario_valido = \"admin\"\n",
    "clave_valida = \"1234\"\n",
    "```\n",
    "\n",
    "- Si ambos coinciden, muestra “Acceso concedido”.\n",
    "- Si uno o ambos están mal, muestra mensaje de error.\n"
   ]
  },
  {
   "cell_type": "code",
   "execution_count": null,
   "id": "8124a152",
   "metadata": {},
   "outputs": [],
   "source": [
    "# Escribe tu código aquí"
   ]
  }
 ],
 "metadata": {},
 "nbformat": 4,
 "nbformat_minor": 5
}
