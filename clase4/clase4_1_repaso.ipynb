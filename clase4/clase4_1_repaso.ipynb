{
  "cells": [
    {
      "cell_type": "markdown",
      "id": "2b03c85e",
      "metadata": {
        "id": "2b03c85e"
      },
      "source": [
        "## Ejercicio 1: Evaluar signo de un número\n",
        "\n",
        "Dado un número ingresado por el usuario, imprime si el número es **positivo**, **negativo** o **cero**.\n",
        "\n",
        "### Instrucciones:\n",
        "1. Solicita un número al usuario utilizando `input()`.\n",
        "2. Convierte la entrada a tipo `int`.\n",
        "3. Usa una estructura condicional `if`, `elif` y `else` para evaluar el signo del número:\n",
        "   - Si es mayor que 0, imprime `\"El número es positivo\"`.\n",
        "   - Si es menor que 0, imprime `\"El número es negativo\"`.\n",
        "   - Si es igual a 0, imprime `\"El número es cero\"`.\n"
      ]
    },
    {
      "cell_type": "code",
      "source": [
        "numero = int(input(\"Ingresa un número: \"))\n",
        "\n",
        "if numero > 0:\n",
        "    print(\"El número es positivo\")\n",
        "elif numero < 0:\n",
        "    print(\"El número es negativo\")\n",
        "else:\n",
        "    print(\"El número es cero\")\n"
      ],
      "metadata": {
        "id": "nuqLdEKnx0FE"
      },
      "id": "nuqLdEKnx0FE",
      "execution_count": null,
      "outputs": []
    },
    {
      "cell_type": "markdown",
      "source": [
        "## Ejercicio 2: Comparar tres números\n",
        "\n",
        "Solicita al usuario **tres números distintos** y muestra cuál de ellos es el **mayor**.\n",
        "\n",
        "### Instrucciones:\n",
        "1. Pide al usuario ingresar tres números utilizando `input()`.\n",
        "2. Convierte cada entrada a tipo `int` o `float` según prefieras.\n",
        "3. Usa una estructura `if`, `elif`, `else` para determinar cuál de los tres números es el mayor.\n",
        "4. Si los tres números son iguales, muestra el mensaje: `\"Los tres números son iguales\"`.\n",
        "5. Si dos de ellos son iguales y mayores que el tercero, muestra: `\"Hay dos números iguales y son los mayores\"` (opcional si quieres hacer el ejercicio más completo).\n"
      ],
      "metadata": {
        "id": "31Zf_tFIx3_w"
      },
      "id": "31Zf_tFIx3_w"
    },
    {
      "cell_type": "code",
      "source": [
        "a = int(input(\"Número A: \"))\n",
        "b = int(input(\"Número B: \"))\n",
        "c = int(input(\"Número C: \"))\n",
        "\n",
        "if a >= b and a >= c:\n",
        "    print(\"El mayor es A:\", a)\n",
        "elif b >= a and b >= c:\n",
        "    print(\"El mayor es B:\", b)\n",
        "else:\n",
        "    print(\"El mayor es C:\", c)\n"
      ],
      "metadata": {
        "id": "Yf4zn5WQx3Or"
      },
      "id": "Yf4zn5WQx3Or",
      "execution_count": null,
      "outputs": []
    },
    {
      "cell_type": "markdown",
      "source": [
        "## ¿Qué hace el operador `%` en Python?\n",
        "\n",
        "El operador `%` en Python se llama **operador módulo** o **residuo de división**.\n",
        "\n",
        "Este operador retorna el **resto** que queda al dividir un número por otro.\n",
        "\n",
        "---\n",
        "\n",
        "### ¿Cómo funciona?\n",
        "\n",
        "Cuando hacemos una división como `a % b`, estamos preguntando:\n",
        "\n",
        "**¿Qué sobra cuando divido `a` entre `b`?**\n",
        "\n",
        "---\n",
        "\n",
        "### Ejemplos:\n",
        "\n",
        "```python\n",
        "print(10 % 2)  # Resultado: 0 → 10 dividido por 2 no deja residuo\n",
        "print(10 % 3)  # Resultado: 1 → 10 dividido por 3 da 3 y sobra 1\n",
        "print(15 % 4)  # Resultado: 3 → 15 dividido por 4 da 3 y sobra 3\n",
        "print(7 % 7)   # Resultado: 0 → 7 dividido por 7 no deja residuo\n",
        "print(9 % 10)  # Resultado: 9 → 9 dividido por 10 da 0 y sobra 9\n"
      ],
      "metadata": {
        "id": "cvjFetgD0H5W"
      },
      "id": "cvjFetgD0H5W"
    },
    {
      "cell_type": "markdown",
      "source": [
        "### ¿Por qué `4 % 5` es igual a `4`?\n",
        "\n",
        "A veces se piensa que dividir `4` entre `5` da `0.8`, y por lo tanto el residuo debería ser `0`.  \n",
        "Pero **esto aplica solo a la división decimal**.\n",
        "\n",
        "En Python (y en matemáticas discretas), el operador `%` usa **división entera** para calcular el **resto**, también llamado módulo.\n",
        "\n",
        "---\n",
        "\n",
        "### Explicación con fórmula:\n",
        "\n",
        "La fórmula del módulo es:\n",
        "  \n",
        "\n",
        "```\n",
        "a % b = a - (b * (a // b))\n",
        "```\n",
        "\n",
        "\n",
        "Aplicando la fórmula a `4 % 5`:\n",
        "\n",
        "\n",
        "\n",
        "```\n",
        "Aplicando la fórmula a `4 % 5`:\n",
        "\n",
        "```\n",
        "\n",
        "\n",
        "\n",
        "---\n",
        "\n",
        "Como `5` no cabe en `4` ni una sola vez, el cociente entero es `0` y el residuo es simplemente `4`.\n",
        "\n"
      ],
      "metadata": {
        "id": "URqJLu-j3VOM"
      },
      "id": "URqJLu-j3VOM"
    },
    {
      "cell_type": "code",
      "source": [
        "# Cálculo manual del módulo a % b\n",
        "a = 4\n",
        "b = 5\n",
        "\n",
        "division_entera = a // b\n",
        "resto = a - (b * division_entera)\n",
        "\n",
        "print(\"Resultado usando % :\", a % b)\n",
        "print(\"Resultado manual   :\", resto)\n"
      ],
      "metadata": {
        "colab": {
          "base_uri": "https://localhost:8080/"
        },
        "id": "rWz-7GEN2_-G",
        "outputId": "79a49b91-2912-4722-bf3a-c95a52b9de1b"
      },
      "id": "rWz-7GEN2_-G",
      "execution_count": 3,
      "outputs": [
        {
          "output_type": "stream",
          "name": "stdout",
          "text": [
            "Resultado usando % : 4\n",
            "Resultado manual   : 4\n"
          ]
        }
      ]
    },
    {
      "cell_type": "markdown",
      "source": [
        "## Ejercicio 3: Verificar si un número es divisible por otro\n",
        "\n",
        "Pide al usuario **dos números**. Luego, muestra un mensaje indicando si el **primer número es divisible por el segundo**.\n",
        "\n",
        "### Instrucciones:\n",
        "1. Solicita al usuario dos valores numéricos usando `input()` y conviértelos a `int` o `float`.\n",
        "2. Utiliza el **operador módulo (`%`)** para determinar si el **resto de la división es cero**.\n",
        "3. Si el resultado del módulo es 0, muestra `\"El primer número es divisible por el segundo\"`.\n",
        "4. Si no es divisible, muestra `\"El primer número NO es divisible por el segundo\"`.\n"
      ],
      "metadata": {
        "id": "sneTm-yXx5Mp"
      },
      "id": "sneTm-yXx5Mp"
    },
    {
      "cell_type": "code",
      "source": [
        "num1 = int(input(\"Primer número: \"))\n",
        "num2 = int(input(\"Segundo número: \"))\n",
        "\n",
        "if num2 == 0:\n",
        "    print(\"No se puede dividir por cero.\")\n",
        "elif num1 % num2 == 0:\n",
        "    print(f\"{num1} es divisible por {num2}\")\n",
        "else:\n",
        "    print(f\"{num1} no es divisible por {num2}\")\n"
      ],
      "metadata": {
        "id": "vwkTOdQ9x5dl"
      },
      "id": "vwkTOdQ9x5dl",
      "execution_count": null,
      "outputs": []
    },
    {
      "cell_type": "markdown",
      "source": [
        "## Ejercicio 4: Determinar si un número es par\n",
        "\n",
        "Solicita al usuario un número entero y determina si es par o impar.\n",
        "\n",
        "💡 Recuerda:  \n",
        "Un número es **par** si al dividirlo por 2, el **resto** (usando el operador `%`) es igual a 0.\n",
        "\n",
        "### Instrucciones:\n",
        "1. Pide al usuario un número.\n",
        "2. Usa el operador módulo (`%`) para comprobar si el número es divisible por 2.\n",
        "3. Muestra un mensaje que diga si el número es **par** o **impar**.\n",
        "\n",
        "Tip adicional:  \n",
        "El operador `%` retorna el **resto** de la división.  \n",
        "Por ejemplo:  \n",
        "- `4 % 2 = 0` → par  \n",
        "- `7 % 2 = 1` → impar\n"
      ],
      "metadata": {
        "id": "6KkOY7ZVx58n"
      },
      "id": "6KkOY7ZVx58n"
    },
    {
      "cell_type": "code",
      "source": [
        "numero = int(input(\"Ingresa un número: \"))\n",
        "\n",
        "if numero % 2 == 0:\n",
        "    print(\"El número es par\")\n",
        "else:\n",
        "    print(\"El número es impar\")\n"
      ],
      "metadata": {
        "id": "7GwsjHjAx6R-"
      },
      "id": "7GwsjHjAx6R-",
      "execution_count": null,
      "outputs": []
    },
    {
      "cell_type": "markdown",
      "source": [
        "## Ejercicio 5: Evaluar dos condiciones con `and`\n",
        "\n",
        "Declara dos variables booleanas (`a` y `b`) y evalúa si ambas son verdaderas.\n",
        "\n",
        "### Instrucciones:\n",
        "1. Crea dos variables booleanas, por ejemplo `a = True` y `b = False`.\n",
        "2. Usa una estructura `if` con el operador lógico `and` para verificar si **ambas** condiciones son `True`.\n",
        "3. Si ambas son verdaderas, imprime `\"Correcto\"`.\n",
        "4. Si una o ambas son falsas, imprime `\"Incorrecto\"`.\n",
        "\n",
        "Recuerda:\n",
        "El operador `and` retorna `True` **solo si ambas condiciones son verdaderas**.\n",
        "\n"
      ],
      "metadata": {
        "id": "oTZQCsnox6t5"
      },
      "id": "oTZQCsnox6t5"
    },
    {
      "cell_type": "code",
      "source": [
        "a = True\n",
        "b = True\n",
        "\n",
        "if a and b:\n",
        "    print(\"Correcto\")\n",
        "else:\n",
        "    print(\"Incorrecto\")\n"
      ],
      "metadata": {
        "id": "_gcgSdWLx7EC"
      },
      "id": "_gcgSdWLx7EC",
      "execution_count": null,
      "outputs": []
    },
    {
      "cell_type": "markdown",
      "source": [
        "## Ejercicio 6: Evaluar dos condiciones con `or`\n",
        "\n",
        "Declara dos variables booleanas (`a` y `b`) y evalúa si al menos una de ellas es verdadera.\n",
        "\n",
        "### Instrucciones:\n",
        "1. Crea dos variables booleanas, por ejemplo `a = True` y `b = False`.\n",
        "2. Usa una estructura `if` con el operador lógico `or` para verificar si **alguna** de las condiciones es `True`.\n",
        "3. Si al menos una es verdadera, imprime `\"Correcto\"`.\n",
        "4. Si ambas son falsas, imprime `\"Incorrecto\"`.\n",
        "\n",
        "Recordatorio:\n",
        "El operador `or` retorna `True` si **al menos una** de las condiciones es verdadera.\n",
        "\n",
        "### Ejemplo:\n",
        "```python\n",
        "a = False\n",
        "b = True\n",
        "\n",
        "if a or b:\n",
        "    print(\"Correcto\")\n",
        "else:\n",
        "    print(\"Incorrecto\")\n"
      ],
      "metadata": {
        "id": "p-Rfpyhsx7lZ"
      },
      "id": "p-Rfpyhsx7lZ"
    },
    {
      "cell_type": "code",
      "source": [
        "a = False\n",
        "b = True\n",
        "\n",
        "if a or b:\n",
        "    print(\"Correcto\")\n",
        "else:\n",
        "    print(\"Incorrecto\")\n"
      ],
      "metadata": {
        "id": "CY07wcNex76A"
      },
      "id": "CY07wcNex76A",
      "execution_count": null,
      "outputs": []
    },
    {
      "cell_type": "markdown",
      "source": [
        "## Ejercicio 7: Clasificar número en rangos\n",
        "\n",
        "Solicita al usuario que ingrese un número entre 0 y 100. Luego, utiliza estructuras condicionales `if`, `elif` y `else` para clasificar el número según el siguiente criterio:\n",
        "\n",
        "- Si el número está entre 0 y 25 (inclusive), imprime: `\"Está en el rango 0-25\"`\n",
        "- Si está entre 26 y 50 (inclusive), imprime: `\"Está en el rango 26-50\"`\n",
        "- Si está entre 51 y 75 (inclusive), imprime: `\"Está en el rango 51-75\"`\n",
        "- Si está entre 76 y 100 (inclusive), imprime: `\"Está en el rango 76-100\"`\n",
        "- Si el número no está entre 0 y 100, imprime: `\"Número fuera de rango\"`\n",
        "\n",
        "### Instrucciones:\n",
        "1. Usa `input()` para capturar el número del usuario.\n",
        "2. Convierte el valor ingresado a entero (`int()`).\n",
        "3. Usa estructuras condicionales `if`, `elif` y `else` para evaluar en qué rango se encuentra el número.\n",
        "4. Imprime el mensaje correspondiente.\n",
        "\n",
        "> Tip: Asegúrate de que el programa funcione correctamente con los valores extremos como 0, 25, 50, 75 y 100.\n"
      ],
      "metadata": {
        "id": "nTjvDvmRx8Rf"
      },
      "id": "nTjvDvmRx8Rf"
    },
    {
      "cell_type": "code",
      "source": [
        "numero = int(input(\"Ingresa un número entre 0 y 100: \"))\n",
        "\n",
        "if numero < 0 or numero > 100:\n",
        "    print(\"Número fuera de rango\")\n",
        "elif numero <= 25:\n",
        "    print(\"Rango: 0 - 25\")\n",
        "elif numero <= 50:\n",
        "    print(\"Rango: 26 - 50\")\n",
        "elif numero <= 75:\n",
        "    print(\"Rango: 51 - 75\")\n",
        "else:\n",
        "    print(\"Rango: 76 - 100\")\n"
      ],
      "metadata": {
        "id": "gQbhaGQsx87s"
      },
      "id": "gQbhaGQsx87s",
      "execution_count": null,
      "outputs": []
    },
    {
      "cell_type": "markdown",
      "source": [
        "## Ejercicio 8: Evaluar igualdad múltiple con `elif`\n",
        "\n",
        "Solicita al usuario ingresar un número entre 1 y 4. Usa estructuras condicionales `if`, `elif` y `else` para imprimir el nombre correspondiente al número ingresado. Si el número no está entre 1 y 4, muestra un mensaje indicando que no es reconocido.\n",
        "\n",
        "### Reglas:\n",
        "\n",
        "- Si el número es `1`, imprime: `\"Uno\"`\n",
        "- Si el número es `2`, imprime: `\"Dos\"`\n",
        "- Si el número es `3`, imprime: `\"Tres\"`\n",
        "- Si el número es `4`, imprime: `\"Cuatro\"`\n",
        "- Si el número no es ninguno de esos, imprime: `\"Número no reconocido\"`\n",
        "\n",
        "### Instrucciones:\n",
        "\n",
        "1. Usa `input()` para solicitar el número.\n",
        "2. Convierte el valor ingresado a entero (`int()`).\n",
        "3. Evalúa el número usando `if`, `elif`, y `else`.\n",
        "4. Imprime el resultado correspondiente.\n"
      ],
      "metadata": {
        "id": "bM3lQ09dyc6V"
      },
      "id": "bM3lQ09dyc6V"
    },
    {
      "cell_type": "code",
      "source": [
        "numero = int(input(\"Ingresa un número del 1 al 4: \"))\n",
        "\n",
        "if numero == 1:\n",
        "    print(\"Uno\")\n",
        "elif numero == 2:\n",
        "    print(\"Dos\")\n",
        "elif numero == 3:\n",
        "    print(\"Tres\")\n",
        "elif numero == 4:\n",
        "    print(\"Cuatro\")\n",
        "else:\n",
        "    print(\"Número no reconocido\")\n"
      ],
      "metadata": {
        "id": "Zi0T1sQ0ydVA"
      },
      "id": "Zi0T1sQ0ydVA",
      "execution_count": null,
      "outputs": []
    }
  ],
  "metadata": {
    "colab": {
      "provenance": []
    },
    "language_info": {
      "name": "python"
    },
    "kernelspec": {
      "name": "python3",
      "display_name": "Python 3"
    }
  },
  "nbformat": 4,
  "nbformat_minor": 5
}