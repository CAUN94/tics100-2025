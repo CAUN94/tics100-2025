{
  "cells": [
    {
      "cell_type": "markdown",
      "id": "2b03c85e",
      "metadata": {
        "id": "2b03c85e"
      },
      "source": [
        "# Guía de Ejercicios: Operadores Lógicos y Condicionales en Python\n",
        "\n",
        "En esta guía, practicarás estructuras condicionales y operadores lógicos en Python. Cada ejercicio representa una situación que puedes resolver con `if`, `elif`, `else`, `and`, `or` y `not`. ¡Buena suerte!\n"
      ]
    },
    {
      "cell_type": "markdown",
      "id": "b8222476",
      "metadata": {
        "id": "b8222476"
      },
      "source": [
        "## Ejercicio 1: Clasificador de Edad\n",
        "\n",
        "Pide la edad de una persona y clasifícala según este criterio:\n",
        "\n",
        "- Menor de 12 años: \"Niñez\"\n",
        "- Entre 12 y 17: \"Adolescencia\"\n",
        "- Entre 18 y 59: \"Adultez\"\n",
        "- 60 o más: \"Tercera edad\"\n"
      ]
    },
    {
      "cell_type": "code",
      "execution_count": null,
      "id": "0e02c333",
      "metadata": {
        "id": "0e02c333"
      },
      "outputs": [],
      "source": [
        "# Escribe tu código aquí"
      ]
    },
    {
      "cell_type": "markdown",
      "id": "f0e42101",
      "metadata": {
        "id": "f0e42101"
      },
      "source": [
        "## Ejercicio 2: Verificador de Acceso\n",
        "\n",
        "Solicita al usuario su edad y si tiene pase VIP (True/False). Solo podrá acceder si:\n",
        "\n",
        "- Tiene 18 años o más\n",
        "- Tiene pase VIP **o** pagó una entrada (preguntar al usuario si pagó, True/False)\n",
        "\n",
        "Indica si puede entrar o no.\n"
      ]
    },
    {
      "cell_type": "code",
      "execution_count": null,
      "id": "178d43f3",
      "metadata": {
        "id": "178d43f3"
      },
      "outputs": [],
      "source": [
        "# Escribe tu código aquí"
      ]
    },
    {
      "cell_type": "markdown",
      "id": "92addc26",
      "metadata": {
        "id": "92addc26"
      },
      "source": [
        "## Ejercicio 3: Comparador de Números\n",
        "\n",
        "Pide dos números. Luego:\n",
        "\n",
        "- Indica si los números son iguales.\n",
        "- Si no lo son, indica cuál es el mayor.\n"
      ]
    },
    {
      "cell_type": "code",
      "execution_count": null,
      "id": "7585ec4a",
      "metadata": {
        "id": "7585ec4a"
      },
      "outputs": [],
      "source": [
        "# Escribe tu código aquí"
      ]
    },
    {
      "cell_type": "markdown",
      "id": "036cac9a",
      "metadata": {
        "id": "036cac9a"
      },
      "source": [
        "## Ejercicio 4: Evaluador de Puntajes\n",
        "\n",
        "Cree un número aleatorio entre 1 y 150. Muestra:\n",
        "\n",
        "- \"Excelente\" si está entre 90 y 100\n",
        "- \"Bueno\" si está entre 60 y 89\n",
        "- \"Regular\" si está entre 30 y 59\n",
        "- \"Insuficiente\" si está entre 0 y 29\n",
        "- \"Número inválido\" si está fuera de ese rango\n"
      ]
    },
    {
      "cell_type": "code",
      "execution_count": null,
      "id": "34fe606a",
      "metadata": {
        "id": "34fe606a"
      },
      "outputs": [],
      "source": [
        "# Escribe tu código aquí"
      ]
    },
    {
      "cell_type": "markdown",
      "id": "240167c2",
      "metadata": {
        "id": "240167c2"
      },
      "source": [
        "## Ejercicio 5: Triángulo Válido\n",
        "\n",
        "Pide tres longitudes (lados de un triángulo). Verifica si se puede formar un triángulo válido. La regla es:\n",
        "\n",
        "> La suma de dos lados debe ser mayor que el tercero (para los tres casos posibles)\n",
        "\n",
        "Indica si el triángulo es válido o no.\n"
      ]
    },
    {
      "cell_type": "code",
      "execution_count": null,
      "id": "71addff6",
      "metadata": {
        "id": "71addff6"
      },
      "outputs": [],
      "source": [
        "# Escribe tu código aquí"
      ]
    },
    {
      "cell_type": "markdown",
      "id": "7c911eb9",
      "metadata": {
        "id": "7c911eb9"
      },
      "source": [
        "## Ejercicio 6: Evaluador de Suma\n",
        "\n",
        "Pide dos números y calcula su suma. Muestra:\n",
        "\n",
        "- “¡Esa suma es alta!” si es mayor a 100\n",
        "- “Suma muy baja” si es menor a 10\n",
        "- “Suma moderada” en otro caso\n"
      ]
    },
    {
      "cell_type": "code",
      "execution_count": null,
      "id": "58e18341",
      "metadata": {
        "id": "58e18341"
      },
      "outputs": [],
      "source": [
        "# Escribe tu código aquí"
      ]
    },
    {
      "cell_type": "markdown",
      "id": "f3ac799e",
      "metadata": {
        "id": "f3ac799e"
      },
      "source": [
        "## Ejercicio 7: Verificador de Usuario\n",
        "\n",
        "Pide usuario y contraseña. Compara con los datos:\n",
        "\n",
        "```python\n",
        "usuario_valido = \"admin\"\n",
        "clave_valida = \"1234\"\n",
        "```\n",
        "\n",
        "- Si ambos coinciden, muestra “Acceso concedido”.\n",
        "- Si uno o ambos están mal, muestra mensaje de error.\n"
      ]
    },
    {
      "cell_type": "code",
      "execution_count": null,
      "id": "8124a152",
      "metadata": {
        "id": "8124a152"
      },
      "outputs": [],
      "source": [
        "# Escribe tu código aquí"
      ]
    },
    {
      "cell_type": "markdown",
      "source": [
        "## Ejercicio 8: Descuento por tipo de usuario y beneficios\n",
        "\n",
        "Una entrada para un club cuesta **$20.000**. El precio final puede variar según distintas condiciones de la persona.\n",
        "\n",
        "Crea un programa que solicite al usuario los siguientes datos:\n",
        "\n",
        "- ¿Eres usuario VIP? (True/False)\n",
        "- ¿A qué universidad perteneces? (puede ser `\"udd\"`, `\"uai\"` u otra)\n",
        "- ¿Es tu cumpleaños hoy? (True/False)\n",
        "\n",
        "### Aplica los descuentos correspondientes en este orden:\n",
        "\n",
        "1. Si el usuario es **VIP**, recibe un **75% de descuento** y no se considera ningún otro descuento.\n",
        "2. Si el usuario es de la **UDD** o la **UAI**, recibe un **20% de descuento**.\n",
        "3. Si además **es su cumpleaños**, se le aplica un **30% adicional** sobre el valor ya rebajado.\n",
        "\n",
        "El programa debe mostrar el monto final a pagar con todos los descuentos aplicados, según corresponda.\n"
      ],
      "metadata": {
        "id": "qWGTijf6rIL1"
      },
      "id": "qWGTijf6rIL1"
    },
    {
      "cell_type": "code",
      "source": [],
      "metadata": {
        "id": "io10gZR7rId2"
      },
      "id": "io10gZR7rId2",
      "execution_count": null,
      "outputs": []
    }
  ],
  "metadata": {
    "colab": {
      "provenance": []
    }
  },
  "nbformat": 4,
  "nbformat_minor": 5
}