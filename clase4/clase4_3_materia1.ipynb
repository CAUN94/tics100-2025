{
  "cells": [
    {
      "cell_type": "markdown",
      "source": [
        "# Clase 4: Listas y Range\n",
        "\n",
        "Bienvenidos a la clase 4 del curso. Hoy vamos a aprender cuatro herramientas fundamentales de Python que nos permitirán crear programas más dinámicos, organizados y repetitivos.\n",
        "\n",
        "Al finalizar esta clase serás capaz de:\n",
        "\n",
        "- Crear y manipular listas de datos  \n",
        "- Generar secuencias numéricas con `range()`  \n",
        "- Recorrer listas y secuencias usando `for`  \n",
        "- Repetir instrucciones utilizando `while`\n",
        "\n",
        "---\n",
        "\n",
        "## ¿Qué veremos hoy?\n",
        "\n",
        "### Listas\n",
        "Una lista es una estructura que permite almacenar múltiples valores en una sola variable. Es como una caja que puede guardar varios elementos ordenados.\n",
        "\n",
        "- Crear listas\n",
        "- Acceder y modificar elementos\n",
        "- Agregar o quitar datos con métodos como `.append()`, `.insert()`, `.pop()`\n",
        "\n",
        "### Función `range()`\n",
        "La función `range()` nos permite generar secuencias numéricas automáticas, útiles para trabajar con ciclos.\n",
        "\n",
        "- `range(n)` genera los números del 0 al n-1\n",
        "- También se puede usar con inicio, fin y pasos personalizados\n",
        "\n",
        "\n",
        "---\n",
        "\n",
        "Esta clase es esencial porque te permite dar estructura, repetición y orden a tus programas. Ahora comenzaremos con el primer bloque: Listas y Range\n"
      ],
      "metadata": {
        "id": "x1l6JAC_7YEO"
      },
      "id": "x1l6JAC_7YEO"
    },
    {
      "cell_type": "markdown",
      "source": [
        "# Introducción a Listas en Python\n",
        "\n",
        "Las **listas** son uno de los tipos de datos más útiles en Python. Nos permiten almacenar múltiples valores en una sola variable, manteniendo el orden y facilitando la manipulación de datos.\n",
        "\n",
        "Imagina una lista como una fila de casillas, cada una con un dato dentro, donde puedes acceder, cambiar, agregar o quitar elementos fácilmente.\n",
        "\n",
        "---\n",
        "\n",
        "## ¿Para qué sirven las listas?\n",
        "\n",
        "Las listas se usan para:\n",
        "\n",
        "- Agrupar datos relacionados (como nombres, edades, notas, etc.)\n",
        "- Recorrer y procesar elementos uno por uno\n",
        "- Almacenar resultados o entradas del usuario\n",
        "- Reemplazar muchas variables por una sola estructura ordenada\n",
        "\n",
        "---\n",
        "\n",
        "## ¿Cómo se crea una lista?\n",
        "\n",
        "Una lista se define usando **corchetes `[]`** y separando los elementos con comas.\n",
        "\n",
        "```python\n",
        "# Lista de frutas\n",
        "frutas = [\"manzana\", \"banana\", \"naranja\"]\n",
        "\n",
        "# Lista de números\n",
        "numeros = [10, 20, 30, 40]\n",
        "\n",
        "# Lista mixta\n",
        "mezcla = [1, \"texto\", True, 3.14]\n"
      ],
      "metadata": {
        "id": "0G4j0DGN-DZV"
      },
      "id": "0G4j0DGN-DZV"
    },
    {
      "cell_type": "markdown",
      "source": [
        "### Funciones y métodos comunes para trabajar con listas en Python\n",
        "\n",
        "Las listas en Python son estructuras de datos muy versátiles que permiten almacenar múltiples valores. A continuación, se presentan las funciones y métodos más utilizados para manipularlas:\n",
        "\n",
        "#### `append(valor)`\n",
        "Agrega un elemento al final de la lista. Es útil cuando quieres extender una lista con nuevos valores uno por uno, sin reemplazar su contenido original.\n"
      ],
      "metadata": {
        "id": "fIKVRi6NF1xY"
      },
      "id": "fIKVRi6NF1xY"
    },
    {
      "cell_type": "code",
      "source": [
        "frutas = [\"manzana\", \"naranja\"]\n",
        "frutas.append(\"plátano\")\n",
        "print(frutas)  # ['manzana', 'naranja', 'plátano']"
      ],
      "metadata": {
        "id": "4JABmnmh8xqV"
      },
      "id": "4JABmnmh8xqV",
      "execution_count": null,
      "outputs": []
    },
    {
      "cell_type": "markdown",
      "source": [
        "### `insert(posición, valor)`\n",
        "\n",
        "Agrega un elemento en una posición específica. Permite ubicar elementos en lugares concretos sin eliminar los ya existentes.\n"
      ],
      "metadata": {
        "id": "44zKIIYSF6mz"
      },
      "id": "44zKIIYSF6mz"
    },
    {
      "cell_type": "code",
      "source": [
        "numeros = [1, 2, 4]\n",
        "numeros.insert(2, 3)\n",
        "print(numeros)  # [1, 2, 3, 4]"
      ],
      "metadata": {
        "id": "Cqzu5XSQGMrx"
      },
      "id": "Cqzu5XSQGMrx",
      "execution_count": null,
      "outputs": []
    },
    {
      "cell_type": "markdown",
      "source": [
        "### `pop([índice])`\n",
        "\n",
        "Elimina y devuelve un elemento de la lista según su índice.  \n",
        "Si no se especifica el índice, elimina el **último elemento**.\n",
        "\n",
        "Esto es útil cuando necesitas **quitar elementos específicos** o procesarlos uno a uno.\n"
      ],
      "metadata": {
        "id": "bleamjgdGO2b"
      },
      "id": "bleamjgdGO2b"
    },
    {
      "cell_type": "code",
      "source": [
        "colores = [\"rojo\", \"verde\", \"azul\"]\n",
        "colores.pop(0)\n",
        "print(colores)  # Resultado: ['verde', 'azul']\n"
      ],
      "metadata": {
        "id": "HA4q4NdUHwzz"
      },
      "id": "HA4q4NdUHwzz",
      "execution_count": null,
      "outputs": []
    },
    {
      "cell_type": "markdown",
      "source": [
        "### `pop([índice])`\n",
        "\n",
        "Elimina y devuelve un elemento de la lista según su índice.  \n",
        "Si no se especifica el índice, elimina el **último elemento** por defecto.\n",
        "\n",
        "Esta función es muy útil cuando necesitas quitar un valor específico o procesar elementos de forma secuencial.\n"
      ],
      "metadata": {
        "id": "_ao_tB8HH7aW"
      },
      "id": "_ao_tB8HH7aW"
    },
    {
      "cell_type": "code",
      "source": [
        "colores = [\"rojo\", \"verde\", \"azul\"]\n",
        "colores.pop(0)\n",
        "print(colores)  # Resultado: ['verde', 'azul']\n"
      ],
      "metadata": {
        "id": "sBS1WHyOH8Bd"
      },
      "id": "sBS1WHyOH8Bd",
      "execution_count": null,
      "outputs": []
    },
    {
      "cell_type": "markdown",
      "source": [
        "### `remove(valor)`\n",
        "\n",
        "Elimina la **primera aparición** de un valor específico en la lista.  \n",
        "Si el valor no se encuentra en la lista, Python generará un error.\n",
        "\n",
        "Este método es útil cuando sabes qué elemento deseas eliminar, pero **no conoces su posición (índice)**.\n"
      ],
      "metadata": {
        "id": "3KC_W0pWH-M7"
      },
      "id": "3KC_W0pWH-M7"
    },
    {
      "cell_type": "code",
      "source": [
        "animales = [\"perro\", \"gato\", \"perro\", \"pájaro\"]\n",
        "animales.remove(\"perro\")\n",
        "print(animales)  # Resultado: ['gato', 'perro', 'pájaro']"
      ],
      "metadata": {
        "id": "fqgUgUoCIIFo"
      },
      "id": "fqgUgUoCIIFo",
      "execution_count": null,
      "outputs": []
    },
    {
      "cell_type": "markdown",
      "source": [
        "### `len(lista)`\n",
        "\n",
        "Ver el largo de una lista."
      ],
      "metadata": {
        "id": "O3HrFRY_IX9m"
      },
      "id": "O3HrFRY_IX9m"
    },
    {
      "cell_type": "code",
      "source": [
        "numeros = [1, 2, 3, 2, 4, 2]\n",
        "print(len(numeros))  # Resultado: 5"
      ],
      "metadata": {
        "id": "6HmsRQwLIYye"
      },
      "id": "6HmsRQwLIYye",
      "execution_count": null,
      "outputs": []
    },
    {
      "cell_type": "markdown",
      "source": [
        "### Acceder, modificar y manipular valores en una lista usando índices\n",
        "\n",
        "En Python, las listas permiten acceder a sus elementos utilizando **índices**. Esto nos permite ver, modificar o extraer elementos de forma precisa.\n",
        "\n",
        "---\n",
        "\n",
        "#### Índices positivos\n",
        "\n",
        "Los índices comienzan en **0**, por lo tanto, el primer elemento tiene índice 0, el segundo tiene índice 1, y así sucesivamente.\n",
        "\n",
        "### ¿Qué significa que los índices comienzan en 0?\n",
        "\n",
        "En Python (y en muchos lenguajes de programación), las **listas son estructuras ordenadas**, lo que significa que cada elemento tiene una posición específica. Esa posición se conoce como **índice**.\n",
        "\n",
        "A diferencia del lenguaje humano, donde normalmente contamos desde 1, **Python comienza a contar desde 0**.\n",
        "\n",
        "Esto significa:\n",
        "\n",
        "| Posición lógica     | Índice en Python | Elemento ejemplo |\n",
        "|---------------------|------------------|------------------|\n",
        "| Primer elemento     | 0                | `mi_lista[0]`    |\n",
        "| Segundo elemento    | 1                | `mi_lista[1]`    |\n",
        "| Tercer elemento     | 2                | `mi_lista[2]`    |\n",
        "| ...                 | ...              | ...              |\n",
        "\n",
        "---\n",
        "\n",
        "### ¿Por qué Python empieza desde 0?\n",
        "\n",
        "Esto viene de cómo los lenguajes de programación gestionan la memoria internamente.  \n",
        "Si una lista comienza en una posición específica en la memoria, **el desplazamiento del primer elemento es cero**, no uno.\n",
        "\n",
        "Entonces:\n",
        "\n",
        "- `mi_lista[0]` accede al primer elemento  \n",
        "- `mi_lista[1]` accede al segundo  \n",
        "- Y así sucesivamente\n",
        "\n",
        "---\n",
        "\n",
        "### Ejemplo práctico\n",
        "\n",
        "```python\n",
        "colores = [\"rojo\", \"verde\", \"azul\", \"amarillo\"]\n",
        "\n",
        "print(colores[0])  # \"rojo\" → primer elemento\n",
        "print(colores[1])  # \"verde\" → segundo elemento\n",
        "print(colores[2])  # \"azul\" → tercero\n",
        "print(colores[3])  # \"amarillo\" → cuarto\n",
        "\n",
        "```\n",
        "\n",
        "Si olvidas que el primer índice es 0, y escribes colores[4] pensando que accedes al cuarto elemento, obtendrás un error (IndexError) porque estás intentando acceder al quinto elemento (que no existe en este caso)."
      ],
      "metadata": {
        "id": "BsNAQt9HJb-p"
      },
      "id": "BsNAQt9HJb-p"
    },
    {
      "cell_type": "code",
      "source": [
        "frutas = [\"manzana\", \"naranja\", \"plátano\"]\n",
        "print(frutas[0])  # Resultado: manzana\n",
        "print(frutas[1])  # Resultado: naranja\n",
        "print(frutas[2])  # Resultado: plátano"
      ],
      "metadata": {
        "colab": {
          "base_uri": "https://localhost:8080/"
        },
        "id": "U85LcjZSJgBw",
        "outputId": "7d2118be-7496-46fc-f39f-f5264ad11e41"
      },
      "id": "U85LcjZSJgBw",
      "execution_count": 7,
      "outputs": [
        {
          "output_type": "stream",
          "name": "stdout",
          "text": [
            "manzana\n",
            "naranja\n",
            "plátano\n"
          ]
        }
      ]
    },
    {
      "cell_type": "code",
      "source": [
        "frutas = [\"manzana\", \"naranja\", \"plátano\"]\n",
        "print(frutas[3])  # Error"
      ],
      "metadata": {
        "id": "W5SjNFn0JpBH"
      },
      "id": "W5SjNFn0JpBH",
      "execution_count": null,
      "outputs": []
    },
    {
      "cell_type": "markdown",
      "source": [
        "### Índices negativos\n",
        "\n",
        "En Python, también es posible acceder a los elementos de una lista **desde el final hacia el principio** utilizando **índices negativos**.\n",
        "\n",
        "Esto es muy útil cuando no conoces el largo exacto de la lista o necesitas trabajar con los últimos elementos.\n",
        "\n",
        "- `-1` corresponde al **último elemento** de la lista.\n",
        "- `-2` corresponde al **penúltimo elemento**.\n",
        "- Y así sucesivamente.\n"
      ],
      "metadata": {
        "id": "CIL484D8KlGn"
      },
      "id": "CIL484D8KlGn"
    },
    {
      "cell_type": "code",
      "source": [
        "frutas = [\"manzana\", \"naranja\", \"plátano\"]\n",
        "\n",
        "print(frutas[-1])  # Resultado: plátano\n",
        "print(frutas[-2])  # Resultado: naranja\n"
      ],
      "metadata": {
        "id": "ZVXRYnYvKn7J"
      },
      "id": "ZVXRYnYvKn7J",
      "execution_count": null,
      "outputs": []
    },
    {
      "cell_type": "markdown",
      "source": [
        "### Acceder al último elemento con `len() - 1`\n",
        "\n",
        "Aunque Python permite usar índices negativos para acceder fácilmente a los últimos elementos, también puedes hacerlo usando `len(lista) - 1`, lo cual te da el índice del último elemento."
      ],
      "metadata": {
        "id": "g3ksK7c8K7YU"
      },
      "id": "g3ksK7c8K7YU"
    },
    {
      "cell_type": "code",
      "source": [
        "frutas = [\"manzana\", \"naranja\", \"plátano\"]\n",
        "\n",
        "# Obtener el índice del último elemento\n",
        "ultimo_indice = len(frutas) - 1\n",
        "\n",
        "# Acceder al último elemento usando ese índice\n",
        "print(frutas[ultimo_indice])  # Resultado: plátano"
      ],
      "metadata": {
        "colab": {
          "base_uri": "https://localhost:8080/"
        },
        "id": "D5IOLBY4K6ZS",
        "outputId": "240c59a4-613c-4e58-c0af-12860eae7316"
      },
      "id": "D5IOLBY4K6ZS",
      "execution_count": 12,
      "outputs": [
        {
          "output_type": "stream",
          "name": "stdout",
          "text": [
            "plátano\n"
          ]
        }
      ]
    },
    {
      "cell_type": "markdown",
      "source": [
        "### Modificar elementos de una lista\n",
        "\n",
        "En Python, podemos reemplazar cualquier elemento de una lista accediendo a su posición mediante su **índice**. Solo necesitas asignar un nuevo valor a esa posición específica.\n",
        "\n",
        "#### Sintaxis:\n",
        "```python\n",
        "lista[indice] = nuevo_valor\n"
      ],
      "metadata": {
        "id": "7BbNl69dLZ5d"
      },
      "id": "7BbNl69dLZ5d"
    },
    {
      "cell_type": "code",
      "source": [
        "frutas = [\"manzana\", \"naranja\", \"plátano\"]\n",
        "\n",
        "# Reemplazamos el segundo elemento (índice 1) con \"kiwi\"\n",
        "frutas[1] = \"kiwi\"\n",
        "\n",
        "print(frutas)  # Resultado: ['manzana', 'kiwi', 'plátano']\n"
      ],
      "metadata": {
        "id": "dWtwsjxhLaSo"
      },
      "id": "dWtwsjxhLaSo",
      "execution_count": null,
      "outputs": []
    },
    {
      "cell_type": "markdown",
      "source": [
        "### Las cadenas de texto (strings) también pueden tratarse como listas\n",
        "\n",
        "En Python, una **cadena de texto** (`str`) se comporta de forma muy similar a una lista. Esto significa que puedes acceder a cada letra de la palabra como si fueran elementos de una lista, utilizando **índices**.\n",
        "\n",
        "Esto es posible porque los strings en Python son **iterables**, lo que quiere decir que están compuestos por una secuencia ordenada de caracteres.\n",
        "\n",
        "\n",
        "\n",
        "\n"
      ],
      "metadata": {
        "id": "qZSgoq43Lwxo"
      },
      "id": "qZSgoq43Lwxo"
    },
    {
      "cell_type": "code",
      "source": [
        "palabra = \"Python\"\n",
        "print(palabra[0])  # Resultado: 'P'\n",
        "print(palabra[1])  # Resultado: 'y'\n",
        "print(palabra[-1]) # Resultado: 'n' (último carácter)"
      ],
      "metadata": {
        "id": "e8nE20DqL0_V"
      },
      "id": "e8nE20DqL0_V",
      "execution_count": null,
      "outputs": []
    },
    {
      "cell_type": "markdown",
      "source": [
        "### Crear listas enumeradas con `range()`\n",
        "\n",
        "En muchas situaciones queremos generar listas de números de manera automática, especialmente cuando queremos contar o recorrer rangos de valores. Python ofrece una función muy útil para esto: `range()`.\n",
        "\n",
        "---\n",
        "\n",
        "### ¿Qué hace `range()`?\n",
        "\n",
        "La función `range()` genera una **secuencia de números enteros**. Por defecto, empieza desde 0 y va incrementando de 1 en 1, pero puedes personalizar el **inicio**, el **final**, y el **paso (step)**.\n",
        "\n",
        "---\n",
        "\n",
        "### Sintaxis general:\n",
        "\n",
        "```python\n",
        "range(inicio, fin, paso)\n"
      ],
      "metadata": {
        "id": "0iUyKd5lMciy"
      },
      "id": "0iUyKd5lMciy"
    },
    {
      "cell_type": "markdown",
      "source": [
        "### ¿Qué es `list()` en Python?\n",
        "\n",
        "`list()` es una función incorporada en Python que permite **crear una lista** a partir de otro objeto iterable."
      ],
      "metadata": {
        "id": "PYfRAllXNIqY"
      },
      "id": "PYfRAllXNIqY"
    },
    {
      "cell_type": "code",
      "source": [
        "palabra = 'Python'\n",
        "print(list(palabra))"
      ],
      "metadata": {
        "colab": {
          "base_uri": "https://localhost:8080/"
        },
        "id": "YEkuie2aL1X0",
        "outputId": "abc11c23-16ab-4298-e65a-2c7cfd287759"
      },
      "id": "YEkuie2aL1X0",
      "execution_count": 16,
      "outputs": [
        {
          "output_type": "stream",
          "name": "stdout",
          "text": [
            "['P', 'y', 't', 'h', 'o', 'n']\n"
          ]
        }
      ]
    },
    {
      "cell_type": "markdown",
      "source": [
        "### Ejemplo 1: `range(x)`\n",
        "\n",
        "Cuando se pasa un solo valor, `range(x)` genera una secuencia de números que comienza en **0** y termina en **x - 1**.\n",
        "\n",
        "Esto es útil cuando necesitas generar una lista de tamaño conocido que empieza desde cero.\n",
        "\n"
      ],
      "metadata": {
        "id": "6L9fnFNENRaz"
      },
      "id": "6L9fnFNENRaz"
    },
    {
      "cell_type": "code",
      "source": [
        "print(list(range(5)))\n",
        "# Resultado: [0, 1, 2, 3, 4]\n"
      ],
      "metadata": {
        "colab": {
          "base_uri": "https://localhost:8080/"
        },
        "id": "2XuwCaW4NQ-J",
        "outputId": "894ab3c1-3a14-4135-9cb3-5760ff30d369"
      },
      "id": "2XuwCaW4NQ-J",
      "execution_count": 17,
      "outputs": [
        {
          "output_type": "stream",
          "name": "stdout",
          "text": [
            "[0, 1, 2, 3, 4]\n"
          ]
        }
      ]
    },
    {
      "cell_type": "markdown",
      "source": [
        "### Ejemplo 2: `range(x, y)`\n",
        "\n",
        "Cuando se pasan dos valores a `range(x, y)`, el primero representa el **inicio** de la secuencia (incluido), y el segundo representa el **final** (excluido).  \n",
        "Es decir, se generarán los números desde `x` hasta `y - 1`.\n",
        "\n"
      ],
      "metadata": {
        "id": "C76Pm0BYOSCe"
      },
      "id": "C76Pm0BYOSCe"
    },
    {
      "cell_type": "code",
      "source": [
        "\n",
        "print(list(range(2, 7)))\n",
        "# Resultado: [2, 3, 4, 5, 6]\n"
      ],
      "metadata": {
        "id": "bYx8ZtKkNVni"
      },
      "id": "bYx8ZtKkNVni",
      "execution_count": null,
      "outputs": []
    },
    {
      "cell_type": "markdown",
      "source": [
        "### Ejemplo 3: `range(x, y, s)`\n",
        "\n",
        "Cuando se utilizan tres argumentos en `range(x, y, s)`, el tercer valor (`s`) representa el **paso** o incremento entre los valores generados.  \n",
        "Esto permite crear secuencias que no avancen de uno en uno, sino de dos en dos, de tres en tres, etc.\n",
        "\n",
        "```python\n",
        "print(list(range(1, 10, 2)))\n",
        "# Resultado: [1, 3, 5, 7, 9]\n"
      ],
      "metadata": {
        "id": "0EQDki6sOt30"
      },
      "id": "0EQDki6sOt30"
    },
    {
      "cell_type": "markdown",
      "source": [
        "### Casos de borde\n",
        "\n",
        "Es importante entender que `range` nunca incluye el número final (`y`), y se detiene justo antes de alcanzarlo.\n",
        "\n",
        "\n",
        "\n"
      ],
      "metadata": {
        "id": "5qwJleTTO9ig"
      },
      "id": "5qwJleTTO9ig"
    },
    {
      "cell_type": "code",
      "source": [
        "print(list(range(1, 10, 3)))\n",
        "# Resultado: [1, 4, 7]"
      ],
      "metadata": {
        "id": "z_Op29q3O_s4"
      },
      "id": "z_Op29q3O_s4",
      "execution_count": null,
      "outputs": []
    },
    {
      "cell_type": "markdown",
      "source": [
        "Explicación:\n",
        "\n",
        "* Comienza en 1.\n",
        "\n",
        "* El siguiente número es 1 + 3 = 4.\n",
        "\n",
        "* Luego, 4 + 3 = 7.\n",
        "\n",
        "* El siguiente sería 10, pero como el límite superior (y) es excluyente, se detiene en 7."
      ],
      "metadata": {
        "id": "jgrLmLsYPDgn"
      },
      "id": "jgrLmLsYPDgn"
    },
    {
      "cell_type": "markdown",
      "source": [
        "### Rango en descenso (cuenta regresiva)\n",
        "\n",
        "Si deseas generar una secuencia hacia atrás, el paso debe ser negativo.\n",
        "\n",
        "#### Ejemplo 4: `range(x, y)` en descenso (sin paso negativo)\n",
        "\n",
        "\n"
      ],
      "metadata": {
        "id": "GfLvUoJxPLsZ"
      },
      "id": "GfLvUoJxPLsZ"
    },
    {
      "cell_type": "code",
      "source": [
        "print(list(range(5, 0)))\n",
        "# Resultado: []\n",
        "# No genera nada porque por defecto el paso es positivo\n"
      ],
      "metadata": {
        "id": "gbYziGWaPJBp"
      },
      "id": "gbYziGWaPJBp",
      "execution_count": null,
      "outputs": []
    },
    {
      "cell_type": "markdown",
      "source": [
        "### Rango en descenso con paso negativo\n",
        "\n",
        "Para generar una secuencia en orden descendente, es necesario indicar un paso negativo en la función `range()`.\n",
        "\n",
        "#### Ejemplo 5: `range(x, y, -1)`\n",
        "\n",
        "\n"
      ],
      "metadata": {
        "id": "k0wVzgBRPaXN"
      },
      "id": "k0wVzgBRPaXN"
    },
    {
      "cell_type": "code",
      "source": [
        "print(list(range(5, 0, -1)))\n",
        "# Resultado: [5, 4, 3, 2, 1]\n"
      ],
      "metadata": {
        "id": "PReQk4VzPTD_"
      },
      "id": "PReQk4VzPTD_",
      "execution_count": null,
      "outputs": []
    },
    {
      "cell_type": "markdown",
      "source": [
        "### Ejemplo: range(x, y, -3)\n",
        "\n",
        "Cuando se utiliza un paso negativo, como `-3`, la función `range()` genera una secuencia descendente, restando 3 en cada paso desde el valor inicial hasta que se alcance o se pase el límite inferior (excluido).\n",
        "\n"
      ],
      "metadata": {
        "id": "3rO7ikvcPdy7"
      },
      "id": "3rO7ikvcPdy7"
    },
    {
      "cell_type": "code",
      "source": [
        "print(list(range(10, 0, -3)))\n",
        "# Resultado: [10, 7, 4, 1]\n"
      ],
      "metadata": {
        "colab": {
          "base_uri": "https://localhost:8080/"
        },
        "id": "a-sWNga_Pmvg",
        "outputId": "a77c5874-85db-45c3-c961-eb59bed1621b"
      },
      "id": "a-sWNga_Pmvg",
      "execution_count": 19,
      "outputs": [
        {
          "output_type": "stream",
          "name": "stdout",
          "text": [
            "[10, 7, 4, 1]\n"
          ]
        }
      ]
    },
    {
      "cell_type": "code",
      "source": [],
      "metadata": {
        "id": "qJ-l7wK5PoAK"
      },
      "id": "qJ-l7wK5PoAK",
      "execution_count": null,
      "outputs": []
    }
  ],
  "metadata": {
    "colab": {
      "provenance": []
    },
    "language_info": {
      "name": "python"
    },
    "kernelspec": {
      "name": "python3",
      "display_name": "Python 3"
    }
  },
  "nbformat": 4,
  "nbformat_minor": 5
}