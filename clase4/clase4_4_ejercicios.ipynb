{
  "cells": [
    {
      "cell_type": "markdown",
      "source": [
        "### Ejercicios - Listas y Range"
      ],
      "metadata": {
        "id": "LzJGpHb3SUWA"
      },
      "id": "LzJGpHb3SUWA"
    },
    {
      "cell_type": "markdown",
      "source": [
        "#### Ejercicio 1: Insertar Strings en una Lista\n",
        "\n",
        "Crea un programa que:\n",
        "\n",
        "- Pida al usuario **3 cadenas de texto (strings)**.\n",
        "- Inserte esos valores **en el orden ingresado** dentro de una lista.\n",
        "- Muestre la lista completa por pantalla al finalizar."
      ],
      "metadata": {
        "id": "ZqleeH0YSZON"
      },
      "id": "ZqleeH0YSZON"
    },
    {
      "cell_type": "code",
      "source": [],
      "metadata": {
        "id": "qJ-l7wK5PoAK"
      },
      "id": "qJ-l7wK5PoAK",
      "execution_count": null,
      "outputs": []
    },
    {
      "cell_type": "markdown",
      "source": [
        "#### Ejercicio 2: Números a Positivos\n",
        "\n",
        "Haz un programa que:\n",
        "\n",
        "- Inserte **4 números** en una lista (pueden ser positivos o negativos).\n",
        "- Si un número es negativo, conviértelo a positivo antes de almacenarlo.\n",
        "- Muestra la lista resultante en pantalla."
      ],
      "metadata": {
        "id": "eNTcifcYSc7k"
      },
      "id": "eNTcifcYSc7k"
    },
    {
      "cell_type": "code",
      "source": [],
      "metadata": {
        "id": "csiBpUfbSbQ3"
      },
      "id": "csiBpUfbSbQ3",
      "execution_count": null,
      "outputs": []
    },
    {
      "cell_type": "markdown",
      "source": [
        "#### Ejercicio 3: Insertar un Valor en una Lista Existente\n",
        "\n",
        "Dada la siguiente lista inicial:\n",
        "\n",
        "```python\n",
        "lista = ['hola', 'pez', 'casa']\n"
      ],
      "metadata": {
        "id": "kCFByisWSdx5"
      },
      "id": "kCFByisWSdx5"
    },
    {
      "cell_type": "code",
      "source": [
        "lista = ['hola', 'pez', 'casa']\n"
      ],
      "metadata": {
        "id": "b4Qv9ogZSmEu"
      },
      "id": "b4Qv9ogZSmEu",
      "execution_count": null,
      "outputs": []
    },
    {
      "cell_type": "markdown",
      "source": [
        "#### Ejercicio 4: Crear una Lista con range() y Paso Personalizado\n",
        "\n",
        "Crea una lista con los números que van desde 1 hasta 40, avanzando de 7 en 7 pasos.\n",
        "\n",
        "- Usa la función `range()` junto con `list()` para construirla.\n",
        "- Recuerda que `range(inicio, fin, paso)` no incluye el número final.\n",
        "- Muestra la lista resultante por pantalla.\n"
      ],
      "metadata": {
        "id": "cIx59JcOSm1b"
      },
      "id": "cIx59JcOSm1b"
    },
    {
      "cell_type": "code",
      "source": [],
      "metadata": {
        "id": "RPcNv1eMS2T3"
      },
      "id": "RPcNv1eMS2T3",
      "execution_count": null,
      "outputs": []
    },
    {
      "cell_type": "markdown",
      "source": [
        "#### Ejercicio 5: Lista en Ascenso o Descenso Según el Usuario\n",
        "\n",
        "Crea un programa que:\n",
        "\n",
        "- Pida **dos números al usuario**.\n",
        "- Si el **primer número es mayor que el segundo**, genera una lista en **descenso**.\n",
        "- Si el **primer número es menor que el segundo**, genera una lista en **ascenso**.\n",
        "- Usa la función `range()` con el **paso adecuado** (positivo o negativo).\n",
        "- Muestra la **lista generada** por pantalla.\n"
      ],
      "metadata": {
        "id": "IpOP2JL4S9RH"
      },
      "id": "IpOP2JL4S9RH"
    },
    {
      "cell_type": "code",
      "source": [],
      "metadata": {
        "id": "19VpKMQFS9js"
      },
      "id": "19VpKMQFS9js",
      "execution_count": null,
      "outputs": []
    }
  ],
  "metadata": {
    "colab": {
      "provenance": []
    },
    "language_info": {
      "name": "python"
    },
    "kernelspec": {
      "name": "python3",
      "display_name": "Python 3"
    }
  },
  "nbformat": 4,
  "nbformat_minor": 5
}