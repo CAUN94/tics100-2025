{
  "cells": [
    {
      "cell_type": "markdown",
      "source": [
        "### Ejercicio: Imprimir números del 1 al 10\n",
        "\n",
        "Crea un programa que use un ciclo `for` para imprimir los números del 1 al 10 en una sola línea, separados por comas.\n",
        "\n",
        "**Requisitos:**\n",
        "\n",
        "- Usa `for` con `range()`.\n",
        "- Muestra los números desde el 1 hasta el 10.\n",
        "- Todos los números deben aparecer en una sola línea, separados por comas.\n",
        "- No importa si sale una coma al final.\n",
        "\n",
        "**Ejemplo esperado:**\n",
        "1, 2, 3, 4, 5, 6, 7, 8, 9, 10,\n"
      ],
      "metadata": {
        "id": "TWoFZN9OUW1E"
      },
      "id": "TWoFZN9OUW1E"
    },
    {
      "cell_type": "code",
      "source": [],
      "metadata": {
        "id": "jW5wDK3SUnvN"
      },
      "id": "jW5wDK3SUnvN",
      "execution_count": null,
      "outputs": []
    },
    {
      "cell_type": "markdown",
      "source": [
        "### Ejercicio: Sumar los números del 6 al 17\n",
        "\n",
        "Utilizando un ciclo `for`, suma todos los números desde el 6 hasta el 17 (incluidos ambos extremos) y muestra el resultado final por pantalla.\n",
        "\n",
        "**Requisitos:**\n",
        "- No puedes utilizar funciones de bibliotecas como `math`.\n",
        "- Usa `range()` y una variable acumuladora (`total`, `suma` o similar).\n",
        "- Imprime el resultado final.\n"
      ],
      "metadata": {
        "id": "3vmE01r7WaXt"
      },
      "id": "3vmE01r7WaXt"
    },
    {
      "cell_type": "code",
      "source": [],
      "metadata": {
        "id": "QP1e65CkWbZn"
      },
      "id": "QP1e65CkWbZn",
      "execution_count": null,
      "outputs": []
    },
    {
      "cell_type": "markdown",
      "source": [
        "### Ejercicio: Calcular el Factorial sin usar librerías\n",
        "\n",
        "Crea un programa que:\n",
        "\n",
        "- Pida al usuario un número entero positivo.\n",
        "- Calcule el **factorial** de ese número **sin usar la librería `math`**.\n",
        "- El factorial de un número `n` (representado como `n!`) es el resultado de multiplicar todos los números desde 1 hasta `n`.\n",
        "\n",
        "Por ejemplo:\n",
        "\n",
        "- 5! = 1 × 2 × 3 × 4 × 5 = 120\n",
        "\n",
        "El programa debe mostrar el resultado por pantalla.\n",
        "\n",
        "\n"
      ],
      "metadata": {
        "id": "5feSSjOYbsTq"
      },
      "id": "5feSSjOYbsTq"
    },
    {
      "cell_type": "code",
      "source": [],
      "metadata": {
        "id": "7TcJolCfbskU"
      },
      "id": "7TcJolCfbskU",
      "execution_count": null,
      "outputs": []
    },
    {
      "cell_type": "markdown",
      "source": [
        "### Ejercicio: Filtrar Números Pares en un Rango Personalizado\n",
        "\n",
        "Usando la función `range()`, recorre todos los números entre 3 y 200, avanzando de 17 en 17 pasos.\n",
        "\n",
        "Tu programa debe:\n",
        "\n",
        "- Usar un ciclo `for` para recorrer los valores de `range(3, 200, 17)`.\n",
        "- Verificar si cada número es **par** (es decir, divisible por 2).\n",
        "- Imprimir solamente los números **pares**.\n",
        "\n",
        "**Sugerencia**: Recuerde como funciona el comando num1%num2\n",
        "\n"
      ],
      "metadata": {
        "id": "rTORj1M6bwYj"
      },
      "id": "rTORj1M6bwYj"
    },
    {
      "cell_type": "code",
      "source": [],
      "metadata": {
        "id": "zr4udVe_bv16"
      },
      "id": "zr4udVe_bv16",
      "execution_count": null,
      "outputs": []
    },
    {
      "cell_type": "markdown",
      "source": [
        "### Ejercicio: Mostrar una Lista de Palabras en Orden Inverso Usando `for`\n",
        "\n",
        "Tienes la siguiente lista de palabras:\n",
        "\n",
        "```python\n",
        "palabras = [\"sol\", \"luna\", \"estrella\", \"planeta\", \"galaxia\", \"cometa\", \"meteorito\", \"universo\", \"cielo\", \"espacio\"]\n",
        "```\n",
        "\n",
        "\n",
        "Tu tarea es recorrer esta lista e imprimir sus elementos desde el final hacia el inicio, es decir, en orden inverso.\n",
        "\n",
        "Requisitos:\n",
        "\n",
        "* Debes usar exclusivamente un ciclo for.\n",
        "\n",
        "* No se permite utilizar funciones como reversed().\n",
        "\n",
        "* El resultado debe mostrar cada palabra en una línea distinta, comenzando por \"espacio\" y terminando en \"sol\"."
      ],
      "metadata": {
        "id": "ZyTqkRL9cZeg"
      },
      "id": "ZyTqkRL9cZeg"
    },
    {
      "cell_type": "code",
      "source": [
        "palabras = [\"sol\", \"luna\", \"estrella\", \"planeta\", \"galaxia\", \"cometa\", \"meteorito\", \"universo\", \"cielo\", \"espacio\"]"
      ],
      "metadata": {
        "id": "wpNgGKgAcrVN"
      },
      "id": "wpNgGKgAcrVN",
      "execution_count": null,
      "outputs": []
    },
    {
      "cell_type": "markdown",
      "source": [
        "### Ejercicio: Eliminar espacios de una palabra o frase\n",
        "\n",
        "Crea un programa que:\n",
        "\n",
        "- Pida al usuario una palabra o frase.\n",
        "- Elimine todos los espacios contenidos en esa frase.\n",
        "- Muestre el resultado final sin espacios.\n",
        "\n",
        "**Ejemplo:**\n",
        "\n",
        "Entrada del usuario:  \n"
      ],
      "metadata": {
        "id": "2SkFLRvfWoZx"
      },
      "id": "2SkFLRvfWoZx"
    },
    {
      "cell_type": "code",
      "source": [],
      "metadata": {
        "id": "JQ51JK4WWn6d"
      },
      "id": "JQ51JK4WWn6d",
      "execution_count": null,
      "outputs": []
    },
    {
      "cell_type": "markdown",
      "source": [
        "### Ejercicio: Lista de estudiantes y sus notas\n",
        "\n",
        "Crea un programa que haga lo siguiente:\n",
        "\n",
        "1. Pida al usuario cuántos estudiantes desea ingresar.\n",
        "2. Para cada estudiante, solicita su nombre y guárdalo en una lista llamada `nombres`.\n",
        "3. Luego, para cada estudiante, solicita su nota final y guárdala en una lista llamada `notas`.\n",
        "4. Al final, muestra ambas listas completas en pantalla.\n",
        "\n",
        "**Objetivo:** Practicar el uso de listas y ciclos `for` para almacenar información relacionada.\n",
        "\n",
        "**Ejemplo esperado:**\n",
        "\n",
        "```\n",
        "Cantidad de estudiantes: 2\n",
        "Nombre del estudiante 1: Ana\n",
        "Nota final: 6.2\n",
        "Nombre del estudiante 2: Luis\n",
        "Nota final: 5.4\n",
        "```"
      ],
      "metadata": {
        "id": "KXSU2AyhW_NO"
      },
      "id": "KXSU2AyhW_NO"
    },
    {
      "cell_type": "code",
      "source": [],
      "metadata": {
        "id": "o4K1by9IXAWs"
      },
      "id": "o4K1by9IXAWs",
      "execution_count": null,
      "outputs": []
    },
    {
      "cell_type": "markdown",
      "source": [
        "### Ejercicio: Verificar si un número es primo\n",
        "\n",
        "Crea un programa que:\n",
        "\n",
        "1. Pida al usuario un número entero mayor a 1.\n",
        "2. Use un ciclo `for` para verificar si el número es primo.\n",
        "3. Un número es primo si **solo es divisible por 1 y por sí mismo**.\n",
        "4. El programa debe imprimir si el número **es primo** o **no es primo**.\n",
        "\n",
        "**Ejemplo esperado:**\n",
        "\n",
        "```\n",
        "Ingresa un número: 7\n",
        "Resultado: El número 7 es primo.\n",
        "```\n",
        "\n",
        "```\n",
        "Ingresa un número: 8\n",
        "Resultado: El número 8 no es primo.\n",
        "```\n",
        "\n"
      ],
      "metadata": {
        "id": "n8szUfKkXScO"
      },
      "id": "n8szUfKkXScO"
    },
    {
      "cell_type": "code",
      "source": [],
      "metadata": {
        "id": "zFoTHtZqXTJm"
      },
      "id": "zFoTHtZqXTJm",
      "execution_count": null,
      "outputs": []
    }
  ],
  "metadata": {
    "colab": {
      "provenance": []
    },
    "language_info": {
      "name": "python"
    },
    "kernelspec": {
      "name": "python3",
      "display_name": "Python 3"
    }
  },
  "nbformat": 4,
  "nbformat_minor": 5
}