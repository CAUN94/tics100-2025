{
  "nbformat": 4,
  "nbformat_minor": 0,
  "metadata": {
    "colab": {
      "provenance": []
    },
    "kernelspec": {
      "name": "python3",
      "display_name": "Python 3"
    },
    "language_info": {
      "name": "python"
    }
  },
  "cells": [
    {
      "cell_type": "markdown",
      "source": [
        "## Introducción al ciclo `while` en Python\n",
        "\n",
        "El ciclo `while` es una estructura de control que permite **repetir una acción mientras se cumpla una condición lógica**. Es decir, el bloque de código dentro del `while` se seguirá ejecutando **mientras la condición sea verdadera (`True`)**.\n",
        "\n",
        "Este tipo de ciclo es especialmente útil cuando **no sabemos de antemano cuántas veces se repetirá la acción**. A diferencia del `for`, que recorre una secuencia definida, el `while` depende del resultado de una condición que puede cambiar con el tiempo.\n",
        "\n",
        "---\n",
        "\n",
        "### ¿Por qué usar un ciclo `while`?\n",
        "\n",
        "Usamos `while` cuando necesitamos que el programa siga ejecutando una tarea **hasta que pase algo**.\n",
        "\n",
        "Ejemplos típicos:\n",
        "\n",
        "- Seguir pidiendo al usuario que escriba una contraseña hasta que sea correcta.\n",
        "- Mantener activo un menú hasta que el usuario decida salir.\n",
        "- Repetir una operación matemática hasta que se alcance un valor deseado.\n",
        "\n",
        "---\n",
        "\n",
        "### Sintaxis básica\n",
        "\n",
        "```python\n",
        "while condición:\n",
        "    # Bloque de código que se ejecuta mientras la condición sea True\n",
        "```\n",
        "\n",
        "- condición: una expresión que se evalúa antes de cada repetición. Si es True, se ejecuta el bloque. Si es False, el bucle termina.\n",
        "- Es importante que dentro del bloque ocurra algo que eventualmente cambie el valor de la condición, o el ciclo se repetirá indefinidamente (bucle infinito)."
      ],
      "metadata": {
        "id": "EZsm5hFgcDn_"
      }
    },
    {
      "cell_type": "code",
      "execution_count": null,
      "metadata": {
        "id": "qBw_G9Eob8j2"
      },
      "outputs": [],
      "source": [
        "contador = 1\n",
        "\n",
        "while contador <= 5:\n",
        "    print(\"Número:\", contador)\n",
        "    contador += 1\n"
      ]
    },
    {
      "cell_type": "markdown",
      "source": [
        "Explicación:\n",
        "\n",
        "- **contador** comienza en 1.\n",
        "- Mientras contador sea menor o igual a 5, se imprime su valor.\n",
        "- En cada vuelta del ciclo, se incrementa contador en 1.\n",
        "- Cuando contador llega a 6, la condición contador <= 5 deja de cumplirse, y el ciclo se detiene.\n",
        "\n",
        "Cuidados importantes\n",
        "\n",
        "- Asegúrate siempre de que la condición eventualmente se volverá False.\n",
        "- De lo contrario, puedes crear un bucle infinito, que no termina nunca y puede hacer que el programa se congele."
      ],
      "metadata": {
        "id": "nXUQrotrcg5n"
      }
    },
    {
      "cell_type": "markdown",
      "source": [
        "### Ejemplo: Pedir una palabra hasta que sea correcta\n",
        "\n",
        "Este código sigue solicitando una palabra al usuario hasta que escriba exactamente \"python\"."
      ],
      "metadata": {
        "id": "HkRVQFyMdADA"
      }
    },
    {
      "cell_type": "code",
      "source": [
        "palabra = \"\"\n",
        "\n",
        "while palabra != \"python\":\n",
        "    palabra = input(\"Escribe la palabra mágica: \")\n",
        "\n",
        "print(\"¡Correcto! Has escrito python.\")"
      ],
      "metadata": {
        "id": "-G_fIw0GdAYz"
      },
      "execution_count": null,
      "outputs": []
    },
    {
      "cell_type": "markdown",
      "source": [
        "### Ejemplo 2: Números al azar hasta encontrar uno divisible por 7\n",
        "\n",
        "Este código genera números aleatorios entre 1 y 100 hasta que aparece uno divisible por 7."
      ],
      "metadata": {
        "id": "rzdNSt6QdN6Z"
      }
    },
    {
      "cell_type": "code",
      "source": [
        "import random\n",
        "\n",
        "numero = 1  # Valor inicial cualquiera\n",
        "\n",
        "while numero % 7 != 0:\n",
        "    numero = random.randint(1, 100)\n",
        "    print(\"Número generado:\", numero)\n",
        "\n",
        "print(\"¡Número divisible por 7 encontrado!\")\n"
      ],
      "metadata": {
        "id": "828fLthMdPyS"
      },
      "execution_count": null,
      "outputs": []
    },
    {
      "cell_type": "markdown",
      "source": [
        "### Ejemplo: Acumulando números hasta alcanzar un límite\n",
        "\n",
        "Este ejemplo va sumando números del 1 en adelante, y se detiene cuando la suma llega a 100 o más."
      ],
      "metadata": {
        "id": "oKCPWHJedRD6"
      }
    },
    {
      "cell_type": "code",
      "source": [
        "suma = 0\n",
        "numero = 1\n",
        "\n",
        "while suma < 100:\n",
        "    suma = suma + numero\n",
        "    print(f\"Número: {numero}, Suma acumulada: {suma}\")\n",
        "    numero += 1\n",
        "\n",
        "print(\"Se ha alcanzado una suma de 100 o más.\")\n"
      ],
      "metadata": {
        "id": "KB9D21ZKdWAq"
      },
      "execution_count": null,
      "outputs": []
    },
    {
      "cell_type": "markdown",
      "source": [
        "---\n",
        "\n",
        "## Notas importantes sobre el ciclo `while`\n",
        "\n",
        "- El ciclo `while` ejecuta un bloque de código **mientras una condición sea verdadera**.\n",
        "- A diferencia de `for`, `while` **no recorre automáticamente una secuencia**. Tú debes encargarte de que el ciclo avance, o se repetirá para siempre.\n",
        "\n",
        "---\n",
        "\n",
        "## Recomendaciones clave\n",
        "\n",
        "- **Cuidado con los bucles infinitos**: si la condición nunca deja de ser verdadera, el ciclo nunca terminará. Asegúrate de que dentro del ciclo haya algo que eventualmente la vuelva falsa.\n",
        "\n",
        "```python\n",
        "# Esto es un bucle infinito\n",
        "while True:\n",
        "    print(\"Esto nunca terminará...\")\n",
        "\n",
        "# Siempre usar una condición de salida\n",
        "\n",
        "---\n",
        "\n",
        "Cuándo usar while en lugar de for\n",
        "\n",
        "Usa while cuando:\n",
        "\n",
        "- No sabes cuántas veces se repetirá el ciclo.\n",
        "- Quieres repetir hasta que ocurra algo (ej. el usuario adivina una palabra).\n",
        "- Estás esperando una condición dinámica que puede cambiar según la lógica del programa."
      ],
      "metadata": {
        "id": "W5BLgbFNdZEv"
      }
    },
    {
      "cell_type": "markdown",
      "source": [
        "### Ejercicio 1: Contador hasta 10\n",
        "\n",
        "Crea un programa que imprima los números del 1 al 10 utilizando un ciclo while."
      ],
      "metadata": {
        "id": "QqWTHm40eS9p"
      }
    },
    {
      "cell_type": "code",
      "source": [
        "num = 1\n",
        "\n",
        "while num <= 10:\n",
        "  print(num)\n",
        "  num = num + 1"
      ],
      "metadata": {
        "id": "jrxztuUUdngA"
      },
      "execution_count": null,
      "outputs": []
    },
    {
      "cell_type": "markdown",
      "source": [
        "### Ejercicio 2: Suma acumulada\n",
        "\n",
        "Solicita números al usuario hasta que escriba \"0\". Al final, muestra la suma total de todos los números ingresados (sin incluir el 0)."
      ],
      "metadata": {
        "id": "fG_lhOpjeWoz"
      }
    },
    {
      "cell_type": "code",
      "source": [
        "suma = 0\n",
        "while num != 0:\n",
        "  num = int(input('Número: '))\n",
        "  suma = suma + num"
      ],
      "metadata": {
        "id": "oR7_qCkReZN6"
      },
      "execution_count": null,
      "outputs": []
    },
    {
      "cell_type": "markdown",
      "source": [
        "### Ejercicio 3: Adivinar el número secreto\n",
        "\n",
        "El programa debe tener un número secreto (por ejemplo, 7). Pide al usuario que lo adivine y sigue pidiendo hasta que lo acierte. Luego imprime un mensaje de felicitación."
      ],
      "metadata": {
        "id": "02whnvBHecZq"
      }
    },
    {
      "cell_type": "code",
      "source": [
        "numero_secreto = 7 #Esto se puede cambiar\n",
        "estado = True\n",
        "while estado:\n",
        "  num = int(input('Dame un número '))\n",
        "  if num == numero_secreto:\n",
        "    print('Correcto')\n",
        "    estado = False\n",
        "  else:\n",
        "    print('Equivocado')"
      ],
      "metadata": {
        "id": "CrZVlOsfegMP"
      },
      "execution_count": null,
      "outputs": []
    },
    {
      "cell_type": "code",
      "source": [
        "numero_secreto = 7 #Esto se puede cambiar\n",
        "num = int(input('Dame un número '))\n",
        "while numero_secreto != num:\n",
        "  print('Equivocado')\n",
        "  num = int(input('Dame un número'))\n",
        "print('Correcto')"
      ],
      "metadata": {
        "id": "C1Pp09bzfrhD"
      },
      "execution_count": null,
      "outputs": []
    },
    {
      "cell_type": "markdown",
      "source": [
        "### Ejercicio 4: Validar una contraseña\n",
        "\n",
        "Solicita al usuario que escriba una contraseña. Sigue preguntando hasta que escriba la correcta (por ejemplo: \"python123\"). Al acertar, muestra \"Acceso concedido\"."
      ],
      "metadata": {
        "id": "7Q3TZFxLeh4W"
      }
    },
    {
      "cell_type": "code",
      "source": [
        "psw = 'Python123'\n",
        "\n",
        "psw_user = int(input('Contraseña '))\n",
        "while psw_user == psw:\n",
        "  print('Equivocado')\n",
        "  psw_user = int(input('Otra contraseña '))\n",
        "print('Acceso Concedido')"
      ],
      "metadata": {
        "id": "Q7adwzFCejQE"
      },
      "execution_count": null,
      "outputs": []
    },
    {
      "cell_type": "markdown",
      "source": [
        "### Ejercicio 5: Palabra sin espacios\n",
        "\n",
        "Pide al usuario una palabra. Si la palabra contiene espacios, vuelve a pedirla. Solo continúa cuando la palabra no tiene espacios. (Usar in para detectar espacios)."
      ],
      "metadata": {
        "id": "9l-7PNbZekB-"
      }
    },
    {
      "cell_type": "code",
      "source": [
        "loop = True\n",
        "\n",
        "while loop:\n",
        "  palabra = input(\"Ingresa una palabra sin espacios: \")\n",
        "  tiene_espacio = False  # Reiniciamos cada vez que se pide una palabra\n",
        "\n",
        "  for letra in palabra:\n",
        "    if letra == \" \":\n",
        "      tiene_espacio = True\n",
        "\n",
        "  if not tiene_espacio:\n",
        "    print(\"¡Palabra válida!\")\n",
        "    loop = False\n",
        "  else:\n",
        "    print(\"La palabra contiene espacios. Intenta nuevamente.\")\n"
      ],
      "metadata": {
        "id": "YQ5sKL7RepNC"
      },
      "execution_count": null,
      "outputs": []
    }
  ]
}