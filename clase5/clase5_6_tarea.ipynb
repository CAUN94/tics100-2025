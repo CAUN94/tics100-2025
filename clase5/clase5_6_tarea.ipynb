{
  "nbformat": 4,
  "nbformat_minor": 0,
  "metadata": {
    "colab": {
      "provenance": []
    },
    "kernelspec": {
      "name": "python3",
      "display_name": "Python 3"
    },
    "language_info": {
      "name": "python"
    }
  },
  "cells": [
    {
      "cell_type": "markdown",
      "source": [
        "### Ejercicio: Registro y análisis de notas de estudiantes\n",
        "\n",
        "Crea un programa que realice las siguientes acciones:\n",
        "\n",
        "1. Solicita al usuario cuántos estudiantes desea registrar.  \n",
        "2. Luego, pide una nota para cada estudiante. (Puedes asumir que es un número decimal entre 1.0 y 7.0).  \n",
        "3. Guarda todas las notas en una lista.  \n",
        "4. Al finalizar, muestra por pantalla lo siguiente:\n",
        "\n",
        "   - La **cantidad total de notas** ingresadas.\n",
        "   - El **promedio** de las notas.\n",
        "   - La **nota más alta** registrada.\n",
        "   - La **nota más baja** registrada.\n",
        "\n",
        "> No se pueden usar funciones como `len()`, `sum()`, `max()` y `min()` para ayudarte con los cálculos.\n"
      ],
      "metadata": {
        "id": "_ghBT28mvo3k"
      }
    },
    {
      "cell_type": "code",
      "source": [],
      "metadata": {
        "id": "toeVvR7pvyoY"
      },
      "execution_count": null,
      "outputs": []
    },
    {
      "cell_type": "markdown",
      "source": [
        "### Ejercicio: Adivina el número secreto\n",
        "\n",
        "Crea un juego interactivo donde el programa realice lo siguiente:\n",
        "\n",
        "1. Genere un número aleatorio entre 1 y 20 usando la librería `random`.\n",
        "2. Solicite al usuario que adivine el número secreto.\n",
        "3. Luego de cada intento del usuario, el programa debe entregar una pista:\n",
        "   - Si el número ingresado es **mayor** que el número secreto, muestra: `\"El número es menor\"`.\n",
        "   - Si el número ingresado es **menor** que el número secreto, muestra: `\"El número es mayor\"`.\n",
        "4. El ciclo debe repetirse **hasta que el usuario acierte** el número.\n",
        "5. Una vez adivinado correctamente, muestra por pantalla:\n",
        "   - Un mensaje de felicitación.\n",
        "   - La **cantidad total de intentos** que fueron necesarios.\n",
        "\n",
        "> Sugerencia: Usa un ciclo `while` para repetir el intento, y una variable para contar los intentos.\n"
      ],
      "metadata": {
        "id": "UPXwyzNRvoyD"
      }
    }
  ]
}