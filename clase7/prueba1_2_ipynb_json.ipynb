{
  "cells": [
    {
      "cell_type": "markdown",
      "id": "64d99b98",
      "metadata": {
        "id": "64d99b98"
      },
      "source": [
        "\n",
        "### 1. Suma Condicionada de Lista\n",
        "\n",
        "**Enunciado:**  \n",
        "Dada una lista de enteros, suma solamente aquellos que sean positivos y estén en posiciones pares (índices 0, 2, 4…).\n",
        "\n",
        "**Ejemplo:**  \n",
        "Lista = [10, -5, 3, 7, 8, -2]  \n",
        "Suma de positivos en posiciones pares = 10 + 3 + 8 = **21**\n"
      ]
    },
    {
      "cell_type": "code",
      "source": [],
      "metadata": {
        "id": "-GIC3ahgLuHE"
      },
      "id": "-GIC3ahgLuHE",
      "execution_count": null,
      "outputs": []
    },
    {
      "cell_type": "markdown",
      "id": "194ff252",
      "metadata": {
        "id": "194ff252"
      },
      "source": [
        "\n",
        "### 2. Lista de Precios y Promociones\n",
        "\n",
        "**Enunciado:**  \n",
        "Dadas dos listas (precios y etiquetas con `True` o `False`), muestra por pantalla los precios con descuento (15%) y sus valores finales. Solo se aplica descuento cuando el valor correspondiente en la segunda lista es `True`.\n",
        "\n",
        "**Ejemplo:**\n",
        "\n",
        "```python\n",
        "precios = [100, 200, 150, 80, 300, 75]\n",
        "promociones = [True, False, True, False, True, False]\n",
        "```\n",
        "\n",
        "Resultado:\n",
        "```\n",
        "Precio original: 100 → Precio con descuento: 85.0  \n",
        "Precio original: 150 → Precio con descuento: 127.5  \n",
        "Precio original: 300 → Precio con descuento: 255.0\n",
        "```\n"
      ]
    },
    {
      "cell_type": "code",
      "source": [],
      "metadata": {
        "id": "JX3tR8JwLuwv"
      },
      "id": "JX3tR8JwLuwv",
      "execution_count": null,
      "outputs": []
    },
    {
      "cell_type": "markdown",
      "id": "65f2ed52",
      "metadata": {
        "id": "65f2ed52"
      },
      "source": [
        "\n",
        "### 3. Cruzamiento de Datos con Índices\n",
        "\n",
        "**Enunciado:**  \n",
        "Dadas dos listas `nombres` y `edades`, muestra los nombres de quienes tienen 18 años o más, y cuántos son en total.\n",
        "\n",
        "**Ejemplo:**\n",
        "\n",
        "```python\n",
        "nombres = ['Ana', 'Luis', 'María', 'Tomás', 'Sofía']\n",
        "edades = [17, 20, 18, 16, 22]\n",
        "```\n",
        "\n",
        "Resultado:\n",
        "```\n",
        "Personas mayores de edad: ['Luis', 'María', 'Sofía']  \n",
        "Cantidad: 3\n",
        "```\n"
      ]
    },
    {
      "cell_type": "code",
      "source": [],
      "metadata": {
        "id": "GpYN2AuTLveU"
      },
      "id": "GpYN2AuTLveU",
      "execution_count": null,
      "outputs": []
    },
    {
      "cell_type": "markdown",
      "id": "19eefbec",
      "metadata": {
        "id": "19eefbec"
      },
      "source": [
        "\n",
        "### 4. Verificar Palíndromo\n",
        "\n",
        "**Enunciado:**  \n",
        "Pide una palabra al usuario y verifica si es un palíndromo (se lee igual de adelante hacia atrás).\n",
        "\n",
        "**Ejemplo:**\n",
        "\n",
        "```\n",
        "Entrada: radar  \n",
        "Resultado: Es un palíndromo\n",
        "```\n"
      ]
    },
    {
      "cell_type": "code",
      "source": [],
      "metadata": {
        "id": "8vSKOIFMLwDB"
      },
      "id": "8vSKOIFMLwDB",
      "execution_count": null,
      "outputs": []
    },
    {
      "cell_type": "markdown",
      "id": "a0068ff7",
      "metadata": {
        "id": "a0068ff7"
      },
      "source": [
        "\n",
        "### 5. Primos Reversibles\n",
        "\n",
        "**Enunciado:**  \n",
        "Muestra todos los números del 1 al 100 que son primos y cuya inversión también es un número primo.\n",
        "\n",
        "**Ejemplo:**\n",
        "\n",
        "```\n",
        "Primos reversibles: 2, 3, 5, 7, 11, 13, 17, 31, 37, 71, 73, 79, 97\n",
        "```\n"
      ]
    },
    {
      "cell_type": "code",
      "source": [],
      "metadata": {
        "id": "TjjByJbWLwdD"
      },
      "id": "TjjByJbWLwdD",
      "execution_count": null,
      "outputs": []
    },
    {
      "cell_type": "markdown",
      "id": "c4af5e26",
      "metadata": {
        "id": "c4af5e26"
      },
      "source": [
        "\n",
        "### 6. Lista Ordenada Ascendentemente\n",
        "\n",
        "**Enunciado:**  \n",
        "Verifica si una lista está ordenada de menor a mayor.\n",
        "\n",
        "**Ejemplo:**\n",
        "\n",
        "```python\n",
        "[1, 2, 3, 4] → Sí  \n",
        "[2, 1, 3] → No\n",
        "```\n"
      ]
    },
    {
      "cell_type": "code",
      "source": [],
      "metadata": {
        "id": "_UnJ0VnTLxC2"
      },
      "id": "_UnJ0VnTLxC2",
      "execution_count": null,
      "outputs": []
    },
    {
      "cell_type": "markdown",
      "id": "ee9dc90a",
      "metadata": {
        "id": "ee9dc90a"
      },
      "source": [
        "\n",
        "### 7. Filtrar Correos\n",
        "\n",
        "**Enunciado:**  \n",
        "Dada una lista de correos, muestra solo los nombres de usuario (lo que está antes del símbolo `@`).\n",
        "\n",
        "**Ejemplo:**\n",
        "\n",
        "```python\n",
        "correos = ['ana@correo.cl', 'luis@gmail.com', 'maria@uai.cl']\n",
        "```\n",
        "\n",
        "Resultado:\n",
        "```\n",
        "['ana', 'luis', 'maria']\n",
        "```\n"
      ]
    },
    {
      "cell_type": "code",
      "source": [],
      "metadata": {
        "id": "BS6IOoC_Lxc6"
      },
      "id": "BS6IOoC_Lxc6",
      "execution_count": null,
      "outputs": []
    },
    {
      "cell_type": "markdown",
      "id": "35c9e85a",
      "metadata": {
        "id": "35c9e85a"
      },
      "source": [
        "\n",
        "### 8. Formato de Archivo Final\n",
        "\n",
        "**Enunciado:**  \n",
        "El usuario entrega dos correos y un formato de archivo. El programa debe generar un nombre combinado en el siguiente formato: `usuario1_usuario2.formato`.\n",
        "\n",
        "**Ejemplo:**\n",
        "\n",
        "```\n",
        "Correos: ana@uai.cl, luis@uai.cl  \n",
        "Formato: pdf  \n",
        "Resultado: ana_luis.pdf\n",
        "```\n"
      ]
    },
    {
      "cell_type": "code",
      "source": [],
      "metadata": {
        "id": "wmO4yoGeLxzR"
      },
      "id": "wmO4yoGeLxzR",
      "execution_count": null,
      "outputs": []
    },
    {
      "cell_type": "markdown",
      "id": "b8b59a47",
      "metadata": {
        "id": "b8b59a47"
      },
      "source": [
        "\n",
        "### 9. Validar Tipo de Dato con `type()`\n",
        "\n",
        "**Enunciado:**  \n",
        "Solicita al usuario que ingrese un valor y muestra su tipo usando la función `type()`.\n",
        "\n",
        "**Ejemplo:**\n",
        "\n",
        "```\n",
        "Valor ingresado: 123 → Tipo: <class 'int'>  \n",
        "Valor ingresado: \"Hola\" → Tipo: <class 'str'>\n",
        "```\n"
      ]
    },
    {
      "cell_type": "code",
      "source": [
        "a = 'hola'\n",
        "b = 1\n",
        "c = 1.2\n",
        "\n",
        "print(type(a))\n",
        "\n",
        "print(type(a).__name__ == 'str')"
      ],
      "metadata": {
        "colab": {
          "base_uri": "https://localhost:8080/"
        },
        "id": "YmSZZ5PVLyIo",
        "outputId": "6e2c62a5-0a37-4ae1-aa7d-072833efe47d"
      },
      "id": "YmSZZ5PVLyIo",
      "execution_count": null,
      "outputs": [
        {
          "output_type": "stream",
          "name": "stdout",
          "text": [
            "<class 'str'>\n",
            "True\n"
          ]
        }
      ]
    },
    {
      "cell_type": "markdown",
      "id": "4be137aa",
      "metadata": {
        "id": "4be137aa"
      },
      "source": [
        "\n",
        "### 10. While que Agrega 5 Int a una Lista\n",
        "\n",
        "**Enunciado:**  \n",
        "Pide al usuario 5 números enteros. Si el valor no es válido, vuelve a pedirlo hasta completarlos.\n",
        "\n",
        "**Ejemplo:**\n",
        "\n",
        "```\n",
        "Entrada válida: [1, 3, 5, 7, 9]\n",
        "```\n"
      ]
    },
    {
      "cell_type": "code",
      "source": [],
      "metadata": {
        "id": "O5n_1IgLLzN6"
      },
      "id": "O5n_1IgLLzN6",
      "execution_count": null,
      "outputs": []
    },
    {
      "cell_type": "markdown",
      "id": "f548e54c",
      "metadata": {
        "id": "f548e54c"
      },
      "source": [
        "\n",
        "### 11. Frase a Lista con `split()` y conteo de letras\n",
        "\n",
        "**Enunciado:**  \n",
        "Convierte una frase a lista con `.split()` y muestra la cantidad de letras de cada palabra.\n",
        "\n",
        "**Ejemplo:**\n",
        "\n",
        "```\n",
        "Frase: Hola mundo desde Python  \n",
        "Resultado: ['Hola', 'mundo', 'desde', 'Python']  \n",
        "Hola → 4 letras  \n",
        "mundo → 5 letras  \n",
        "desde → 5 letras  \n",
        "Python → 6 letras\n",
        "```\n"
      ]
    },
    {
      "cell_type": "code",
      "source": [],
      "metadata": {
        "id": "jMICKKHJNl79"
      },
      "id": "jMICKKHJNl79",
      "execution_count": null,
      "outputs": []
    },
    {
      "cell_type": "markdown",
      "id": "018bb66f",
      "metadata": {
        "id": "018bb66f"
      },
      "source": [
        "\n",
        "### 12. Conteo de Letras en Frase\n",
        "\n",
        "**Enunciado:**  \n",
        "Cuenta cuántas veces aparece cada letra en una frase (ignorando espacios y sin distinguir mayúsculas de minúsculas).\n",
        "\n",
        "**Ejemplo:**\n",
        "\n",
        "```\n",
        "Frase: Hola Mundo  \n",
        "Resultado:  \n",
        "h: 1  \n",
        "o: 2  \n",
        "l: 1  \n",
        "a: 1  \n",
        "m: 1  \n",
        "u: 1  \n",
        "n: 1  \n",
        "d: 1\n",
        "```\n"
      ]
    },
    {
      "cell_type": "code",
      "source": [],
      "metadata": {
        "id": "tjDxdyq6Nm1u"
      },
      "id": "tjDxdyq6Nm1u",
      "execution_count": null,
      "outputs": []
    },
    {
      "cell_type": "markdown",
      "id": "5585890e",
      "metadata": {
        "id": "5585890e"
      },
      "source": [
        "\n",
        "### 13. Generador Aleatorio tipo “Monos”\n",
        "\n",
        "¿Qué es el Teorema del Mono Infinito?\n",
        "\n",
        "El Teorema del Mono Infinito es una idea matemática y filosófica que dice lo siguiente:\n",
        "\n",
        "    \"Un mono tecleando aleatoriamente sobre un teclado durante un tiempo infinito, casi con seguridad escribirá cualquier texto dado, como las obras completas de Shakespeare.\"\n",
        "\n",
        "**Enunciado:**  \n",
        "Pide un nombre (todo en minúsculas). El programa irá generando letras al azar hasta formar ese nombre. Muestra cuántos intentos fueron necesarios.\n",
        "\n",
        "**Ejemplo:**\n",
        "\n",
        "```\n",
        "Nombre: ana → ¡Generado en 425 intentos!\n",
        "```\n",
        "\n",
        "**Pista para estudiantes:**  \n",
        "Para verificar si las últimas letras generadas forman el nombre, puedes usar:\n",
        "\n",
        "\n"
      ]
    },
    {
      "cell_type": "code",
      "source": [
        "frase = \"La programación en Python es muy entretenida\"\n",
        "ultimos_5 = frase[-5:]  # Tomamos los últimos 5 caracteres\n",
        "print(\"Los últimos 5 caracteres son:\", ultimos_5)\n"
      ],
      "metadata": {
        "id": "uM98KyU4NnhL"
      },
      "id": "uM98KyU4NnhL",
      "execution_count": null,
      "outputs": []
    },
    {
      "cell_type": "code",
      "source": [
        "frase = ''\n",
        "for i in range(51):\n",
        "  c = input()\n",
        "  frase = frase + c\n",
        "print(frase)"
      ],
      "metadata": {
        "id": "FVwwn-l9TUAt"
      },
      "id": "FVwwn-l9TUAt",
      "execution_count": null,
      "outputs": []
    }
  ],
  "metadata": {
    "colab": {
      "provenance": []
    },
    "language_info": {
      "name": "python"
    },
    "kernelspec": {
      "name": "python3",
      "display_name": "Python 3"
    }
  },
  "nbformat": 4,
  "nbformat_minor": 5
}