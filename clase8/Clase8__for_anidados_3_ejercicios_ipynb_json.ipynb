{
  "cells": [
    {
      "cell_type": "markdown",
      "id": "03804e0f",
      "metadata": {
        "id": "03804e0f"
      },
      "source": [
        "# Guía de Ejercicios: Ciclos Anidados y Algoritmos"
      ]
    },
    {
      "cell_type": "markdown",
      "id": "a422012d",
      "metadata": {
        "id": "a422012d"
      },
      "source": [
        "\n",
        "## Ejercicio 1: Combinaciones de Multiplicación y Suma Total\n",
        "\n",
        "**Explicación:**  \n",
        "Solicitar dos números al usuario. Mostrar todas las combinaciones de multiplicaciones posibles entre los dos rangos de números. Finalmente, mostrar la suma total de todos los productos generados.\n",
        "\n",
        "**Ejemplo de salida:**\n",
        "```\n",
        "Ingrese el primer número: 2\n",
        "Ingrese el segundo número: 4\n",
        "2 x 2 = 4\n",
        "2 x 3 = 6\n",
        "2 x 4 = 8\n",
        "3 x 2 = 6\n",
        "3 x 3 = 9\n",
        "3 x 4 = 12\n",
        "4 x 2 = 8\n",
        "4 x 3 = 12\n",
        "4 x 4 = 16\n",
        "Suma total: 81\n",
        "```\n"
      ]
    },
    {
      "cell_type": "code",
      "execution_count": null,
      "id": "d3088e44",
      "metadata": {
        "id": "d3088e44"
      },
      "outputs": [],
      "source": []
    },
    {
      "cell_type": "markdown",
      "id": "d0ad86b0",
      "metadata": {
        "id": "d0ad86b0"
      },
      "source": [
        "\n",
        "## Ejercicio 2: Comparación de Listas de Colores\n",
        "\n",
        "**Explicación:**  \n",
        "Comparar dos listas de colores y contar cuántos colores coinciden.\n",
        "\n",
        "**Ejemplo de salida:**\n",
        "```\n",
        "Lista1: ['rojo', 'azul', 'verde', 'amarillo']\n",
        "Lista2: ['azul', 'verde', 'negro', 'blanco']\n",
        "Colores comunes: ['azul', 'verde']\n",
        "Total comunes: 2\n",
        "```\n"
      ]
    },
    {
      "cell_type": "code",
      "execution_count": null,
      "id": "fad7c639",
      "metadata": {
        "id": "fad7c639"
      },
      "outputs": [],
      "source": [
        "lista1 = ['rojo', 'azul', 'verde', 'amarillo']\n",
        "lista2 = ['azul', 'verde', 'negro', 'blanco']"
      ]
    },
    {
      "cell_type": "code",
      "source": [],
      "metadata": {
        "id": "hxTABkKFNPJP"
      },
      "id": "hxTABkKFNPJP",
      "execution_count": null,
      "outputs": []
    },
    {
      "cell_type": "markdown",
      "source": [
        "# Ejercicio 4: Figura de Símbolos Horizontal\n",
        "\n",
        "Enunciado:\n",
        "A partir de la lista [2, 4, 2, 1, 3, 2], genera una figura horizontal donde:\n",
        "\n",
        "* representa el número de elementos.\n",
        "\n",
        "* llena hasta llegar a 6 columnas.\n",
        "\n",
        "\n",
        "\n",
        "```\n",
        "lista = [2, 4, 2, 1, 3, 2]\n",
        "\n",
        "##---- (2 # y el reesto -)\n",
        "####-- (4 # y el reesto -)\n",
        "##---- (2 # y el reesto -)\n",
        "#----- (1 # y el reesto -)\n",
        "###--- (3 # y el reesto -)\n",
        "##---- (2 # y el reesto -)\n",
        "\n",
        "```\n",
        "\n"
      ],
      "metadata": {
        "id": "4aWNO8LVMEG7"
      },
      "id": "4aWNO8LVMEG7"
    },
    {
      "cell_type": "code",
      "source": [
        "lista = [2, 4, 2, 1, 3, 2]"
      ],
      "metadata": {
        "id": "VQ2oV4O4NLm9"
      },
      "id": "VQ2oV4O4NLm9",
      "execution_count": null,
      "outputs": []
    },
    {
      "cell_type": "markdown",
      "source": [
        "# Ejercicio 4: Figura de Símbolos Vertical\n",
        "\n",
        "Dibuja verticalmente la misma figura que el ejercicio anterior.\n",
        "\n",
        "\n",
        "\n",
        "```\n",
        "##----\n",
        "####--\n",
        "##----\n",
        "#-----\n",
        "###---\n",
        "##----\n",
        "\n",
        "(verticalmente, con # arriba y - abajo).\n",
        "```\n",
        "\n",
        "\n",
        "\n"
      ],
      "metadata": {
        "id": "GwtAXZSEMdwt"
      },
      "id": "GwtAXZSEMdwt"
    },
    {
      "cell_type": "markdown",
      "source": [
        "# Ejercicio 5: Fila de Símbolos Según Número Ingresado\n",
        "\n",
        "Enunciado:\n",
        "\n",
        "Solicita al usuario que ingrese un número. El programa debe dibujar una fila de de acuerdo al número ingresado e ir acumulandolos.\n",
        "\n",
        "*    Si el usuario ingresa un 1, se dibuja 1 símbolo.\n",
        "\n",
        "*   Si el usuario ingresa un 5, se dibujan 5 símbolos.\n",
        "\n",
        "Ejemplo de ejecución:\n",
        "\n",
        "```\n",
        "Ingrese un número: 1\n",
        "#\n",
        "Ingrese un número: 5\n",
        "#\n",
        "#####\n",
        "Ingrese un número: 3\n",
        "#\n",
        "#####\n",
        "###\n",
        "```"
      ],
      "metadata": {
        "id": "HCBx_NZXHr94"
      },
      "id": "HCBx_NZXHr94"
    },
    {
      "cell_type": "code",
      "source": [
        "lista = [2, 4, 2, 1, 3, 2]"
      ],
      "metadata": {
        "id": "T3rDeeMAMsW9"
      },
      "id": "T3rDeeMAMsW9",
      "execution_count": null,
      "outputs": []
    },
    {
      "cell_type": "markdown",
      "source": [
        "# Ejercicio 6: Explicación Paso a Paso de Insertion Sort\n",
        "\n",
        "Ejemplo de ejecución:\n",
        "¿Cómo funciona Insertion Sort?\n",
        "\n",
        "* La idea es ir tomando cada elemento (desde el segundo) e insertarlo en la posición correcta comparándolo hacia la izquierda.\n",
        "\n",
        "* Si es menor que el elemento anterior, se mueve ese elemento hacia la derecha y el nuevo número busca su lugar correcto.\n",
        "\n",
        "* Esto se repite hasta que toda la parte izquierda esté ordenada.\n",
        "\n",
        "Explicación Paso a Paso: Insertion Sort\n",
        "Lista inicial:\n",
        "\n",
        "[8, 4, 5, 2, 9]\n",
        "\n",
        "Paso 1: Insertar el segundo número (4)\n",
        "\n",
        "```\n",
        "\n",
        "    Clave (key) = 4\n",
        "\n",
        "    Comparamos 4 con 8 (elemento anterior).\n",
        "\n",
        "    Como 4 < 8, desplazamos el 8 a la derecha.\n",
        "\n",
        "    Insertamos 4 en el primer lugar.\n",
        "```\n",
        "Antes: [8, 4, 5, 2, 9]\n",
        "\n",
        "Cambio: [8, 8, 5, 2, 9]   ← 8 se mueve\n",
        "\n",
        "Resultado: [4, 8, 5, 2, 9]\n",
        "\n",
        "\n",
        "Ahora, los dos primeros elementos [4,8] están ordenados.\n",
        "\n",
        "Paso 2: Insertar el tercer número (5)\n",
        "\n",
        "```\n",
        "\n",
        "    Clave (key) = 5\n",
        "\n",
        "    Comparamos 5 con 8.\n",
        "\n",
        "    5 < 8, movemos 8 una posición a la derecha.\n",
        "\n",
        "    Luego comparamos 5 con 4.\n",
        "\n",
        "    5 > 4, entonces insertamos 5 justo después de 4.\n",
        "```\n",
        "\n",
        "Antes: [4, 8, 5, 2, 9]\n",
        "\n",
        "Cambio: [4, 8, 8, 2, 9]   ← 8 se mueve\n",
        "\n",
        "Resultado: [4, 5, 8, 2, 9]\n",
        "\n",
        "\n",
        "Ahora, [4,5,8] están ordenados.\n",
        "\n",
        "Paso 3: Insertar el cuarto número (2)\n",
        "\n",
        "```\n",
        "\n",
        "    Clave (key) = 2\n",
        "\n",
        "    Comparamos 2 con 8 → 2 < 8, movemos 8.\n",
        "\n",
        "    Comparamos 2 con 5 → 2 < 5, movemos 5.\n",
        "\n",
        "    Comparamos 2 con 4 → 2 < 4, movemos 4.\n",
        "\n",
        "    No quedan más elementos a la izquierda, insertamos 2 en la primera posición.\n",
        "```\n",
        "\n",
        "Antes: [4, 5, 8, 2, 9]\n",
        "\n",
        "Cambio: [4, 5, 8, 8, 9]   ← 8 se mueve\n",
        "\n",
        "Cambio: [4, 5, 5, 8, 9]   ← 5 se mueve\n",
        "\n",
        "Cambio: [4, 4, 5, 8, 9]   ← 4 se mueve\n",
        "\n",
        "Resultado: [2, 4, 5, 8, 9]\n",
        "\n",
        "\n",
        "Ahora, [2,4,5,8] están ordenados.\n",
        "\n",
        "Paso 4: Insertar el quinto número (9)\n",
        "\n",
        "```\n",
        "\n",
        "    Clave (key) = 9\n",
        "\n",
        "    Comparamos 9 con 8.\n",
        "\n",
        "    9 > 8, entonces no se mueve nada.\n",
        "\n",
        "    El 9 ya está en su posición correcta.\n",
        "```\n",
        "Antes: [2, 4, 5, 8, 9]\n",
        "\n",
        "(No se mueve nada)\n",
        "Resultado final: [2, 4, 5, 8, 9]\n",
        "\n",
        "\n",
        "Resumen General\n",
        "\n",
        "\n",
        "Paso    Acción  Resultado\n",
        "1   Insertar 4 → mover 8    [4, 8, 5, 2, 9]\n",
        "\n",
        "2   Insertar 5 → mover 8, colocar 5 [4, 5, 8, 2, 9]\n",
        "\n",
        "3   Insertar 2 → mover 8, 5, 4, colocar 2   [2, 4, 5, 8, 9]\n",
        "\n",
        "4   Insertar 9 → no se mueve    [2, 4, 5, 8, 9]\n"
      ],
      "metadata": {
        "id": "98YcW_V_MoOL"
      },
      "id": "98YcW_V_MoOL"
    },
    {
      "cell_type": "code",
      "source": [
        "lista = [8, 4, 5, 2, 9]"
      ],
      "metadata": {
        "id": "M8kCoO_VNJCt"
      },
      "id": "M8kCoO_VNJCt",
      "execution_count": null,
      "outputs": []
    },
    {
      "cell_type": "markdown",
      "source": [
        "# Ejercicio 7: Calcular Nota Final de Estudiantes\n",
        "\n",
        "Tienes una lista de listas que representa los puntajes de cada prueba. Cada puntaje puede ser 0, 1 o 2.\n",
        "Calcula la nota de cada prueba sumando los puntajes y agregando un punto base. Luego, muestra la nota de cada prueba.\n",
        "\n",
        "\n",
        "\n",
        "```\n",
        "notas = [\n",
        " [2, 1, 0],\n",
        " [1, 2, 1],\n",
        " [0, 1, 2]\n",
        "]\n",
        "\n",
        "Nota prueba 1: 4\n",
        "Nota prueba 2: 5\n",
        "Nota prueba 3: 4\n",
        "\n",
        "```\n",
        "\n"
      ],
      "metadata": {
        "id": "QL04HDPeQ0S7"
      },
      "id": "QL04HDPeQ0S7"
    },
    {
      "cell_type": "code",
      "source": [
        "notas = [\n",
        " [2, 1, 0],\n",
        " [1, 2, 1],\n",
        " [0, 1, 2]\n",
        "]"
      ],
      "metadata": {
        "id": "_C5LAVJUNIis"
      },
      "id": "_C5LAVJUNIis",
      "execution_count": null,
      "outputs": []
    },
    {
      "cell_type": "markdown",
      "source": [
        "# Ejercicio 8: Pirámide en Ascenso y Descenso\n",
        "\n",
        "Solicitar un número al usuario.\n",
        "\n",
        "* El número indica la altura máxima de la pirámide.\n",
        "\n",
        "* Se debe imprimir una pirámide que suba hasta la mitad (aproximadamente), y luego baje.\n",
        "\n",
        "* Si el número es impar, el punto máximo será único.\n",
        "\n",
        "* Si el número es par, se repetirá el nivel máximo dos veces.\n",
        "\n",
        "El crecimiento y la bajada de la pirámide deben ser progresivos.\n",
        "\n",
        "Ejemplo 1: Número impar (n = 5)\n",
        "\n",
        "```\n",
        "#\n",
        "##\n",
        "###\n",
        "##\n",
        "#\n",
        "```\n",
        "\n",
        "Ejemplo 2: Número par (n = 6)\n",
        "\n",
        "```\n",
        "#\n",
        "##\n",
        "###\n",
        "###\n",
        "##\n",
        "#\n",
        "```\n",
        "\n",
        "Primero crecemos (i de 1 hasta (n+1)//2).\n",
        "\n",
        "Después descendemos (i desde (n//2) hasta 1).\n",
        "\n",
        "Para n par, la parte máxima debe repetirse."
      ],
      "metadata": {
        "id": "2Z4F6cSEUoC_"
      },
      "id": "2Z4F6cSEUoC_"
    },
    {
      "cell_type": "code",
      "source": [],
      "metadata": {
        "id": "WwabCII_U50H"
      },
      "id": "WwabCII_U50H",
      "execution_count": null,
      "outputs": []
    }
  ],
  "metadata": {
    "colab": {
      "provenance": []
    },
    "language_info": {
      "name": "python"
    },
    "kernelspec": {
      "name": "python3",
      "display_name": "Python 3"
    }
  },
  "nbformat": 4,
  "nbformat_minor": 5
}