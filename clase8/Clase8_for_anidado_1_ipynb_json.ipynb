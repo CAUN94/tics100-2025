{
  "cells": [
    {
      "cell_type": "markdown",
      "id": "917c514b",
      "metadata": {
        "id": "917c514b"
      },
      "source": [
        "\n",
        "# 📚 Clase: Ciclos Anidados en Python (versión extendida)\n",
        "\n",
        "## 1. ¿Qué son los Ciclos Anidados?\n",
        "\n",
        "Un **ciclo anidado** ocurre cuando un bucle está contenido dentro de otro bucle.\n",
        "Cada vez que el ciclo externo da una vuelta, el ciclo interno se ejecuta completamente.\n",
        "\n",
        "**Analogía del reloj**:\n",
        "- Minutero: ciclo interno (da 60 vueltas)\n",
        "- Horario: ciclo externo (avanza solo una vez)\n",
        "\n",
        "Así funcionan los ciclos anidados: por cada avance externo, el interno repite muchas veces.\n",
        "\n",
        "### Detalle técnico:\n",
        "- El **ciclo externo** controla las \"vueltas grandes\".\n",
        "- El **ciclo interno** se ejecuta **completamente** por cada iteración del externo.\n"
      ]
    },
    {
      "cell_type": "markdown",
      "id": "0b9f6820",
      "metadata": {
        "id": "0b9f6820"
      },
      "source": [
        "\n",
        "## 2. ¿Para qué sirven los Ciclos Anidados?\n",
        "\n",
        "- Crear estructuras repetitivas en dos dimensiones (tablas, dibujos, patrones).\n",
        "- Resolver problemas de combinatoria o búsqueda exhaustiva.\n",
        "- Simular comportamientos iterativos más complejos (juegos, matrices).\n",
        "- Procesar imágenes, datos organizados en cuadrículas.\n"
      ]
    },
    {
      "cell_type": "markdown",
      "id": "a21a27aa",
      "metadata": {
        "id": "a21a27aa"
      },
      "source": [
        "\n",
        "## 3. Tipos más comunes de ciclos anidados\n",
        "\n",
        "- `for` dentro de `for`\n",
        "- `for` dentro de `while`\n",
        "- `while` dentro de `for`\n",
        "- `while` dentro de `while`\n",
        "\n",
        "> Nota: No suele ser recomendable anidar más de 2 bucles en programación básica.\n"
      ]
    },
    {
      "cell_type": "markdown",
      "id": "4cd91453",
      "metadata": {
        "id": "4cd91453"
      },
      "source": [
        "\n",
        "## 4. Ejemplo Básico: `for` dentro de `for`\n"
      ]
    },
    {
      "cell_type": "code",
      "execution_count": null,
      "id": "32667de2",
      "metadata": {
        "id": "32667de2"
      },
      "outputs": [],
      "source": [
        "\n",
        "contador_externo = 1\n",
        "\n",
        "for i in range(3):\n",
        "    print(f\"Inicio del ciclo externo {contador_externo}, i = {i}\")\n",
        "    contador_externo += 1\n",
        "    contador_interno = 1\n",
        "\n",
        "    for j in range(3):\n",
        "        print(f\"  Inicio del ciclo interno {contador_interno}, j = {j}\")\n",
        "        print(f\"    (i, j) = ({i}, {j})\")\n",
        "        contador_interno += 1\n"
      ]
    },
    {
      "cell_type": "markdown",
      "id": "7652d6f9",
      "metadata": {
        "id": "7652d6f9"
      },
      "source": [
        "\n",
        "# 🛠 Ejercicios de Aplicación de Ciclos Anidados\n"
      ]
    },
    {
      "cell_type": "markdown",
      "id": "49b1f2ea",
      "metadata": {
        "id": "49b1f2ea"
      },
      "source": [
        "\n",
        "## Ejercicio 1: Crear una pirámide de números\n",
        "\n",
        "Crear un triángulo donde cada fila muestra números desde 1 hasta el número de la fila.\n",
        "\n",
        "Altura: 5\n",
        "\n",
        "**Salida esperada**:\n",
        "```\n",
        "1\n",
        "1 2\n",
        "1 2 3\n",
        "1 2 3 4\n",
        "1 2 3 4 5\n",
        "```\n"
      ]
    },
    {
      "cell_type": "markdown",
      "id": "215e1059",
      "metadata": {
        "id": "215e1059"
      },
      "source": [
        "\n",
        "## Ejercicio 2: Crear un triángulo invertido de números\n",
        "\n",
        "Crear un triángulo descendente de números.\n",
        "\n",
        "Altura: 5\n",
        "\n",
        "**Salida esperada**:\n",
        "```\n",
        "1 2 3 4 5\n",
        "1 2 3 4\n",
        "1 2 3\n",
        "1 2\n",
        "1\n",
        "```\n"
      ]
    },
    {
      "cell_type": "markdown",
      "id": "e6fa447b",
      "metadata": {
        "id": "e6fa447b"
      },
      "source": [
        "\n",
        "## Ejercicio 3: Crear un rectángulo lleno\n",
        "\n",
        "Imprimir un rectángulo usando `#` para rellenar.\n",
        "\n",
        "alto = 4\n",
        "\n",
        "ancho = 5\n",
        "\n",
        "\n",
        "**Salida esperada**:\n",
        "```\n",
        "#####\n",
        "#####\n",
        "#####\n",
        "#####\n",
        "```\n"
      ]
    },
    {
      "cell_type": "markdown",
      "id": "603ee60d",
      "metadata": {
        "id": "603ee60d"
      },
      "source": [
        "alto = 4\n",
        "\n",
        "ancho = 5\n",
        "\n",
        "## Ejercicio 4: Crear un rectángulo hueco\n",
        "\n",
        "Imprimir un rectángulo con bordes de `#` y espacio interior.\n",
        "\n",
        "**Salida esperada**:\n",
        "```\n",
        "#####\n",
        "#   #\n",
        "#   #\n",
        "#####\n",
        "```\n"
      ]
    },
    {
      "cell_type": "markdown",
      "id": "72215493",
      "metadata": {
        "id": "72215493"
      },
      "source": [
        "\n",
        "## Ejercicio 5: Generar filas de números aleatorios y sumarlos\n",
        "\n",
        "El usuario ingresa cuántas filas desea. Cada fila tendrá 5 números aleatorios del 1 al 10.\n",
        "Mostrar la suma al final de cada fila.\n",
        "\n",
        "**Salida esperada**:\n",
        "```\n",
        "2 5 8 3 7 : 25\n",
        "6 2 9 4 1 : 22\n",
        "3 3 3 3 3 : 15\n",
        "```\n"
      ]
    },
    {
      "cell_type": "code",
      "source": [],
      "metadata": {
        "id": "cj6MsWkwmqNY"
      },
      "id": "cj6MsWkwmqNY",
      "execution_count": null,
      "outputs": []
    }
  ],
  "metadata": {
    "colab": {
      "provenance": []
    },
    "language_info": {
      "name": "python"
    },
    "kernelspec": {
      "name": "python3",
      "display_name": "Python 3"
    }
  },
  "nbformat": 4,
  "nbformat_minor": 5
}