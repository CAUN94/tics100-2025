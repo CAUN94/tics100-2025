{
  "cells": [
    {
      "cell_type": "markdown",
      "id": "917c514b",
      "metadata": {
        "id": "917c514b"
      },
      "source": [
        "\n",
        "# 📚 Clase: Ciclos Anidados en Python (versión extendida)\n",
        "\n",
        "## 1. ¿Qué son los Ciclos Anidados?\n",
        "\n",
        "Un **ciclo anidado** ocurre cuando un bucle está contenido dentro de otro bucle.\n",
        "Cada vez que el ciclo externo da una vuelta, el ciclo interno se ejecuta completamente.\n",
        "\n",
        "**Analogía del reloj**:\n",
        "- Minutero: ciclo interno (da 60 vueltas)\n",
        "- Horario: ciclo externo (avanza solo una vez)\n",
        "\n",
        "Así funcionan los ciclos anidados: por cada avance externo, el interno repite muchas veces.\n",
        "\n",
        "### Detalle técnico:\n",
        "- El **ciclo externo** controla las \"vueltas grandes\".\n",
        "- El **ciclo interno** se ejecuta **completamente** por cada iteración del externo.\n"
      ]
    },
    {
      "cell_type": "markdown",
      "id": "0b9f6820",
      "metadata": {
        "id": "0b9f6820"
      },
      "source": [
        "\n",
        "## 2. ¿Para qué sirven los Ciclos Anidados?\n",
        "\n",
        "- Crear estructuras repetitivas en dos dimensiones (tablas, dibujos, patrones).\n",
        "- Resolver problemas de combinatoria o búsqueda exhaustiva.\n",
        "- Simular comportamientos iterativos más complejos (juegos, matrices).\n",
        "- Procesar imágenes, datos organizados en cuadrículas.\n"
      ]
    },
    {
      "cell_type": "markdown",
      "id": "a21a27aa",
      "metadata": {
        "id": "a21a27aa"
      },
      "source": [
        "\n",
        "## 3. Tipos más comunes de ciclos anidados\n",
        "\n",
        "- `for` dentro de `for`\n",
        "- `for` dentro de `while`\n",
        "- `while` dentro de `for`\n",
        "- `while` dentro de `while`\n",
        "\n",
        "> Nota: No suele ser recomendable anidar más de 2 bucles en programación básica.\n"
      ]
    },
    {
      "cell_type": "markdown",
      "id": "4cd91453",
      "metadata": {
        "id": "4cd91453"
      },
      "source": [
        "\n",
        "## 4. Ejemplo Básico: `for` dentro de `for`\n"
      ]
    },
    {
      "cell_type": "code",
      "execution_count": null,
      "id": "32667de2",
      "metadata": {
        "id": "32667de2",
        "colab": {
          "base_uri": "https://localhost:8080/"
        },
        "outputId": "be28ef03-ec0e-479f-d591-bca71f14c382"
      },
      "outputs": [
        {
          "output_type": "stream",
          "name": "stdout",
          "text": [
            "Inicio del ciclo externo 1, i = 0\n",
            "  Inicio del ciclo interno 1, j = 0\n",
            "    (i, j) = (0, 0)\n",
            "  Inicio del ciclo interno 2, j = 1\n",
            "    (i, j) = (0, 1)\n",
            "  Inicio del ciclo interno 3, j = 2\n",
            "    (i, j) = (0, 2)\n",
            "Inicio del ciclo externo 2, i = 1\n",
            "  Inicio del ciclo interno 1, j = 0\n",
            "    (i, j) = (1, 0)\n",
            "  Inicio del ciclo interno 2, j = 1\n",
            "    (i, j) = (1, 1)\n",
            "  Inicio del ciclo interno 3, j = 2\n",
            "    (i, j) = (1, 2)\n",
            "Inicio del ciclo externo 3, i = 2\n",
            "  Inicio del ciclo interno 1, j = 0\n",
            "    (i, j) = (2, 0)\n",
            "  Inicio del ciclo interno 2, j = 1\n",
            "    (i, j) = (2, 1)\n",
            "  Inicio del ciclo interno 3, j = 2\n",
            "    (i, j) = (2, 2)\n"
          ]
        }
      ],
      "source": [
        "\n",
        "contador_externo = 1\n",
        "\n",
        "for i in range(3):\n",
        "    print(f\"Inicio del ciclo externo {contador_externo}, i = {i}\")\n",
        "    contador_externo += 1\n",
        "    contador_interno = 1\n",
        "\n",
        "    for j in range(3):\n",
        "        print(f\"  Inicio del ciclo interno {contador_interno}, j = {j}\")\n",
        "        print(f\"    (i, j) = ({i}, {j})\")\n",
        "        contador_interno += 1\n"
      ]
    },
    {
      "cell_type": "code",
      "source": [
        "\n",
        "for n in range(1,2001):\n",
        "  contador = 0\n",
        "  for i in range(1,n+1):\n",
        "    if n%i == 0:\n",
        "      contador = contador + 1\n",
        "\n",
        "  if contador == 2:\n",
        "    print(n,\"es primo\")\n",
        "  #else:\n",
        "    #print(n,\"no es primo\")"
      ],
      "metadata": {
        "colab": {
          "base_uri": "https://localhost:8080/"
        },
        "id": "MFZZTjhfqVxl",
        "outputId": "60ec8de7-30c9-4e50-d38e-950e86fe7acc"
      },
      "id": "MFZZTjhfqVxl",
      "execution_count": null,
      "outputs": [
        {
          "output_type": "stream",
          "name": "stdout",
          "text": [
            "2 es primo\n",
            "3 es primo\n",
            "5 es primo\n",
            "7 es primo\n",
            "11 es primo\n",
            "13 es primo\n",
            "17 es primo\n",
            "19 es primo\n",
            "23 es primo\n",
            "29 es primo\n",
            "31 es primo\n",
            "37 es primo\n",
            "41 es primo\n",
            "43 es primo\n",
            "47 es primo\n",
            "53 es primo\n",
            "59 es primo\n",
            "61 es primo\n",
            "67 es primo\n",
            "71 es primo\n",
            "73 es primo\n",
            "79 es primo\n",
            "83 es primo\n",
            "89 es primo\n",
            "97 es primo\n",
            "101 es primo\n",
            "103 es primo\n",
            "107 es primo\n",
            "109 es primo\n",
            "113 es primo\n",
            "127 es primo\n",
            "131 es primo\n",
            "137 es primo\n",
            "139 es primo\n",
            "149 es primo\n",
            "151 es primo\n",
            "157 es primo\n",
            "163 es primo\n",
            "167 es primo\n",
            "173 es primo\n",
            "179 es primo\n",
            "181 es primo\n",
            "191 es primo\n",
            "193 es primo\n",
            "197 es primo\n",
            "199 es primo\n",
            "211 es primo\n",
            "223 es primo\n",
            "227 es primo\n",
            "229 es primo\n",
            "233 es primo\n",
            "239 es primo\n",
            "241 es primo\n",
            "251 es primo\n",
            "257 es primo\n",
            "263 es primo\n",
            "269 es primo\n",
            "271 es primo\n",
            "277 es primo\n",
            "281 es primo\n",
            "283 es primo\n",
            "293 es primo\n",
            "307 es primo\n",
            "311 es primo\n",
            "313 es primo\n",
            "317 es primo\n",
            "331 es primo\n",
            "337 es primo\n",
            "347 es primo\n",
            "349 es primo\n",
            "353 es primo\n",
            "359 es primo\n",
            "367 es primo\n",
            "373 es primo\n",
            "379 es primo\n",
            "383 es primo\n",
            "389 es primo\n",
            "397 es primo\n",
            "401 es primo\n",
            "409 es primo\n",
            "419 es primo\n",
            "421 es primo\n",
            "431 es primo\n",
            "433 es primo\n",
            "439 es primo\n",
            "443 es primo\n",
            "449 es primo\n",
            "457 es primo\n",
            "461 es primo\n",
            "463 es primo\n",
            "467 es primo\n",
            "479 es primo\n",
            "487 es primo\n",
            "491 es primo\n",
            "499 es primo\n",
            "503 es primo\n",
            "509 es primo\n",
            "521 es primo\n",
            "523 es primo\n",
            "541 es primo\n",
            "547 es primo\n",
            "557 es primo\n",
            "563 es primo\n",
            "569 es primo\n",
            "571 es primo\n",
            "577 es primo\n",
            "587 es primo\n",
            "593 es primo\n",
            "599 es primo\n",
            "601 es primo\n",
            "607 es primo\n",
            "613 es primo\n",
            "617 es primo\n",
            "619 es primo\n",
            "631 es primo\n",
            "641 es primo\n",
            "643 es primo\n",
            "647 es primo\n",
            "653 es primo\n",
            "659 es primo\n",
            "661 es primo\n",
            "673 es primo\n",
            "677 es primo\n",
            "683 es primo\n",
            "691 es primo\n",
            "701 es primo\n",
            "709 es primo\n",
            "719 es primo\n",
            "727 es primo\n",
            "733 es primo\n",
            "739 es primo\n",
            "743 es primo\n",
            "751 es primo\n",
            "757 es primo\n",
            "761 es primo\n",
            "769 es primo\n",
            "773 es primo\n",
            "787 es primo\n",
            "797 es primo\n",
            "809 es primo\n",
            "811 es primo\n",
            "821 es primo\n",
            "823 es primo\n",
            "827 es primo\n",
            "829 es primo\n",
            "839 es primo\n",
            "853 es primo\n",
            "857 es primo\n",
            "859 es primo\n",
            "863 es primo\n",
            "877 es primo\n",
            "881 es primo\n",
            "883 es primo\n",
            "887 es primo\n",
            "907 es primo\n",
            "911 es primo\n",
            "919 es primo\n",
            "929 es primo\n",
            "937 es primo\n",
            "941 es primo\n",
            "947 es primo\n",
            "953 es primo\n",
            "967 es primo\n",
            "971 es primo\n",
            "977 es primo\n",
            "983 es primo\n",
            "991 es primo\n",
            "997 es primo\n",
            "1009 es primo\n",
            "1013 es primo\n",
            "1019 es primo\n",
            "1021 es primo\n",
            "1031 es primo\n",
            "1033 es primo\n",
            "1039 es primo\n",
            "1049 es primo\n",
            "1051 es primo\n",
            "1061 es primo\n",
            "1063 es primo\n",
            "1069 es primo\n",
            "1087 es primo\n",
            "1091 es primo\n",
            "1093 es primo\n",
            "1097 es primo\n",
            "1103 es primo\n",
            "1109 es primo\n",
            "1117 es primo\n",
            "1123 es primo\n",
            "1129 es primo\n",
            "1151 es primo\n",
            "1153 es primo\n",
            "1163 es primo\n",
            "1171 es primo\n",
            "1181 es primo\n",
            "1187 es primo\n",
            "1193 es primo\n",
            "1201 es primo\n",
            "1213 es primo\n",
            "1217 es primo\n",
            "1223 es primo\n",
            "1229 es primo\n",
            "1231 es primo\n",
            "1237 es primo\n",
            "1249 es primo\n",
            "1259 es primo\n",
            "1277 es primo\n",
            "1279 es primo\n",
            "1283 es primo\n",
            "1289 es primo\n",
            "1291 es primo\n",
            "1297 es primo\n",
            "1301 es primo\n",
            "1303 es primo\n",
            "1307 es primo\n",
            "1319 es primo\n",
            "1321 es primo\n",
            "1327 es primo\n",
            "1361 es primo\n",
            "1367 es primo\n",
            "1373 es primo\n",
            "1381 es primo\n",
            "1399 es primo\n",
            "1409 es primo\n",
            "1423 es primo\n",
            "1427 es primo\n",
            "1429 es primo\n",
            "1433 es primo\n",
            "1439 es primo\n",
            "1447 es primo\n",
            "1451 es primo\n",
            "1453 es primo\n",
            "1459 es primo\n",
            "1471 es primo\n",
            "1481 es primo\n",
            "1483 es primo\n",
            "1487 es primo\n",
            "1489 es primo\n",
            "1493 es primo\n",
            "1499 es primo\n",
            "1511 es primo\n",
            "1523 es primo\n",
            "1531 es primo\n",
            "1543 es primo\n",
            "1549 es primo\n",
            "1553 es primo\n",
            "1559 es primo\n",
            "1567 es primo\n",
            "1571 es primo\n",
            "1579 es primo\n",
            "1583 es primo\n",
            "1597 es primo\n",
            "1601 es primo\n",
            "1607 es primo\n",
            "1609 es primo\n",
            "1613 es primo\n",
            "1619 es primo\n",
            "1621 es primo\n",
            "1627 es primo\n",
            "1637 es primo\n",
            "1657 es primo\n",
            "1663 es primo\n",
            "1667 es primo\n",
            "1669 es primo\n",
            "1693 es primo\n",
            "1697 es primo\n",
            "1699 es primo\n",
            "1709 es primo\n",
            "1721 es primo\n",
            "1723 es primo\n",
            "1733 es primo\n",
            "1741 es primo\n",
            "1747 es primo\n",
            "1753 es primo\n",
            "1759 es primo\n",
            "1777 es primo\n",
            "1783 es primo\n",
            "1787 es primo\n",
            "1789 es primo\n",
            "1801 es primo\n",
            "1811 es primo\n",
            "1823 es primo\n",
            "1831 es primo\n",
            "1847 es primo\n",
            "1861 es primo\n",
            "1867 es primo\n",
            "1871 es primo\n",
            "1873 es primo\n",
            "1877 es primo\n",
            "1879 es primo\n",
            "1889 es primo\n",
            "1901 es primo\n",
            "1907 es primo\n",
            "1913 es primo\n",
            "1931 es primo\n",
            "1933 es primo\n",
            "1949 es primo\n",
            "1951 es primo\n",
            "1973 es primo\n",
            "1979 es primo\n",
            "1987 es primo\n",
            "1993 es primo\n",
            "1997 es primo\n",
            "1999 es primo\n"
          ]
        }
      ]
    },
    {
      "cell_type": "code",
      "source": [
        "for i in range(2):\n",
        "  for j in range(20):\n",
        "    print('#',end=\" \")\n",
        "  print()"
      ],
      "metadata": {
        "colab": {
          "base_uri": "https://localhost:8080/"
        },
        "id": "FWc8AkRPrPj_",
        "outputId": "8004f25f-c36c-4be8-920f-62d012504235"
      },
      "id": "FWc8AkRPrPj_",
      "execution_count": null,
      "outputs": [
        {
          "output_type": "stream",
          "name": "stdout",
          "text": [
            "# # # # # # # # # # # # # # # # # # # # \n",
            "# # # # # # # # # # # # # # # # # # # # \n"
          ]
        }
      ]
    },
    {
      "cell_type": "markdown",
      "id": "7652d6f9",
      "metadata": {
        "id": "7652d6f9"
      },
      "source": [
        "\n",
        "# 🛠 Ejercicios de Aplicación de Ciclos Anidados\n"
      ]
    },
    {
      "cell_type": "markdown",
      "id": "49b1f2ea",
      "metadata": {
        "id": "49b1f2ea"
      },
      "source": [
        "\n",
        "## Ejercicio 1: Crear una pirámide de números\n",
        "\n",
        "Crear un triángulo donde cada fila muestra números desde 1 hasta el número de la fila.\n",
        "\n",
        "Altura: 5\n",
        "\n",
        "**Salida esperada**:\n",
        "```\n",
        "1\n",
        "1 2\n",
        "1 2 3\n",
        "1 2 3 4\n",
        "1 2 3 4 5\n",
        "```\n"
      ]
    },
    {
      "cell_type": "code",
      "source": [
        "for i in range(1,6):\n",
        "  print(i,end=\": \")\n",
        "  for j in range(1,i+1):\n",
        "    print(j,end=\" \")\n",
        "  print()"
      ],
      "metadata": {
        "colab": {
          "base_uri": "https://localhost:8080/"
        },
        "id": "tJqGlsGXsKb1",
        "outputId": "239e1f14-2db8-4039-e3ba-fd161f7643ce"
      },
      "id": "tJqGlsGXsKb1",
      "execution_count": 16,
      "outputs": [
        {
          "output_type": "stream",
          "name": "stdout",
          "text": [
            "1: 1 \n",
            "2: 1 2 \n",
            "3: 1 2 3 \n",
            "4: 1 2 3 4 \n",
            "5: 1 2 3 4 5 \n"
          ]
        }
      ]
    },
    {
      "cell_type": "code",
      "source": [
        "for i in range(1,6):\n",
        "  print(i,end=\": \")\n",
        "  for j in range(i,0,-1):\n",
        "    print(j,end=\" \")\n",
        "  print()"
      ],
      "metadata": {
        "colab": {
          "base_uri": "https://localhost:8080/"
        },
        "id": "KhYbgHnXtQqh",
        "outputId": "7cd5f693-dab4-4c64-c840-ee3decf3124c"
      },
      "id": "KhYbgHnXtQqh",
      "execution_count": 19,
      "outputs": [
        {
          "output_type": "stream",
          "name": "stdout",
          "text": [
            "1: 1 \n",
            "2: 2 1 \n",
            "3: 3 2 1 \n",
            "4: 4 3 2 1 \n",
            "5: 5 4 3 2 1 \n"
          ]
        }
      ]
    },
    {
      "cell_type": "code",
      "source": [
        "for i in range(10,0,-1):\n",
        "  print(i,end=\": \")\n",
        "  for j in range(1,i+1):\n",
        "    print(j,end=\" \")\n",
        "  print()"
      ],
      "metadata": {
        "colab": {
          "base_uri": "https://localhost:8080/"
        },
        "id": "C-isBF0mtWio",
        "outputId": "3ec4b813-d5b1-4078-9ef3-89cceda0d4ce"
      },
      "id": "C-isBF0mtWio",
      "execution_count": 21,
      "outputs": [
        {
          "output_type": "stream",
          "name": "stdout",
          "text": [
            "10: 1 2 3 4 5 6 7 8 9 10 \n",
            "9: 1 2 3 4 5 6 7 8 9 \n",
            "8: 1 2 3 4 5 6 7 8 \n",
            "7: 1 2 3 4 5 6 7 \n",
            "6: 1 2 3 4 5 6 \n",
            "5: 1 2 3 4 5 \n",
            "4: 1 2 3 4 \n",
            "3: 1 2 3 \n",
            "2: 1 2 \n",
            "1: 1 \n"
          ]
        }
      ]
    },
    {
      "cell_type": "markdown",
      "id": "215e1059",
      "metadata": {
        "id": "215e1059"
      },
      "source": [
        "\n",
        "## Ejercicio 2: Crear un triángulo invertido de números\n",
        "\n",
        "Crear un triángulo descendente de números.\n",
        "\n",
        "Altura: 5\n",
        "\n",
        "**Salida esperada**:\n",
        "```\n",
        "1 2 3 4 5\n",
        "1 2 3 4\n",
        "1 2 3\n",
        "1 2\n",
        "1\n",
        "```\n"
      ]
    },
    {
      "cell_type": "markdown",
      "id": "e6fa447b",
      "metadata": {
        "id": "e6fa447b"
      },
      "source": [
        "\n",
        "## Ejercicio 3: Crear un rectángulo lleno\n",
        "\n",
        "Imprimir un rectángulo usando `#` para rellenar.\n",
        "\n",
        "alto = 4\n",
        "\n",
        "ancho = 5\n",
        "\n",
        "\n",
        "**Salida esperada**:\n",
        "```\n",
        "#####\n",
        "#####\n",
        "#####\n",
        "#####\n",
        "```\n"
      ]
    },
    {
      "cell_type": "markdown",
      "id": "603ee60d",
      "metadata": {
        "id": "603ee60d"
      },
      "source": [
        "alto = 4\n",
        "\n",
        "ancho = 5\n",
        "\n",
        "## Ejercicio 4: Crear un rectángulo hueco\n",
        "\n",
        "Imprimir un rectángulo con bordes de `#` y espacio interior.\n",
        "\n",
        "**Salida esperada**:\n",
        "```\n",
        "#####\n",
        "#   #\n",
        "#   #\n",
        "#####\n",
        "```\n"
      ]
    },
    {
      "cell_type": "code",
      "source": [
        "n = 20\n",
        "\n",
        "for i in range(n):\n",
        "  for j in range(n):\n",
        "    if i == 0 or j == 0 or i == n-1 or j == n-1:\n",
        "      print(\"#\",end=\"\")\n",
        "    else:\n",
        "      print(\" \",end=\"\")\n",
        "  print()"
      ],
      "metadata": {
        "colab": {
          "base_uri": "https://localhost:8080/"
        },
        "id": "KSjiiAhJvRXI",
        "outputId": "82e33a76-8d2c-4c62-ed06-6b72778bc518"
      },
      "id": "KSjiiAhJvRXI",
      "execution_count": 40,
      "outputs": [
        {
          "output_type": "stream",
          "name": "stdout",
          "text": [
            "####################\n",
            "#                  #\n",
            "#                  #\n",
            "#                  #\n",
            "#                  #\n",
            "#                  #\n",
            "#                  #\n",
            "#                  #\n",
            "#                  #\n",
            "#                  #\n",
            "#                  #\n",
            "#                  #\n",
            "#                  #\n",
            "#                  #\n",
            "#                  #\n",
            "#                  #\n",
            "#                  #\n",
            "#                  #\n",
            "#                  #\n",
            "####################\n"
          ]
        }
      ]
    },
    {
      "cell_type": "markdown",
      "id": "72215493",
      "metadata": {
        "id": "72215493"
      },
      "source": [
        "## Ejercicio 5: Generar filas de números aleatorios y sumarlos\n",
        "\n",
        "El usuario ingresa cuántas filas desea. Cada fila tendrá 5 números aleatorios del 1 al 10.\n",
        "Mostrar la suma al final de cada fila.\n",
        "\n",
        "**Salida esperada**:\n",
        "```\n",
        "2 5 8 3 7 : 25\n",
        "6 2 9 4 1 : 22\n",
        "3 3 3 3 3 : 15\n",
        "```\n"
      ]
    },
    {
      "cell_type": "code",
      "source": [
        "import random\n",
        "\n",
        "filas = 5\n",
        "for i in range(filas):\n",
        "  suma = 0\n",
        "  for j in range(5):\n",
        "    rand = random.randint(1,5)\n",
        "    print(rand,end=\" \")\n",
        "    suma = rand + suma\n",
        "  print(\":\",suma,end=\"\\n\")\n"
      ],
      "metadata": {
        "id": "cj6MsWkwmqNY",
        "colab": {
          "base_uri": "https://localhost:8080/"
        },
        "outputId": "c7e2636a-78f8-4904-aab9-1e7b6c4f0976"
      },
      "id": "cj6MsWkwmqNY",
      "execution_count": 15,
      "outputs": [
        {
          "output_type": "stream",
          "name": "stdout",
          "text": [
            "4 3 2 1 2 : 12\n",
            "5 5 1 3 4 : 18\n",
            "1 4 3 4 1 : 13\n",
            "1 4 3 4 3 : 15\n",
            "2 1 1 3 5 : 12\n"
          ]
        }
      ]
    },
    {
      "cell_type": "code",
      "source": [
        "import random\n",
        "\n",
        "suma = 0\n",
        "for j in range(5):\n",
        "  rand = random.randint(1,5)\n",
        "  print(rand,end=\" \")\n",
        "  suma = suma + rand\n",
        "\n",
        "print(\":\",suma)\n"
      ],
      "metadata": {
        "colab": {
          "base_uri": "https://localhost:8080/"
        },
        "id": "3cSscqb8wt02",
        "outputId": "0c560544-dd44-4849-d4a0-1ee79ad4c4aa"
      },
      "id": "3cSscqb8wt02",
      "execution_count": 13,
      "outputs": [
        {
          "output_type": "stream",
          "name": "stdout",
          "text": [
            "4 1 1 5 2 : 13\n"
          ]
        }
      ]
    }
  ],
  "metadata": {
    "colab": {
      "provenance": []
    },
    "language_info": {
      "name": "python"
    },
    "kernelspec": {
      "name": "python3",
      "display_name": "Python 3"
    }
  },
  "nbformat": 4,
  "nbformat_minor": 5
}