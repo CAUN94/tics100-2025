{
  "cells": [
    {
      "cell_type": "markdown",
      "metadata": {
        "id": "pIWPgO7Hw3o2"
      },
      "source": [
        "## ¿Qué es NumPy?\n",
        "\n",
        "**NumPy** (*Numerical Python*) es una librería fundamental de Python diseñada para la computación científica y numérica. Su objetivo principal es proporcionar una estructura de datos poderosa llamada `ndarray` que permite trabajar con arreglos (vectores y matrices) de manera mucho más rápida y eficiente que las listas tradicionales de Python.\n",
        "\n",
        "---\n",
        "\n",
        "### ¿Por qué usar NumPy y no solo listas?\n",
        "\n",
        "Las listas de Python son muy versátiles, pero cuando se trata de realizar cálculos matemáticos complejos, NumPy ofrece ventajas clave:\n",
        "\n",
        "| Característica             | Listas de Python        | NumPy ndarray                  |\n",
        "|---------------------------|-------------------------|--------------------------------|\n",
        "| Tipado de datos           | Mezcla de tipos         | Homogéneo (todos del mismo tipo) |\n",
        "| Velocidad                 | Más lenta               | Más rápida (escrita en C)      |\n",
        "| Operaciones vectorizadas  | No (requiere bucles)    | Sí (uso directo de operadores) |\n",
        "| Uso de memoria            | Mayor                   | Optimizado y menor             |\n",
        "| Funcionalidad matemática  | Limitada                | Ampliamente soportada          |\n",
        "\n",
        "---\n",
        "\n",
        "### ¿Qué se puede hacer con NumPy?\n",
        "\n",
        "NumPy es ideal para:\n",
        "\n",
        "- Operaciones matemáticas con vectores y matrices.\n",
        "- Álgebra lineal.\n",
        "- Estadística y análisis de datos.\n",
        "- Transformaciones geométricas.\n",
        "- Generación de números aleatorios.\n",
        "- Preparación de datos para machine learning.\n",
        "\n",
        "---\n",
        "\n",
        "### Estructura principal: `ndarray`\n",
        "\n",
        "Un **ndarray** (n-dimensional array) es como una lista de listas (o una tabla), pero mucho más eficiente.\n",
        "\n",
        "#### Ejemplo:\n",
        "```python\n",
        "import numpy as np\n",
        "\n",
        "a = np.array([[1, 2, 3],\n",
        "              [4, 5, 6]])\n",
        "\n",
        "print(a)\n",
        "\n",
        "```\n",
        "\n",
        "```python\n",
        "[[1 2 3]\n",
        " [4 5 6]]\n",
        "\n",
        "```\n"
      ],
      "id": "pIWPgO7Hw3o2"
    },
    {
      "cell_type": "markdown",
      "metadata": {
        "id": "TbNaL3IDw3o4"
      },
      "source": [
        "## ¿Por qué usar NumPy?\n",
        "- Es más **rápido y eficiente** que las listas de Python puras.\n",
        "- Soporta **operaciones vectorizadas** sin necesidad de bucles.\n",
        "- Ideal para estructuras como tableros, imágenes, grillas, cronómetros, etc."
      ],
      "id": "TbNaL3IDw3o4"
    },
    {
      "cell_type": "code",
      "execution_count": null,
      "metadata": {
        "id": "fAElPwAPw3o5"
      },
      "outputs": [],
      "source": [
        "# Importar NumPy\n",
        "import numpy as np"
      ],
      "id": "fAElPwAPw3o5"
    },
    {
      "cell_type": "code",
      "source": [
        "vector1 = [1,2,3]\n",
        "vector2 = [4,5,6]\n",
        "\n",
        "print(vector1)\n",
        "print(vector2)\n",
        "\n",
        "pp = 0\n",
        "for i in range(len(vector1)):\n",
        "  pp = pp + vector1[i]*vector2[i]\n",
        "print(pp)\n",
        "\n",
        "matriz = [\n",
        "    [1,2,3],\n",
        "    [4,5,6],\n",
        "    [7,8,9]\n",
        "  ]\n",
        "\n",
        "for fila in matriz:\n",
        "  print(fila)\n",
        "print()\n",
        "\n",
        "nvector1 = np.array([1,2,3])\n",
        "nvector2 = np.array(vector2)\n",
        "print(nvector1)\n",
        "print(nvector2)\n",
        "\n",
        "print(np.dot(nvector1,nvector2))\n",
        "print(np.cross(nvector1,nvector2))\n",
        "\n",
        "print()\n",
        "nmatriz = np.array(matriz)\n",
        "print(nmatriz)"
      ],
      "metadata": {
        "colab": {
          "base_uri": "https://localhost:8080/"
        },
        "id": "s4w3TPYnb7M9",
        "outputId": "a069011d-3829-48e1-f8c9-7307a3f8c1c1"
      },
      "id": "s4w3TPYnb7M9",
      "execution_count": null,
      "outputs": [
        {
          "output_type": "stream",
          "name": "stdout",
          "text": [
            "[1, 2, 3]\n",
            "[4, 5, 6]\n",
            "32\n",
            "[1, 2, 3]\n",
            "[4, 5, 6]\n",
            "[7, 8, 9]\n",
            "\n",
            "[1 2 3]\n",
            "[4 5 6]\n",
            "32\n",
            "[-3  6 -3]\n",
            "\n",
            "[[1 2 3]\n",
            " [4 5 6]\n",
            " [7 8 9]]\n"
          ]
        }
      ]
    },
    {
      "cell_type": "markdown",
      "source": [
        "## 1. Creación de Arrays\n",
        "\n",
        "### Explicación\n",
        "\n",
        "Un **array** en NumPy es como una lista de Python, pero optimizada para operaciones matemáticas vectorizadas. Se crea utilizando `np.array()`.\n",
        "\n",
        "### Ejemplos"
      ],
      "metadata": {
        "id": "uZyICOG_Ac1-"
      },
      "id": "uZyICOG_Ac1-"
    },
    {
      "cell_type": "code",
      "source": [
        "import numpy as np\n",
        "\n",
        "# Ejemplo 1: Array unidimensional\n",
        "arr1 = np.array([1, 2, 3, 4])\n",
        "print(arr1)\n",
        "\n",
        "print()\n",
        "\n",
        "# Ejemplo 2: Array bidimensional (matriz)\n",
        "arr2 = np.array([[1, 2], [3, 4]])\n",
        "print(arr2)"
      ],
      "metadata": {
        "colab": {
          "base_uri": "https://localhost:8080/"
        },
        "id": "_uxrUS8MAgKM",
        "outputId": "44604555-b238-4ce4-d6c3-a2f1729c4c14"
      },
      "id": "_uxrUS8MAgKM",
      "execution_count": null,
      "outputs": [
        {
          "output_type": "stream",
          "name": "stdout",
          "text": [
            "[1 2 3 4]\n",
            "[[1 2]\n",
            " [3 4]]\n"
          ]
        }
      ]
    },
    {
      "cell_type": "code",
      "source": [
        "v1 = np.array([1,2,3,4])\n",
        "v2 = np.array([5,6,7,8])\n",
        "\n",
        "print(v1+v2)\n",
        "\n",
        "lista1 = [1,2,3,4]\n",
        "lista2 = [5,6,7,8]\n",
        "\n",
        "print(lista1+lista2)\n",
        "\n",
        "print(v1*2)\n",
        "print(lista1*2)\n",
        "\n"
      ],
      "metadata": {
        "colab": {
          "base_uri": "https://localhost:8080/"
        },
        "id": "DCfHanD4ddkO",
        "outputId": "ca0354bb-26bd-4b5d-8e3c-26835c26067a"
      },
      "id": "DCfHanD4ddkO",
      "execution_count": null,
      "outputs": [
        {
          "output_type": "stream",
          "name": "stdout",
          "text": [
            "[ 6  8 10 12]\n",
            "[1, 2, 3, 4, 5, 6, 7, 8]\n",
            "[2 4 6 8]\n",
            "[1, 2, 3, 4, 1, 2, 3, 4]\n"
          ]
        }
      ]
    },
    {
      "cell_type": "code",
      "source": [
        "v = np.array([[1,2,3,4,10],[5,6,7,8,12,4]])\n",
        "\n",
        "print(v)\n"
      ],
      "metadata": {
        "colab": {
          "base_uri": "https://localhost:8080/",
          "height": 193
        },
        "id": "VkS3B4kaeDKG",
        "outputId": "ce7c1485-9ec1-4341-991a-778a3a3e9dac"
      },
      "id": "VkS3B4kaeDKG",
      "execution_count": null,
      "outputs": [
        {
          "output_type": "error",
          "ename": "ValueError",
          "evalue": "setting an array element with a sequence. The requested array has an inhomogeneous shape after 1 dimensions. The detected shape was (2,) + inhomogeneous part.",
          "traceback": [
            "\u001b[0;31m---------------------------------------------------------------------------\u001b[0m",
            "\u001b[0;31mValueError\u001b[0m                                Traceback (most recent call last)",
            "\u001b[0;32m<ipython-input-17-bed28d839e44>\u001b[0m in \u001b[0;36m<cell line: 0>\u001b[0;34m()\u001b[0m\n\u001b[0;32m----> 1\u001b[0;31m \u001b[0mv\u001b[0m \u001b[0;34m=\u001b[0m \u001b[0mnp\u001b[0m\u001b[0;34m.\u001b[0m\u001b[0marray\u001b[0m\u001b[0;34m(\u001b[0m\u001b[0;34m[\u001b[0m\u001b[0;34m[\u001b[0m\u001b[0;36m1\u001b[0m\u001b[0;34m,\u001b[0m\u001b[0;36m2\u001b[0m\u001b[0;34m,\u001b[0m\u001b[0;36m3\u001b[0m\u001b[0;34m,\u001b[0m\u001b[0;36m4\u001b[0m\u001b[0;34m,\u001b[0m\u001b[0;36m10\u001b[0m\u001b[0;34m]\u001b[0m\u001b[0;34m,\u001b[0m\u001b[0;34m[\u001b[0m\u001b[0;36m5\u001b[0m\u001b[0;34m,\u001b[0m\u001b[0;36m6\u001b[0m\u001b[0;34m,\u001b[0m\u001b[0;36m7\u001b[0m\u001b[0;34m,\u001b[0m\u001b[0;36m8\u001b[0m\u001b[0;34m,\u001b[0m\u001b[0;36m12\u001b[0m\u001b[0;34m,\u001b[0m\u001b[0;36m4\u001b[0m\u001b[0;34m]\u001b[0m\u001b[0;34m]\u001b[0m\u001b[0;34m)\u001b[0m\u001b[0;34m\u001b[0m\u001b[0;34m\u001b[0m\u001b[0m\n\u001b[0m\u001b[1;32m      2\u001b[0m \u001b[0;34m\u001b[0m\u001b[0m\n\u001b[1;32m      3\u001b[0m \u001b[0mprint\u001b[0m\u001b[0;34m(\u001b[0m\u001b[0mv\u001b[0m\u001b[0;34m)\u001b[0m\u001b[0;34m\u001b[0m\u001b[0;34m\u001b[0m\u001b[0m\n",
            "\u001b[0;31mValueError\u001b[0m: setting an array element with a sequence. The requested array has an inhomogeneous shape after 1 dimensions. The detected shape was (2,) + inhomogeneous part."
          ]
        }
      ]
    },
    {
      "cell_type": "markdown",
      "source": [
        "## 2. Operaciones Matemáticas\n",
        "\n",
        "### Explicación\n",
        "\n",
        "NumPy permite realizar operaciones aritméticas directamente entre arrays, elemento a elemento.\n",
        "\n",
        "### Ejemplos"
      ],
      "metadata": {
        "id": "-8Yd7qHfAiOo"
      },
      "id": "-8Yd7qHfAiOo"
    },
    {
      "cell_type": "code",
      "source": [
        "a = np.array([1, 2, 3])\n",
        "b = np.array([4, 5, 6])\n",
        "\n",
        "# Ejemplo 1: Suma\n",
        "print(a + b)\n",
        "\n",
        "print()\n",
        "\n",
        "# Ejemplo 2: Potencia\n",
        "print(a ** 2)"
      ],
      "metadata": {
        "colab": {
          "base_uri": "https://localhost:8080/"
        },
        "id": "LxHbcIz9Aj6j",
        "outputId": "d70f6f47-f350-4f78-acb3-be033e853086"
      },
      "id": "LxHbcIz9Aj6j",
      "execution_count": null,
      "outputs": [
        {
          "output_type": "stream",
          "name": "stdout",
          "text": [
            "[5 7 9]\n",
            "\n",
            "[1 4 9]\n"
          ]
        }
      ]
    },
    {
      "cell_type": "markdown",
      "source": [
        "## 3. Manipulación de Formas\n",
        "\n",
        "### Explicación\n",
        "\n",
        "Puedes cambiar la forma (shape) de un array con `.reshape()`, por ejemplo, de 1D a 2D."
      ],
      "metadata": {
        "id": "XMtkZIrIAl39"
      },
      "id": "XMtkZIrIAl39"
    },
    {
      "cell_type": "code",
      "source": [
        "# Ejemplo 1: Cambiar de forma\n",
        "a = np.array([1, 2, 3, 4, 5, 6])\n",
        "print(a)\n",
        "print(a.shape)\n",
        "print()\n",
        "b = a.reshape((2, 3))\n",
        "print(b)\n",
        "print(b.shape)\n",
        "\n",
        "print()\n",
        "b = a.reshape((3, 2))\n",
        "print(b)\n",
        "print(b.shape)\n",
        "\n",
        "\n",
        "print()\n",
        "b = a.reshape((6, 1))\n",
        "print(b)\n",
        "print(b.shape)\n",
        "\n",
        "\n",
        "print()\n",
        "\n",
        "# Ejemplo 2: Convertir en una sola fila\n",
        "c = b.reshape((1, 6))\n",
        "print(c)"
      ],
      "metadata": {
        "id": "xO0c7qiSAoBo",
        "colab": {
          "base_uri": "https://localhost:8080/"
        },
        "outputId": "a7055e82-6252-47b8-c7cd-9defc758aa8c"
      },
      "id": "xO0c7qiSAoBo",
      "execution_count": null,
      "outputs": [
        {
          "output_type": "stream",
          "name": "stdout",
          "text": [
            "[1 2 3 4 5 6]\n",
            "(6,)\n",
            "\n",
            "[[1 2 3]\n",
            " [4 5 6]]\n",
            "(2, 3)\n",
            "\n",
            "[[1 2]\n",
            " [3 4]\n",
            " [5 6]]\n",
            "(3, 2)\n",
            "\n",
            "[[1]\n",
            " [2]\n",
            " [3]\n",
            " [4]\n",
            " [5]\n",
            " [6]]\n",
            "(6, 1)\n",
            "\n",
            "[[1 2 3 4 5 6]]\n"
          ]
        }
      ]
    },
    {
      "cell_type": "markdown",
      "source": [
        "## 4. Estadísticas Básicas\n",
        "\n",
        "### Explicación\n",
        "\n",
        "NumPy facilita el cálculo de estadísticas como la media, desviación estándar, suma, máximo y mínimo.\n"
      ],
      "metadata": {
        "id": "_M3b0rmsAp86"
      },
      "id": "_M3b0rmsAp86"
    },
    {
      "cell_type": "code",
      "source": [
        "a = np.array([10, 20, 30, 40, 50])\n",
        "\n",
        "# Ejemplo 1: Promedio\n",
        "print(np.mean(a))\n",
        "\n",
        "print()\n",
        "\n",
        "# Ejemplo 2: Desviación estándar\n",
        "print(np.std(a))"
      ],
      "metadata": {
        "id": "mgZqEtvtAt6S",
        "colab": {
          "base_uri": "https://localhost:8080/"
        },
        "outputId": "9deec1dd-8f6b-462e-d9f5-e3b93da5a7b6"
      },
      "id": "mgZqEtvtAt6S",
      "execution_count": null,
      "outputs": [
        {
          "output_type": "stream",
          "name": "stdout",
          "text": [
            "30.0\n",
            "\n",
            "14.142135623730951\n"
          ]
        }
      ]
    },
    {
      "cell_type": "markdown",
      "source": [
        "## 5. Acceso por Índices\n",
        "\n",
        "### Explicación\n",
        "\n",
        "Puedes acceder a los elementos de un array con índices como en una lista, y también usar slicing (`:`).\n",
        "\n",
        "### Ejemplos"
      ],
      "metadata": {
        "id": "e93Z9kBoAvhR"
      },
      "id": "e93Z9kBoAvhR"
    },
    {
      "cell_type": "code",
      "source": [
        "a = np.array([[1, 2, 3,2,1,2,4,7,1,9], [4, 5, 6,2,1,1,2,3,1,1], [9, 5, 3,2,1,7,2,3,1,1]])\n",
        "print(a)\n",
        "# Ejemplo 1: Acceder al elemento (1,2)\n",
        "print(a[1][2])\n",
        "print(a[1,2])\n",
        "\n",
        "print()\n",
        "\n",
        "print(a[0,:2])\n",
        "print(a[0:2,2:6])"
      ],
      "metadata": {
        "colab": {
          "base_uri": "https://localhost:8080/"
        },
        "id": "4Bel6TmgAx6D",
        "outputId": "2eb3cc95-3c87-4bc0-e412-7e9655ccb83c"
      },
      "id": "4Bel6TmgAx6D",
      "execution_count": null,
      "outputs": [
        {
          "output_type": "stream",
          "name": "stdout",
          "text": [
            "[[1 2 3 2 1 2 4 7 1 9]\n",
            " [4 5 6 2 1 1 2 3 1 1]\n",
            " [9 5 3 2 1 7 2 3 1 1]]\n",
            "6\n",
            "6\n",
            "\n",
            "[1 2]\n",
            "[[3 2 1 2]\n",
            " [6 2 1 1]]\n"
          ]
        }
      ]
    },
    {
      "cell_type": "markdown",
      "source": [
        "## 6. Generación de Arrays y Matrices con 0, 1 o un número\n",
        "\n",
        "### Explicación\n",
        "\n",
        "NumPy tiene funciones especiales como `np.zeros()`, `np.ones()`, `np.full()` para crear arrays con valores específicos.\n",
        "\n",
        "### Ejemplos"
      ],
      "metadata": {
        "id": "A6WjCfkaA3Mc"
      },
      "id": "A6WjCfkaA3Mc"
    },
    {
      "cell_type": "code",
      "source": [
        "# Ejemplo 1: Crear array de ceros\n",
        "a = np.zeros(5)\n",
        "print(a)\n",
        "\n",
        "print()\n",
        "\n",
        "# Ejemplo 2: Crear array lleno con el número 7\n",
        "b = np.full(4, 7)\n",
        "print(b)"
      ],
      "metadata": {
        "id": "5choAuLOA5Vk"
      },
      "id": "5choAuLOA5Vk",
      "execution_count": null,
      "outputs": []
    },
    {
      "cell_type": "code",
      "source": [
        "import numpy as np\n",
        "\n",
        "lista = []\n",
        "for i in range(10):\n",
        "  lista2 = []\n",
        "  for j in range(10):\n",
        "    lista2.append(0)\n",
        "  lista.append(lista2)\n",
        "\n",
        "for fila in lista:\n",
        "  print(fila)"
      ],
      "metadata": {
        "colab": {
          "base_uri": "https://localhost:8080/"
        },
        "id": "6RoXQBeKhMqa",
        "outputId": "b654075d-11fd-4537-a642-c1036833307e"
      },
      "id": "6RoXQBeKhMqa",
      "execution_count": null,
      "outputs": [
        {
          "output_type": "stream",
          "name": "stdout",
          "text": [
            "[0, 0, 0, 0, 0, 0, 0, 0, 0, 0]\n",
            "[0, 0, 0, 0, 0, 0, 0, 0, 0, 0]\n",
            "[0, 0, 0, 0, 0, 0, 0, 0, 0, 0]\n",
            "[0, 0, 0, 0, 0, 0, 0, 0, 0, 0]\n",
            "[0, 0, 0, 0, 0, 0, 0, 0, 0, 0]\n",
            "[0, 0, 0, 0, 0, 0, 0, 0, 0, 0]\n",
            "[0, 0, 0, 0, 0, 0, 0, 0, 0, 0]\n",
            "[0, 0, 0, 0, 0, 0, 0, 0, 0, 0]\n",
            "[0, 0, 0, 0, 0, 0, 0, 0, 0, 0]\n",
            "[0, 0, 0, 0, 0, 0, 0, 0, 0, 0]\n"
          ]
        }
      ]
    },
    {
      "cell_type": "code",
      "source": [
        "import numpy as np\n",
        "\n",
        "lista = np.zeros([10,10])\n",
        "print(lista)"
      ],
      "metadata": {
        "colab": {
          "base_uri": "https://localhost:8080/"
        },
        "id": "dt2jbClThbjL",
        "outputId": "69b8fd57-13e1-479c-b09a-2fd947b0598e"
      },
      "id": "dt2jbClThbjL",
      "execution_count": null,
      "outputs": [
        {
          "output_type": "stream",
          "name": "stdout",
          "text": [
            "[[0. 0. 0. 0. 0. 0. 0. 0. 0. 0.]\n",
            " [0. 0. 0. 0. 0. 0. 0. 0. 0. 0.]\n",
            " [0. 0. 0. 0. 0. 0. 0. 0. 0. 0.]\n",
            " [0. 0. 0. 0. 0. 0. 0. 0. 0. 0.]\n",
            " [0. 0. 0. 0. 0. 0. 0. 0. 0. 0.]\n",
            " [0. 0. 0. 0. 0. 0. 0. 0. 0. 0.]\n",
            " [0. 0. 0. 0. 0. 0. 0. 0. 0. 0.]\n",
            " [0. 0. 0. 0. 0. 0. 0. 0. 0. 0.]\n",
            " [0. 0. 0. 0. 0. 0. 0. 0. 0. 0.]\n",
            " [0. 0. 0. 0. 0. 0. 0. 0. 0. 0.]]\n"
          ]
        }
      ]
    },
    {
      "cell_type": "code",
      "source": [
        "import numpy as np\n",
        "\n",
        "lista = np.full([6,6],\"#\")\n",
        "print(lista)"
      ],
      "metadata": {
        "colab": {
          "base_uri": "https://localhost:8080/"
        },
        "id": "nIVOiucPiArp",
        "outputId": "4271dd03-b49e-400a-d5ec-f43f109b0989"
      },
      "id": "nIVOiucPiArp",
      "execution_count": null,
      "outputs": [
        {
          "output_type": "stream",
          "name": "stdout",
          "text": [
            "[['#' '#' '#' '#' '#' '#']\n",
            " ['#' '#' '#' '#' '#' '#']\n",
            " ['#' '#' '#' '#' '#' '#']\n",
            " ['#' '#' '#' '#' '#' '#']\n",
            " ['#' '#' '#' '#' '#' '#']\n",
            " ['#' '#' '#' '#' '#' '#']]\n"
          ]
        }
      ]
    },
    {
      "cell_type": "markdown",
      "source": [
        "## 7. Generación de Matrices con 0, 1 o un número\n",
        "\n",
        "### Explicación\n",
        "\n",
        "También puedes generar matrices (arrays 2D) con los mismos valores.\n",
        "\n",
        "### Ejemplos"
      ],
      "metadata": {
        "id": "LffFq-IwA7BT"
      },
      "id": "LffFq-IwA7BT"
    },
    {
      "cell_type": "code",
      "source": [
        "# Ejemplo 1: Matriz de 3x3 con unos\n",
        "a = np.zeros((3, 3))\n",
        "print(a)\n",
        "\n",
        "print()\n",
        "\n",
        "# Ejemplo 2: Matriz de 2x4 con valor 9\n",
        "b = np.full((2, 4), 9)\n",
        "print(b)"
      ],
      "metadata": {
        "id": "YN5gWKgZA9Ik",
        "colab": {
          "base_uri": "https://localhost:8080/"
        },
        "outputId": "b20e6ebb-e60d-4d0b-b2be-8805bacdbb3d"
      },
      "id": "YN5gWKgZA9Ik",
      "execution_count": null,
      "outputs": [
        {
          "output_type": "stream",
          "name": "stdout",
          "text": [
            "[[0. 0. 0.]\n",
            " [0. 0. 0.]\n",
            " [0. 0. 0.]]\n",
            "\n",
            "[[9 9 9 9]\n",
            " [9 9 9 9]]\n"
          ]
        }
      ]
    },
    {
      "cell_type": "markdown",
      "source": [
        "## 8. Convertir Arrays en Matrices\n",
        "\n",
        "### Explicación\n",
        "\n",
        "Puedes convertir listas o arrays unidimensionales en matrices 2D usando `.reshape()` o pasando listas de listas.\n",
        "\n",
        "### Ejemplos"
      ],
      "metadata": {
        "id": "K5tnXlsUA_Qr"
      },
      "id": "K5tnXlsUA_Qr"
    },
    {
      "cell_type": "code",
      "source": [
        "# Ejemplo 1: Lista a matriz\n",
        "lista = [1, 2, 3, 4, 5, 6]\n",
        "matriz = np.array(lista).reshape((2, 3))\n",
        "print(matriz)\n",
        "\n",
        "print()\n",
        "\n",
        "# Ejemplo 2: De array 1D a 2D fila\n",
        "a = np.array([7, 8, 9])\n",
        "print(a.reshape((1, 3)))"
      ],
      "metadata": {
        "colab": {
          "base_uri": "https://localhost:8080/"
        },
        "id": "r6c4FBNPBDCS",
        "outputId": "dbb83b46-2bb1-4b00-97ae-c6ea7f74e53e"
      },
      "id": "r6c4FBNPBDCS",
      "execution_count": null,
      "outputs": [
        {
          "output_type": "stream",
          "name": "stdout",
          "text": [
            "[[1 2 3]\n",
            " [4 5 6]]\n",
            "\n",
            "[[7 8 9]]\n"
          ]
        }
      ]
    },
    {
      "cell_type": "markdown",
      "source": [
        "## 9. Propiedades útiles: `.shape`, `.dtype`, `.size`, `.ndim`\n",
        "\n",
        "### Explicación\n",
        "\n",
        "Estas propiedades permiten obtener información clave sobre el array:\n",
        "\n",
        "- `.shape`: Dimensiones (filas, columnas)\n",
        "- `.dtype`: Tipo de dato (int, float, etc.)\n",
        "- `.size`: Total de elementos\n",
        "- `.ndim`: Número de dimensiones\n"
      ],
      "metadata": {
        "id": "Qg6QTHAYBFfh"
      },
      "id": "Qg6QTHAYBFfh"
    },
    {
      "cell_type": "code",
      "source": [
        "a = np.array([[1, 2, 3], [4, 5, 6]])\n",
        "a = np.zeros([3,3,3])\n",
        "print(a)\n",
        "print(a.shape)\n",
        "print(a.shape[0])\n",
        "print(a.shape[1])\n",
        "print(a.dtype)\n",
        "print(a.size)\n",
        "print(a.ndim)"
      ],
      "metadata": {
        "colab": {
          "base_uri": "https://localhost:8080/"
        },
        "id": "IbX-egMpBP5H",
        "outputId": "5ff20140-ba7b-4798-febb-b762f136d208"
      },
      "id": "IbX-egMpBP5H",
      "execution_count": null,
      "outputs": [
        {
          "output_type": "stream",
          "name": "stdout",
          "text": [
            "[[[0. 0. 0.]\n",
            "  [0. 0. 0.]\n",
            "  [0. 0. 0.]]\n",
            "\n",
            " [[0. 0. 0.]\n",
            "  [0. 0. 0.]\n",
            "  [0. 0. 0.]]\n",
            "\n",
            " [[0. 0. 0.]\n",
            "  [0. 0. 0.]\n",
            "  [0. 0. 0.]]]\n",
            "(3, 3, 3)\n",
            "3\n",
            "3\n",
            "float64\n",
            "27\n",
            "3\n"
          ]
        }
      ]
    },
    {
      "cell_type": "markdown",
      "source": [
        "Cuando trabajamos con matrices (o arreglos bidimensionales), el uso de ciclos `for` anidados permite recorrer, modificar o construir estructuras complejas. Con NumPy, esta tarea se hace aún más eficiente y poderosa."
      ],
      "metadata": {
        "id": "GZkUPczzDUl5"
      },
      "id": "GZkUPczzDUl5"
    },
    {
      "cell_type": "markdown",
      "source": [
        "## Creación de matrices con valores específicos\n",
        "\n",
        "### `np.zeros()` — Crear una matriz llena de ceros\n"
      ],
      "metadata": {
        "id": "RWN7DgTsDYx0"
      },
      "id": "RWN7DgTsDYx0"
    },
    {
      "cell_type": "code",
      "source": [
        "import numpy as np\n",
        "matriz_ceros = np.zeros((4, 5), dtype=int)\n",
        "print(matriz_ceros)"
      ],
      "metadata": {
        "id": "4h3FXTRKDZUZ"
      },
      "id": "4h3FXTRKDZUZ",
      "execution_count": null,
      "outputs": []
    },
    {
      "cell_type": "markdown",
      "source": [
        "### `np.ones()` — Crear una matriz llena de unos"
      ],
      "metadata": {
        "id": "PNSiyOkvDgq_"
      },
      "id": "PNSiyOkvDgq_"
    },
    {
      "cell_type": "code",
      "source": [
        "matriz_unos = np.ones((3, 3), dtype=int)\n",
        "print(matriz_unos)"
      ],
      "metadata": {
        "id": "2nzHsC82DVcx"
      },
      "id": "2nzHsC82DVcx",
      "execution_count": null,
      "outputs": []
    },
    {
      "cell_type": "markdown",
      "source": [
        "### `np.full()` — Crear una matriz con un valor específico"
      ],
      "metadata": {
        "id": "gdgcFrKHDlOe"
      },
      "id": "gdgcFrKHDlOe"
    },
    {
      "cell_type": "code",
      "source": [
        "matriz_fijos = np.full((2, 4), 7)\n",
        "print(matriz_fijos)"
      ],
      "metadata": {
        "id": "etCKrU1GDlG6",
        "colab": {
          "base_uri": "https://localhost:8080/"
        },
        "outputId": "02e801cd-9888-440b-ed31-506df1cea7ee"
      },
      "id": "etCKrU1GDlG6",
      "execution_count": null,
      "outputs": [
        {
          "output_type": "stream",
          "name": "stdout",
          "text": [
            "[[7 7 7 7]\n",
            " [7 7 7 7]]\n"
          ]
        }
      ]
    },
    {
      "cell_type": "markdown",
      "source": [
        "### `np.random.randint()` — Crear una matriz con números aleatorios enteros"
      ],
      "metadata": {
        "id": "pUpnPWBpDk_0"
      },
      "id": "pUpnPWBpDk_0"
    },
    {
      "cell_type": "code",
      "source": [
        "matriz_random = np.random.randint(1, 10, size=(20, 20))\n",
        "print(matriz_random)"
      ],
      "metadata": {
        "id": "gTgUr6OsDk3O",
        "colab": {
          "base_uri": "https://localhost:8080/"
        },
        "outputId": "155fbd32-1668-409b-b4b7-ccfa0d717c5e"
      },
      "id": "gTgUr6OsDk3O",
      "execution_count": null,
      "outputs": [
        {
          "output_type": "stream",
          "name": "stdout",
          "text": [
            "[[4 2 3 3 8 6 8 3 8 6 5 2 5 9 8 7 2 6 3 8]\n",
            " [6 6 3 1 2 3 9 7 2 9 3 4 2 8 3 1 8 9 3 4]\n",
            " [9 4 6 5 4 4 9 1 2 4 9 1 2 2 8 7 3 1 5 7]\n",
            " [1 8 6 7 7 4 3 5 8 4 6 3 3 5 3 3 8 1 1 4]\n",
            " [4 4 7 4 2 7 8 2 4 4 5 1 1 4 9 2 5 4 6 8]\n",
            " [2 4 7 3 5 8 4 5 8 5 7 2 8 2 2 9 8 8 7 1]\n",
            " [4 7 3 4 2 4 6 8 3 8 9 4 2 9 2 7 3 6 7 4]\n",
            " [6 9 7 2 2 1 3 4 4 9 7 2 5 4 4 7 8 3 5 9]\n",
            " [4 8 6 7 8 9 8 1 9 8 3 8 1 6 8 8 4 6 2 2]\n",
            " [4 9 3 5 5 9 6 8 9 5 6 6 1 3 8 3 7 7 5 4]\n",
            " [9 1 7 4 7 2 6 5 7 2 8 2 5 4 5 5 6 6 1 1]\n",
            " [8 8 2 9 3 8 6 8 1 3 2 5 5 5 6 2 4 6 6 2]\n",
            " [4 9 7 9 2 7 9 6 2 4 8 4 7 9 2 9 8 9 5 4]\n",
            " [8 6 6 9 6 7 6 6 2 3 1 1 5 5 8 9 7 9 7 8]\n",
            " [1 1 5 6 5 4 1 8 6 7 6 3 3 6 7 1 1 4 8 3]\n",
            " [5 7 4 3 9 2 3 6 7 9 3 6 1 5 6 1 7 1 6 3]\n",
            " [4 9 9 5 7 5 8 2 9 6 9 1 6 2 6 4 4 1 4 9]\n",
            " [4 2 6 3 9 4 9 4 1 3 8 2 7 5 2 9 7 7 4 5]\n",
            " [7 6 2 8 9 7 1 2 1 4 7 4 8 9 8 9 4 7 6 9]\n",
            " [3 7 8 7 3 2 6 9 3 7 5 6 6 3 6 8 2 1 3 7]]\n"
          ]
        }
      ]
    },
    {
      "cell_type": "markdown",
      "source": [
        "## Uso de ciclos `for` para recorrer o modificar matrices\n",
        "\n",
        "### Ejemplo 1: Recorrer todos los elementos"
      ],
      "metadata": {
        "id": "_E9z7eb8Dktm"
      },
      "id": "_E9z7eb8Dktm"
    },
    {
      "cell_type": "code",
      "source": [
        "matriz = np.array([[1, 2], [3, 4]])\n",
        "print(matriz)\n",
        "for fila in matriz:\n",
        "    for valor in fila:\n",
        "        print(valor, end=' ')"
      ],
      "metadata": {
        "id": "42gxIn4uDkfg",
        "colab": {
          "base_uri": "https://localhost:8080/"
        },
        "outputId": "d79416ea-15f0-4a9b-8283-ab2f2c3cbb87"
      },
      "id": "42gxIn4uDkfg",
      "execution_count": null,
      "outputs": [
        {
          "output_type": "stream",
          "name": "stdout",
          "text": [
            "[[1 2]\n",
            " [3 4]]\n",
            "1 2 3 4 "
          ]
        }
      ]
    },
    {
      "cell_type": "markdown",
      "source": [
        "### Ejemplo 2: Reemplazar todos los valores impares por 0"
      ],
      "metadata": {
        "id": "Zp9IrNcDDkK7"
      },
      "id": "Zp9IrNcDDkK7"
    },
    {
      "cell_type": "code",
      "source": [
        "matriz = np.random.randint(1, 10, size=(7, 8))\n",
        "print(matriz)\n",
        "\n",
        "for x in range(matriz.shape[0]):\n",
        "    for y in range(matriz.shape[1]):\n",
        "        if matriz[x,y] % 2 == 0:\n",
        "            matriz[x,y] = 0\n",
        "print(matriz)"
      ],
      "metadata": {
        "id": "kZxJ7w1bDxZH",
        "colab": {
          "base_uri": "https://localhost:8080/"
        },
        "outputId": "f36ae35c-45dc-4722-992a-a708c8de5f19"
      },
      "id": "kZxJ7w1bDxZH",
      "execution_count": null,
      "outputs": [
        {
          "output_type": "stream",
          "name": "stdout",
          "text": [
            "[[9 8 9 5 3 3 3 1]\n",
            " [5 6 2 9 4 3 4 7]\n",
            " [4 6 1 6 5 9 9 7]\n",
            " [7 8 7 6 1 3 4 3]\n",
            " [5 9 8 8 8 7 5 9]\n",
            " [8 9 1 5 8 1 6 5]\n",
            " [8 3 5 5 6 8 1 4]]\n",
            "[[9 0 9 5 3 3 3 1]\n",
            " [5 0 0 9 0 3 0 7]\n",
            " [0 0 1 0 5 9 9 7]\n",
            " [7 0 7 0 1 3 0 3]\n",
            " [5 9 0 0 0 7 5 9]\n",
            " [0 9 1 5 0 1 0 5]\n",
            " [0 3 5 5 0 0 1 0]]\n"
          ]
        }
      ]
    },
    {
      "cell_type": "markdown",
      "source": [
        "## Crear una matriz que dibuje una letra \"O\"\n",
        "\n",
        "Queremos una matriz de `n x n` con 1 en los bordes y 0 en el centro, simulando la letra O.\n",
        "\n",
        "### Ejemplo 1: Tamaño 5x5\n"
      ],
      "metadata": {
        "id": "pZGnWfY7DjlI"
      },
      "id": "pZGnWfY7DjlI"
    },
    {
      "cell_type": "code",
      "source": [
        "n = 5\n",
        "o = np.ones((n, n), dtype=int)\n",
        "for i in range(1, n - 1):\n",
        "    for j in range(1, n - 1):\n",
        "        o[i, j] = 0\n",
        "print(o)"
      ],
      "metadata": {
        "colab": {
          "base_uri": "https://localhost:8080/"
        },
        "id": "CvScRSO3Dj6u",
        "outputId": "67e694bd-c329-4feb-cb10-3fe33e75d355"
      },
      "id": "CvScRSO3Dj6u",
      "execution_count": null,
      "outputs": [
        {
          "output_type": "stream",
          "name": "stdout",
          "text": [
            "[[1 1 1 1 1]\n",
            " [1 0 0 0 1]\n",
            " [1 0 0 0 1]\n",
            " [1 0 0 0 1]\n",
            " [1 1 1 1 1]]\n"
          ]
        }
      ]
    },
    {
      "cell_type": "markdown",
      "source": [
        "### Ejemplo 2: Tamaño 7x7\n",
        "\n",
        "\n"
      ],
      "metadata": {
        "id": "VzuHqot1D5wW"
      },
      "id": "VzuHqot1D5wW"
    },
    {
      "cell_type": "code",
      "source": [
        "n = 7\n",
        "o = np.ones((n, n), dtype=int)\n",
        "for i in range(1, n - 1):\n",
        "    for j in range(1, n - 1):\n",
        "        o[i, j] = 0\n",
        "print(o)"
      ],
      "metadata": {
        "colab": {
          "base_uri": "https://localhost:8080/"
        },
        "id": "XyRZG3_ID5g9",
        "outputId": "3bed7fe5-544f-4dcf-e36e-c43a9b274c51"
      },
      "id": "XyRZG3_ID5g9",
      "execution_count": null,
      "outputs": [
        {
          "output_type": "stream",
          "name": "stdout",
          "text": [
            "[[1 1 1 1 1 1 1]\n",
            " [1 0 0 0 0 0 1]\n",
            " [1 0 0 0 0 0 1]\n",
            " [1 0 0 0 0 0 1]\n",
            " [1 0 0 0 0 0 1]\n",
            " [1 0 0 0 0 0 1]\n",
            " [1 1 1 1 1 1 1]]\n"
          ]
        }
      ]
    },
    {
      "cell_type": "markdown",
      "source": [
        "### Ejemplo 2: Tamaño NxN"
      ],
      "metadata": {
        "id": "LdK_znNAD5XV"
      },
      "id": "LdK_znNAD5XV"
    },
    {
      "cell_type": "code",
      "source": [
        "n = int(input())\n",
        "o = np.ones((n, n), dtype=int)\n",
        "for i in range(1, n - 1):\n",
        "    for j in range(1, n - 1):\n",
        "        o[i, j] = 0\n",
        "print(o)"
      ],
      "metadata": {
        "id": "iOKqKqFDD5PB"
      },
      "id": "iOKqKqFDD5PB",
      "execution_count": null,
      "outputs": []
    },
    {
      "cell_type": "code",
      "source": [
        "n = int(input())\n",
        "\n",
        "o = np.zeros((n,n),dtype=int)\n",
        "print(o)\n",
        "\n",
        "for i in range(o.shape[0]):\n",
        "  for j in range(o.shape[0]):\n",
        "    if i > 0 and i < n-1 and j > 0 and j < n-1:\n",
        "      o[i,j] = 1\n",
        "\n",
        "print()\n",
        "print(o)"
      ],
      "metadata": {
        "colab": {
          "base_uri": "https://localhost:8080/"
        },
        "id": "5ngTSlmojwgM",
        "outputId": "b79b78f5-a9be-4127-c56b-18b91d9ed02b"
      },
      "id": "5ngTSlmojwgM",
      "execution_count": null,
      "outputs": [
        {
          "output_type": "stream",
          "name": "stdout",
          "text": [
            "5\n",
            "[[0 0 0 0 0]\n",
            " [0 0 0 0 0]\n",
            " [0 0 0 0 0]\n",
            " [0 0 0 0 0]\n",
            " [0 0 0 0 0]]\n",
            "\n",
            "[[0 0 0 0 0]\n",
            " [0 1 1 1 0]\n",
            " [0 1 1 1 0]\n",
            " [0 1 1 1 0]\n",
            " [0 0 0 0 0]]\n"
          ]
        }
      ]
    },
    {
      "cell_type": "markdown",
      "source": [
        "# Juego de Gato (Tres en Línea) - Python\n",
        "\n",
        "## Reglas\n",
        "- Tablero de 3x3.\n",
        "- Dos jugadores: X y O.\n",
        "- Gana quien logre una línea de 3 iguales (horizontal, vertical o diagonal).\n",
        "- Si se llenan las 9 casillas y nadie gana, hay empate.\n"
      ],
      "metadata": {
        "id": "axDDhWV5D5G5"
      },
      "id": "axDDhWV5D5G5"
    },
    {
      "cell_type": "markdown",
      "source": [
        "## Paso 1: Crear el tablero vacío\n",
        "\n",
        "Creamos una matriz de 3x3 usando NumPy, rellena con espacios vacíos (`\" \"`), para representar un tablero sin jugadas."
      ],
      "metadata": {
        "id": "-6OFpMVnS-0i"
      },
      "id": "-6OFpMVnS-0i"
    },
    {
      "cell_type": "code",
      "source": [
        "import numpy as np\n",
        "tablero = np.full((3, 3), \" \")"
      ],
      "metadata": {
        "id": "cuh77iH9D49P"
      },
      "id": "cuh77iH9D49P",
      "execution_count": null,
      "outputs": []
    },
    {
      "cell_type": "markdown",
      "source": [
        "## Paso 2: Variables de control\n",
        "\n",
        "Creamos el jugador actual y un contador de turnos."
      ],
      "metadata": {
        "id": "2Bsxt6e1D4mH"
      },
      "id": "2Bsxt6e1D4mH"
    },
    {
      "cell_type": "code",
      "source": [
        "jugador_actual = \"X\"\n",
        "turnos = 0"
      ],
      "metadata": {
        "id": "UrN_IQY0D4Nk"
      },
      "id": "UrN_IQY0D4Nk",
      "execution_count": null,
      "outputs": []
    },
    {
      "cell_type": "markdown",
      "source": [
        "## Paso 3: Ciclo principal del juego\n",
        "\n",
        "Mientras no se completen 9 turnos (máximo de jugadas posibles), pedimos una jugada, validamos la posición y la registramos.\n"
      ],
      "metadata": {
        "id": "o21QJpX7TShs"
      },
      "id": "o21QJpX7TShs"
    },
    {
      "cell_type": "code",
      "source": [
        "while turnos < 9:\n",
        "    print(\"Tablero actual:\")\n",
        "    print(tablero)\n",
        "\n",
        "    print(f\"Turno del jugador {jugador_actual}\")\n",
        "    fila = int(input(\"Ingresa fila (0 a 2): \"))\n",
        "    col = int(input(\"Ingresa columna (0 a 2): \"))\n",
        "\n",
        "    if tablero[fila, col] == \" \":\n",
        "        tablero[fila, col] = jugador_actual\n",
        "        turnos += 1\n",
        "    else:\n",
        "        print(\"Esa casilla ya está ocupada. Intenta otra vez.\")\n",
        "        continue"
      ],
      "metadata": {
        "id": "orEmdWZWTZmA"
      },
      "id": "orEmdWZWTZmA",
      "execution_count": null,
      "outputs": []
    },
    {
      "cell_type": "markdown",
      "source": [
        "## Paso 4: Verificar victoria\n",
        "\n",
        "Revisamos si el jugador actual logró hacer una línea horizontal, vertical o diagonal."
      ],
      "metadata": {
        "id": "cGmyFqgATyzw"
      },
      "id": "cGmyFqgATyzw"
    },
    {
      "cell_type": "code",
      "source": [
        "while turnos < 9:\n",
        "    print(\"Tablero actual:\")\n",
        "    print(tablero)\n",
        "\n",
        "    print(f\"Turno del jugador {jugador_actual}\")\n",
        "    fila = int(input(\"Ingresa fila (0 a 2): \"))\n",
        "    col = int(input(\"Ingresa columna (0 a 2): \"))\n",
        "\n",
        "    if tablero[fila, col] == \" \":\n",
        "        tablero[fila, col] = jugador_actual\n",
        "        turnos += 1\n",
        "    else:\n",
        "        print(\"Esa casilla ya está ocupada. Intenta otra vez.\")\n",
        "        continue\n",
        "\n",
        "# Revisar filas y columnas\n",
        "    for i in range(3):\n",
        "        if tablero[i, 0] == tablero[i, 1] == tablero[i, 2] != \" \":\n",
        "            print(tablero)\n",
        "            print(f\"¡Jugador {jugador_actual} gana por fila {i}!\")\n",
        "            turnos = 9\n",
        "            break\n",
        "        if tablero[0, i] == tablero[1, i] == tablero[2, i] != \" \":\n",
        "            print(tablero)\n",
        "            print(f\"¡Jugador {jugador_actual} gana por columna {i}!\")\n",
        "            turnos = 9\n",
        "            break\n",
        "\n",
        "    # Revisar diagonales\n",
        "    if tablero[0, 0] == tablero[1, 1] == tablero[2, 2] != \" \":\n",
        "        print(tablero)\n",
        "        print(f\"¡Jugador {jugador_actual} gana por diagonal principal!\")\n",
        "        break\n",
        "    if tablero[0, 2] == tablero[1, 1] == tablero[2, 0] != \" \":\n",
        "        print(tablero)\n",
        "        print(f\"¡Jugador {jugador_actual} gana por diagonal secundaria!\")\n",
        "        break"
      ],
      "metadata": {
        "id": "mwqld70JT0C8"
      },
      "id": "mwqld70JT0C8",
      "execution_count": null,
      "outputs": []
    },
    {
      "cell_type": "markdown",
      "source": [
        "## Paso 5: Cambiar de jugador\n",
        "\n",
        "Si nadie ganó aún, se cambia el jugador.\n"
      ],
      "metadata": {
        "id": "CS8692aiUjKk"
      },
      "id": "CS8692aiUjKk"
    },
    {
      "cell_type": "code",
      "source": [
        "while turnos < 9:\n",
        "    print(\"Tablero actual:\")\n",
        "    print(tablero)\n",
        "\n",
        "    print(f\"Turno del jugador {jugador_actual}\")\n",
        "    fila = int(input(\"Ingresa fila (0 a 2): \"))\n",
        "    col = int(input(\"Ingresa columna (0 a 2): \"))\n",
        "\n",
        "    if tablero[fila, col] == \" \":\n",
        "        tablero[fila, col] = jugador_actual\n",
        "        turnos += 1\n",
        "    else:\n",
        "        print(\"Esa casilla ya está ocupada. Intenta otra vez.\")\n",
        "        continue\n",
        "\n",
        "# Revisar filas y columnas\n",
        "    for i in range(3):\n",
        "        if tablero[i, 0] == tablero[i, 1] == tablero[i, 2] != \" \":\n",
        "            print(tablero)\n",
        "            print(f\"¡Jugador {jugador_actual} gana por fila {i}!\")\n",
        "            turnos = 9\n",
        "            break\n",
        "        if tablero[0, i] == tablero[1, i] == tablero[2, i] != \" \":\n",
        "            print(tablero)\n",
        "            print(f\"¡Jugador {jugador_actual} gana por columna {i}!\")\n",
        "            turnos = 9\n",
        "            break\n",
        "\n",
        "    # Revisar diagonales\n",
        "    if tablero[0, 0] == tablero[1, 1] == tablero[2, 2] != \" \":\n",
        "        print(tablero)\n",
        "        print(f\"¡Jugador {jugador_actual} gana por diagonal principal!\")\n",
        "        break\n",
        "    if tablero[0, 2] == tablero[1, 1] == tablero[2, 0] != \" \":\n",
        "        print(tablero)\n",
        "        print(f\"¡Jugador {jugador_actual} gana por diagonal secundaria!\")\n",
        "        break\n",
        "\n",
        "    if jugador_actual == \"X\":\n",
        "        jugador_actual = \"O\"\n",
        "    else:\n",
        "        jugador_actual = \"X\""
      ],
      "metadata": {
        "id": "HE4VvEfaUqZH"
      },
      "id": "HE4VvEfaUqZH",
      "execution_count": null,
      "outputs": []
    },
    {
      "cell_type": "markdown",
      "source": [
        "## Paso 6: Empate\n",
        "\n",
        "Si los turnos se completan sin que nadie gane, se declara empate."
      ],
      "metadata": {
        "id": "MYnHFmhBUwoV"
      },
      "id": "MYnHFmhBUwoV"
    },
    {
      "cell_type": "code",
      "source": [
        "while turnos < 9:\n",
        "    print(\"Tablero actual:\")\n",
        "    print(tablero)\n",
        "\n",
        "    print(f\"Turno del jugador {jugador_actual}\")\n",
        "    fila = int(input(\"Ingresa fila (0 a 2): \"))\n",
        "    col = int(input(\"Ingresa columna (0 a 2): \"))\n",
        "\n",
        "    if tablero[fila, col] == \" \":\n",
        "        tablero[fila, col] = jugador_actual\n",
        "        turnos += 1\n",
        "    else:\n",
        "        print(\"Esa casilla ya está ocupada. Intenta otra vez.\")\n",
        "        continue\n",
        "\n",
        "# Revisar filas y columnas\n",
        "    for i in range(3):\n",
        "        if tablero[i, 0] == tablero[i, 1] == tablero[i, 2] != \" \":\n",
        "            print(tablero)\n",
        "            print(f\"¡Jugador {jugador_actual} gana por fila {i}!\")\n",
        "            turnos = 9\n",
        "            break\n",
        "        if tablero[0, i] == tablero[1, i] == tablero[2, i] != \" \":\n",
        "            print(tablero)\n",
        "            print(f\"¡Jugador {jugador_actual} gana por columna {i}!\")\n",
        "            turnos = 9\n",
        "            break\n",
        "\n",
        "    # Revisar diagonales\n",
        "    if tablero[0, 0] == tablero[1, 1] == tablero[2, 2] != \" \":\n",
        "        print(tablero)\n",
        "        print(f\"¡Jugador {jugador_actual} gana por diagonal principal!\")\n",
        "        break\n",
        "    if tablero[0, 2] == tablero[1, 1] == tablero[2, 0] != \" \":\n",
        "        print(tablero)\n",
        "        print(f\"¡Jugador {jugador_actual} gana por diagonal secundaria!\")\n",
        "        break\n",
        "\n",
        "    if jugador_actual == \"X\":\n",
        "        jugador_actual = \"O\"\n",
        "    else:\n",
        "        jugador_actual = \"X\"\n",
        "\n",
        "    if turnos == 9:\n",
        "      print(tablero)\n",
        "      print(\"¡Empate!\")"
      ],
      "metadata": {
        "id": "x74zUYiTUyFT",
        "colab": {
          "base_uri": "https://localhost:8080/"
        },
        "outputId": "314ef52e-541f-4cb0-d0d4-b2e129920b5d"
      },
      "id": "x74zUYiTUyFT",
      "execution_count": null,
      "outputs": [
        {
          "output_type": "stream",
          "name": "stdout",
          "text": [
            "Tablero actual:\n",
            "[[' ' ' ' ' ']\n",
            " [' ' ' ' ' ']\n",
            " [' ' ' ' ' ']]\n",
            "Turno del jugador X\n",
            "Ingresa fila (0 a 2): 0\n",
            "Ingresa columna (0 a 2): 0\n",
            "Tablero actual:\n",
            "[['X' ' ' ' ']\n",
            " [' ' ' ' ' ']\n",
            " [' ' ' ' ' ']]\n",
            "Turno del jugador O\n",
            "Ingresa fila (0 a 2): 0\n",
            "Ingresa columna (0 a 2): 0\n",
            "Esa casilla ya está ocupada. Intenta otra vez.\n",
            "Tablero actual:\n",
            "[['X' ' ' ' ']\n",
            " [' ' ' ' ' ']\n",
            " [' ' ' ' ' ']]\n",
            "Turno del jugador O\n",
            "Ingresa fila (0 a 2): 0\n",
            "Ingresa columna (0 a 2): 1\n",
            "Tablero actual:\n",
            "[['X' 'O' ' ']\n",
            " [' ' ' ' ' ']\n",
            " [' ' ' ' ' ']]\n",
            "Turno del jugador X\n",
            "Ingresa fila (0 a 2): 1\n",
            "Ingresa columna (0 a 2): 1\n",
            "Tablero actual:\n",
            "[['X' 'O' ' ']\n",
            " [' ' 'X' ' ']\n",
            " [' ' ' ' ' ']]\n",
            "Turno del jugador O\n",
            "Ingresa fila (0 a 2): 0\n",
            "Ingresa columna (0 a 2): 2\n",
            "Tablero actual:\n",
            "[['X' 'O' 'O']\n",
            " [' ' 'X' ' ']\n",
            " [' ' ' ' ' ']]\n",
            "Turno del jugador X\n",
            "Ingresa fila (0 a 2): 2\n",
            "Ingresa columna (0 a 2): 2\n",
            "[['X' 'O' 'O']\n",
            " [' ' 'X' ' ']\n",
            " [' ' ' ' 'X']]\n",
            "¡Jugador X gana por diagonal principal!\n"
          ]
        }
      ]
    }
  ],
  "metadata": {
    "kernelspec": {
      "display_name": "Python 3",
      "language": "python",
      "name": "python3"
    },
    "language_info": {
      "name": "python"
    },
    "colab": {
      "provenance": []
    }
  },
  "nbformat": 4,
  "nbformat_minor": 5
}