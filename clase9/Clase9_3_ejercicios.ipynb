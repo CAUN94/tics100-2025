{
  "cells": [
    {
      "cell_type": "markdown",
      "id": "91af8f89",
      "metadata": {
        "id": "91af8f89"
      },
      "source": [
        "import munpy as np\n",
        "### Ejercicio 1: Crear un Array con Datos del Usuario\n",
        "\n",
        "**Enunciado:**\n",
        "Solicita al usuario ingresar 5 números enteros y crea un array de NumPy con ellos. Luego, imprime el array original y su versión multiplicada por 2.\n",
        "\n",
        "**Objetivo:**\n",
        "Practicar la creación de arrays a partir de entradas del usuario y aplicar operaciones matemáticas vectorizadas.\n",
        "\n",
        "**Ejemplo de salida esperada:**\n",
        "```\n",
        "Ingrese número 1: 1\n",
        "Ingrese número 2: 2\n",
        "Ingrese número 3: 3\n",
        "Ingrese número 4: 4\n",
        "Ingrese número 5: 5\n",
        "Array original: [1 2 3 4 5]\n",
        "Array x 2: [ 2  4  6  8 10]\n",
        "```\n"
      ]
    },
    {
      "cell_type": "markdown",
      "id": "37e62612",
      "metadata": {
        "id": "37e62612"
      },
      "source": [
        "## Ejercicio 2: Crear una matriz identidad\n",
        "\n",
        "**Enunciado:** Crea una matriz identidad (diagonal de puros 1) de tamaño NxN y muéstrala por pantalla.\n",
        "\n",
        "**Ejemplo:**\n",
        "Salida esperada:\n",
        "\n",
        "n = 4\n",
        "\n",
        "```\n",
        "[[1. 0. 0. 0.]\n",
        " [0. 1. 0. 0.]\n",
        " [0. 0. 1. 0.]\n",
        " [0. 0. 0. 1.]]\n",
        " ```"
      ]
    },
    {
      "cell_type": "markdown",
      "id": "7676f65d",
      "metadata": {
        "id": "7676f65d"
      },
      "source": [
        "## Ejercicio 3: Suma de dos matrices generadas aleatoriamente\n",
        "\n",
        "**Enunciado:** Genera dos matrices de tamaño 3x3 con valores aleatorios enteros entre 1 y 9. Luego súmalas y muestra el resultado.\n",
        "\n"
      ]
    },
    {
      "cell_type": "markdown",
      "id": "f52afaf6",
      "metadata": {
        "id": "f52afaf6"
      },
      "source": [
        "## Ejercicio 4: Verificar si una matriz contiene un valor específico\n",
        "\n",
        "**Enunciado:** Crea una matriz de 4x4 con números del 1 al 16 y permite al usuario buscar si un número está presente.\n",
        "\n",
        "**Ejemplo:**\n",
        "Entrada: 13\n",
        "Salida: El número 13 está en la matriz."
      ]
    },
    {
      "cell_type": "markdown",
      "id": "6646d913",
      "metadata": {
        "id": "6646d913"
      },
      "source": [
        "## Ejercicio 5: Reemplazar valores mayores a un umbral\n",
        "\n",
        "**Enunciado:** Genera una matriz 5x5 de valores aleatorios entre 0 y 20. Reemplaza todos los valores mayores a 10 por 0. Mostrar el antes después.\n",
        "\n"
      ]
    },
    {
      "cell_type": "markdown",
      "id": "6f0851a6",
      "metadata": {
        "id": "6f0851a6"
      },
      "source": [
        "## Ejercicio 6: Contar cuántos valores mayores a 10 hay en una matriz\n",
        "\n",
        "**Enunciado:** Crea una matriz 6x6 con valores aleatorios entre 1 y 20. Cuenta cuántos valores son mayores a 10.\n",
        "\n",
        "**Ejemplo:**\n",
        "Salida esperada: 'Hay 19 valores mayores a 10.'"
      ]
    },
    {
      "cell_type": "markdown",
      "id": "0b032c5d",
      "metadata": {
        "id": "0b032c5d"
      },
      "source": [
        "## Ejercicio 7: Crear una letra 'O' en una matriz de asteriscos\n",
        "\n",
        "**Enunciado:** Crea una matriz NxN de asteriscos y deja el interior vacío formando una 'O'.\n",
        "\n",
        "**Ejemplo:**\n",
        "Debe mostrar una forma de 'O' con '#' y espacios."
      ]
    },
    {
      "cell_type": "markdown",
      "id": "63057293",
      "metadata": {
        "id": "63057293"
      },
      "source": [
        "## Ejercicio 8: Juego de adivinanza con matrices\n",
        "\n",
        "**Enunciado:** Crea una matriz 3x3 llena de ceros. Escoge una celda secreta (por ejemplo [1,2]), eres tu contra el juego. El usuario debe adivinar la fila y columna. Si acierta, termina el juego.\n",
        "\n",
        "**Ejemplo:**\n",
        "Salida esperada: '¡Correcto!' si adivina bien."
      ]
    },
    {
      "cell_type": "markdown",
      "id": "cb231060",
      "metadata": {
        "id": "cb231060"
      },
      "source": [
        "## Ejercicio 9: Juego de buscar el número más alto\n",
        "\n",
        "**Enunciado:** Genera una matriz 4x4 de números aleatorios entre 1 y 100. El usuario debe indicar una coordenada (fila y columna) para ver si el número que eligió es el mayor de todos.\n",
        "\n",
        "**Ejemplo:**\n",
        "Entrada: fila=1, columna=2\n",
        "Resultado: 'Correcto, elegiste el número más alto' o 'No, hay un número mayor'"
      ]
    }
  ],
  "metadata": {
    "colab": {
      "provenance": []
    },
    "language_info": {
      "name": "python"
    },
    "kernelspec": {
      "name": "python3",
      "display_name": "Python 3"
    }
  },
  "nbformat": 4,
  "nbformat_minor": 5
}