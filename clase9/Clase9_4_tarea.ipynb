{
  "cells": [
    {
      "cell_type": "markdown",
      "id": "8e16c1c7",
      "metadata": {
        "id": "8e16c1c7"
      },
      "source": [
        "# Tarea: Juego de Memorice Numérico\n",
        "Desarrollar un juego interactivo de memorice en una matriz 4x4 donde el jugador debe encontrar pares de números iguales."
      ]
    },
    {
      "cell_type": "markdown",
      "id": "ef55a454",
      "metadata": {
        "id": "ef55a454"
      },
      "source": [
        "## Objetivo\n",
        "Crear en Python un juego de memorice con una matriz 4x4 (8 pares de números del 1 al 8)."
      ]
    },
    {
      "cell_type": "markdown",
      "id": "1f31601f",
      "metadata": {
        "id": "1f31601f"
      },
      "source": [
        "## Requisitos del Programa\n",
        "1. Crear una matriz oculta de 4x4 con 8 pares de números.\n",
        "2. Crear una matriz de visualización con `*`.\n",
        "3. Mostrar el tablero antes de cada turno.\n",
        "4. Pedir coordenadas para destapar 2 fichas.\n",
        "5. Comparar los valores destapados.\n",
        "6. Si son iguales, dejar visibles; si no, volver a ocultar.\n",
        "7. Mostrar total de intentos al finalizar."
      ]
    },
    {
      "cell_type": "markdown",
      "id": "da9df5e0",
      "metadata": {
        "id": "da9df5e0"
      },
      "source": [
        "## Ejemplo Simplificado de Salida\n",
        "```\n",
        "Tablero Actual:\n",
        "* * * *\n",
        "* * * *\n",
        "* * * *\n",
        "* * * *\n",
        "\n",
        "Turno 1\n",
        "Ingrese fila y columna de la primera ficha (separado por espacio): 1 2\n",
        "Ingrese fila y columna de la segunda ficha (separado por espacio): 2 3\n",
        "\n",
        "Has revelado: 3 y 5 → No coinciden\n",
        "\n",
        "\n",
        "Tablero Actual:\n",
        "* * * *\n",
        "* * * *\n",
        "* * * *\n",
        "* * * *\n",
        "\n",
        "Turno 2\n",
        "Ingrese fila y columna de la primera ficha: 0 0\n",
        "Ingrese fila y columna de la segunda ficha: 2 2\n",
        "\n",
        "Has revelado: 1 y 1 → ¡Coincidencia!\n",
        "\n",
        "Tablero Actual:\n",
        "1 * * *\n",
        "* * * *\n",
        "* * 1 *\n",
        "* * * *\n",
        "\n",
        "Turno 3\n",
        "Ingrese fila y columna de la primera ficha: 3 1\n",
        "Ingrese fila y columna de la segunda ficha: 1 3\n",
        "\n",
        "Has revelado: 4 y 2 → No coinciden\n",
        "\n",
        "Tablero Actual:\n",
        "1 * * *\n",
        "* * * *\n",
        "* * 1 *\n",
        "* * * *\n",
        "\n",
        "Turno 4\n",
        "Ingrese fila y columna de la primera ficha: 1 0\n",
        "Ingrese fila y columna de la segunda ficha: 3 0\n",
        "\n",
        "Has revelado: 2 y 2 → ¡Coincidencia!\n",
        "\n",
        "Tablero Actual:\n",
        "1 * * *\n",
        "2 * * *\n",
        "* * 1 *\n",
        "2 * * *\n",
        "\n",
        "...\n",
        "\n",
        "```\n"
      ]
    }
  ],
  "metadata": {
    "colab": {
      "provenance": []
    }
  },
  "nbformat": 4,
  "nbformat_minor": 5
}