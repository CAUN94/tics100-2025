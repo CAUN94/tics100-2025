{
  "cells": [
    {
      "cell_type": "markdown",
      "id": "30a1e948",
      "metadata": {
        "id": "30a1e948"
      },
      "source": [
        "# Control de flujo en ciclos: `break` y `continue`\n",
        "Los ciclos `for` y `while` permiten repetir acciones, pero a veces es necesario interrumpir o saltar una parte del ciclo según ciertas condiciones. Para eso existen:"
      ]
    },
    {
      "cell_type": "markdown",
      "id": "d9db3fe7",
      "metadata": {
        "id": "d9db3fe7"
      },
      "source": [
        "## `break`\n",
        "- Finaliza el ciclo inmediatamente, aunque la condición siga siendo verdadera (en `while`) o queden elementos por recorrer (en `for`).\n",
        "- Se usa para salir anticipadamente de un ciclo si se encuentra lo que se busca o para evitar ejecuciones innecesarias."
      ]
    },
    {
      "cell_type": "code",
      "execution_count": null,
      "id": "61d2f7d1",
      "metadata": {
        "id": "61d2f7d1",
        "colab": {
          "base_uri": "https://localhost:8080/"
        },
        "outputId": "00f9ab26-bcf3-44b0-d479-165ec30e4b61"
      },
      "outputs": [
        {
          "output_type": "stream",
          "name": "stdout",
          "text": [
            "¡Encontrado! 35\n",
            "0\n"
          ]
        }
      ],
      "source": [
        "# Buscar el primer número divisible por 7\n",
        "import time\n",
        "\n",
        "a = time.time()\n",
        "\n",
        "for i in range(30, 80000000):\n",
        "    if i % 7 == 0:\n",
        "        print(\"¡Encontrado!\", i)\n",
        "        break  # Se detiene el ciclo apenas encuentra un múltiplo de 7\n",
        "\n",
        "b = time.time()\n",
        "\n",
        "print(int(b-a))"
      ]
    },
    {
      "cell_type": "code",
      "source": [
        "# Buscar el primer número divisible por 7\n",
        "import time\n",
        "\n",
        "a = time.time()\n",
        "\n",
        "\n",
        "encontrado = True\n",
        "for i in range(30, 80000000):\n",
        "    if i % 7 == 0 and encontrado == True:\n",
        "        print(\"¡Encontrado!\", i)\n",
        "        encontrado = False\n",
        "\n",
        "b = time.time()\n",
        "\n",
        "print(int(b-a))"
      ],
      "metadata": {
        "colab": {
          "base_uri": "https://localhost:8080/"
        },
        "id": "O_-wWYu8aBwh",
        "outputId": "ac0401d3-0b90-497a-e163-f834f1057ffe"
      },
      "id": "O_-wWYu8aBwh",
      "execution_count": null,
      "outputs": [
        {
          "output_type": "stream",
          "name": "stdout",
          "text": [
            "¡Encontrado! 35\n",
            "8\n"
          ]
        }
      ]
    },
    {
      "cell_type": "markdown",
      "id": "155069a9",
      "metadata": {
        "id": "155069a9"
      },
      "source": [
        "## `continue`\n",
        "- Omite la iteración actual y pasa a la siguiente sin ejecutar el resto del bloque de código.\n",
        "- Se usa cuando queremos evitar ciertos casos, pero seguir con el resto del ciclo."
      ]
    },
    {
      "cell_type": "code",
      "execution_count": null,
      "id": "b9f8b178",
      "metadata": {
        "id": "b9f8b178",
        "colab": {
          "base_uri": "https://localhost:8080/"
        },
        "outputId": "d26ae3d2-28bf-4278-964c-fa384e3d65b6"
      },
      "outputs": [
        {
          "output_type": "stream",
          "name": "stdout",
          "text": [
            "1\n",
            "saltar\n",
            "3\n",
            "saltar\n",
            "5\n",
            "saltar\n",
            "7\n",
            "saltar\n",
            "9\n",
            "saltar\n"
          ]
        }
      ],
      "source": [
        "# Mostrar solo los números impares entre 1 y 10\n",
        "for i in range(1, 11):\n",
        "    if i % 2 == 0:\n",
        "        print('saltar')\n",
        "        continue  # Salta los pares\n",
        "    print(i)"
      ]
    },
    {
      "cell_type": "markdown",
      "id": "7ac686ac",
      "metadata": {
        "id": "7ac686ac"
      },
      "source": [
        "## Ejemplo con `while` y `break`"
      ]
    },
    {
      "cell_type": "code",
      "execution_count": null,
      "id": "a6cd22bb",
      "metadata": {
        "id": "a6cd22bb"
      },
      "outputs": [],
      "source": [
        "# El usuario debe adivinar un número secreto\n",
        "secreto = 7\n",
        "intento = 0\n",
        "\n",
        "while True:\n",
        "    intento = int(input(\"Adivina el número (1-10): \"))\n",
        "    if intento == secreto:\n",
        "        print(\"¡Correcto!\")\n",
        "        break\n",
        "    else:\n",
        "        print(\"Intenta de nuevo.\")"
      ]
    },
    {
      "cell_type": "markdown",
      "id": "31b2871c",
      "metadata": {
        "id": "31b2871c"
      },
      "source": [
        "## Ejemplo con `while` y `continue`"
      ]
    },
    {
      "cell_type": "code",
      "execution_count": null,
      "id": "917c76e5",
      "metadata": {
        "id": "917c76e5"
      },
      "outputs": [],
      "source": [
        "# Pide 5 números, pero ignora los negativos\n",
        "i = 0\n",
        "while i < 5:\n",
        "    numero = int(input(\"Ingresa un número positivo: \"))\n",
        "    if numero < 0:\n",
        "        print(\"Número negativo ignorado.\")\n",
        "        continue  # No suma el contador\n",
        "    print(\"Número aceptado:\", numero)\n",
        "    i += 1"
      ]
    },
    {
      "cell_type": "markdown",
      "id": "d8eddefc",
      "metadata": {
        "id": "d8eddefc"
      },
      "source": [
        "## ✅ Clave:\n",
        "- `break` se usa para salir del ciclo.\n",
        "- `continue` se usa para saltar al siguiente ciclo sin ejecutar el resto."
      ]
    }
  ],
  "metadata": {
    "colab": {
      "provenance": []
    },
    "language_info": {
      "name": "python"
    },
    "kernelspec": {
      "name": "python3",
      "display_name": "Python 3"
    }
  },
  "nbformat": 4,
  "nbformat_minor": 5
}