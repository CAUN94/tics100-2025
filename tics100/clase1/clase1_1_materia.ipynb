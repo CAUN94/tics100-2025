{
 "cells": [
  {
   "cell_type": "markdown",
   "metadata": {},
   "source": [
    "# Bienvenida a la Programación con Python\n",
    "\n",
    "## ¿Qué es Programar?\n",
    "\n",
    "Programar es el proceso de diseñar y construir un programa ejecutable que realice una tarea específica o solucione un problema determinado. Es una habilidad esencial en el mundo moderno, que nos permite automatizar y mejorar procesos en casi todos los campos de estudio y trabajo.\n",
    "\n",
    "## Introducción a Python\n",
    "\n",
    "Python es un lenguaje de programación de alto nivel, interpretado y de propósito general. Fue creado por Guido van Rossum y su primera versión fue lanzada en 1991. Vamos a utilizar Python 3.x.x en este curso, que es la versión más actual y soportada del lenguaje.\n",
    "\n",
    "### Ventajas de Usar Python\n",
    "\n",
    "1. **Facilidad de Aprendizaje**\n",
    "   - Python es conocido por su sintaxis clara y legible, ideal para principiantes y usado ampliamente en la educación.\n",
    "\n",
    "2. **Versatilidad**\n",
    "   - Desde la automatización hasta el desarrollo de inteligencia artificial, Python se adapta a una amplia variedad de aplicaciones, siendo una herramienta valiosa para startups y grandes empresas por igual.\n",
    "\n",
    "3. **Comunidad Activa**\n",
    "   - Python cuenta con una comunidad global de desarrolladores que ofrece soporte, comparte recursos y facilita el aprendizaje continuo.\n",
    "\n",
    "4. **Gran Biblioteca Estándar**\n",
    "   - La extensa biblioteca estándar de Python incluye módulos para realizar una gran variedad de tareas, desde manejar protocolos de internet hasta crear interfaces gráficas.\n",
    "\n",
    "5. **Ahorro Económico y de Tiempo**\n",
    "   - Automatizar tareas repetitivas con Python puede ahorrar horas de trabajo manual y recursos económicos significativos.\n",
    "\n",
    "6. **Gran Rendimiento**\n",
    "   - Aunque Python no es el lenguaje más rápido en términos de tiempo de ejecución, su rendimiento es suficiente para la mayoría de las aplicaciones, permitiendo a los desarrolladores concentrarse en la solución de problemas más que en la optimización del código.\n",
    "\n",
    "7. **Multiplataforma**\n",
    "   - Python es compatible con los principales sistemas operativos, lo que permite ejecutar el mismo código en diferentes plataformas.\n",
    "\n",
    "### ¿Qué se puede hacer con Python?\n",
    "\n",
    "- **Desarrollo Web**: Creación de plataformas y aplicaciones web robustas.\n",
    "- **Aprendizaje Automático**: Implementación de modelos que pueden aprender de los datos y hacer predicciones.\n",
    "- **Desarrollo de Videojuegos**: Creación de juegos desde simples hasta complejos usando librerías como Pygame.\n",
    "- **Automatización de Tareas**: Automatizar procesos de negocios y tareas diarias.\n",
    "- **Extracción y Análisis Web**: Obtener datos de internet y analizarlos para obtener insights.\n",
    "- **Desarrollo de Aplicaciones de Escritorio y Móviles**: Construir aplicaciones que los usuarios pueden instalar en sus dispositivos.\n",
    "- **Ethical Hacking**: Testear y asegurar sistemas contra intrusiones.\n",
    "\n",
    "## Tipos de Archivos en Python: .py vs .ipynb\n",
    "\n",
    "En este curso, trabajaremos principalmente con dos tipos de archivos: `.py` y `.ipynb`. Cada uno tiene sus propias características y usos dentro del mundo de la programación en Python.\n",
    "\n",
    "### Archivos .py\n",
    "\n",
    "Los archivos con extensión `.py` son scripts de Python puros. Estos archivos contienen código que puede ser ejecutado por el intérprete de Python. Son ideales para la producción y el desarrollo de software en entornos profesionales. Puedes ejecutar estos scripts desde la línea de comando o mediante un IDE (Entorno de Desarrollo Integrado) como PyCharm, Visual Studio Code, o incluso desde un editor de texto simple.\n",
    "\n",
    "**Ventajas de usar archivos .py:**\n",
    "- **Estandarización**: Son el estándar en la industria para la distribución de código Python.\n",
    "- **Automatización**: Fáciles de usar para la automatización de tareas ya que pueden ser ejecutados con un simple comando.\n",
    "- **Integración**: Más sencillos de integrar con otros archivos y sistemas, especialmente en ambientes de desarrollo complejos.\n",
    "\n",
    "Por ejemplo, el archivo `clase1_1_materia.py` contiene el mismo código que estamos viendo en este Jupyter, pero estructurado para ser ejecutado directamente por un intérprete de Python sin la necesidad de una interfaz gráfica.\n",
    "\n",
    "### Archivos .ipynb (Jupyter Notebooks)\n",
    "\n",
    "Lo que estamos usando ahora es un Jupyter Notebook, reconocible por la extensión `.ipynb`. Jupyter es una aplicación web que permite crear y compartir documentos que contienen código en vivo, ecuaciones, visualizaciones y texto narrativo. Son especialmente útiles en la educación, la ciencia de datos y en análisis donde la visualización de datos y la experimentación directa con el código son necesarias.\n",
    "\n",
    "**Ventajas de usar Jupyter Notebooks:**\n",
    "- **Interactividad**: Permiten modificar y ejecutar el código en bloques o celdas de manera interactiva.\n",
    "- **Documentación**: Facilitan la documentación del código ya que permiten combinar código, texto explicativo y multimedia.\n",
    "- **Compartir**: Son fáciles de compartir con otros, lo que los hace ideales para colaboraciones y educación.\n",
    "\n",
    "### Conclusión\n",
    "\n",
    "Dependiendo de tus necesidades, podrías elegir trabajar con uno u otro formato. En este curso, utilizaremos ambos: Jupyter Notebooks para la enseñanza y aprendizaje interactivo, y scripts `.py` para prácticas de programación más tradicionales y proyectos finales que requieran un entorno de ejecución estándar.\n",
    "\n"
   ]
  },
  {
   "cell_type": "markdown",
   "metadata": {},
   "source": [
    "# Explorando el Comando `print` en Python\n",
    "\n",
    "## ¿Por qué comenzamos con `print`?\n",
    "\n",
    "Al aprender cualquier lenguaje de programación, el \"Hello World\" es el primer ejemplo clásico. Es un programa sencillo que muestra texto en la consola. Nos enseña cómo ejecutar un código básico y es perfecto para introducir el comando `print` en Python.\n",
    "\n",
    "## Función del Comando `print`\n",
    "\n",
    "El comando `print` en Python se utiliza para mostrar información en la pantalla. Es útil tanto para imprimir mensajes simples como para mostrar los resultados de operaciones aritméticas.\n",
    "\n",
    "### Ejemplo Básico de Uso de `print`\n",
    "\n",
    "```python\n",
    "print('Hello World')  # Muestra \"Hello World\" en la pantalla\n"
   ]
  },
  {
   "cell_type": "code",
   "execution_count": null,
   "metadata": {},
   "outputs": [],
   "source": [
    "# El Comando Print en Python\n",
    "print('Hola Mundo')\n",
    "\n"
   ]
  },
  {
   "cell_type": "markdown",
   "metadata": {},
   "source": [
    "# Importancia de las Comillas y Salto de Línea en `print`\n",
    "\n",
    "## ¿Por qué el Texto debe Estar Entre Comillas?\n",
    "\n",
    "En Python, el texto debe estar encerrado entre comillas (simples `'` o dobles `\"`) para que sea reconocido como una cadena de caracteres o string. Las comillas le indican a Python que lo contenido dentro de ellas debe ser tratado como texto literal y no como código o nombre de variable.\n",
    "\n",
    "### Ejemplo Básico\n",
    "\n",
    "```python\n",
    "print('Hola Mundo')\n",
    "print('Hello World')\n",
    "print('Hallo Welt')\n"
   ]
  },
  {
   "cell_type": "code",
   "execution_count": null,
   "metadata": {},
   "outputs": [],
   "source": [
    "print('Hola Mundo')\n",
    "print('Hello World')\n",
    "print('Hallo Welt')"
   ]
  },
  {
   "cell_type": "markdown",
   "metadata": {},
   "source": [
    "# Salto de Línea Automático en `print`\n",
    "\n",
    "Aunque no lo veamos directamente, después de cada uso de `print`, Python añade un salto de línea. Esto significa que cada llamada a `print` comenzará en una nueva línea en la consola, lo cual organiza la salida y la hace más legible. Este comportamiento hace que los mensajes no se amontonen en una sola línea, facilitando la lectura de lo que se imprime.\n",
    "\n",
    "# Errores Comunes al Usar Comillas\n",
    "\n",
    "El uso incorrecto de las comillas puede llevar a varios errores en Python. A continuación, se muestran algunos ejemplos comunes de lo que podría salir mal cuando las comillas no se utilizan adecuadamente.\n",
    "\n",
    "## Ejemplos de Errores\n",
    "\n",
    "```python\n",
    "# Error porque Python intenta interpretar 'Hola' y 'Mundo' \n",
    "print(Hola Mundo)\n",
    "\n",
    "# Error de sintaxis porque las comillas no están cerradas adecuadamente\n",
    "print(\"Hola )\n",
    "\n",
    "# Error similar al anterior, mezcla de comillas simples y dobles incorrectamente\n",
    "print(\"Hola')\n",
    "\n",
    "# Otro error de sintaxis por no cerrar las comillas correctamente\n",
    "print(\"Hola)\n"
   ]
  },
  {
   "cell_type": "code",
   "execution_count": null,
   "metadata": {},
   "outputs": [],
   "source": [
    "print(Hola Mundo)"
   ]
  },
  {
   "cell_type": "code",
   "execution_count": null,
   "metadata": {},
   "outputs": [],
   "source": [
    "print(\"Hola )"
   ]
  },
  {
   "cell_type": "code",
   "execution_count": null,
   "metadata": {},
   "outputs": [],
   "source": [
    "print(\"Hola')"
   ]
  },
  {
   "cell_type": "code",
   "execution_count": null,
   "metadata": {},
   "outputs": [],
   "source": [
    "print(\"Hola)"
   ]
  },
  {
   "cell_type": "markdown",
   "metadata": {},
   "source": [
    "# `print` y Operaciones Aritméticas\n",
    "\n",
    "`print` no solo es útil para mostrar texto, sino que también puede utilizarse para ejecutar y mostrar el resultado de operaciones aritméticas directamente.\n",
    "\n",
    "## Ejemplos de Operaciones Aritméticas con `print`\n",
    "\n",
    "En los siguientes ejemplos, utilizaremos `print` para realizar y mostrar diferentes operaciones aritméticas. Notarás que los números no llevan comillas, ya que queremos que Python los interprete como valores numéricos y no como texto.\n",
    "\n",
    "```python\n",
    "print(7+2)  # Suma, muestra 9\n",
    "print(7-2)  # Resta, muestra 5\n",
    "print(7*2)  # Multiplicación, muestra 14\n",
    "print(7/2)  # División, muestra 3.5\n",
    "print(7**2) # Potencia, muestra 49\n",
    "print(7//2) # División entera, muestra 3\n"
   ]
  },
  {
   "cell_type": "markdown",
   "metadata": {},
   "source": [
    "# Interacción entre Texto y Números en Python\n",
    "\n",
    "Es fundamental comprender cómo el texto y los números interactúan en `print`. Dependiendo de cómo se usen, Python puede interpretar y ejecutar las expresiones de diferentes maneras. Este conocimiento es crucial para evitar errores comunes y escribir programas efectivos.\n",
    "\n",
    "## Ejemplos de Interacción entre Texto y Números\n",
    "\n",
    "Observemos cómo Python maneja diferentes combinaciones de texto y números dentro de la función `print`.\n",
    "\n",
    "```python\n",
    "# Esto imprimirá exactamente el texto entre comillas\n",
    "print(\"2+2\")  # Muestra '2+2' como texto\n",
    "\n",
    "# Concatenara '2+2' como texto\n",
    "print(\"2+2\")  # Muestra '2+2' como texto\n",
    "\n",
    "# Esto calculará la suma antes de imprimir\n",
    "print(2+2)  # Calcula 2+2 y muestra 4\n"
   ]
  },
  {
   "cell_type": "code",
   "execution_count": 10,
   "metadata": {},
   "outputs": [
    {
     "name": "stdout",
     "output_type": "stream",
     "text": [
      "2+2\n"
     ]
    }
   ],
   "source": [
    "# Concatenara '2+2' como texto\n",
    "print(\"2+2\")  # Muestra '2+2' como texto"
   ]
  },
  {
   "cell_type": "code",
   "execution_count": null,
   "metadata": {},
   "outputs": [],
   "source": [
    "# Esto producirá un error porque no se puede sumar un número a un string directamente\n",
    "print(\"2\"+2)  # TypeError: can only concatenate str (not \"int\") to str\n"
   ]
  },
  {
   "cell_type": "code",
   "execution_count": null,
   "metadata": {},
   "outputs": [],
   "source": [
    "# Esto repetirá el string '2' cuatro veces\n",
    "print(\"2\"*4)  # Muestra '2222'\n"
   ]
  },
  {
   "cell_type": "markdown",
   "metadata": {},
   "source": [
    "# Personalización del Comportamiento de Salto de Línea en `print`\n",
    "\n",
    "Uno de los comportamientos predeterminados de la función `print` en Python es añadir un salto de línea al final de cada mensaje. Esto significa que cada llamada a `print` terminará con un nuevo inicio de línea en la consola, separando la salida de diferentes llamadas a `print`. Sin embargo, este comportamiento se puede modificar según las necesidades del programa.\n",
    "\n",
    "## Cómo `print` Maneja los Saltos de Línea por Defecto\n",
    "\n",
    "Por defecto, `print` incluye el argumento `end='\\n'`, que indica que después de imprimir el mensaje deseado, se debe añadir un salto de línea (`\\n`). Este es un comportamiento útil para mantener la salida organizada y fácil de leer, especialmente cuando se imprimen múltiples líneas en secuencia.\n",
    "\n",
    "## Modificar el Final de la Línea\n",
    "\n",
    "Puedes cambiar este comportamiento predeterminado utilizando el argumento `end` en la función `print`. Al establecer un valor diferente para `end`, puedes decidir qué caracteres, si los hay, se imprimirán al final de la salida.\n",
    "\n",
    "### Ejemplos de Modificación del Salto de Línea\n",
    "\n",
    "```python\n",
    "# Ejemplo de uso de print sin modificar el salto de línea\n",
    "print('Hello, World!')\n",
    "print('Continúa en una nueva línea')\n",
    "\n",
    "# Ejemplo modificando el salto de línea para continuar en la misma línea\n",
    "print('Hello, World!', end=' ')\n",
    "print('Continúa en la misma línea')\n",
    "\n",
    "# Ejemplo de eliminación del salto de línea\n",
    "print('Hello, World!', end='')\n",
    "print(' y no hay espacio entre estas frases.')\n",
    "\n",
    "# Ejemplo de uso de un carácter diferente al final\n",
    "print('Hello, World!', end='-')\n",
    "print(' Estas frases están separadas por un guion.')\n"
   ]
  },
  {
   "cell_type": "code",
   "execution_count": 14,
   "metadata": {},
   "outputs": [
    {
     "name": "stdout",
     "output_type": "stream",
     "text": [
      "Hello, World!\n",
      "Continúa en una nueva línea\n",
      "\n",
      "Hello, World! Continúa en la misma línea\n",
      "\n",
      "Hello, World! y no hay espacio entre estas frases.\n",
      "\n",
      "Hello, World!- Estas frases están separadas por un guion.\n"
     ]
    }
   ],
   "source": [
    "# Ejemplo de uso de print sin modificar el salto de línea\n",
    "print('Hello, World!')\n",
    "print('Continúa en una nueva línea')\n",
    "print() # Imprime una línea en blanco\n",
    "\n",
    "# Ejemplo modificando el salto de línea para continuar en la misma línea\n",
    "print('Hello, World!', end=' ')\n",
    "print('Continúa en la misma línea')\n",
    "print() # Imprime una línea en blanco\n",
    "\n",
    "# Ejemplo de eliminación del salto de línea\n",
    "print('Hello, World!', end='')\n",
    "print(' y no hay espacio entre estas frases.')\n",
    "print() # Imprime una línea en blanco\n",
    "\n",
    "# Ejemplo de uso de un carácter diferente al final\n",
    "print('Hello, World!', end='-')\n",
    "print(' Estas frases están separadas por un guion.')"
   ]
  },
  {
   "cell_type": "markdown",
   "metadata": {},
   "source": [
    "# Conclusión sobre el Comando `print`\n",
    "\n",
    "Hemos completado nuestra exploración del comando `print` en Python. Ahora entiendes cómo utilizar esta función esencial para mostrar texto y resultados de cálculos en la consola. También has aprendido cómo manejar errores comunes, especialmente relacionados con la concatenación de texto y números, y cómo personalizar el salto de línea al final de tus mensajes de salida.\n",
    "\n",
    "## Aplicación de lo Aprendido\n",
    "\n",
    "Te animo a practicar lo que has aprendido utilizando `print` en diferentes contextos. Experimenta con la combinación de texto y números, y prueba diferentes valores para el argumento `end` para ver cómo afecta la presentación de tus programas. Estos ejercicios no solo reforzarán tu comprensión del material, sino que también mejorarán tu habilidad para depurar y mejorar la claridad de tus códigos.\n"
   ]
  },
  {
   "cell_type": "code",
   "execution_count": 1,
   "metadata": {},
   "outputs": [
    {
     "name": "stdout",
     "output_type": "stream",
     "text": [
      "Mi primer Hola Mundo\n"
     ]
    }
   ],
   "source": [
    "print('Mi primer Hola Mundo')"
   ]
  },
  {
   "cell_type": "markdown",
   "metadata": {},
   "source": [
    "# Introducción al Comando `input`\n",
    "\n",
    "Después de aprender cómo usar `print` para mostrar información, el siguiente paso es aprender a recibir información del usuario. Esto se hace mediante el comando `input`, que es esencial para interactuar con los usuarios en tiempo de ejecución de un programa.\n",
    "\n",
    "## ¿Qué es `input`?\n",
    "\n",
    "El comando `input` en Python permite a los usuarios ingresar datos que pueden ser utilizados por el programa. A diferencia de `print`, que envía datos a la salida estándar, `input` recibe datos desde la entrada estándar (por lo general, el teclado).\n",
    "\n",
    "## Funcionamiento Básico de `input`\n",
    "\n",
    "Cuando se ejecuta `input`, el programa se detiene y espera que el usuario escriba algo y presione Enter. Una vez que se presiona Enter, el programa continúa su ejecución. `input` siempre trata lo que recibe como una cadena de texto (string).\n",
    "\n",
    "### Ejemplo Básico de Uso de `input`\n",
    "\n",
    "```python\n",
    "input('Por favor, introduce tu nombre: ')\n"
   ]
  },
  {
   "cell_type": "code",
   "execution_count": null,
   "metadata": {},
   "outputs": [],
   "source": [
    "input('Escribe algo y presiona Enter: ')"
   ]
  },
  {
   "cell_type": "code",
   "execution_count": null,
   "metadata": {},
   "outputs": [],
   "source": [
    "print('Escribe otra cosa abajo')\n",
    "input()"
   ]
  },
  {
   "cell_type": "markdown",
   "metadata": {},
   "source": []
  }
 ],
 "metadata": {
  "kernelspec": {
   "display_name": "Python 3",
   "language": "python",
   "name": "python3"
  },
  "language_info": {
   "codemirror_mode": {
    "name": "ipython",
    "version": 3
   },
   "file_extension": ".py",
   "mimetype": "text/x-python",
   "name": "python",
   "nbconvert_exporter": "python",
   "pygments_lexer": "ipython3",
   "version": "3.9.6"
  }
 },
 "nbformat": 4,
 "nbformat_minor": 2
}
